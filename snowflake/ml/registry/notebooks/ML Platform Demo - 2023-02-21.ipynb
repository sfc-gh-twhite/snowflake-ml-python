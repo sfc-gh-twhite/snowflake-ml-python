{
 "cells": [
  {
   "cell_type": "markdown",
   "id": "5de3eb26",
   "metadata": {},
   "source": [
    "# ML Platform Demo - 2023-02-21"
   ]
  },
  {
   "cell_type": "markdown",
   "id": "99e58d8c",
   "metadata": {},
   "source": [
    "## Setup Notebook and Import Path"
   ]
  },
  {
   "cell_type": "code",
   "execution_count": 1,
   "id": "d609ff44",
   "metadata": {
    "scrolled": false
   },
   "outputs": [
    {
     "data": {
      "text/html": [
       "<style>.container { width:100% !important; }</style>"
      ],
      "text/plain": [
       "<IPython.core.display.HTML object>"
      ]
     },
     "metadata": {},
     "output_type": "display_data"
    },
    {
     "data": {
      "text/html": [
       "<script>$('.output_scroll').removeClass('output_scroll')</script>"
      ],
      "text/plain": [
       "<IPython.core.display.HTML object>"
      ]
     },
     "metadata": {},
     "output_type": "display_data"
    }
   ],
   "source": [
    "# Scale cell width with the browser window to accommodate .show() commands for wider tables.\n",
    "from IPython.display import display, HTML\n",
    "\n",
    "# Stretch cells with the window.\n",
    "display(HTML(\"<style>.container { width:100% !important; }</style>\"))\n",
    "\n",
    "# Disable scrolling\n",
    "display(HTML(\"<script>$('.output_scroll').removeClass('output_scroll')</script>\"))\n",
    "\n",
    "#display(HTML(\"<style>.container { font-size: 10px; }</style>\"))\n",
    "#display(HTML(\"<style>div.output_area pre { font-size: 16px; }</style>\"))\n",
    "BACKEND_SKLEARN = \"SKLEARN\"\n",
    "BACKEND_SNOWML = \"SNOWML\"\n",
    "\n",
    "PREPROCESSING_BACKEND = BACKEND_SNOWML\n",
    "ESTIMATOR_BACKEND = BACKEND_SNOWML"
   ]
  },
  {
   "cell_type": "code",
   "execution_count": 2,
   "id": "95cde1f7",
   "metadata": {
    "scrolled": false
   },
   "outputs": [],
   "source": [
    "import sys\n",
    "import os\n",
    "\n",
    "def add_repo_path(repo_path):\n",
    "    return\n",
    "    if repo_path not in sys.path:\n",
    "        print(f\"Adding {repo_path} to system path\")\n",
    "        sys.path.append(repo_path)\n",
    "\n",
    "# Reading from the local repository\n",
    "cwd=os.getcwd()\n",
    "add_repo_path(cwd[:cwd.find(\"snowflake/ml\")].rstrip('/'))"
   ]
  },
  {
   "cell_type": "markdown",
   "id": "20eef3b6",
   "metadata": {},
   "source": [
    "## Start Snowpark Session\n",
    "\n",
    "To avoid exposing credentials in Github, we use a small utility `SnowflakeLoginOptions`. It allows you to score your default credentials in `~/.snowsql/config` in the following format:\n",
    "```\n",
    "[connections]\n",
    "accountname = <string>   # Account identifier to connect to Snowflake.\n",
    "username = <string>      # User name in the account. Optional.\n",
    "password = <string>      # User password. Optional.\n",
    "dbname = <string>        # Default database. Optional.\n",
    "schemaname = <string>    # Default schema. Optional.\n",
    "warehousename = <string> # Default warehouse. Optional.\n",
    "#rolename = <string>      # Default role. Optional.\n",
    "#authenticator = <string> # Authenticator: 'snowflake', 'externalbrowser', etc\n",
    "```\n",
    "Please follow [this](https://docs.snowflake.com/en/user-guide/snowsql-start.html#configuring-default-connection-settings) for more details."
   ]
  },
  {
   "cell_type": "code",
   "execution_count": 3,
   "id": "75282f6d",
   "metadata": {
    "scrolled": false
   },
   "outputs": [],
   "source": [
    "from snowflake.ml.utils.connection_params import SnowflakeLoginOptions\n",
    "from snowflake.snowpark import Session, Column, functions\n",
    "\n",
    "session = Session.builder.configs(SnowflakeLoginOptions()).create()"
   ]
  },
  {
   "cell_type": "code",
   "execution_count": 4,
   "id": "3a9d5c48",
   "metadata": {},
   "outputs": [],
   "source": [
    "#WHEEL_FILE = \"snowflake_ml_python-0.0.1-py3-none-any-64c3e057103350427916c3acffcb619aa784ba85.whl\"\n",
    "#session.file.get(f\"@SNOWML_WHEEL/{WHEEL_FILE}\", \"/tmp\")\n",
    "#add_repo_path(f\"/tmp/{WHEEL_FILE}\")"
   ]
  },
  {
   "cell_type": "markdown",
   "id": "c592d46c",
   "metadata": {},
   "source": [
    "## Prepare Training Data"
   ]
  },
  {
   "cell_type": "code",
   "execution_count": 5,
   "id": "772f7830",
   "metadata": {
    "scrolled": false
   },
   "outputs": [
    {
     "data": {
      "text/markdown": [
       "\n",
       "|total rows|training rows|test rows|\n",
       "| :---: | :---: | :---: |\n",
       "|41188|36973|4215|\n"
      ],
      "text/plain": [
       "<IPython.core.display.Markdown object>"
      ]
     },
     "metadata": {},
     "output_type": "display_data"
    },
    {
     "name": "stdout",
     "output_type": "stream",
     "text": [
      "\n",
      "Example training row:\n",
      "{'AGE': 56,\n",
      " 'CAMPAIGN': 1,\n",
      " 'CONS_CONF_IDX': -36.4,\n",
      " 'CONS_PRICE_IDX': 93.994,\n",
      " 'CONTACT': 'telephone',\n",
      " 'DAY_OF_WEEK': 'mon',\n",
      " 'DEFAULT': 'no',\n",
      " 'DURATION': 261,\n",
      " 'EDUCATION': 'basic.4y',\n",
      " 'EMP_VAR_RATE': 1.1,\n",
      " 'EURIBOR3M': 4.857,\n",
      " 'HOUSING': 'no',\n",
      " 'JOB': 'housemaid',\n",
      " 'LABEL': 0,\n",
      " 'LOAN': 'no',\n",
      " 'MARITAL': 'married',\n",
      " 'MONTH': 'may',\n",
      " 'NR_EMPLOYED': 5191.0,\n",
      " 'PDAYS': 999,\n",
      " 'POUTCOME': 'nonexistent',\n",
      " 'PREVIOUS': 0}\n"
     ]
    }
   ],
   "source": [
    "from pprint import pprint\n",
    "from IPython.display import display, Markdown\n",
    "all_data = session.sql(\"\"\"SELECT *, IFF(Y = 'yes', 1.0, 0.0) as LABEL FROM ML_DATASETS.PUBLIC.UCI_BANK_MARKETING_20COLUMNS\"\"\").drop(Column(\"Y\"))\n",
    "train_data, test_data = all_data.random_split(weights=[0.9, 0.1], seed=23)\n",
    "display(Markdown(f\"\"\"\n",
    "|total rows|training rows|test rows|\n",
    "| :---: | :---: | :---: |\n",
    "|{all_data.count()}|{train_data.count()}|{test_data.count()}|\n",
    "\"\"\"))\n",
    "\n",
    "print()\n",
    "print(\"Example training row:\")\n",
    "pprint(train_data.limit(1).collect()[0].as_dict())\n",
    "\n",
    "categorical_columns = ('AGE', 'CAMPAIGN', 'CONTACT', 'DAY_OF_WEEK', 'DEFAULT', 'EDUCATION', 'HOUSING', 'JOB', 'LOAN', 'MARITAL', 'MONTH', 'POUTCOME')\n",
    "numerical_columns = ('CONS_CONF_IDX', 'CONS_PRICE_IDX', 'DURATION', 'EMP_VAR_RATE', 'EURIBOR3M', 'NR_EMPLOYED', 'PDAYS', 'PREVIOUS')\n",
    "label_column = 'LABEL'\n",
    "\n",
    "if PREPROCESSING_BACKEND == BACKEND_SKLEARN:\n",
    "    train_label = train_data.select(label_column).to_pandas()\n",
    "    train_features = train_data.drop(label_column).to_pandas()\n",
    "    test_label = test_data.select(label_column).to_pandas()\n",
    "    test_features = test_data.drop(label_column).to_pandas()\n",
    "    \n"
   ]
  },
  {
   "cell_type": "markdown",
   "id": "92eca589",
   "metadata": {},
   "source": [
    "## Preprocess Data"
   ]
  },
  {
   "cell_type": "code",
   "execution_count": 6,
   "id": "df45fc6b",
   "metadata": {},
   "outputs": [
    {
     "name": "stderr",
     "output_type": "stream",
     "text": [
      "WARNING:snowflake.snowpark:create_temp_table is deprecated. We still respect this parameter when it is True but please consider using `table_type=\"temporary\"` instead.\n"
     ]
    },
    {
     "name": "stdout",
     "output_type": "stream",
     "text": [
      "using features: ['\"AGE_\\'17\\'\"', '\"AGE_\\'18\\'\"', '\"AGE_\\'19\\'\"', '\"AGE_\\'20\\'\"', '\"AGE_\\'21\\'\"', '\"AGE_\\'22\\'\"', '\"AGE_\\'23\\'\"', '\"AGE_\\'24\\'\"', '\"AGE_\\'25\\'\"', '\"AGE_\\'26\\'\"', '\"AGE_\\'27\\'\"', '\"AGE_\\'28\\'\"', '\"AGE_\\'29\\'\"', '\"AGE_\\'30\\'\"', '\"AGE_\\'31\\'\"', '\"AGE_\\'32\\'\"', '\"AGE_\\'33\\'\"', '\"AGE_\\'34\\'\"', '\"AGE_\\'35\\'\"', '\"AGE_\\'36\\'\"', '\"AGE_\\'37\\'\"', '\"AGE_\\'38\\'\"', '\"AGE_\\'39\\'\"', '\"AGE_\\'40\\'\"', '\"AGE_\\'41\\'\"', '\"AGE_\\'42\\'\"', '\"AGE_\\'43\\'\"', '\"AGE_\\'44\\'\"', '\"AGE_\\'45\\'\"', '\"AGE_\\'46\\'\"', '\"AGE_\\'47\\'\"', '\"AGE_\\'48\\'\"', '\"AGE_\\'49\\'\"', '\"AGE_\\'50\\'\"', '\"AGE_\\'51\\'\"', '\"AGE_\\'52\\'\"', '\"AGE_\\'53\\'\"', '\"AGE_\\'54\\'\"', '\"AGE_\\'55\\'\"', '\"AGE_\\'56\\'\"', '\"AGE_\\'57\\'\"', '\"AGE_\\'58\\'\"', '\"AGE_\\'59\\'\"', '\"AGE_\\'60\\'\"', '\"AGE_\\'61\\'\"', '\"AGE_\\'62\\'\"', '\"AGE_\\'63\\'\"', '\"AGE_\\'64\\'\"', '\"AGE_\\'65\\'\"', '\"AGE_\\'66\\'\"', '\"AGE_\\'67\\'\"', '\"AGE_\\'68\\'\"', '\"AGE_\\'69\\'\"', '\"AGE_\\'70\\'\"', '\"AGE_\\'71\\'\"', '\"AGE_\\'72\\'\"', '\"AGE_\\'73\\'\"', '\"AGE_\\'74\\'\"', '\"AGE_\\'75\\'\"', '\"AGE_\\'76\\'\"', '\"AGE_\\'77\\'\"', '\"AGE_\\'78\\'\"', '\"AGE_\\'79\\'\"', '\"AGE_\\'80\\'\"', '\"AGE_\\'81\\'\"', '\"AGE_\\'82\\'\"', '\"AGE_\\'83\\'\"', '\"AGE_\\'84\\'\"', '\"AGE_\\'85\\'\"', '\"AGE_\\'86\\'\"', '\"AGE_\\'88\\'\"', '\"AGE_\\'89\\'\"', '\"AGE_\\'91\\'\"', '\"AGE_\\'92\\'\"', '\"AGE_\\'94\\'\"', '\"AGE_\\'95\\'\"', '\"AGE_\\'98\\'\"', '\"CAMPAIGN_\\'1\\'\"', '\"CAMPAIGN_\\'10\\'\"', '\"CAMPAIGN_\\'11\\'\"', '\"CAMPAIGN_\\'12\\'\"', '\"CAMPAIGN_\\'13\\'\"', '\"CAMPAIGN_\\'14\\'\"', '\"CAMPAIGN_\\'15\\'\"', '\"CAMPAIGN_\\'16\\'\"', '\"CAMPAIGN_\\'17\\'\"', '\"CAMPAIGN_\\'18\\'\"', '\"CAMPAIGN_\\'19\\'\"', '\"CAMPAIGN_\\'2\\'\"', '\"CAMPAIGN_\\'20\\'\"', '\"CAMPAIGN_\\'21\\'\"', '\"CAMPAIGN_\\'22\\'\"', '\"CAMPAIGN_\\'23\\'\"', '\"CAMPAIGN_\\'24\\'\"', '\"CAMPAIGN_\\'25\\'\"', '\"CAMPAIGN_\\'26\\'\"', '\"CAMPAIGN_\\'27\\'\"', '\"CAMPAIGN_\\'28\\'\"', '\"CAMPAIGN_\\'29\\'\"', '\"CAMPAIGN_\\'3\\'\"', '\"CAMPAIGN_\\'30\\'\"', '\"CAMPAIGN_\\'31\\'\"', '\"CAMPAIGN_\\'32\\'\"', '\"CAMPAIGN_\\'33\\'\"', '\"CAMPAIGN_\\'34\\'\"', '\"CAMPAIGN_\\'35\\'\"', '\"CAMPAIGN_\\'37\\'\"', '\"CAMPAIGN_\\'39\\'\"', '\"CAMPAIGN_\\'4\\'\"', '\"CAMPAIGN_\\'40\\'\"', '\"CAMPAIGN_\\'41\\'\"', '\"CAMPAIGN_\\'42\\'\"', '\"CAMPAIGN_\\'43\\'\"', '\"CAMPAIGN_\\'5\\'\"', '\"CAMPAIGN_\\'56\\'\"', '\"CAMPAIGN_\\'6\\'\"', '\"CAMPAIGN_\\'7\\'\"', '\"CAMPAIGN_\\'8\\'\"', '\"CAMPAIGN_\\'9\\'\"', '\"CONTACT_\\'cellular\\'\"', '\"CONTACT_\\'telephone\\'\"', '\"DAY_OF_WEEK_\\'fri\\'\"', '\"DAY_OF_WEEK_\\'mon\\'\"', '\"DAY_OF_WEEK_\\'thu\\'\"', '\"DAY_OF_WEEK_\\'tue\\'\"', '\"DAY_OF_WEEK_\\'wed\\'\"', '\"DEFAULT_\\'no\\'\"', '\"DEFAULT_\\'unknown\\'\"', '\"DEFAULT_\\'yes\\'\"', '\"EDUCATION_\\'basic.4y\\'\"', '\"EDUCATION_\\'basic.6y\\'\"', '\"EDUCATION_\\'basic.9y\\'\"', '\"EDUCATION_\\'high.school\\'\"', '\"EDUCATION_\\'illiterate\\'\"', '\"EDUCATION_\\'professional.course\\'\"', '\"EDUCATION_\\'university.degree\\'\"', '\"EDUCATION_\\'unknown\\'\"', '\"HOUSING_\\'no\\'\"', '\"HOUSING_\\'unknown\\'\"', '\"HOUSING_\\'yes\\'\"', '\"JOB_\\'admin.\\'\"', '\"JOB_\\'blue-collar\\'\"', '\"JOB_\\'entrepreneur\\'\"', '\"JOB_\\'housemaid\\'\"', '\"JOB_\\'management\\'\"', '\"JOB_\\'retired\\'\"', '\"JOB_\\'self-employed\\'\"', '\"JOB_\\'services\\'\"', '\"JOB_\\'student\\'\"', '\"JOB_\\'technician\\'\"', '\"JOB_\\'unemployed\\'\"', '\"JOB_\\'unknown\\'\"', '\"LOAN_\\'no\\'\"', '\"LOAN_\\'unknown\\'\"', '\"LOAN_\\'yes\\'\"', '\"MARITAL_\\'divorced\\'\"', '\"MARITAL_\\'married\\'\"', '\"MARITAL_\\'single\\'\"', '\"MARITAL_\\'unknown\\'\"', '\"MONTH_\\'apr\\'\"', '\"MONTH_\\'aug\\'\"', '\"MONTH_\\'dec\\'\"', '\"MONTH_\\'jul\\'\"', '\"MONTH_\\'jun\\'\"', '\"MONTH_\\'mar\\'\"', '\"MONTH_\\'may\\'\"', '\"MONTH_\\'nov\\'\"', '\"MONTH_\\'oct\\'\"', '\"MONTH_\\'sep\\'\"', '\"POUTCOME_\\'failure\\'\"', '\"POUTCOME_\\'nonexistent\\'\"', '\"POUTCOME_\\'success\\'\"', 'MMS_CONS_CONF_IDX', 'MMS_CONS_PRICE_IDX', 'MMS_DURATION', 'MMS_EMP_VAR_RATE', 'MMS_EURIBOR3M', 'MMS_NR_EMPLOYED', 'MMS_PDAYS', 'MMS_PREVIOUS']\n",
      "using label: LABEL\n"
     ]
    }
   ],
   "source": [
    "if PREPROCESSING_BACKEND == BACKEND_SNOWML:\n",
    "    from snowflake.ml.framework.pipeline import Pipeline\n",
    "    from snowflake.ml.preprocessing import OneHotEncoder\n",
    "    from snowflake.ml.preprocessing import MinMaxScaler\n",
    "    from snowflake.ml.preprocessing import LabelEncoder\n",
    "elif PREPROCESSING_BACKEND == BACKEND_SKLEARN:\n",
    "    from sklearn.pipeline import Pipeline\n",
    "    from sklearn.compose import ColumnTransformer\n",
    "    from sklearn.preprocessing import OneHotEncoder\n",
    "    from sklearn.preprocessing import MinMaxScaler\n",
    "    from sklearn.preprocessing import LabelEncoder\n",
    "\n",
    "\n",
    "if PREPROCESSING_BACKEND == BACKEND_SNOWML:\n",
    "\n",
    "    preprocessing = Pipeline(steps=[\n",
    "        (\"OHE\", OneHotEncoder(handle_unknown='ignore', input_cols=categorical_columns, output_cols=categorical_columns)),\n",
    "        (\"MMS\", MinMaxScaler(clip=True, input_cols=numerical_columns, output_cols=[\"MMS_\" + x for x in numerical_columns])),\n",
    "    ])\n",
    "    preprocessing.fit(train_data)\n",
    "    train_preprocessed = preprocessing.transform(train_data).drop(*categorical_columns, *numerical_columns)\n",
    "    test_preprocessed = preprocessing.transform(test_data).drop(*categorical_columns, *numerical_columns)\n",
    "\n",
    "elif PREPROCESSING_BACKEND == BACKEND_SKLEARN:\n",
    "    \n",
    "    preprocessing = ColumnTransformer(\n",
    "        transformers=[\n",
    "            (\"OHE\", OneHotEncoder(handle_unknown='ignore', sparse=False), categorical_columns),\n",
    "            (\"MMS\", MinMaxScaler(copy=False), numerical_columns),\n",
    "        ]\n",
    "    )\n",
    "    preprocessing.fit(train_features)\n",
    "    train_preprocessed = preprocessing.transform(train_features)\n",
    "    test_preprocessed = preprocessing.transform(test_features)\n",
    "\n",
    "if PREPROCESSING_BACKEND == BACKEND_SNOWML:\n",
    "    feature_columns = train_preprocessed.columns\n",
    "    feature_columns.remove(label_column)\n",
    "    assert len(feature_columns) == len(train_preprocessed.columns) - 1\n",
    "    print(\"using features:\", feature_columns)\n",
    "    print(\"using label:\", label_column)"
   ]
  },
  {
   "cell_type": "code",
   "execution_count": 7,
   "id": "e40db499",
   "metadata": {},
   "outputs": [
    {
     "name": "stderr",
     "output_type": "stream",
     "text": [
      "/opt/homebrew/anaconda3/envs/snowpark/lib/python3.8/site-packages/xgboost/compat.py:36: FutureWarning: pandas.Int64Index is deprecated and will be removed from pandas in a future version. Use pandas.Index with the appropriate dtype instead.\n",
      "  from pandas import MultiIndex, Int64Index\n",
      "WARNING:snowflake.snowpark.session:The version of package scikit-learn in the local environment is 1.2.1, which does not fit the criteria for the requirement scikit-learn==1.1.3. Your UDF might not work when the package version is different between the server and your local environment\n",
      "WARNING:snowflake.snowpark.session:The version of package scipy in the local environment is 1.10.0, which does not fit the criteria for the requirement scipy==1.9.3. Your UDF might not work when the package version is different between the server and your local environment\n",
      "ERROR:snowflake.snowpark._internal.server_connection:Failed to execute query [queryID: 01aa8df7-0405-c4ee-000c-a901156fcce3] CALL SNOWML_FIT_F3467B65_3D85_4B43_A678_D6F66E1942EB('SELECT \"LABEL\", iff(((\"AGE_''17''\" = ''NaN'') OR \"AGE_''17''\" IS NULL), 0, \"AGE_''17''\") AS \"AGE_''17''\", iff(((\"AGE_''18''\" = ''NaN'') OR \"AGE_''18''\" IS NULL), 0, \"AGE_''18''\") AS \"AGE_''18''\", iff(((\"AGE_''19''\" = ''NaN'') OR \"AGE_''19''\" IS NULL), 0, \"AGE_''19''\") AS \"AGE_''19''\", iff(((\"AGE_''20''\" = ''NaN'') OR \"AGE_''20''\" IS NULL), 0, \"AGE_''20''\") AS \"AGE_''20''\", iff(((\"AGE_''21''\" = ''NaN'') OR \"AGE_''21''\" IS NULL), 0, \"AGE_''21''\") AS \"AGE_''21''\", iff(((\"AGE_''22''\" = ''NaN'') OR \"AGE_''22''\" IS NULL), 0, \"AGE_''22''\") AS \"AGE_''22''\", iff(((\"AGE_''23''\" = ''NaN'') OR \"AGE_''23''\" IS NULL), 0, \"AGE_''23''\") AS \"AGE_''23''\", iff(((\"AGE_''24''\" = ''NaN'') OR \"AGE_''24''\" IS NULL), 0, \"AGE_''24''\") AS \"AGE_''24''\", iff(((\"AGE_''25''\" = ''NaN'') OR \"AGE_''25''\" IS NULL), 0, \"AGE_''25''\") AS \"AGE_''25''\", iff(((\"AGE_''26''\" = ''NaN'') OR \"AGE_''26''\" IS NULL), 0, \"AGE_''26''\") AS \"AGE_''26''\", iff(((\"AGE_''27''\" = ''NaN'') OR \"AGE_''27''\" IS NULL), 0, \"AGE_''27''\") AS \"AGE_''27''\", iff(((\"AGE_''28''\" = ''NaN'') OR \"AGE_''28''\" IS NULL), 0, \"AGE_''28''\") AS \"AGE_''28''\", iff(((\"AGE_''29''\" = ''NaN'') OR \"AGE_''29''\" IS NULL), 0, \"AGE_''29''\") AS \"AGE_''29''\", iff(((\"AGE_''30''\" = ''NaN'') OR \"AGE_''30''\" IS NULL), 0, \"AGE_''30''\") AS \"AGE_''30''\", iff(((\"AGE_''31''\" = ''NaN'') OR \"AGE_''31''\" IS NULL), 0, \"AGE_''31''\") AS \"AGE_''31''\", iff(((\"AGE_''32''\" = ''NaN'') OR \"AGE_''32''\" IS NULL), 0, \"AGE_''32''\") AS \"AGE_''32''\", iff(((\"AGE_''33''\" = ''NaN'') OR \"AGE_''33''\" IS NULL), 0, \"AGE_''33''\") AS \"AGE_''33''\", iff(((\"AGE_''34''\" = ''NaN'') OR \"AGE_''34''\" IS NULL), 0, \"AGE_''34''\") AS \"AGE_''34''\", iff(((\"AGE_''35''\" = ''NaN'') OR \"AGE_''35''\" IS NULL), 0, \"AGE_''35''\") AS \"AGE_''35''\", iff(((\"AGE_''36''\" = ''NaN'') OR \"AGE_''36''\" IS NULL), 0, \"AGE_''36''\") AS \"AGE_''36''\", iff(((\"AGE_''37''\" = ''NaN'') OR \"AGE_''37''\" IS NULL), 0, \"AGE_''37''\") AS \"AGE_''37''\", iff(((\"AGE_''38''\" = ''NaN'') OR \"AGE_''38''\" IS NULL), 0, \"AGE_''38''\") AS \"AGE_''38''\", iff(((\"AGE_''39''\" = ''NaN'') OR \"AGE_''39''\" IS NULL), 0, \"AGE_''39''\") AS \"AGE_''39''\", iff(((\"AGE_''40''\" = ''NaN'') OR \"AGE_''40''\" IS NULL), 0, \"AGE_''40''\") AS \"AGE_''40''\", iff(((\"AGE_''41''\" = ''NaN'') OR \"AGE_''41''\" IS NULL), 0, \"AGE_''41''\") AS \"AGE_''41''\", iff(((\"AGE_''42''\" = ''NaN'') OR \"AGE_''42''\" IS NULL), 0, \"AGE_''42''\") AS \"AGE_''42''\", iff(((\"AGE_''43''\" = ''NaN'') OR \"AGE_''43''\" IS NULL), 0, \"AGE_''43''\") AS \"AGE_''43''\", iff(((\"AGE_''44''\" = ''NaN'') OR \"AGE_''44''\" IS NULL), 0, \"AGE_''44''\") AS \"AGE_''44''\", iff(((\"AGE_''45''\" = ''NaN'') OR \"AGE_''45''\" IS NULL), 0, \"AGE_''45''\") AS \"AGE_''45''\", iff(((\"AGE_''46''\" = ''NaN'') OR \"AGE_''46''\" IS NULL), 0, \"AGE_''46''\") AS \"AGE_''46''\", iff(((\"AGE_''47''\" = ''NaN'') OR \"AGE_''47''\" IS NULL), 0, \"AGE_''47''\") AS \"AGE_''47''\", iff(((\"AGE_''48''\" = ''NaN'') OR \"AGE_''48''\" IS NULL), 0, \"AGE_''48''\") AS \"AGE_''48''\", iff(((\"AGE_''49''\" = ''NaN'') OR \"AGE_''49''\" IS NULL), 0, \"AGE_''49''\") AS \"AGE_''49''\", iff(((\"AGE_''50''\" = ''NaN'') OR \"AGE_''50''\" IS NULL), 0, \"AGE_''50''\") AS \"AGE_''50''\", iff(((\"AGE_''51''\" = ''NaN'') OR \"AGE_''51''\" IS NULL), 0, \"AGE_''51''\") AS \"AGE_''51''\", iff(((\"AGE_''52''\" = ''NaN'') OR \"AGE_''52''\" IS NULL), 0, \"AGE_''52''\") AS \"AGE_''52''\", iff(((\"AGE_''53''\" = ''NaN'') OR \"AGE_''53''\" IS NULL), 0, \"AGE_''53''\") AS \"AGE_''53''\", iff(((\"AGE_''54''\" = ''NaN'') OR \"AGE_''54''\" IS NULL), 0, \"AGE_''54''\") AS \"AGE_''54''\", iff(((\"AGE_''55''\" = ''NaN'') OR \"AGE_''55''\" IS NULL), 0, \"AGE_''55''\") AS \"AGE_''55''\", iff(((\"AGE_''56''\" = ''NaN'') OR \"AGE_''56''\" IS NULL), 0, \"AGE_''56''\") AS \"AGE_''56''\", iff(((\"AGE_''57''\" = ''NaN'') OR \"AGE_''57''\" IS NULL), 0, \"AGE_''57''\") AS \"AGE_''57''\", iff(((\"AGE_''58''\" = ''NaN'') OR \"AGE_''58''\" IS NULL), 0, \"AGE_''58''\") AS \"AGE_''58''\", iff(((\"AGE_''59''\" = ''NaN'') OR \"AGE_''59''\" IS NULL), 0, \"AGE_''59''\") AS \"AGE_''59''\", iff(((\"AGE_''60''\" = ''NaN'') OR \"AGE_''60''\" IS NULL), 0, \"AGE_''60''\") AS \"AGE_''60''\", iff(((\"AGE_''61''\" = ''NaN'') OR \"AGE_''61''\" IS NULL), 0, \"AGE_''61''\") AS \"AGE_''61''\", iff(((\"AGE_''62''\" = ''NaN'') OR \"AGE_''62''\" IS NULL), 0, \"AGE_''62''\") AS \"AGE_''62''\", iff(((\"AGE_''63''\" = ''NaN'') OR \"AGE_''63''\" IS NULL), 0, \"AGE_''63''\") AS \"AGE_''63''\", iff(((\"AGE_''64''\" = ''NaN'') OR \"AGE_''64''\" IS NULL), 0, \"AGE_''64''\") AS \"AGE_''64''\", iff(((\"AGE_''65''\" = ''NaN'') OR \"AGE_''65''\" IS NULL), 0, \"AGE_''65''\") AS \"AGE_''65''\", iff(((\"AGE_''66''\" = ''NaN'') OR \"AGE_''66''\" IS NULL), 0, \"AGE_''66''\") AS \"AGE_''66''\", iff(((\"AGE_''67''\" = ''NaN'') OR \"AGE_''67''\" IS NULL), 0, \"AGE_''67''\") AS \"AGE_''67''\", iff(((\"AGE_''68''\" = ''NaN'') OR \"AGE_''68''\" IS NULL), 0, \"AGE_''68''\") AS \"AGE_''68''\", iff(((\"AGE_''69''\" = ''NaN'') OR \"AGE_''69''\" IS NULL), 0, \"AGE_''69''\") AS \"AGE_''69''\", iff(((\"AGE_''70''\" = ''NaN'') OR \"AGE_''70''\" IS NULL), 0, \"AGE_''70''\") AS \"AGE_''70''\", iff(((\"AGE_''71''\" = ''NaN'') OR \"AGE_''71''\" IS NULL), 0, \"AGE_''71''\") AS \"AGE_''71''\", iff(((\"AGE_''72''\" = ''NaN'') OR \"AGE_''72''\" IS NULL), 0, \"AGE_''72''\") AS \"AGE_''72''\", iff(((\"AGE_''73''\" = ''NaN'') OR \"AGE_''73''\" IS NULL), 0, \"AGE_''73''\") AS \"AGE_''73''\", iff(((\"AGE_''74''\" = ''NaN'') OR \"AGE_''74''\" IS NULL), 0, \"AGE_''74''\") AS \"AGE_''74''\", iff(((\"AGE_''75''\" = ''NaN'') OR \"AGE_''75''\" IS NULL), 0, \"AGE_''75''\") AS \"AGE_''75''\", iff(((\"AGE_''76''\" = ''NaN'') OR \"AGE_''76''\" IS NULL), 0, \"AGE_''76''\") AS \"AGE_''76''\", iff(((\"AGE_''77''\" = ''NaN'') OR \"AGE_''77''\" IS NULL), 0, \"AGE_''77''\") AS \"AGE_''77''\", iff(((\"AGE_''78''\" = ''NaN'') OR \"AGE_''78''\" IS NULL), 0, \"AGE_''78''\") AS \"AGE_''78''\", iff(((\"AGE_''79''\" = ''NaN'') OR \"AGE_''79''\" IS NULL), 0, \"AGE_''79''\") AS \"AGE_''79''\", iff(((\"AGE_''80''\" = ''NaN'') OR \"AGE_''80''\" IS NULL), 0, \"AGE_''80''\") AS \"AGE_''80''\", iff(((\"AGE_''81''\" = ''NaN'') OR \"AGE_''81''\" IS NULL), 0, \"AGE_''81''\") AS \"AGE_''81''\", iff(((\"AGE_''82''\" = ''NaN'') OR \"AGE_''82''\" IS NULL), 0, \"AGE_''82''\") AS \"AGE_''82''\", iff(((\"AGE_''83''\" = ''NaN'') OR \"AGE_''83''\" IS NULL), 0, \"AGE_''83''\") AS \"AGE_''83''\", iff(((\"AGE_''84''\" = ''NaN'') OR \"AGE_''84''\" IS NULL), 0, \"AGE_''84''\") AS \"AGE_''84''\", iff(((\"AGE_''85''\" = ''NaN'') OR \"AGE_''85''\" IS NULL), 0, \"AGE_''85''\") AS \"AGE_''85''\", iff(((\"AGE_''86''\" = ''NaN'') OR \"AGE_''86''\" IS NULL), 0, \"AGE_''86''\") AS \"AGE_''86''\", iff(((\"AGE_''88''\" = ''NaN'') OR \"AGE_''88''\" IS NULL), 0, \"AGE_''88''\") AS \"AGE_''88''\", iff(((\"AGE_''89''\" = ''NaN'') OR \"AGE_''89''\" IS NULL), 0, \"AGE_''89''\") AS \"AGE_''89''\", iff(((\"AGE_''91''\" = ''NaN'') OR \"AGE_''91''\" IS NULL), 0, \"AGE_''91''\") AS \"AGE_''91''\", iff(((\"AGE_''92''\" = ''NaN'') OR \"AGE_''92''\" IS NULL), 0, \"AGE_''92''\") AS \"AGE_''92''\", iff(((\"AGE_''94''\" = ''NaN'') OR \"AGE_''94''\" IS NULL), 0, \"AGE_''94''\") AS \"AGE_''94''\", iff(((\"AGE_''95''\" = ''NaN'') OR \"AGE_''95''\" IS NULL), 0, \"AGE_''95''\") AS \"AGE_''95''\", iff(((\"AGE_''98''\" = ''NaN'') OR \"AGE_''98''\" IS NULL), 0, \"AGE_''98''\") AS \"AGE_''98''\", iff(((\"CAMPAIGN_''1''\" = ''NaN'') OR \"CAMPAIGN_''1''\" IS NULL), 0, \"CAMPAIGN_''1''\") AS \"CAMPAIGN_''1''\", iff(((\"CAMPAIGN_''10''\" = ''NaN'') OR \"CAMPAIGN_''10''\" IS NULL), 0, \"CAMPAIGN_''10''\") AS \"CAMPAIGN_''10''\", iff(((\"CAMPAIGN_''11''\" = ''NaN'') OR \"CAMPAIGN_''11''\" IS NULL), 0, \"CAMPAIGN_''11''\") AS \"CAMPAIGN_''11''\", iff(((\"CAMPAIGN_''12''\" = ''NaN'') OR \"CAMPAIGN_''12''\" IS NULL), 0, \"CAMPAIGN_''12''\") AS \"CAMPAIGN_''12''\", iff(((\"CAMPAIGN_''13''\" = ''NaN'') OR \"CAMPAIGN_''13''\" IS NULL), 0, \"CAMPAIGN_''13''\") AS \"CAMPAIGN_''13''\", iff(((\"CAMPAIGN_''14''\" = ''NaN'') OR \"CAMPAIGN_''14''\" IS NULL), 0, \"CAMPAIGN_''14''\") AS \"CAMPAIGN_''14''\", iff(((\"CAMPAIGN_''15''\" = ''NaN'') OR \"CAMPAIGN_''15''\" IS NULL), 0, \"CAMPAIGN_''15''\") AS \"CAMPAIGN_''15''\", iff(((\"CAMPAIGN_''16''\" = ''NaN'') OR \"CAMPAIGN_''16''\" IS NULL), 0, \"CAMPAIGN_''16''\") AS \"CAMPAIGN_''16''\", iff(((\"CAMPAIGN_''17''\" = ''NaN'') OR \"CAMPAIGN_''17''\" IS NULL), 0, \"CAMPAIGN_''17''\") AS \"CAMPAIGN_''17''\", iff(((\"CAMPAIGN_''18''\" = ''NaN'') OR \"CAMPAIGN_''18''\" IS NULL), 0, \"CAMPAIGN_''18''\") AS \"CAMPAIGN_''18''\", iff(((\"CAMPAIGN_''19''\" = ''NaN'') OR \"CAMPAIGN_''19''\" IS NULL), 0, \"CAMPAIGN_''19''\") AS \"CAMPAIGN_''19''\", iff(((\"CAMPAIGN_''2''\" = ''NaN'') OR \"CAMPAIGN_''2''\" IS NULL), 0, \"CAMPAIGN_''2''\") AS \"CAMPAIGN_''2''\", iff(((\"CAMPAIGN_''20''\" = ''NaN'') OR \"CAMPAIGN_''20''\" IS NULL), 0, \"CAMPAIGN_''20''\") AS \"CAMPAIGN_''20''\", iff(((\"CAMPAIGN_''21''\" = ''NaN'') OR \"CAMPAIGN_''21''\" IS NULL), 0, \"CAMPAIGN_''21''\") AS \"CAMPAIGN_''21''\", iff(((\"CAMPAIGN_''22''\" = ''NaN'') OR \"CAMPAIGN_''22''\" IS NULL), 0, \"CAMPAIGN_''22''\") AS \"CAMPAIGN_''22''\", iff(((\"CAMPAIGN_''23''\" = ''NaN'') OR \"CAMPAIGN_''23''\" IS NULL), 0, \"CAMPAIGN_''23''\") AS \"CAMPAIGN_''23''\", iff(((\"CAMPAIGN_''24''\" = ''NaN'') OR \"CAMPAIGN_''24''\" IS NULL), 0, \"CAMPAIGN_''24''\") AS \"CAMPAIGN_''24''\", iff(((\"CAMPAIGN_''25''\" = ''NaN'') OR \"CAMPAIGN_''25''\" IS NULL), 0, \"CAMPAIGN_''25''\") AS \"CAMPAIGN_''25''\", iff(((\"CAMPAIGN_''26''\" = ''NaN'') OR \"CAMPAIGN_''26''\" IS NULL), 0, \"CAMPAIGN_''26''\") AS \"CAMPAIGN_''26''\", iff(((\"CAMPAIGN_''27''\" = ''NaN'') OR \"CAMPAIGN_''27''\" IS NULL), 0, \"CAMPAIGN_''27''\") AS \"CAMPAIGN_''27''\", iff(((\"CAMPAIGN_''28''\" = ''NaN'') OR \"CAMPAIGN_''28''\" IS NULL), 0, \"CAMPAIGN_''28''\") AS \"CAMPAIGN_''28''\", iff(((\"CAMPAIGN_''29''\" = ''NaN'') OR \"CAMPAIGN_''29''\" IS NULL), 0, \"CAMPAIGN_''29''\") AS \"CAMPAIGN_''29''\", iff(((\"CAMPAIGN_''3''\" = ''NaN'') OR \"CAMPAIGN_''3''\" IS NULL), 0, \"CAMPAIGN_''3''\") AS \"CAMPAIGN_''3''\", iff(((\"CAMPAIGN_''30''\" = ''NaN'') OR \"CAMPAIGN_''30''\" IS NULL), 0, \"CAMPAIGN_''30''\") AS \"CAMPAIGN_''30''\", iff(((\"CAMPAIGN_''31''\" = ''NaN'') OR \"CAMPAIGN_''31''\" IS NULL), 0, \"CAMPAIGN_''31''\") AS \"CAMPAIGN_''31''\", iff(((\"CAMPAIGN_''32''\" = ''NaN'') OR \"CAMPAIGN_''32''\" IS NULL), 0, \"CAMPAIGN_''32''\") AS \"CAMPAIGN_''32''\", iff(((\"CAMPAIGN_''33''\" = ''NaN'') OR \"CAMPAIGN_''33''\" IS NULL), 0, \"CAMPAIGN_''33''\") AS \"CAMPAIGN_''33''\", iff(((\"CAMPAIGN_''34''\" = ''NaN'') OR \"CAMPAIGN_''34''\" IS NULL), 0, \"CAMPAIGN_''34''\") AS \"CAMPAIGN_''34''\", iff(((\"CAMPAIGN_''35''\" = ''NaN'') OR \"CAMPAIGN_''35''\" IS NULL), 0, \"CAMPAIGN_''35''\") AS \"CAMPAIGN_''35''\", iff(((\"CAMPAIGN_''37''\" = ''NaN'') OR \"CAMPAIGN_''37''\" IS NULL), 0, \"CAMPAIGN_''37''\") AS \"CAMPAIGN_''37''\", iff(((\"CAMPAIGN_''39''\" = ''NaN'') OR \"CAMPAIGN_''39''\" IS NULL), 0, \"CAMPAIGN_''39''\") AS \"CAMPAIGN_''39''\", iff(((\"CAMPAIGN_''4''\" = ''NaN'') OR \"CAMPAIGN_''4''\" IS NULL), 0, \"CAMPAIGN_''4''\") AS \"CAMPAIGN_''4''\", iff(((\"CAMPAIGN_''40''\" = ''NaN'') OR \"CAMPAIGN_''40''\" IS NULL), 0, \"CAMPAIGN_''40''\") AS \"CAMPAIGN_''40''\", iff(((\"CAMPAIGN_''41''\" = ''NaN'') OR \"CAMPAIGN_''41''\" IS NULL), 0, \"CAMPAIGN_''41''\") AS \"CAMPAIGN_''41''\", iff(((\"CAMPAIGN_''42''\" = ''NaN'') OR \"CAMPAIGN_''42''\" IS NULL), 0, \"CAMPAIGN_''42''\") AS \"CAMPAIGN_''42''\", iff(((\"CAMPAIGN_''43''\" = ''NaN'') OR \"CAMPAIGN_''43''\" IS NULL), 0, \"CAMPAIGN_''43''\") AS \"CAMPAIGN_''43''\", iff(((\"CAMPAIGN_''5''\" = ''NaN'') OR \"CAMPAIGN_''5''\" IS NULL), 0, \"CAMPAIGN_''5''\") AS \"CAMPAIGN_''5''\", iff(((\"CAMPAIGN_''56''\" = ''NaN'') OR \"CAMPAIGN_''56''\" IS NULL), 0, \"CAMPAIGN_''56''\") AS \"CAMPAIGN_''56''\", iff(((\"CAMPAIGN_''6''\" = ''NaN'') OR \"CAMPAIGN_''6''\" IS NULL), 0, \"CAMPAIGN_''6''\") AS \"CAMPAIGN_''6''\", iff(((\"CAMPAIGN_''7''\" = ''NaN'') OR \"CAMPAIGN_''7''\" IS NULL), 0, \"CAMPAIGN_''7''\") AS \"CAMPAIGN_''7''\", iff(((\"CAMPAIGN_''8''\" = ''NaN'') OR \"CAMPAIGN_''8''\" IS NULL), 0, \"CAMPAIGN_''8''\") AS \"CAMPAIGN_''8''\", iff(((\"CAMPAIGN_''9''\" = ''NaN'') OR \"CAMPAIGN_''9''\" IS NULL), 0, \"CAMPAIGN_''9''\") AS \"CAMPAIGN_''9''\", iff(((\"CONTACT_''cellular''\" = ''NaN'') OR \"CONTACT_''cellular''\" IS NULL), 0, \"CONTACT_''cellular''\") AS \"CONTACT_''cellular''\", iff(((\"CONTACT_''telephone''\" = ''NaN'') OR \"CONTACT_''telephone''\" IS NULL), 0, \"CONTACT_''telephone''\") AS \"CONTACT_''telephone''\", iff(((\"DAY_OF_WEEK_''fri''\" = ''NaN'') OR \"DAY_OF_WEEK_''fri''\" IS NULL), 0, \"DAY_OF_WEEK_''fri''\") AS \"DAY_OF_WEEK_''fri''\", iff(((\"DAY_OF_WEEK_''mon''\" = ''NaN'') OR \"DAY_OF_WEEK_''mon''\" IS NULL), 0, \"DAY_OF_WEEK_''mon''\") AS \"DAY_OF_WEEK_''mon''\", iff(((\"DAY_OF_WEEK_''thu''\" = ''NaN'') OR \"DAY_OF_WEEK_''thu''\" IS NULL), 0, \"DAY_OF_WEEK_''thu''\") AS \"DAY_OF_WEEK_''thu''\", iff(((\"DAY_OF_WEEK_''tue''\" = ''NaN'') OR \"DAY_OF_WEEK_''tue''\" IS NULL), 0, \"DAY_OF_WEEK_''tue''\") AS \"DAY_OF_WEEK_''tue''\", iff(((\"DAY_OF_WEEK_''wed''\" = ''NaN'') OR \"DAY_OF_WEEK_''wed''\" IS NULL), 0, \"DAY_OF_WEEK_''wed''\") AS \"DAY_OF_WEEK_''wed''\", iff(((\"DEFAULT_''no''\" = ''NaN'') OR \"DEFAULT_''no''\" IS NULL), 0, \"DEFAULT_''no''\") AS \"DEFAULT_''no''\", iff(((\"DEFAULT_''unknown''\" = ''NaN'') OR \"DEFAULT_''unknown''\" IS NULL), 0, \"DEFAULT_''unknown''\") AS \"DEFAULT_''unknown''\", iff(((\"DEFAULT_''yes''\" = ''NaN'') OR \"DEFAULT_''yes''\" IS NULL), 0, \"DEFAULT_''yes''\") AS \"DEFAULT_''yes''\", iff(((\"EDUCATION_''basic.4y''\" = ''NaN'') OR \"EDUCATION_''basic.4y''\" IS NULL), 0, \"EDUCATION_''basic.4y''\") AS \"EDUCATION_''basic.4y''\", iff(((\"EDUCATION_''basic.6y''\" = ''NaN'') OR \"EDUCATION_''basic.6y''\" IS NULL), 0, \"EDUCATION_''basic.6y''\") AS \"EDUCATION_''basic.6y''\", iff(((\"EDUCATION_''basic.9y''\" = ''NaN'') OR \"EDUCATION_''basic.9y''\" IS NULL), 0, \"EDUCATION_''basic.9y''\") AS \"EDUCATION_''basic.9y''\", iff(((\"EDUCATION_''high.school''\" = ''NaN'') OR \"EDUCATION_''high.school''\" IS NULL), 0, \"EDUCATION_''high.school''\") AS \"EDUCATION_''high.school''\", iff(((\"EDUCATION_''illiterate''\" = ''NaN'') OR \"EDUCATION_''illiterate''\" IS NULL), 0, \"EDUCATION_''illiterate''\") AS \"EDUCATION_''illiterate''\", iff(((\"EDUCATION_''professional.course''\" = ''NaN'') OR \"EDUCATION_''professional.course''\" IS NULL), 0, \"EDUCATION_''professional.course''\") AS \"EDUCATION_''professional.course''\", iff(((\"EDUCATION_''university.degree''\" = ''NaN'') OR \"EDUCATION_''university.degree''\" IS NULL), 0, \"EDUCATION_''university.degree''\") AS \"EDUCATION_''university.degree''\", iff(((\"EDUCATION_''unknown''\" = ''NaN'') OR \"EDUCATION_''unknown''\" IS NULL), 0, \"EDUCATION_''unknown''\") AS \"EDUCATION_''unknown''\", iff(((\"HOUSING_''no''\" = ''NaN'') OR \"HOUSING_''no''\" IS NULL), 0, \"HOUSING_''no''\") AS \"HOUSING_''no''\", iff(((\"HOUSING_''unknown''\" = ''NaN'') OR \"HOUSING_''unknown''\" IS NULL), 0, \"HOUSING_''unknown''\") AS \"HOUSING_''unknown''\", iff(((\"HOUSING_''yes''\" = ''NaN'') OR \"HOUSING_''yes''\" IS NULL), 0, \"HOUSING_''yes''\") AS \"HOUSING_''yes''\", iff(((\"JOB_''admin.''\" = ''NaN'') OR \"JOB_''admin.''\" IS NULL), 0, \"JOB_''admin.''\") AS \"JOB_''admin.''\", iff(((\"JOB_''blue-collar''\" = ''NaN'') OR \"JOB_''blue-collar''\" IS NULL), 0, \"JOB_''blue-collar''\") AS \"JOB_''blue-collar''\", iff(((\"JOB_''entrepreneur''\" = ''NaN'') OR \"JOB_''entrepreneur''\" IS NULL), 0, \"JOB_''entrepreneur''\") AS \"JOB_''entrepreneur''\", iff(((\"JOB_''housemaid''\" = ''NaN'') OR \"JOB_''housemaid''\" IS NULL), 0, \"JOB_''housemaid''\") AS \"JOB_''housemaid''\", iff(((\"JOB_''management''\" = ''NaN'') OR \"JOB_''management''\" IS NULL), 0, \"JOB_''management''\") AS \"JOB_''management''\", iff(((\"JOB_''retired''\" = ''NaN'') OR \"JOB_''retired''\" IS NULL), 0, \"JOB_''retired''\") AS \"JOB_''retired''\", iff(((\"JOB_''self-employed''\" = ''NaN'') OR \"JOB_''self-employed''\" IS NULL), 0, \"JOB_''self-employed''\") AS \"JOB_''self-employed''\", iff(((\"JOB_''services''\" = ''NaN'') OR \"JOB_''services''\" IS NULL), 0, \"JOB_''services''\") AS \"JOB_''services''\", iff(((\"JOB_''student''\" = ''NaN'') OR \"JOB_''student''\" IS NULL), 0, \"JOB_''student''\") AS \"JOB_''student''\", iff(((\"JOB_''technician''\" = ''NaN'') OR \"JOB_''technician''\" IS NULL), 0, \"JOB_''technician''\") AS \"JOB_''technician''\", iff(((\"JOB_''unemployed''\" = ''NaN'') OR \"JOB_''unemployed''\" IS NULL), 0, \"JOB_''unemployed''\") AS \"JOB_''unemployed''\", iff(((\"JOB_''unknown''\" = ''NaN'') OR \"JOB_''unknown''\" IS NULL), 0, \"JOB_''unknown''\") AS \"JOB_''unknown''\", iff(((\"LOAN_''no''\" = ''NaN'') OR \"LOAN_''no''\" IS NULL), 0, \"LOAN_''no''\") AS \"LOAN_''no''\", iff(((\"LOAN_''unknown''\" = ''NaN'') OR \"LOAN_''unknown''\" IS NULL), 0, \"LOAN_''unknown''\") AS \"LOAN_''unknown''\", iff(((\"LOAN_''yes''\" = ''NaN'') OR \"LOAN_''yes''\" IS NULL), 0, \"LOAN_''yes''\") AS \"LOAN_''yes''\", iff(((\"MARITAL_''divorced''\" = ''NaN'') OR \"MARITAL_''divorced''\" IS NULL), 0, \"MARITAL_''divorced''\") AS \"MARITAL_''divorced''\", iff(((\"MARITAL_''married''\" = ''NaN'') OR \"MARITAL_''married''\" IS NULL), 0, \"MARITAL_''married''\") AS \"MARITAL_''married''\", iff(((\"MARITAL_''single''\" = ''NaN'') OR \"MARITAL_''single''\" IS NULL), 0, \"MARITAL_''single''\") AS \"MARITAL_''single''\", iff(((\"MARITAL_''unknown''\" = ''NaN'') OR \"MARITAL_''unknown''\" IS NULL), 0, \"MARITAL_''unknown''\") AS \"MARITAL_''unknown''\", iff(((\"MONTH_''apr''\" = ''NaN'') OR \"MONTH_''apr''\" IS NULL), 0, \"MONTH_''apr''\") AS \"MONTH_''apr''\", iff(((\"MONTH_''aug''\" = ''NaN'') OR \"MONTH_''aug''\" IS NULL), 0, \"MONTH_''aug''\") AS \"MONTH_''aug''\", iff(((\"MONTH_''dec''\" = ''NaN'') OR \"MONTH_''dec''\" IS NULL), 0, \"MONTH_''dec''\") AS \"MONTH_''dec''\", iff(((\"MONTH_''jul''\" = ''NaN'') OR \"MONTH_''jul''\" IS NULL), 0, \"MONTH_''jul''\") AS \"MONTH_''jul''\", iff(((\"MONTH_''jun''\" = ''NaN'') OR \"MONTH_''jun''\" IS NULL), 0, \"MONTH_''jun''\") AS \"MONTH_''jun''\", iff(((\"MONTH_''mar''\" = ''NaN'') OR \"MONTH_''mar''\" IS NULL), 0, \"MONTH_''mar''\") AS \"MONTH_''mar''\", iff(((\"MONTH_''may''\" = ''NaN'') OR \"MONTH_''may''\" IS NULL), 0, \"MONTH_''may''\") AS \"MONTH_''may''\", iff(((\"MONTH_''nov''\" = ''NaN'') OR \"MONTH_''nov''\" IS NULL), 0, \"MONTH_''nov''\") AS \"MONTH_''nov''\", iff(((\"MONTH_''oct''\" = ''NaN'') OR \"MONTH_''oct''\" IS NULL), 0, \"MONTH_''oct''\") AS \"MONTH_''oct''\", iff(((\"MONTH_''sep''\" = ''NaN'') OR \"MONTH_''sep''\" IS NULL), 0, \"MONTH_''sep''\") AS \"MONTH_''sep''\", iff(((\"POUTCOME_''failure''\" = ''NaN'') OR \"POUTCOME_''failure''\" IS NULL), 0, \"POUTCOME_''failure''\") AS \"POUTCOME_''failure''\", iff(((\"POUTCOME_''nonexistent''\" = ''NaN'') OR \"POUTCOME_''nonexistent''\" IS NULL), 0, \"POUTCOME_''nonexistent''\") AS \"POUTCOME_''nonexistent''\", iff(((\"POUTCOME_''success''\" = ''NaN'') OR \"POUTCOME_''success''\" IS NULL), 0, \"POUTCOME_''success''\") AS \"POUTCOME_''success''\", least(greatest(((\"CONS_CONF_IDX\" * ''0.041841004184100423'' :: FLOAT) + ''2.1255230125523012'' :: FLOAT), 0), 1) AS \"MMS_CONS_CONF_IDX\", least(greatest(((\"CONS_PRICE_IDX\" * ''0.3897116134060791'' :: FLOAT) + ''-35.9318004676539'' :: FLOAT), 0), 1) AS \"MMS_CONS_PRICE_IDX\", least(greatest(((\"DURATION\" * ''0.00020333468889792598'' :: FLOAT) + ''0.0'' :: FLOAT), 0), 1) AS \"MMS_DURATION\", least(greatest(((\"EMP_VAR_RATE\" * ''0.20833333333333334'' :: FLOAT) + ''0.7083333333333334'' :: FLOAT), 0), 1) AS \"MMS_EMP_VAR_RATE\", least(greatest(((\"EURIBOR3M\" * ''0.22670596236681026'' :: FLOAT) + ''-0.1437315801405577'' :: FLOAT), 0), 1) AS \"MMS_EURIBOR3M\", least(greatest(((\"NR_EMPLOYED\" * ''0.003780718336483932'' :: FLOAT) + ''-18.765973534971646'' :: FLOAT), 0), 1) AS \"MMS_NR_EMPLOYED\", least(greatest(((\"PDAYS\" * ''0.001001001001001001'' :: FLOAT) + ''0.0'' :: FLOAT), 0), 1) AS \"MMS_PDAYS\", least(greatest(((\"PREVIOUS\" * ''0.14285714285714285'' :: FLOAT) + ''0.0'' :: FLOAT), 0), 1) AS \"MMS_PREVIOUS\" FROM ( SELECT  *  FROM (( SELECT \"AGE\" AS \"AGE\", \"JOB\" AS \"JOB\", \"MARITAL\" AS \"MARITAL\", \"EDUCATION\" AS \"EDUCATION\", \"DEFAULT\" AS \"DEFAULT\", \"HOUSING\" AS \"HOUSING\", \"LOAN\" AS \"LOAN\", \"CONTACT\" AS \"CONTACT\", \"MONTH\" AS \"MONTH\", \"DAY_OF_WEEK\" AS \"DAY_OF_WEEK\", \"DURATION\" AS \"DURATION\", \"CAMPAIGN\" AS \"CAMPAIGN\", \"PDAYS\" AS \"PDAYS\", \"PREVIOUS\" AS \"PREVIOUS\", \"POUTCOME\" AS \"POUTCOME\", \"EMP_VAR_RATE\" AS \"EMP_VAR_RATE\", \"CONS_PRICE_IDX\" AS \"CONS_PRICE_IDX\", \"CONS_CONF_IDX\" AS \"CONS_CONF_IDX\", \"EURIBOR3M\" AS \"EURIBOR3M\", \"NR_EMPLOYED\" AS \"NR_EMPLOYED\", \"LABEL\" AS \"LABEL\", \"AGE_''17''\" AS \"AGE_''17''\", \"AGE_''18''\" AS \"AGE_''18''\", \"AGE_''19''\" AS \"AGE_''19''\", \"AGE_''20''\" AS \"AGE_''20''\", \"AGE_''21''\" AS \"AGE_''21''\", \"AGE_''22''\" AS \"AGE_''22''\", \"AGE_''23''\" AS \"AGE_''23''\", \"AGE_''24''\" AS \"AGE_''24''\", \"AGE_''25''\" AS \"AGE_''25''\", \"AGE_''26''\" AS \"AGE_''26''\", \"AGE_''27''\" AS \"AGE_''27''\", \"AGE_''28''\" AS \"AGE_''28''\", \"AGE_''29''\" AS \"AGE_''29''\", \"AGE_''30''\" AS \"AGE_''30''\", \"AGE_''31''\" AS \"AGE_''31''\", \"AGE_''32''\" AS \"AGE_''32''\", \"AGE_''33''\" AS \"AGE_''33''\", \"AGE_''34''\" AS \"AGE_''34''\", \"AGE_''35''\" AS \"AGE_''35''\", \"AGE_''36''\" AS \"AGE_''36''\", \"AGE_''37''\" AS \"AGE_''37''\", \"AGE_''38''\" AS \"AGE_''38''\", \"AGE_''39''\" AS \"AGE_''39''\", \"AGE_''40''\" AS \"AGE_''40''\", \"AGE_''41''\" AS \"AGE_''41''\", \"AGE_''42''\" AS \"AGE_''42''\", \"AGE_''43''\" AS \"AGE_''43''\", \"AGE_''44''\" AS \"AGE_''44''\", \"AGE_''45''\" AS \"AGE_''45''\", \"AGE_''46''\" AS \"AGE_''46''\", \"AGE_''47''\" AS \"AGE_''47''\", \"AGE_''48''\" AS \"AGE_''48''\", \"AGE_''49''\" AS \"AGE_''49''\", \"AGE_''50''\" AS \"AGE_''50''\", \"AGE_''51''\" AS \"AGE_''51''\", \"AGE_''52''\" AS \"AGE_''52''\", \"AGE_''53''\" AS \"AGE_''53''\", \"AGE_''54''\" AS \"AGE_''54''\", \"AGE_''55''\" AS \"AGE_''55''\", \"AGE_''56''\" AS \"AGE_''56''\", \"AGE_''57''\" AS \"AGE_''57''\", \"AGE_''58''\" AS \"AGE_''58''\", \"AGE_''59''\" AS \"AGE_''59''\", \"AGE_''60''\" AS \"AGE_''60''\", \"AGE_''61''\" AS \"AGE_''61''\", \"AGE_''62''\" AS \"AGE_''62''\", \"AGE_''63''\" AS \"AGE_''63''\", \"AGE_''64''\" AS \"AGE_''64''\", \"AGE_''65''\" AS \"AGE_''65''\", \"AGE_''66''\" AS \"AGE_''66''\", \"AGE_''67''\" AS \"AGE_''67''\", \"AGE_''68''\" AS \"AGE_''68''\", \"AGE_''69''\" AS \"AGE_''69''\", \"AGE_''70''\" AS \"AGE_''70''\", \"AGE_''71''\" AS \"AGE_''71''\", \"AGE_''72''\" AS \"AGE_''72''\", \"AGE_''73''\" AS \"AGE_''73''\", \"AGE_''74''\" AS \"AGE_''74''\", \"AGE_''75''\" AS \"AGE_''75''\", \"AGE_''76''\" AS \"AGE_''76''\", \"AGE_''77''\" AS \"AGE_''77''\", \"AGE_''78''\" AS \"AGE_''78''\", \"AGE_''79''\" AS \"AGE_''79''\", \"AGE_''80''\" AS \"AGE_''80''\", \"AGE_''81''\" AS \"AGE_''81''\", \"AGE_''82''\" AS \"AGE_''82''\", \"AGE_''83''\" AS \"AGE_''83''\", \"AGE_''84''\" AS \"AGE_''84''\", \"AGE_''85''\" AS \"AGE_''85''\", \"AGE_''86''\" AS \"AGE_''86''\", \"AGE_''88''\" AS \"AGE_''88''\", \"AGE_''89''\" AS \"AGE_''89''\", \"AGE_''91''\" AS \"AGE_''91''\", \"AGE_''92''\" AS \"AGE_''92''\", \"AGE_''94''\" AS \"AGE_''94''\", \"AGE_''95''\" AS \"AGE_''95''\", \"AGE_''98''\" AS \"AGE_''98''\", \"CAMPAIGN_''1''\" AS \"CAMPAIGN_''1''\", \"CAMPAIGN_''10''\" AS \"CAMPAIGN_''10''\", \"CAMPAIGN_''11''\" AS \"CAMPAIGN_''11''\", \"CAMPAIGN_''12''\" AS \"CAMPAIGN_''12''\", \"CAMPAIGN_''13''\" AS \"CAMPAIGN_''13''\", \"CAMPAIGN_''14''\" AS \"CAMPAIGN_''14''\", \"CAMPAIGN_''15''\" AS \"CAMPAIGN_''15''\", \"CAMPAIGN_''16''\" AS \"CAMPAIGN_''16''\", \"CAMPAIGN_''17''\" AS \"CAMPAIGN_''17''\", \"CAMPAIGN_''18''\" AS \"CAMPAIGN_''18''\", \"CAMPAIGN_''19''\" AS \"CAMPAIGN_''19''\", \"CAMPAIGN_''2''\" AS \"CAMPAIGN_''2''\", \"CAMPAIGN_''20''\" AS \"CAMPAIGN_''20''\", \"CAMPAIGN_''21''\" AS \"CAMPAIGN_''21''\", \"CAMPAIGN_''22''\" AS \"CAMPAIGN_''22''\", \"CAMPAIGN_''23''\" AS \"CAMPAIGN_''23''\", \"CAMPAIGN_''24''\" AS \"CAMPAIGN_''24''\", \"CAMPAIGN_''25''\" AS \"CAMPAIGN_''25''\", \"CAMPAIGN_''26''\" AS \"CAMPAIGN_''26''\", \"CAMPAIGN_''27''\" AS \"CAMPAIGN_''27''\", \"CAMPAIGN_''28''\" AS \"CAMPAIGN_''28''\", \"CAMPAIGN_''29''\" AS \"CAMPAIGN_''29''\", \"CAMPAIGN_''3''\" AS \"CAMPAIGN_''3''\", \"CAMPAIGN_''30''\" AS \"CAMPAIGN_''30''\", \"CAMPAIGN_''31''\" AS \"CAMPAIGN_''31''\", \"CAMPAIGN_''32''\" AS \"CAMPAIGN_''32''\", \"CAMPAIGN_''33''\" AS \"CAMPAIGN_''33''\", \"CAMPAIGN_''34''\" AS \"CAMPAIGN_''34''\", \"CAMPAIGN_''35''\" AS \"CAMPAIGN_''35''\", \"CAMPAIGN_''37''\" AS \"CAMPAIGN_''37''\", \"CAMPAIGN_''39''\" AS \"CAMPAIGN_''39''\", \"CAMPAIGN_''4''\" AS \"CAMPAIGN_''4''\", \"CAMPAIGN_''40''\" AS \"CAMPAIGN_''40''\", \"CAMPAIGN_''41''\" AS \"CAMPAIGN_''41''\", \"CAMPAIGN_''42''\" AS \"CAMPAIGN_''42''\", \"CAMPAIGN_''43''\" AS \"CAMPAIGN_''43''\", \"CAMPAIGN_''5''\" AS \"CAMPAIGN_''5''\", \"CAMPAIGN_''56''\" AS \"CAMPAIGN_''56''\", \"CAMPAIGN_''6''\" AS \"CAMPAIGN_''6''\", \"CAMPAIGN_''7''\" AS \"CAMPAIGN_''7''\", \"CAMPAIGN_''8''\" AS \"CAMPAIGN_''8''\", \"CAMPAIGN_''9''\" AS \"CAMPAIGN_''9''\", \"CONTACT_''cellular''\" AS \"CONTACT_''cellular''\", \"CONTACT_''telephone''\" AS \"CONTACT_''telephone''\", \"DAY_OF_WEEK_''fri''\" AS \"DAY_OF_WEEK_''fri''\", \"DAY_OF_WEEK_''mon''\" AS \"DAY_OF_WEEK_''mon''\", \"DAY_OF_WEEK_''thu''\" AS \"DAY_OF_WEEK_''thu''\", \"DAY_OF_WEEK_''tue''\" AS \"DAY_OF_WEEK_''tue''\", \"DAY_OF_WEEK_''wed''\" AS \"DAY_OF_WEEK_''wed''\", \"DEFAULT_''no''\" AS \"DEFAULT_''no''\", \"DEFAULT_''unknown''\" AS \"DEFAULT_''unknown''\", \"DEFAULT_''yes''\" AS \"DEFAULT_''yes''\", \"EDUCATION_''basic.4y''\" AS \"EDUCATION_''basic.4y''\", \"EDUCATION_''basic.6y''\" AS \"EDUCATION_''basic.6y''\", \"EDUCATION_''basic.9y''\" AS \"EDUCATION_''basic.9y''\", \"EDUCATION_''high.school''\" AS \"EDUCATION_''high.school''\", \"EDUCATION_''illiterate''\" AS \"EDUCATION_''illiterate''\", \"EDUCATION_''professional.course''\" AS \"EDUCATION_''professional.course''\", \"EDUCATION_''university.degree''\" AS \"EDUCATION_''university.degree''\", \"EDUCATION_''unknown''\" AS \"EDUCATION_''unknown''\", \"HOUSING_''no''\" AS \"HOUSING_''no''\", \"HOUSING_''unknown''\" AS \"HOUSING_''unknown''\", \"HOUSING_''yes''\" AS \"HOUSING_''yes''\", \"JOB_''admin.''\" AS \"JOB_''admin.''\", \"JOB_''blue-collar''\" AS \"JOB_''blue-collar''\", \"JOB_''entrepreneur''\" AS \"JOB_''entrepreneur''\", \"JOB_''housemaid''\" AS \"JOB_''housemaid''\", \"JOB_''management''\" AS \"JOB_''management''\", \"JOB_''retired''\" AS \"JOB_''retired''\", \"JOB_''self-employed''\" AS \"JOB_''self-employed''\", \"JOB_''services''\" AS \"JOB_''services''\", \"JOB_''student''\" AS \"JOB_''student''\", \"JOB_''technician''\" AS \"JOB_''technician''\", \"JOB_''unemployed''\" AS \"JOB_''unemployed''\", \"JOB_''unknown''\" AS \"JOB_''unknown''\", \"LOAN_''no''\" AS \"LOAN_''no''\", \"LOAN_''unknown''\" AS \"LOAN_''unknown''\", \"LOAN_''yes''\" AS \"LOAN_''yes''\", \"MARITAL_''divorced''\" AS \"MARITAL_''divorced''\", \"MARITAL_''married''\" AS \"MARITAL_''married''\", \"MARITAL_''single''\" AS \"MARITAL_''single''\", \"MARITAL_''unknown''\" AS \"MARITAL_''unknown''\", \"MONTH_''apr''\" AS \"MONTH_''apr''\", \"MONTH_''aug''\" AS \"MONTH_''aug''\", \"MONTH_''dec''\" AS \"MONTH_''dec''\", \"MONTH_''jul''\" AS \"MONTH_''jul''\", \"MONTH_''jun''\" AS \"MONTH_''jun''\", \"MONTH_''mar''\" AS \"MONTH_''mar''\", \"MONTH_''may''\" AS \"MONTH_''may''\", \"MONTH_''nov''\" AS \"MONTH_''nov''\", \"MONTH_''oct''\" AS \"MONTH_''oct''\", \"MONTH_''sep''\" AS \"MONTH_''sep''\" FROM ( SELECT  *  FROM (( SELECT \"AGE\" AS \"AGE\", \"JOB\" AS \"JOB\", \"MARITAL\" AS \"MARITAL\", \"EDUCATION\" AS \"EDUCATION\", \"DEFAULT\" AS \"DEFAULT\", \"HOUSING\" AS \"HOUSING\", \"LOAN\" AS \"LOAN\", \"CONTACT\" AS \"CONTACT\", \"MONTH\" AS \"MONTH\", \"DAY_OF_WEEK\" AS \"DAY_OF_WEEK\", \"DURATION\" AS \"DURATION\", \"CAMPAIGN\" AS \"CAMPAIGN\", \"PDAYS\" AS \"PDAYS\", \"PREVIOUS\" AS \"PREVIOUS\", \"POUTCOME\" AS \"POUTCOME\", \"EMP_VAR_RATE\" AS \"EMP_VAR_RATE\", \"CONS_PRICE_IDX\" AS \"CONS_PRICE_IDX\", \"CONS_CONF_IDX\" AS \"CONS_CONF_IDX\", \"EURIBOR3M\" AS \"EURIBOR3M\", \"NR_EMPLOYED\" AS \"NR_EMPLOYED\", \"LABEL\" AS \"LABEL\", \"AGE_''17''\" AS \"AGE_''17''\", \"AGE_''18''\" AS \"AGE_''18''\", \"AGE_''19''\" AS \"AGE_''19''\", \"AGE_''20''\" AS \"AGE_''20''\", \"AGE_''21''\" AS \"AGE_''21''\", \"AGE_''22''\" AS \"AGE_''22''\", \"AGE_''23''\" AS \"AGE_''23''\", \"AGE_''24''\" AS \"AGE_''24''\", \"AGE_''25''\" AS \"AGE_''25''\", \"AGE_''26''\" AS \"AGE_''26''\", \"AGE_''27''\" AS \"AGE_''27''\", \"AGE_''28''\" AS \"AGE_''28''\", \"AGE_''29''\" AS \"AGE_''29''\", \"AGE_''30''\" AS \"AGE_''30''\", \"AGE_''31''\" AS \"AGE_''31''\", \"AGE_''32''\" AS \"AGE_''32''\", \"AGE_''33''\" AS \"AGE_''33''\", \"AGE_''34''\" AS \"AGE_''34''\", \"AGE_''35''\" AS \"AGE_''35''\", \"AGE_''36''\" AS \"AGE_''36''\", \"AGE_''37''\" AS \"AGE_''37''\", \"AGE_''38''\" AS \"AGE_''38''\", \"AGE_''39''\" AS \"AGE_''39''\", \"AGE_''40''\" AS \"AGE_''40''\", \"AGE_''41''\" AS \"AGE_''41''\", \"AGE_''42''\" AS \"AGE_''42''\", \"AGE_''43''\" AS \"AGE_''43''\", \"AGE_''44''\" AS \"AGE_''44''\", \"AGE_''45''\" AS \"AGE_''45''\", \"AGE_''46''\" AS \"AGE_''46''\", \"AGE_''47''\" AS \"AGE_''47''\", \"AGE_''48''\" AS \"AGE_''48''\", \"AGE_''49''\" AS \"AGE_''49''\", \"AGE_''50''\" AS \"AGE_''50''\", \"AGE_''51''\" AS \"AGE_''51''\", \"AGE_''52''\" AS \"AGE_''52''\", \"AGE_''53''\" AS \"AGE_''53''\", \"AGE_''54''\" AS \"AGE_''54''\", \"AGE_''55''\" AS \"AGE_''55''\", \"AGE_''56''\" AS \"AGE_''56''\", \"AGE_''57''\" AS \"AGE_''57''\", \"AGE_''58''\" AS \"AGE_''58''\", \"AGE_''59''\" AS \"AGE_''59''\", \"AGE_''60''\" AS \"AGE_''60''\", \"AGE_''61''\" AS \"AGE_''61''\", \"AGE_''62''\" AS \"AGE_''62''\", \"AGE_''63''\" AS \"AGE_''63''\", \"AGE_''64''\" AS \"AGE_''64''\", \"AGE_''65''\" AS \"AGE_''65''\", \"AGE_''66''\" AS \"AGE_''66''\", \"AGE_''67''\" AS \"AGE_''67''\", \"AGE_''68''\" AS \"AGE_''68''\", \"AGE_''69''\" AS \"AGE_''69''\", \"AGE_''70''\" AS \"AGE_''70''\", \"AGE_''71''\" AS \"AGE_''71''\", \"AGE_''72''\" AS \"AGE_''72''\", \"AGE_''73''\" AS \"AGE_''73''\", \"AGE_''74''\" AS \"AGE_''74''\", \"AGE_''75''\" AS \"AGE_''75''\", \"AGE_''76''\" AS \"AGE_''76''\", \"AGE_''77''\" AS \"AGE_''77''\", \"AGE_''78''\" AS \"AGE_''78''\", \"AGE_''79''\" AS \"AGE_''79''\", \"AGE_''80''\" AS \"AGE_''80''\", \"AGE_''81''\" AS \"AGE_''81''\", \"AGE_''82''\" AS \"AGE_''82''\", \"AGE_''83''\" AS \"AGE_''83''\", \"AGE_''84''\" AS \"AGE_''84''\", \"AGE_''85''\" AS \"AGE_''85''\", \"AGE_''86''\" AS \"AGE_''86''\", \"AGE_''88''\" AS \"AGE_''88''\", \"AGE_''89''\" AS \"AGE_''89''\", \"AGE_''91''\" AS \"AGE_''91''\", \"AGE_''92''\" AS \"AGE_''92''\", \"AGE_''94''\" AS \"AGE_''94''\", \"AGE_''95''\" AS \"AGE_''95''\", \"AGE_''98''\" AS \"AGE_''98''\", \"CAMPAIGN_''1''\" AS \"CAMPAIGN_''1''\", \"CAMPAIGN_''10''\" AS \"CAMPAIGN_''10''\", \"CAMPAIGN_''11''\" AS \"CAMPAIGN_''11''\", \"CAMPAIGN_''12''\" AS \"CAMPAIGN_''12''\", \"CAMPAIGN_''13''\" AS \"CAMPAIGN_''13''\", \"CAMPAIGN_''14''\" AS \"CAMPAIGN_''14''\", \"CAMPAIGN_''15''\" AS \"CAMPAIGN_''15''\", \"CAMPAIGN_''16''\" AS \"CAMPAIGN_''16''\", \"CAMPAIGN_''17''\" AS \"CAMPAIGN_''17''\", \"CAMPAIGN_''18''\" AS \"CAMPAIGN_''18''\", \"CAMPAIGN_''19''\" AS \"CAMPAIGN_''19''\", \"CAMPAIGN_''2''\" AS \"CAMPAIGN_''2''\", \"CAMPAIGN_''20''\" AS \"CAMPAIGN_''20''\", \"CAMPAIGN_''21''\" AS \"CAMPAIGN_''21''\", \"CAMPAIGN_''22''\" AS \"CAMPAIGN_''22''\", \"CAMPAIGN_''23''\" AS \"CAMPAIGN_''23''\", \"CAMPAIGN_''24''\" AS \"CAMPAIGN_''24''\", \"CAMPAIGN_''25''\" AS \"CAMPAIGN_''25''\", \"CAMPAIGN_''26''\" AS \"CAMPAIGN_''26''\", \"CAMPAIGN_''27''\" AS \"CAMPAIGN_''27''\", \"CAMPAIGN_''28''\" AS \"CAMPAIGN_''28''\", \"CAMPAIGN_''29''\" AS \"CAMPAIGN_''29''\", \"CAMPAIGN_''3''\" AS \"CAMPAIGN_''3''\", \"CAMPAIGN_''30''\" AS \"CAMPAIGN_''30''\", \"CAMPAIGN_''31''\" AS \"CAMPAIGN_''31''\", \"CAMPAIGN_''32''\" AS \"CAMPAIGN_''32''\", \"CAMPAIGN_''33''\" AS \"CAMPAIGN_''33''\", \"CAMPAIGN_''34''\" AS \"CAMPAIGN_''34''\", \"CAMPAIGN_''35''\" AS \"CAMPAIGN_''35''\", \"CAMPAIGN_''37''\" AS \"CAMPAIGN_''37''\", \"CAMPAIGN_''39''\" AS \"CAMPAIGN_''39''\", \"CAMPAIGN_''4''\" AS \"CAMPAIGN_''4''\", \"CAMPAIGN_''40''\" AS \"CAMPAIGN_''40''\", \"CAMPAIGN_''41''\" AS \"CAMPAIGN_''41''\", \"CAMPAIGN_''42''\" AS \"CAMPAIGN_''42''\", \"CAMPAIGN_''43''\" AS \"CAMPAIGN_''43''\", \"CAMPAIGN_''5''\" AS \"CAMPAIGN_''5''\", \"CAMPAIGN_''56''\" AS \"CAMPAIGN_''56''\", \"CAMPAIGN_''6''\" AS \"CAMPAIGN_''6''\", \"CAMPAIGN_''7''\" AS \"CAMPAIGN_''7''\", \"CAMPAIGN_''8''\" AS \"CAMPAIGN_''8''\", \"CAMPAIGN_''9''\" AS \"CAMPAIGN_''9''\", \"CONTACT_''cellular''\" AS \"CONTACT_''cellular''\", \"CONTACT_''telephone''\" AS \"CONTACT_''telephone''\", \"DAY_OF_WEEK_''fri''\" AS \"DAY_OF_WEEK_''fri''\", \"DAY_OF_WEEK_''mon''\" AS \"DAY_OF_WEEK_''mon''\", \"DAY_OF_WEEK_''thu''\" AS \"DAY_OF_WEEK_''thu''\", \"DAY_OF_WEEK_''tue''\" AS \"DAY_OF_WEEK_''tue''\", \"DAY_OF_WEEK_''wed''\" AS \"DAY_OF_WEEK_''wed''\", \"DEFAULT_''no''\" AS \"DEFAULT_''no''\", \"DEFAULT_''unknown''\" AS \"DEFAULT_''unknown''\", \"DEFAULT_''yes''\" AS \"DEFAULT_''yes''\", \"EDUCATION_''basic.4y''\" AS \"EDUCATION_''basic.4y''\", \"EDUCATION_''basic.6y''\" AS \"EDUCATION_''basic.6y''\", \"EDUCATION_''basic.9y''\" AS \"EDUCATION_''basic.9y''\", \"EDUCATION_''high.school''\" AS \"EDUCATION_''high.school''\", \"EDUCATION_''illiterate''\" AS \"EDUCATION_''illiterate''\", \"EDUCATION_''professional.course''\" AS \"EDUCATION_''professional.course''\", \"EDUCATION_''university.degree''\" AS \"EDUCATION_''university.degree''\", \"EDUCATION_''unknown''\" AS \"EDUCATION_''unknown''\", \"HOUSING_''no''\" AS \"HOUSING_''no''\", \"HOUSING_''unknown''\" AS \"HOUSING_''unknown''\", \"HOUSING_''yes''\" AS \"HOUSING_''yes''\", \"JOB_''admin.''\" AS \"JOB_''admin.''\", \"JOB_''blue-collar''\" AS \"JOB_''blue-collar''\", \"JOB_''entrepreneur''\" AS \"JOB_''entrepreneur''\", \"JOB_''housemaid''\" AS \"JOB_''housemaid''\", \"JOB_''management''\" AS \"JOB_''management''\", \"JOB_''retired''\" AS \"JOB_''retired''\", \"JOB_''self-employed''\" AS \"JOB_''self-employed''\", \"JOB_''services''\" AS \"JOB_''services''\", \"JOB_''student''\" AS \"JOB_''student''\", \"JOB_''technician''\" AS \"JOB_''technician''\", \"JOB_''unemployed''\" AS \"JOB_''unemployed''\", \"JOB_''unknown''\" AS \"JOB_''unknown''\", \"LOAN_''no''\" AS \"LOAN_''no''\", \"LOAN_''unknown''\" AS \"LOAN_''unknown''\", \"LOAN_''yes''\" AS \"LOAN_''yes''\", \"MARITAL_''divorced''\" AS \"MARITAL_''divorced''\", \"MARITAL_''married''\" AS \"MARITAL_''married''\", \"MARITAL_''single''\" AS \"MARITAL_''single''\", \"MARITAL_''unknown''\" AS \"MARITAL_''unknown''\" FROM ( SELECT  *  FROM (( SELECT \"AGE\" AS \"AGE\", \"JOB\" AS \"JOB\", \"MARITAL\" AS \"MARITAL\", \"EDUCATION\" AS \"EDUCATION\", \"DEFAULT\" AS \"DEFAULT\", \"HOUSING\" AS \"HOUSING\", \"LOAN\" AS \"LOAN\", \"CONTACT\" AS \"CONTACT\", \"MONTH\" AS \"MONTH\", \"DAY_OF_WEEK\" AS \"DAY_OF_WEEK\", \"DURATION\" AS \"DURATION\", \"CAMPAIGN\" AS \"CAMPAIGN\", \"PDAYS\" AS \"PDAYS\", \"PREVIOUS\" AS \"PREVIOUS\", \"POUTCOME\" AS \"POUTCOME\", \"EMP_VAR_RATE\" AS \"EMP_VAR_RATE\", \"CONS_PRICE_IDX\" AS \"CONS_PRICE_IDX\", \"CONS_CONF_IDX\" AS \"CONS_CONF_IDX\", \"EURIBOR3M\" AS \"EURIBOR3M\", \"NR_EMPLOYED\" AS \"NR_EMPLOYED\", \"LABEL\" AS \"LABEL\", \"AGE_''17''\" AS \"AGE_''17''\", \"AGE_''18''\" AS \"AGE_''18''\", \"AGE_''19''\" AS \"AGE_''19''\", \"AGE_''20''\" AS \"AGE_''20''\", \"AGE_''21''\" AS \"AGE_''21''\", \"AGE_''22''\" AS \"AGE_''22''\", \"AGE_''23''\" AS \"AGE_''23''\", \"AGE_''24''\" AS \"AGE_''24''\", \"AGE_''25''\" AS \"AGE_''25''\", \"AGE_''26''\" AS \"AGE_''26''\", \"AGE_''27''\" AS \"AGE_''27''\", \"AGE_''28''\" AS \"AGE_''28''\", \"AGE_''29''\" AS \"AGE_''29''\", \"AGE_''30''\" AS \"AGE_''30''\", \"AGE_''31''\" AS \"AGE_''31''\", \"AGE_''32''\" AS \"AGE_''32''\", \"AGE_''33''\" AS \"AGE_''33''\", \"AGE_''34''\" AS \"AGE_''34''\", \"AGE_''35''\" AS \"AGE_''35''\", \"AGE_''36''\" AS \"AGE_''36''\", \"AGE_''37''\" AS \"AGE_''37''\", \"AGE_''38''\" AS \"AGE_''38''\", \"AGE_''39''\" AS \"AGE_''39''\", \"AGE_''40''\" AS \"AGE_''40''\", \"AGE_''41''\" AS \"AGE_''41''\", \"AGE_''42''\" AS \"AGE_''42''\", \"AGE_''43''\" AS \"AGE_''43''\", \"AGE_''44''\" AS \"AGE_''44''\", \"AGE_''45''\" AS \"AGE_''45''\", \"AGE_''46''\" AS \"AGE_''46''\", \"AGE_''47''\" AS \"AGE_''47''\", \"AGE_''48''\" AS \"AGE_''48''\", \"AGE_''49''\" AS \"AGE_''49''\", \"AGE_''50''\" AS \"AGE_''50''\", \"AGE_''51''\" AS \"AGE_''51''\", \"AGE_''52''\" AS \"AGE_''52''\", \"AGE_''53''\" AS \"AGE_''53''\", \"AGE_''54''\" AS \"AGE_''54''\", \"AGE_''55''\" AS \"AGE_''55''\", \"AGE_''56''\" AS \"AGE_''56''\", \"AGE_''57''\" AS \"AGE_''57''\", \"AGE_''58''\" AS \"AGE_''58''\", \"AGE_''59''\" AS \"AGE_''59''\", \"AGE_''60''\" AS \"AGE_''60''\", \"AGE_''61''\" AS \"AGE_''61''\", \"AGE_''62''\" AS \"AGE_''62''\", \"AGE_''63''\" AS \"AGE_''63''\", \"AGE_''64''\" AS \"AGE_''64''\", \"AGE_''65''\" AS \"AGE_''65''\", \"AGE_''66''\" AS \"AGE_''66''\", \"AGE_''67''\" AS \"AGE_''67''\", \"AGE_''68''\" AS \"AGE_''68''\", \"AGE_''69''\" AS \"AGE_''69''\", \"AGE_''70''\" AS \"AGE_''70''\", \"AGE_''71''\" AS \"AGE_''71''\", \"AGE_''72''\" AS \"AGE_''72''\", \"AGE_''73''\" AS \"AGE_''73''\", \"AGE_''74''\" AS \"AGE_''74''\", \"AGE_''75''\" AS \"AGE_''75''\", \"AGE_''76''\" AS \"AGE_''76''\", \"AGE_''77''\" AS \"AGE_''77''\", \"AGE_''78''\" AS \"AGE_''78''\", \"AGE_''79''\" AS \"AGE_''79''\", \"AGE_''80''\" AS \"AGE_''80''\", \"AGE_''81''\" AS \"AGE_''81''\", \"AGE_''82''\" AS \"AGE_''82''\", \"AGE_''83''\" AS \"AGE_''83''\", \"AGE_''84''\" AS \"AGE_''84''\", \"AGE_''85''\" AS \"AGE_''85''\", \"AGE_''86''\" AS \"AGE_''86''\", \"AGE_''88''\" AS \"AGE_''88''\", \"AGE_''89''\" AS \"AGE_''89''\", \"AGE_''91''\" AS \"AGE_''91''\", \"AGE_''92''\" AS \"AGE_''92''\", \"AGE_''94''\" AS \"AGE_''94''\", \"AGE_''95''\" AS \"AGE_''95''\", \"AGE_''98''\" AS \"AGE_''98''\", \"CAMPAIGN_''1''\" AS \"CAMPAIGN_''1''\", \"CAMPAIGN_''10''\" AS \"CAMPAIGN_''10''\", \"CAMPAIGN_''11''\" AS \"CAMPAIGN_''11''\", \"CAMPAIGN_''12''\" AS \"CAMPAIGN_''12''\", \"CAMPAIGN_''13''\" AS \"CAMPAIGN_''13''\", \"CAMPAIGN_''14''\" AS \"CAMPAIGN_''14''\", \"CAMPAIGN_''15''\" AS \"CAMPAIGN_''15''\", \"CAMPAIGN_''16''\" AS \"CAMPAIGN_''16''\", \"CAMPAIGN_''17''\" AS \"CAMPAIGN_''17''\", \"CAMPAIGN_''18''\" AS \"CAMPAIGN_''18''\", \"CAMPAIGN_''19''\" AS \"CAMPAIGN_''19''\", \"CAMPAIGN_''2''\" AS \"CAMPAIGN_''2''\", \"CAMPAIGN_''20''\" AS \"CAMPAIGN_''20''\", \"CAMPAIGN_''21''\" AS \"CAMPAIGN_''21''\", \"CAMPAIGN_''22''\" AS \"CAMPAIGN_''22''\", \"CAMPAIGN_''23''\" AS \"CAMPAIGN_''23''\", \"CAMPAIGN_''24''\" AS \"CAMPAIGN_''24''\", \"CAMPAIGN_''25''\" AS \"CAMPAIGN_''25''\", \"CAMPAIGN_''26''\" AS \"CAMPAIGN_''26''\", \"CAMPAIGN_''27''\" AS \"CAMPAIGN_''27''\", \"CAMPAIGN_''28''\" AS \"CAMPAIGN_''28''\", \"CAMPAIGN_''29''\" AS \"CAMPAIGN_''29''\", \"CAMPAIGN_''3''\" AS \"CAMPAIGN_''3''\", \"CAMPAIGN_''30''\" AS \"CAMPAIGN_''30''\", \"CAMPAIGN_''31''\" AS \"CAMPAIGN_''31''\", \"CAMPAIGN_''32''\" AS \"CAMPAIGN_''32''\", \"CAMPAIGN_''33''\" AS \"CAMPAIGN_''33''\", \"CAMPAIGN_''34''\" AS \"CAMPAIGN_''34''\", \"CAMPAIGN_''35''\" AS \"CAMPAIGN_''35''\", \"CAMPAIGN_''37''\" AS \"CAMPAIGN_''37''\", \"CAMPAIGN_''39''\" AS \"CAMPAIGN_''39''\", \"CAMPAIGN_''4''\" AS \"CAMPAIGN_''4''\", \"CAMPAIGN_''40''\" AS \"CAMPAIGN_''40''\", \"CAMPAIGN_''41''\" AS \"CAMPAIGN_''41''\", \"CAMPAIGN_''42''\" AS \"CAMPAIGN_''42''\", \"CAMPAIGN_''43''\" AS \"CAMPAIGN_''43''\", \"CAMPAIGN_''5''\" AS \"CAMPAIGN_''5''\", \"CAMPAIGN_''56''\" AS \"CAMPAIGN_''56''\", \"CAMPAIGN_''6''\" AS \"CAMPAIGN_''6''\", \"CAMPAIGN_''7''\" AS \"CAMPAIGN_''7''\", \"CAMPAIGN_''8''\" AS \"CAMPAIGN_''8''\", \"CAMPAIGN_''9''\" AS \"CAMPAIGN_''9''\", \"CONTACT_''cellular''\" AS \"CONTACT_''cellular''\", \"CONTACT_''telephone''\" AS \"CONTACT_''telephone''\", \"DAY_OF_WEEK_''fri''\" AS \"DAY_OF_WEEK_''fri''\", \"DAY_OF_WEEK_''mon''\" AS \"DAY_OF_WEEK_''mon''\", \"DAY_OF_WEEK_''thu''\" AS \"DAY_OF_WEEK_''thu''\", \"DAY_OF_WEEK_''tue''\" AS \"DAY_OF_WEEK_''tue''\", \"DAY_OF_WEEK_''wed''\" AS \"DAY_OF_WEEK_''wed''\", \"DEFAULT_''no''\" AS \"DEFAULT_''no''\", \"DEFAULT_''unknown''\" AS \"DEFAULT_''unknown''\", \"DEFAULT_''yes''\" AS \"DEFAULT_''yes''\", \"EDUCATION_''basic.4y''\" AS \"EDUCATION_''basic.4y''\", \"EDUCATION_''basic.6y''\" AS \"EDUCATION_''basic.6y''\", \"EDUCATION_''basic.9y''\" AS \"EDUCATION_''basic.9y''\", \"EDUCATION_''high.school''\" AS \"EDUCATION_''high.school''\", \"EDUCATION_''illiterate''\" AS \"EDUCATION_''illiterate''\", \"EDUCATION_''professional.course''\" AS \"EDUCATION_''professional.course''\", \"EDUCATION_''university.degree''\" AS \"EDUCATION_''university.degree''\", \"EDUCATION_''unknown''\" AS \"EDUCATION_''unknown''\", \"HOUSING_''no''\" AS \"HOUSING_''no''\", \"HOUSING_''unknown''\" AS \"HOUSING_''unknown''\", \"HOUSING_''yes''\" AS \"HOUSING_''yes''\", \"JOB_''admin.''\" AS \"JOB_''admin.''\", \"JOB_''blue-collar''\" AS \"JOB_''blue-collar''\", \"JOB_''entrepreneur''\" AS \"JOB_''entrepreneur''\", \"JOB_''housemaid''\" AS \"JOB_''housemaid''\", \"JOB_''management''\" AS \"JOB_''management''\", \"JOB_''retired''\" AS \"JOB_''retired''\", \"JOB_''self-employed''\" AS \"JOB_''self-employed''\", \"JOB_''services''\" AS \"JOB_''services''\", \"JOB_''student''\" AS \"JOB_''student''\", \"JOB_''technician''\" AS \"JOB_''technician''\", \"JOB_''unemployed''\" AS \"JOB_''unemployed''\", \"JOB_''unknown''\" AS \"JOB_''unknown''\", \"LOAN_''no''\" AS \"LOAN_''no''\", \"LOAN_''unknown''\" AS \"LOAN_''unknown''\", \"LOAN_''yes''\" AS \"LOAN_''yes''\" FROM ( SELECT  *  FROM (( SELECT \"AGE\" AS \"AGE\", \"JOB\" AS \"JOB\", \"MARITAL\" AS \"MARITAL\", \"EDUCATION\" AS \"EDUCATION\", \"DEFAULT\" AS \"DEFAULT\", \"HOUSING\" AS \"HOUSING\", \"LOAN\" AS \"LOAN\", \"CONTACT\" AS \"CONTACT\", \"MONTH\" AS \"MONTH\", \"DAY_OF_WEEK\" AS \"DAY_OF_WEEK\", \"DURATION\" AS \"DURATION\", \"CAMPAIGN\" AS \"CAMPAIGN\", \"PDAYS\" AS \"PDAYS\", \"PREVIOUS\" AS \"PREVIOUS\", \"POUTCOME\" AS \"POUTCOME\", \"EMP_VAR_RATE\" AS \"EMP_VAR_RATE\", \"CONS_PRICE_IDX\" AS \"CONS_PRICE_IDX\", \"CONS_CONF_IDX\" AS \"CONS_CONF_IDX\", \"EURIBOR3M\" AS \"EURIBOR3M\", \"NR_EMPLOYED\" AS \"NR_EMPLOYED\", \"LABEL\" AS \"LABEL\", \"AGE_''17''\" AS \"AGE_''17''\", \"AGE_''18''\" AS \"AGE_''18''\", \"AGE_''19''\" AS \"AGE_''19''\", \"AGE_''20''\" AS \"AGE_''20''\", \"AGE_''21''\" AS \"AGE_''21''\", \"AGE_''22''\" AS \"AGE_''22''\", \"AGE_''23''\" AS \"AGE_''23''\", \"AGE_''24''\" AS \"AGE_''24''\", \"AGE_''25''\" AS \"AGE_''25''\", \"AGE_''26''\" AS \"AGE_''26''\", \"AGE_''27''\" AS \"AGE_''27''\", \"AGE_''28''\" AS \"AGE_''28''\", \"AGE_''29''\" AS \"AGE_''29''\", \"AGE_''30''\" AS \"AGE_''30''\", \"AGE_''31''\" AS \"AGE_''31''\", \"AGE_''32''\" AS \"AGE_''32''\", \"AGE_''33''\" AS \"AGE_''33''\", \"AGE_''34''\" AS \"AGE_''34''\", \"AGE_''35''\" AS \"AGE_''35''\", \"AGE_''36''\" AS \"AGE_''36''\", \"AGE_''37''\" AS \"AGE_''37''\", \"AGE_''38''\" AS \"AGE_''38''\", \"AGE_''39''\" AS \"AGE_''39''\", \"AGE_''40''\" AS \"AGE_''40''\", \"AGE_''41''\" AS \"AGE_''41''\", \"AGE_''42''\" AS \"AGE_''42''\", \"AGE_''43''\" AS \"AGE_''43''\", \"AGE_''44''\" AS \"AGE_''44''\", \"AGE_''45''\" AS \"AGE_''45''\", \"AGE_''46''\" AS \"AGE_''46''\", \"AGE_''47''\" AS \"AGE_''47''\", \"AGE_''48''\" AS \"AGE_''48''\", \"AGE_''49''\" AS \"AGE_''49''\", \"AGE_''50''\" AS \"AGE_''50''\", \"AGE_''51''\" AS \"AGE_''51''\", \"AGE_''52''\" AS \"AGE_''52''\", \"AGE_''53''\" AS \"AGE_''53''\", \"AGE_''54''\" AS \"AGE_''54''\", \"AGE_''55''\" AS \"AGE_''55''\", \"AGE_''56''\" AS \"AGE_''56''\", \"AGE_''57''\" AS \"AGE_''57''\", \"AGE_''58''\" AS \"AGE_''58''\", \"AGE_''59''\" AS \"AGE_''59''\", \"AGE_''60''\" AS \"AGE_''60''\", \"AGE_''61''\" AS \"AGE_''61''\", \"AGE_''62''\" AS \"AGE_''62''\", \"AGE_''63''\" AS \"AGE_''63''\", \"AGE_''64''\" AS \"AGE_''64''\", \"AGE_''65''\" AS \"AGE_''65''\", \"AGE_''66''\" AS \"AGE_''66''\", \"AGE_''67''\" AS \"AGE_''67''\", \"AGE_''68''\" AS \"AGE_''68''\", \"AGE_''69''\" AS \"AGE_''69''\", \"AGE_''70''\" AS \"AGE_''70''\", \"AGE_''71''\" AS \"AGE_''71''\", \"AGE_''72''\" AS \"AGE_''72''\", \"AGE_''73''\" AS \"AGE_''73''\", \"AGE_''74''\" AS \"AGE_''74''\", \"AGE_''75''\" AS \"AGE_''75''\", \"AGE_''76''\" AS \"AGE_''76''\", \"AGE_''77''\" AS \"AGE_''77''\", \"AGE_''78''\" AS \"AGE_''78''\", \"AGE_''79''\" AS \"AGE_''79''\", \"AGE_''80''\" AS \"AGE_''80''\", \"AGE_''81''\" AS \"AGE_''81''\", \"AGE_''82''\" AS \"AGE_''82''\", \"AGE_''83''\" AS \"AGE_''83''\", \"AGE_''84''\" AS \"AGE_''84''\", \"AGE_''85''\" AS \"AGE_''85''\", \"AGE_''86''\" AS \"AGE_''86''\", \"AGE_''88''\" AS \"AGE_''88''\", \"AGE_''89''\" AS \"AGE_''89''\", \"AGE_''91''\" AS \"AGE_''91''\", \"AGE_''92''\" AS \"AGE_''92''\", \"AGE_''94''\" AS \"AGE_''94''\", \"AGE_''95''\" AS \"AGE_''95''\", \"AGE_''98''\" AS \"AGE_''98''\", \"CAMPAIGN_''1''\" AS \"CAMPAIGN_''1''\", \"CAMPAIGN_''10''\" AS \"CAMPAIGN_''10''\", \"CAMPAIGN_''11''\" AS \"CAMPAIGN_''11''\", \"CAMPAIGN_''12''\" AS \"CAMPAIGN_''12''\", \"CAMPAIGN_''13''\" AS \"CAMPAIGN_''13''\", \"CAMPAIGN_''14''\" AS \"CAMPAIGN_''14''\", \"CAMPAIGN_''15''\" AS \"CAMPAIGN_''15''\", \"CAMPAIGN_''16''\" AS \"CAMPAIGN_''16''\", \"CAMPAIGN_''17''\" AS \"CAMPAIGN_''17''\", \"CAMPAIGN_''18''\" AS \"CAMPAIGN_''18''\", \"CAMPAIGN_''19''\" AS \"CAMPAIGN_''19''\", \"CAMPAIGN_''2''\" AS \"CAMPAIGN_''2''\", \"CAMPAIGN_''20''\" AS \"CAMPAIGN_''20''\", \"CAMPAIGN_''21''\" AS \"CAMPAIGN_''21''\", \"CAMPAIGN_''22''\" AS \"CAMPAIGN_''22''\", \"CAMPAIGN_''23''\" AS \"CAMPAIGN_''23''\", \"CAMPAIGN_''24''\" AS \"CAMPAIGN_''24''\", \"CAMPAIGN_''25''\" AS \"CAMPAIGN_''25''\", \"CAMPAIGN_''26''\" AS \"CAMPAIGN_''26''\", \"CAMPAIGN_''27''\" AS \"CAMPAIGN_''27''\", \"CAMPAIGN_''28''\" AS \"CAMPAIGN_''28''\", \"CAMPAIGN_''29''\" AS \"CAMPAIGN_''29''\", \"CAMPAIGN_''3''\" AS \"CAMPAIGN_''3''\", \"CAMPAIGN_''30''\" AS \"CAMPAIGN_''30''\", \"CAMPAIGN_''31''\" AS \"CAMPAIGN_''31''\", \"CAMPAIGN_''32''\" AS \"CAMPAIGN_''32''\", \"CAMPAIGN_''33''\" AS \"CAMPAIGN_''33''\", \"CAMPAIGN_''34''\" AS \"CAMPAIGN_''34''\", \"CAMPAIGN_''35''\" AS \"CAMPAIGN_''35''\", \"CAMPAIGN_''37''\" AS \"CAMPAIGN_''37''\", \"CAMPAIGN_''39''\" AS \"CAMPAIGN_''39''\", \"CAMPAIGN_''4''\" AS \"CAMPAIGN_''4''\", \"CAMPAIGN_''40''\" AS \"CAMPAIGN_''40''\", \"CAMPAIGN_''41''\" AS \"CAMPAIGN_''41''\", \"CAMPAIGN_''42''\" AS \"CAMPAIGN_''42''\", \"CAMPAIGN_''43''\" AS \"CAMPAIGN_''43''\", \"CAMPAIGN_''5''\" AS \"CAMPAIGN_''5''\", \"CAMPAIGN_''56''\" AS \"CAMPAIGN_''56''\", \"CAMPAIGN_''6''\" AS \"CAMPAIGN_''6''\", \"CAMPAIGN_''7''\" AS \"CAMPAIGN_''7''\", \"CAMPAIGN_''8''\" AS \"CAMPAIGN_''8''\", \"CAMPAIGN_''9''\" AS \"CAMPAIGN_''9''\", \"CONTACT_''cellular''\" AS \"CONTACT_''cellular''\", \"CONTACT_''telephone''\" AS \"CONTACT_''telephone''\", \"DAY_OF_WEEK_''fri''\" AS \"DAY_OF_WEEK_''fri''\", \"DAY_OF_WEEK_''mon''\" AS \"DAY_OF_WEEK_''mon''\", \"DAY_OF_WEEK_''thu''\" AS \"DAY_OF_WEEK_''thu''\", \"DAY_OF_WEEK_''tue''\" AS \"DAY_OF_WEEK_''tue''\", \"DAY_OF_WEEK_''wed''\" AS \"DAY_OF_WEEK_''wed''\", \"DEFAULT_''no''\" AS \"DEFAULT_''no''\", \"DEFAULT_''unknown''\" AS \"DEFAULT_''unknown''\", \"DEFAULT_''yes''\" AS \"DEFAULT_''yes''\", \"EDUCATION_''basic.4y''\" AS \"EDUCATION_''basic.4y''\", \"EDUCATION_''basic.6y''\" AS \"EDUCATION_''basic.6y''\", \"EDUCATION_''basic.9y''\" AS \"EDUCATION_''basic.9y''\", \"EDUCATION_''high.school''\" AS \"EDUCATION_''high.school''\", \"EDUCATION_''illiterate''\" AS \"EDUCATION_''illiterate''\", \"EDUCATION_''professional.course''\" AS \"EDUCATION_''professional.course''\", \"EDUCATION_''university.degree''\" AS \"EDUCATION_''university.degree''\", \"EDUCATION_''unknown''\" AS \"EDUCATION_''unknown''\", \"HOUSING_''no''\" AS \"HOUSING_''no''\", \"HOUSING_''unknown''\" AS \"HOUSING_''unknown''\", \"HOUSING_''yes''\" AS \"HOUSING_''yes''\", \"JOB_''admin.''\" AS \"JOB_''admin.''\", \"JOB_''blue-collar''\" AS \"JOB_''blue-collar''\", \"JOB_''entrepreneur''\" AS \"JOB_''entrepreneur''\", \"JOB_''housemaid''\" AS \"JOB_''housemaid''\", \"JOB_''management''\" AS \"JOB_''management''\", \"JOB_''retired''\" AS \"JOB_''retired''\", \"JOB_''self-employed''\" AS \"JOB_''self-employed''\", \"JOB_''services''\" AS \"JOB_''services''\", \"JOB_''student''\" AS \"JOB_''student''\", \"JOB_''technician''\" AS \"JOB_''technician''\", \"JOB_''unemployed''\" AS \"JOB_''unemployed''\", \"JOB_''unknown''\" AS \"JOB_''unknown''\" FROM ( SELECT  *  FROM (( SELECT \"AGE\" AS \"AGE\", \"JOB\" AS \"JOB\", \"MARITAL\" AS \"MARITAL\", \"EDUCATION\" AS \"EDUCATION\", \"DEFAULT\" AS \"DEFAULT\", \"HOUSING\" AS \"HOUSING\", \"LOAN\" AS \"LOAN\", \"CONTACT\" AS \"CONTACT\", \"MONTH\" AS \"MONTH\", \"DAY_OF_WEEK\" AS \"DAY_OF_WEEK\", \"DURATION\" AS \"DURATION\", \"CAMPAIGN\" AS \"CAMPAIGN\", \"PDAYS\" AS \"PDAYS\", \"PREVIOUS\" AS \"PREVIOUS\", \"POUTCOME\" AS \"POUTCOME\", \"EMP_VAR_RATE\" AS \"EMP_VAR_RATE\", \"CONS_PRICE_IDX\" AS \"CONS_PRICE_IDX\", \"CONS_CONF_IDX\" AS \"CONS_CONF_IDX\", \"EURIBOR3M\" AS \"EURIBOR3M\", \"NR_EMPLOYED\" AS \"NR_EMPLOYED\", \"LABEL\" AS \"LABEL\", \"AGE_''17''\" AS \"AGE_''17''\", \"AGE_''18''\" AS \"AGE_''18''\", \"AGE_''19''\" AS \"AGE_''19''\", \"AGE_''20''\" AS \"AGE_''20''\", \"AGE_''21''\" AS \"AGE_''21''\", \"AGE_''22''\" AS \"AGE_''22''\", \"AGE_''23''\" AS \"AGE_''23''\", \"AGE_''24''\" AS \"AGE_''24''\", \"AGE_''25''\" AS \"AGE_''25''\", \"AGE_''26''\" AS \"AGE_''26''\", \"AGE_''27''\" AS \"AGE_''27''\", \"AGE_''28''\" AS \"AGE_''28''\", \"AGE_''29''\" AS \"AGE_''29''\", \"AGE_''30''\" AS \"AGE_''30''\", \"AGE_''31''\" AS \"AGE_''31''\", \"AGE_''32''\" AS \"AGE_''32''\", \"AGE_''33''\" AS \"AGE_''33''\", \"AGE_''34''\" AS \"AGE_''34''\", \"AGE_''35''\" AS \"AGE_''35''\", \"AGE_''36''\" AS \"AGE_''36''\", \"AGE_''37''\" AS \"AGE_''37''\", \"AGE_''38''\" AS \"AGE_''38''\", \"AGE_''39''\" AS \"AGE_''39''\", \"AGE_''40''\" AS \"AGE_''40''\", \"AGE_''41''\" AS \"AGE_''41''\", \"AGE_''42''\" AS \"AGE_''42''\", \"AGE_''43''\" AS \"AGE_''43''\", \"AGE_''44''\" AS \"AGE_''44''\", \"AGE_''45''\" AS \"AGE_''45''\", \"AGE_''46''\" AS \"AGE_''46''\", \"AGE_''47''\" AS \"AGE_''47''\", \"AGE_''48''\" AS \"AGE_''48''\", \"AGE_''49''\" AS \"AGE_''49''\", \"AGE_''50''\" AS \"AGE_''50''\", \"AGE_''51''\" AS \"AGE_''51''\", \"AGE_''52''\" AS \"AGE_''52''\", \"AGE_''53''\" AS \"AGE_''53''\", \"AGE_''54''\" AS \"AGE_''54''\", \"AGE_''55''\" AS \"AGE_''55''\", \"AGE_''56''\" AS \"AGE_''56''\", \"AGE_''57''\" AS \"AGE_''57''\", \"AGE_''58''\" AS \"AGE_''58''\", \"AGE_''59''\" AS \"AGE_''59''\", \"AGE_''60''\" AS \"AGE_''60''\", \"AGE_''61''\" AS \"AGE_''61''\", \"AGE_''62''\" AS \"AGE_''62''\", \"AGE_''63''\" AS \"AGE_''63''\", \"AGE_''64''\" AS \"AGE_''64''\", \"AGE_''65''\" AS \"AGE_''65''\", \"AGE_''66''\" AS \"AGE_''66''\", \"AGE_''67''\" AS \"AGE_''67''\", \"AGE_''68''\" AS \"AGE_''68''\", \"AGE_''69''\" AS \"AGE_''69''\", \"AGE_''70''\" AS \"AGE_''70''\", \"AGE_''71''\" AS \"AGE_''71''\", \"AGE_''72''\" AS \"AGE_''72''\", \"AGE_''73''\" AS \"AGE_''73''\", \"AGE_''74''\" AS \"AGE_''74''\", \"AGE_''75''\" AS \"AGE_''75''\", \"AGE_''76''\" AS \"AGE_''76''\", \"AGE_''77''\" AS \"AGE_''77''\", \"AGE_''78''\" AS \"AGE_''78''\", \"AGE_''79''\" AS \"AGE_''79''\", \"AGE_''80''\" AS \"AGE_''80''\", \"AGE_''81''\" AS \"AGE_''81''\", \"AGE_''82''\" AS \"AGE_''82''\", \"AGE_''83''\" AS \"AGE_''83''\", \"AGE_''84''\" AS \"AGE_''84''\", \"AGE_''85''\" AS \"AGE_''85''\", \"AGE_''86''\" AS \"AGE_''86''\", \"AGE_''88''\" AS \"AGE_''88''\", \"AGE_''89''\" AS \"AGE_''89''\", \"AGE_''91''\" AS \"AGE_''91''\", \"AGE_''92''\" AS \"AGE_''92''\", \"AGE_''94''\" AS \"AGE_''94''\", \"AGE_''95''\" AS \"AGE_''95''\", \"AGE_''98''\" AS \"AGE_''98''\", \"CAMPAIGN_''1''\" AS \"CAMPAIGN_''1''\", \"CAMPAIGN_''10''\" AS \"CAMPAIGN_''10''\", \"CAMPAIGN_''11''\" AS \"CAMPAIGN_''11''\", \"CAMPAIGN_''12''\" AS \"CAMPAIGN_''12''\", \"CAMPAIGN_''13''\" AS \"CAMPAIGN_''13''\", \"CAMPAIGN_''14''\" AS \"CAMPAIGN_''14''\", \"CAMPAIGN_''15''\" AS \"CAMPAIGN_''15''\", \"CAMPAIGN_''16''\" AS \"CAMPAIGN_''16''\", \"CAMPAIGN_''17''\" AS \"CAMPAIGN_''17''\", \"CAMPAIGN_''18''\" AS \"CAMPAIGN_''18''\", \"CAMPAIGN_''19''\" AS \"CAMPAIGN_''19''\", \"CAMPAIGN_''2''\" AS \"CAMPAIGN_''2''\", \"CAMPAIGN_''20''\" AS \"CAMPAIGN_''20''\", \"CAMPAIGN_''21''\" AS \"CAMPAIGN_''21''\", \"CAMPAIGN_''22''\" AS \"CAMPAIGN_''22''\", \"CAMPAIGN_''23''\" AS \"CAMPAIGN_''23''\", \"CAMPAIGN_''24''\" AS \"CAMPAIGN_''24''\", \"CAMPAIGN_''25''\" AS \"CAMPAIGN_''25''\", \"CAMPAIGN_''26''\" AS \"CAMPAIGN_''26''\", \"CAMPAIGN_''27''\" AS \"CAMPAIGN_''27''\", \"CAMPAIGN_''28''\" AS \"CAMPAIGN_''28''\", \"CAMPAIGN_''29''\" AS \"CAMPAIGN_''29''\", \"CAMPAIGN_''3''\" AS \"CAMPAIGN_''3''\", \"CAMPAIGN_''30''\" AS \"CAMPAIGN_''30''\", \"CAMPAIGN_''31''\" AS \"CAMPAIGN_''31''\", \"CAMPAIGN_''32''\" AS \"CAMPAIGN_''32''\", \"CAMPAIGN_''33''\" AS \"CAMPAIGN_''33''\", \"CAMPAIGN_''34''\" AS \"CAMPAIGN_''34''\", \"CAMPAIGN_''35''\" AS \"CAMPAIGN_''35''\", \"CAMPAIGN_''37''\" AS \"CAMPAIGN_''37''\", \"CAMPAIGN_''39''\" AS \"CAMPAIGN_''39''\", \"CAMPAIGN_''4''\" AS \"CAMPAIGN_''4''\", \"CAMPAIGN_''40''\" AS \"CAMPAIGN_''40''\", \"CAMPAIGN_''41''\" AS \"CAMPAIGN_''41''\", \"CAMPAIGN_''42''\" AS \"CAMPAIGN_''42''\", \"CAMPAIGN_''43''\" AS \"CAMPAIGN_''43''\", \"CAMPAIGN_''5''\" AS \"CAMPAIGN_''5''\", \"CAMPAIGN_''56''\" AS \"CAMPAIGN_''56''\", \"CAMPAIGN_''6''\" AS \"CAMPAIGN_''6''\", \"CAMPAIGN_''7''\" AS \"CAMPAIGN_''7''\", \"CAMPAIGN_''8''\" AS \"CAMPAIGN_''8''\", \"CAMPAIGN_''9''\" AS \"CAMPAIGN_''9''\", \"CONTACT_''cellular''\" AS \"CONTACT_''cellular''\", \"CONTACT_''telephone''\" AS \"CONTACT_''telephone''\", \"DAY_OF_WEEK_''fri''\" AS \"DAY_OF_WEEK_''fri''\", \"DAY_OF_WEEK_''mon''\" AS \"DAY_OF_WEEK_''mon''\", \"DAY_OF_WEEK_''thu''\" AS \"DAY_OF_WEEK_''thu''\", \"DAY_OF_WEEK_''tue''\" AS \"DAY_OF_WEEK_''tue''\", \"DAY_OF_WEEK_''wed''\" AS \"DAY_OF_WEEK_''wed''\", \"DEFAULT_''no''\" AS \"DEFAULT_''no''\", \"DEFAULT_''unknown''\" AS \"DEFAULT_''unknown''\", \"DEFAULT_''yes''\" AS \"DEFAULT_''yes''\", \"EDUCATION_''basic.4y''\" AS \"EDUCATION_''basic.4y''\", \"EDUCATION_''basic.6y''\" AS \"EDUCATION_''basic.6y''\", \"EDUCATION_''basic.9y''\" AS \"EDUCATION_''basic.9y''\", \"EDUCATION_''high.school''\" AS \"EDUCATION_''high.school''\", \"EDUCATION_''illiterate''\" AS \"EDUCATION_''illiterate''\", \"EDUCATION_''professional.course''\" AS \"EDUCATION_''professional.course''\", \"EDUCATION_''university.degree''\" AS \"EDUCATION_''university.degree''\", \"EDUCATION_''unknown''\" AS \"EDUCATION_''unknown''\", \"HOUSING_''no''\" AS \"HOUSING_''no''\", \"HOUSING_''unknown''\" AS \"HOUSING_''unknown''\", \"HOUSING_''yes''\" AS \"HOUSING_''yes''\" FROM ( SELECT  *  FROM (( SELECT \"AGE\" AS \"AGE\", \"JOB\" AS \"JOB\", \"MARITAL\" AS \"MARITAL\", \"EDUCATION\" AS \"EDUCATION\", \"DEFAULT\" AS \"DEFAULT\", \"HOUSING\" AS \"HOUSING\", \"LOAN\" AS \"LOAN\", \"CONTACT\" AS \"CONTACT\", \"MONTH\" AS \"MONTH\", \"DAY_OF_WEEK\" AS \"DAY_OF_WEEK\", \"DURATION\" AS \"DURATION\", \"CAMPAIGN\" AS \"CAMPAIGN\", \"PDAYS\" AS \"PDAYS\", \"PREVIOUS\" AS \"PREVIOUS\", \"POUTCOME\" AS \"POUTCOME\", \"EMP_VAR_RATE\" AS \"EMP_VAR_RATE\", \"CONS_PRICE_IDX\" AS \"CONS_PRICE_IDX\", \"CONS_CONF_IDX\" AS \"CONS_CONF_IDX\", \"EURIBOR3M\" AS \"EURIBOR3M\", \"NR_EMPLOYED\" AS \"NR_EMPLOYED\", \"LABEL\" AS \"LABEL\", \"AGE_''17''\" AS \"AGE_''17''\", \"AGE_''18''\" AS \"AGE_''18''\", \"AGE_''19''\" AS \"AGE_''19''\", \"AGE_''20''\" AS \"AGE_''20''\", \"AGE_''21''\" AS \"AGE_''21''\", \"AGE_''22''\" AS \"AGE_''22''\", \"AGE_''23''\" AS \"AGE_''23''\", \"AGE_''24''\" AS \"AGE_''24''\", \"AGE_''25''\" AS \"AGE_''25''\", \"AGE_''26''\" AS \"AGE_''26''\", \"AGE_''27''\" AS \"AGE_''27''\", \"AGE_''28''\" AS \"AGE_''28''\", \"AGE_''29''\" AS \"AGE_''29''\", \"AGE_''30''\" AS \"AGE_''30''\", \"AGE_''31''\" AS \"AGE_''31''\", \"AGE_''32''\" AS \"AGE_''32''\", \"AGE_''33''\" AS \"AGE_''33''\", \"AGE_''34''\" AS \"AGE_''34''\", \"AGE_''35''\" AS \"AGE_''35''\", \"AGE_''36''\" AS \"AGE_''36''\", \"AGE_''37''\" AS \"AGE_''37''\", \"AGE_''38''\" AS \"AGE_''38''\", \"AGE_''39''\" AS \"AGE_''39''\", \"AGE_''40''\" AS \"AGE_''40''\", \"AGE_''41''\" AS \"AGE_''41''\", \"AGE_''42''\" AS \"AGE_''42''\", \"AGE_''43''\" AS \"AGE_''43''\", \"AGE_''44''\" AS \"AGE_''44''\", \"AGE_''45''\" AS \"AGE_''45''\", \"AGE_''46''\" AS \"AGE_''46''\", \"AGE_''47''\" AS \"AGE_''47''\", \"AGE_''48''\" AS \"AGE_''48''\", \"AGE_''49''\" AS \"AGE_''49''\", \"AGE_''50''\" AS \"AGE_''50''\", \"AGE_''51''\" AS \"AGE_''51''\", \"AGE_''52''\" AS \"AGE_''52''\", \"AGE_''53''\" AS \"AGE_''53''\", \"AGE_''54''\" AS \"AGE_''54''\", \"AGE_''55''\" AS \"AGE_''55''\", \"AGE_''56''\" AS \"AGE_''56''\", \"AGE_''57''\" AS \"AGE_''57''\", \"AGE_''58''\" AS \"AGE_''58''\", \"AGE_''59''\" AS \"AGE_''59''\", \"AGE_''60''\" AS \"AGE_''60''\", \"AGE_''61''\" AS \"AGE_''61''\", \"AGE_''62''\" AS \"AGE_''62''\", \"AGE_''63''\" AS \"AGE_''63''\", \"AGE_''64''\" AS \"AGE_''64''\", \"AGE_''65''\" AS \"AGE_''65''\", \"AGE_''66''\" AS \"AGE_''66''\", \"AGE_''67''\" AS \"AGE_''67''\", \"AGE_''68''\" AS \"AGE_''68''\", \"AGE_''69''\" AS \"AGE_''69''\", \"AGE_''70''\" AS \"AGE_''70''\", \"AGE_''71''\" AS \"AGE_''71''\", \"AGE_''72''\" AS \"AGE_''72''\", \"AGE_''73''\" AS \"AGE_''73''\", \"AGE_''74''\" AS \"AGE_''74''\", \"AGE_''75''\" AS \"AGE_''75''\", \"AGE_''76''\" AS \"AGE_''76''\", \"AGE_''77''\" AS \"AGE_''77''\", \"AGE_''78''\" AS \"AGE_''78''\", \"AGE_''79''\" AS \"AGE_''79''\", \"AGE_''80''\" AS \"AGE_''80''\", \"AGE_''81''\" AS \"AGE_''81''\", \"AGE_''82''\" AS \"AGE_''82''\", \"AGE_''83''\" AS \"AGE_''83''\", \"AGE_''84''\" AS \"AGE_''84''\", \"AGE_''85''\" AS \"AGE_''85''\", \"AGE_''86''\" AS \"AGE_''86''\", \"AGE_''88''\" AS \"AGE_''88''\", \"AGE_''89''\" AS \"AGE_''89''\", \"AGE_''91''\" AS \"AGE_''91''\", \"AGE_''92''\" AS \"AGE_''92''\", \"AGE_''94''\" AS \"AGE_''94''\", \"AGE_''95''\" AS \"AGE_''95''\", \"AGE_''98''\" AS \"AGE_''98''\", \"CAMPAIGN_''1''\" AS \"CAMPAIGN_''1''\", \"CAMPAIGN_''10''\" AS \"CAMPAIGN_''10''\", \"CAMPAIGN_''11''\" AS \"CAMPAIGN_''11''\", \"CAMPAIGN_''12''\" AS \"CAMPAIGN_''12''\", \"CAMPAIGN_''13''\" AS \"CAMPAIGN_''13''\", \"CAMPAIGN_''14''\" AS \"CAMPAIGN_''14''\", \"CAMPAIGN_''15''\" AS \"CAMPAIGN_''15''\", \"CAMPAIGN_''16''\" AS \"CAMPAIGN_''16''\", \"CAMPAIGN_''17''\" AS \"CAMPAIGN_''17''\", \"CAMPAIGN_''18''\" AS \"CAMPAIGN_''18''\", \"CAMPAIGN_''19''\" AS \"CAMPAIGN_''19''\", \"CAMPAIGN_''2''\" AS \"CAMPAIGN_''2''\", \"CAMPAIGN_''20''\" AS \"CAMPAIGN_''20''\", \"CAMPAIGN_''21''\" AS \"CAMPAIGN_''21''\", \"CAMPAIGN_''22''\" AS \"CAMPAIGN_''22''\", \"CAMPAIGN_''23''\" AS \"CAMPAIGN_''23''\", \"CAMPAIGN_''24''\" AS \"CAMPAIGN_''24''\", \"CAMPAIGN_''25''\" AS \"CAMPAIGN_''25''\", \"CAMPAIGN_''26''\" AS \"CAMPAIGN_''26''\", \"CAMPAIGN_''27''\" AS \"CAMPAIGN_''27''\", \"CAMPAIGN_''28''\" AS \"CAMPAIGN_''28''\", \"CAMPAIGN_''29''\" AS \"CAMPAIGN_''29''\", \"CAMPAIGN_''3''\" AS \"CAMPAIGN_''3''\", \"CAMPAIGN_''30''\" AS \"CAMPAIGN_''30''\", \"CAMPAIGN_''31''\" AS \"CAMPAIGN_''31''\", \"CAMPAIGN_''32''\" AS \"CAMPAIGN_''32''\", \"CAMPAIGN_''33''\" AS \"CAMPAIGN_''33''\", \"CAMPAIGN_''34''\" AS \"CAMPAIGN_''34''\", \"CAMPAIGN_''35''\" AS \"CAMPAIGN_''35''\", \"CAMPAIGN_''37''\" AS \"CAMPAIGN_''37''\", \"CAMPAIGN_''39''\" AS \"CAMPAIGN_''39''\", \"CAMPAIGN_''4''\" AS \"CAMPAIGN_''4''\", \"CAMPAIGN_''40''\" AS \"CAMPAIGN_''40''\", \"CAMPAIGN_''41''\" AS \"CAMPAIGN_''41''\", \"CAMPAIGN_''42''\" AS \"CAMPAIGN_''42''\", \"CAMPAIGN_''43''\" AS \"CAMPAIGN_''43''\", \"CAMPAIGN_''5''\" AS \"CAMPAIGN_''5''\", \"CAMPAIGN_''56''\" AS \"CAMPAIGN_''56''\", \"CAMPAIGN_''6''\" AS \"CAMPAIGN_''6''\", \"CAMPAIGN_''7''\" AS \"CAMPAIGN_''7''\", \"CAMPAIGN_''8''\" AS \"CAMPAIGN_''8''\", \"CAMPAIGN_''9''\" AS \"CAMPAIGN_''9''\", \"CONTACT_''cellular''\" AS \"CONTACT_''cellular''\", \"CONTACT_''telephone''\" AS \"CONTACT_''telephone''\", \"DAY_OF_WEEK_''fri''\" AS \"DAY_OF_WEEK_''fri''\", \"DAY_OF_WEEK_''mon''\" AS \"DAY_OF_WEEK_''mon''\", \"DAY_OF_WEEK_''thu''\" AS \"DAY_OF_WEEK_''thu''\", \"DAY_OF_WEEK_''tue''\" AS \"DAY_OF_WEEK_''tue''\", \"DAY_OF_WEEK_''wed''\" AS \"DAY_OF_WEEK_''wed''\", \"DEFAULT_''no''\" AS \"DEFAULT_''no''\", \"DEFAULT_''unknown''\" AS \"DEFAULT_''unknown''\", \"DEFAULT_''yes''\" AS \"DEFAULT_''yes''\", \"EDUCATION_''basic.4y''\" AS \"EDUCATION_''basic.4y''\", \"EDUCATION_''basic.6y''\" AS \"EDUCATION_''basic.6y''\", \"EDUCATION_''basic.9y''\" AS \"EDUCATION_''basic.9y''\", \"EDUCATION_''high.school''\" AS \"EDUCATION_''high.school''\", \"EDUCATION_''illiterate''\" AS \"EDUCATION_''illiterate''\", \"EDUCATION_''professional.course''\" AS \"EDUCATION_''professional.course''\", \"EDUCATION_''university.degree''\" AS \"EDUCATION_''university.degree''\", \"EDUCATION_''unknown''\" AS \"EDUCATION_''unknown''\" FROM ( SELECT  *  FROM (( SELECT \"AGE\" AS \"AGE\", \"JOB\" AS \"JOB\", \"MARITAL\" AS \"MARITAL\", \"EDUCATION\" AS \"EDUCATION\", \"DEFAULT\" AS \"DEFAULT\", \"HOUSING\" AS \"HOUSING\", \"LOAN\" AS \"LOAN\", \"CONTACT\" AS \"CONTACT\", \"MONTH\" AS \"MONTH\", \"DAY_OF_WEEK\" AS \"DAY_OF_WEEK\", \"DURATION\" AS \"DURATION\", \"CAMPAIGN\" AS \"CAMPAIGN\", \"PDAYS\" AS \"PDAYS\", \"PREVIOUS\" AS \"PREVIOUS\", \"POUTCOME\" AS \"POUTCOME\", \"EMP_VAR_RATE\" AS \"EMP_VAR_RATE\", \"CONS_PRICE_IDX\" AS \"CONS_PRICE_IDX\", \"CONS_CONF_IDX\" AS \"CONS_CONF_IDX\", \"EURIBOR3M\" AS \"EURIBOR3M\", \"NR_EMPLOYED\" AS \"NR_EMPLOYED\", \"LABEL\" AS \"LABEL\", \"AGE_''17''\" AS \"AGE_''17''\", \"AGE_''18''\" AS \"AGE_''18''\", \"AGE_''19''\" AS \"AGE_''19''\", \"AGE_''20''\" AS \"AGE_''20''\", \"AGE_''21''\" AS \"AGE_''21''\", \"AGE_''22''\" AS \"AGE_''22''\", \"AGE_''23''\" AS \"AGE_''23''\", \"AGE_''24''\" AS \"AGE_''24''\", \"AGE_''25''\" AS \"AGE_''25''\", \"AGE_''26''\" AS \"AGE_''26''\", \"AGE_''27''\" AS \"AGE_''27''\", \"AGE_''28''\" AS \"AGE_''28''\", \"AGE_''29''\" AS \"AGE_''29''\", \"AGE_''30''\" AS \"AGE_''30''\", \"AGE_''31''\" AS \"AGE_''31''\", \"AGE_''32''\" AS \"AGE_''32''\", \"AGE_''33''\" AS \"AGE_''33''\", \"AGE_''34''\" AS \"AGE_''34''\", \"AGE_''35''\" AS \"AGE_''35''\", \"AGE_''36''\" AS \"AGE_''36''\", \"AGE_''37''\" AS \"AGE_''37''\", \"AGE_''38''\" AS \"AGE_''38''\", \"AGE_''39''\" AS \"AGE_''39''\", \"AGE_''40''\" AS \"AGE_''40''\", \"AGE_''41''\" AS \"AGE_''41''\", \"AGE_''42''\" AS \"AGE_''42''\", \"AGE_''43''\" AS \"AGE_''43''\", \"AGE_''44''\" AS \"AGE_''44''\", \"AGE_''45''\" AS \"AGE_''45''\", \"AGE_''46''\" AS \"AGE_''46''\", \"AGE_''47''\" AS \"AGE_''47''\", \"AGE_''48''\" AS \"AGE_''48''\", \"AGE_''49''\" AS \"AGE_''49''\", \"AGE_''50''\" AS \"AGE_''50''\", \"AGE_''51''\" AS \"AGE_''51''\", \"AGE_''52''\" AS \"AGE_''52''\", \"AGE_''53''\" AS \"AGE_''53''\", \"AGE_''54''\" AS \"AGE_''54''\", \"AGE_''55''\" AS \"AGE_''55''\", \"AGE_''56''\" AS \"AGE_''56''\", \"AGE_''57''\" AS \"AGE_''57''\", \"AGE_''58''\" AS \"AGE_''58''\", \"AGE_''59''\" AS \"AGE_''59''\", \"AGE_''60''\" AS \"AGE_''60''\", \"AGE_''61''\" AS \"AGE_''61''\", \"AGE_''62''\" AS \"AGE_''62''\", \"AGE_''63''\" AS \"AGE_''63''\", \"AGE_''64''\" AS \"AGE_''64''\", \"AGE_''65''\" AS \"AGE_''65''\", \"AGE_''66''\" AS \"AGE_''66''\", \"AGE_''67''\" AS \"AGE_''67''\", \"AGE_''68''\" AS \"AGE_''68''\", \"AGE_''69''\" AS \"AGE_''69''\", \"AGE_''70''\" AS \"AGE_''70''\", \"AGE_''71''\" AS \"AGE_''71''\", \"AGE_''72''\" AS \"AGE_''72''\", \"AGE_''73''\" AS \"AGE_''73''\", \"AGE_''74''\" AS \"AGE_''74''\", \"AGE_''75''\" AS \"AGE_''75''\", \"AGE_''76''\" AS \"AGE_''76''\", \"AGE_''77''\" AS \"AGE_''77''\", \"AGE_''78''\" AS \"AGE_''78''\", \"AGE_''79''\" AS \"AGE_''79''\", \"AGE_''80''\" AS \"AGE_''80''\", \"AGE_''81''\" AS \"AGE_''81''\", \"AGE_''82''\" AS \"AGE_''82''\", \"AGE_''83''\" AS \"AGE_''83''\", \"AGE_''84''\" AS \"AGE_''84''\", \"AGE_''85''\" AS \"AGE_''85''\", \"AGE_''86''\" AS \"AGE_''86''\", \"AGE_''88''\" AS \"AGE_''88''\", \"AGE_''89''\" AS \"AGE_''89''\", \"AGE_''91''\" AS \"AGE_''91''\", \"AGE_''92''\" AS \"AGE_''92''\", \"AGE_''94''\" AS \"AGE_''94''\", \"AGE_''95''\" AS \"AGE_''95''\", \"AGE_''98''\" AS \"AGE_''98''\", \"CAMPAIGN_''1''\" AS \"CAMPAIGN_''1''\", \"CAMPAIGN_''10''\" AS \"CAMPAIGN_''10''\", \"CAMPAIGN_''11''\" AS \"CAMPAIGN_''11''\", \"CAMPAIGN_''12''\" AS \"CAMPAIGN_''12''\", \"CAMPAIGN_''13''\" AS \"CAMPAIGN_''13''\", \"CAMPAIGN_''14''\" AS \"CAMPAIGN_''14''\", \"CAMPAIGN_''15''\" AS \"CAMPAIGN_''15''\", \"CAMPAIGN_''16''\" AS \"CAMPAIGN_''16''\", \"CAMPAIGN_''17''\" AS \"CAMPAIGN_''17''\", \"CAMPAIGN_''18''\" AS \"CAMPAIGN_''18''\", \"CAMPAIGN_''19''\" AS \"CAMPAIGN_''19''\", \"CAMPAIGN_''2''\" AS \"CAMPAIGN_''2''\", \"CAMPAIGN_''20''\" AS \"CAMPAIGN_''20''\", \"CAMPAIGN_''21''\" AS \"CAMPAIGN_''21''\", \"CAMPAIGN_''22''\" AS \"CAMPAIGN_''22''\", \"CAMPAIGN_''23''\" AS \"CAMPAIGN_''23''\", \"CAMPAIGN_''24''\" AS \"CAMPAIGN_''24''\", \"CAMPAIGN_''25''\" AS \"CAMPAIGN_''25''\", \"CAMPAIGN_''26''\" AS \"CAMPAIGN_''26''\", \"CAMPAIGN_''27''\" AS \"CAMPAIGN_''27''\", \"CAMPAIGN_''28''\" AS \"CAMPAIGN_''28''\", \"CAMPAIGN_''29''\" AS \"CAMPAIGN_''29''\", \"CAMPAIGN_''3''\" AS \"CAMPAIGN_''3''\", \"CAMPAIGN_''30''\" AS \"CAMPAIGN_''30''\", \"CAMPAIGN_''31''\" AS \"CAMPAIGN_''31''\", \"CAMPAIGN_''32''\" AS \"CAMPAIGN_''32''\", \"CAMPAIGN_''33''\" AS \"CAMPAIGN_''33''\", \"CAMPAIGN_''34''\" AS \"CAMPAIGN_''34''\", \"CAMPAIGN_''35''\" AS \"CAMPAIGN_''35''\", \"CAMPAIGN_''37''\" AS \"CAMPAIGN_''37''\", \"CAMPAIGN_''39''\" AS \"CAMPAIGN_''39''\", \"CAMPAIGN_''4''\" AS \"CAMPAIGN_''4''\", \"CAMPAIGN_''40''\" AS \"CAMPAIGN_''40''\", \"CAMPAIGN_''41''\" AS \"CAMPAIGN_''41''\", \"CAMPAIGN_''42''\" AS \"CAMPAIGN_''42''\", \"CAMPAIGN_''43''\" AS \"CAMPAIGN_''43''\", \"CAMPAIGN_''5''\" AS \"CAMPAIGN_''5''\", \"CAMPAIGN_''56''\" AS \"CAMPAIGN_''56''\", \"CAMPAIGN_''6''\" AS \"CAMPAIGN_''6''\", \"CAMPAIGN_''7''\" AS \"CAMPAIGN_''7''\", \"CAMPAIGN_''8''\" AS \"CAMPAIGN_''8''\", \"CAMPAIGN_''9''\" AS \"CAMPAIGN_''9''\", \"CONTACT_''cellular''\" AS \"CONTACT_''cellular''\", \"CONTACT_''telephone''\" AS \"CONTACT_''telephone''\", \"DAY_OF_WEEK_''fri''\" AS \"DAY_OF_WEEK_''fri''\", \"DAY_OF_WEEK_''mon''\" AS \"DAY_OF_WEEK_''mon''\", \"DAY_OF_WEEK_''thu''\" AS \"DAY_OF_WEEK_''thu''\", \"DAY_OF_WEEK_''tue''\" AS \"DAY_OF_WEEK_''tue''\", \"DAY_OF_WEEK_''wed''\" AS \"DAY_OF_WEEK_''wed''\", \"DEFAULT_''no''\" AS \"DEFAULT_''no''\", \"DEFAULT_''unknown''\" AS \"DEFAULT_''unknown''\", \"DEFAULT_''yes''\" AS \"DEFAULT_''yes''\" FROM ( SELECT  *  FROM (( SELECT \"AGE\" AS \"AGE\", \"JOB\" AS \"JOB\", \"MARITAL\" AS \"MARITAL\", \"EDUCATION\" AS \"EDUCATION\", \"DEFAULT\" AS \"DEFAULT\", \"HOUSING\" AS \"HOUSING\", \"LOAN\" AS \"LOAN\", \"CONTACT\" AS \"CONTACT\", \"MONTH\" AS \"MONTH\", \"DAY_OF_WEEK\" AS \"DAY_OF_WEEK\", \"DURATION\" AS \"DURATION\", \"CAMPAIGN\" AS \"CAMPAIGN\", \"PDAYS\" AS \"PDAYS\", \"PREVIOUS\" AS \"PREVIOUS\", \"POUTCOME\" AS \"POUTCOME\", \"EMP_VAR_RATE\" AS \"EMP_VAR_RATE\", \"CONS_PRICE_IDX\" AS \"CONS_PRICE_IDX\", \"CONS_CONF_IDX\" AS \"CONS_CONF_IDX\", \"EURIBOR3M\" AS \"EURIBOR3M\", \"NR_EMPLOYED\" AS \"NR_EMPLOYED\", \"LABEL\" AS \"LABEL\", \"AGE_''17''\" AS \"AGE_''17''\", \"AGE_''18''\" AS \"AGE_''18''\", \"AGE_''19''\" AS \"AGE_''19''\", \"AGE_''20''\" AS \"AGE_''20''\", \"AGE_''21''\" AS \"AGE_''21''\", \"AGE_''22''\" AS \"AGE_''22''\", \"AGE_''23''\" AS \"AGE_''23''\", \"AGE_''24''\" AS \"AGE_''24''\", \"AGE_''25''\" AS \"AGE_''25''\", \"AGE_''26''\" AS \"AGE_''26''\", \"AGE_''27''\" AS \"AGE_''27''\", \"AGE_''28''\" AS \"AGE_''28''\", \"AGE_''29''\" AS \"AGE_''29''\", \"AGE_''30''\" AS \"AGE_''30''\", \"AGE_''31''\" AS \"AGE_''31''\", \"AGE_''32''\" AS \"AGE_''32''\", \"AGE_''33''\" AS \"AGE_''33''\", \"AGE_''34''\" AS \"AGE_''34''\", \"AGE_''35''\" AS \"AGE_''35''\", \"AGE_''36''\" AS \"AGE_''36''\", \"AGE_''37''\" AS \"AGE_''37''\", \"AGE_''38''\" AS \"AGE_''38''\", \"AGE_''39''\" AS \"AGE_''39''\", \"AGE_''40''\" AS \"AGE_''40''\", \"AGE_''41''\" AS \"AGE_''41''\", \"AGE_''42''\" AS \"AGE_''42''\", \"AGE_''43''\" AS \"AGE_''43''\", \"AGE_''44''\" AS \"AGE_''44''\", \"AGE_''45''\" AS \"AGE_''45''\", \"AGE_''46''\" AS \"AGE_''46''\", \"AGE_''47''\" AS \"AGE_''47''\", \"AGE_''48''\" AS \"AGE_''48''\", \"AGE_''49''\" AS \"AGE_''49''\", \"AGE_''50''\" AS \"AGE_''50''\", \"AGE_''51''\" AS \"AGE_''51''\", \"AGE_''52''\" AS \"AGE_''52''\", \"AGE_''53''\" AS \"AGE_''53''\", \"AGE_''54''\" AS \"AGE_''54''\", \"AGE_''55''\" AS \"AGE_''55''\", \"AGE_''56''\" AS \"AGE_''56''\", \"AGE_''57''\" AS \"AGE_''57''\", \"AGE_''58''\" AS \"AGE_''58''\", \"AGE_''59''\" AS \"AGE_''59''\", \"AGE_''60''\" AS \"AGE_''60''\", \"AGE_''61''\" AS \"AGE_''61''\", \"AGE_''62''\" AS \"AGE_''62''\", \"AGE_''63''\" AS \"AGE_''63''\", \"AGE_''64''\" AS \"AGE_''64''\", \"AGE_''65''\" AS \"AGE_''65''\", \"AGE_''66''\" AS \"AGE_''66''\", \"AGE_''67''\" AS \"AGE_''67''\", \"AGE_''68''\" AS \"AGE_''68''\", \"AGE_''69''\" AS \"AGE_''69''\", \"AGE_''70''\" AS \"AGE_''70''\", \"AGE_''71''\" AS \"AGE_''71''\", \"AGE_''72''\" AS \"AGE_''72''\", \"AGE_''73''\" AS \"AGE_''73''\", \"AGE_''74''\" AS \"AGE_''74''\", \"AGE_''75''\" AS \"AGE_''75''\", \"AGE_''76''\" AS \"AGE_''76''\", \"AGE_''77''\" AS \"AGE_''77''\", \"AGE_''78''\" AS \"AGE_''78''\", \"AGE_''79''\" AS \"AGE_''79''\", \"AGE_''80''\" AS \"AGE_''80''\", \"AGE_''81''\" AS \"AGE_''81''\", \"AGE_''82''\" AS \"AGE_''82''\", \"AGE_''83''\" AS \"AGE_''83''\", \"AGE_''84''\" AS \"AGE_''84''\", \"AGE_''85''\" AS \"AGE_''85''\", \"AGE_''86''\" AS \"AGE_''86''\", \"AGE_''88''\" AS \"AGE_''88''\", \"AGE_''89''\" AS \"AGE_''89''\", \"AGE_''91''\" AS \"AGE_''91''\", \"AGE_''92''\" AS \"AGE_''92''\", \"AGE_''94''\" AS \"AGE_''94''\", \"AGE_''95''\" AS \"AGE_''95''\", \"AGE_''98''\" AS \"AGE_''98''\", \"CAMPAIGN_''1''\" AS \"CAMPAIGN_''1''\", \"CAMPAIGN_''10''\" AS \"CAMPAIGN_''10''\", \"CAMPAIGN_''11''\" AS \"CAMPAIGN_''11''\", \"CAMPAIGN_''12''\" AS \"CAMPAIGN_''12''\", \"CAMPAIGN_''13''\" AS \"CAMPAIGN_''13''\", \"CAMPAIGN_''14''\" AS \"CAMPAIGN_''14''\", \"CAMPAIGN_''15''\" AS \"CAMPAIGN_''15''\", \"CAMPAIGN_''16''\" AS \"CAMPAIGN_''16''\", \"CAMPAIGN_''17''\" AS \"CAMPAIGN_''17''\", \"CAMPAIGN_''18''\" AS \"CAMPAIGN_''18''\", \"CAMPAIGN_''19''\" AS \"CAMPAIGN_''19''\", \"CAMPAIGN_''2''\" AS \"CAMPAIGN_''2''\", \"CAMPAIGN_''20''\" AS \"CAMPAIGN_''20''\", \"CAMPAIGN_''21''\" AS \"CAMPAIGN_''21''\", \"CAMPAIGN_''22''\" AS \"CAMPAIGN_''22''\", \"CAMPAIGN_''23''\" AS \"CAMPAIGN_''23''\", \"CAMPAIGN_''24''\" AS \"CAMPAIGN_''24''\", \"CAMPAIGN_''25''\" AS \"CAMPAIGN_''25''\", \"CAMPAIGN_''26''\" AS \"CAMPAIGN_''26''\", \"CAMPAIGN_''27''\" AS \"CAMPAIGN_''27''\", \"CAMPAIGN_''28''\" AS \"CAMPAIGN_''28''\", \"CAMPAIGN_''29''\" AS \"CAMPAIGN_''29''\", \"CAMPAIGN_''3''\" AS \"CAMPAIGN_''3''\", \"CAMPAIGN_''30''\" AS \"CAMPAIGN_''30''\", \"CAMPAIGN_''31''\" AS \"CAMPAIGN_''31''\", \"CAMPAIGN_''32''\" AS \"CAMPAIGN_''32''\", \"CAMPAIGN_''33''\" AS \"CAMPAIGN_''33''\", \"CAMPAIGN_''34''\" AS \"CAMPAIGN_''34''\", \"CAMPAIGN_''35''\" AS \"CAMPAIGN_''35''\", \"CAMPAIGN_''37''\" AS \"CAMPAIGN_''37''\", \"CAMPAIGN_''39''\" AS \"CAMPAIGN_''39''\", \"CAMPAIGN_''4''\" AS \"CAMPAIGN_''4''\", \"CAMPAIGN_''40''\" AS \"CAMPAIGN_''40''\", \"CAMPAIGN_''41''\" AS \"CAMPAIGN_''41''\", \"CAMPAIGN_''42''\" AS \"CAMPAIGN_''42''\", \"CAMPAIGN_''43''\" AS \"CAMPAIGN_''43''\", \"CAMPAIGN_''5''\" AS \"CAMPAIGN_''5''\", \"CAMPAIGN_''56''\" AS \"CAMPAIGN_''56''\", \"CAMPAIGN_''6''\" AS \"CAMPAIGN_''6''\", \"CAMPAIGN_''7''\" AS \"CAMPAIGN_''7''\", \"CAMPAIGN_''8''\" AS \"CAMPAIGN_''8''\", \"CAMPAIGN_''9''\" AS \"CAMPAIGN_''9''\", \"CONTACT_''cellular''\" AS \"CONTACT_''cellular''\", \"CONTACT_''telephone''\" AS \"CONTACT_''telephone''\", \"DAY_OF_WEEK_''fri''\" AS \"DAY_OF_WEEK_''fri''\", \"DAY_OF_WEEK_''mon''\" AS \"DAY_OF_WEEK_''mon''\", \"DAY_OF_WEEK_''thu''\" AS \"DAY_OF_WEEK_''thu''\", \"DAY_OF_WEEK_''tue''\" AS \"DAY_OF_WEEK_''tue''\", \"DAY_OF_WEEK_''wed''\" AS \"DAY_OF_WEEK_''wed''\" FROM ( SELECT  *  FROM (( SELECT \"AGE\" AS \"AGE\", \"JOB\" AS \"JOB\", \"MARITAL\" AS \"MARITAL\", \"EDUCATION\" AS \"EDUCATION\", \"DEFAULT\" AS \"DEFAULT\", \"HOUSING\" AS \"HOUSING\", \"LOAN\" AS \"LOAN\", \"CONTACT\" AS \"CONTACT\", \"MONTH\" AS \"MONTH\", \"DAY_OF_WEEK\" AS \"DAY_OF_WEEK\", \"DURATION\" AS \"DURATION\", \"CAMPAIGN\" AS \"CAMPAIGN\", \"PDAYS\" AS \"PDAYS\", \"PREVIOUS\" AS \"PREVIOUS\", \"POUTCOME\" AS \"POUTCOME\", \"EMP_VAR_RATE\" AS \"EMP_VAR_RATE\", \"CONS_PRICE_IDX\" AS \"CONS_PRICE_IDX\", \"CONS_CONF_IDX\" AS \"CONS_CONF_IDX\", \"EURIBOR3M\" AS \"EURIBOR3M\", \"NR_EMPLOYED\" AS \"NR_EMPLOYED\", \"LABEL\" AS \"LABEL\", \"AGE_''17''\" AS \"AGE_''17''\", \"AGE_''18''\" AS \"AGE_''18''\", \"AGE_''19''\" AS \"AGE_''19''\", \"AGE_''20''\" AS \"AGE_''20''\", \"AGE_''21''\" AS \"AGE_''21''\", \"AGE_''22''\" AS \"AGE_''22''\", \"AGE_''23''\" AS \"AGE_''23''\", \"AGE_''24''\" AS \"AGE_''24''\", \"AGE_''25''\" AS \"AGE_''25''\", \"AGE_''26''\" AS \"AGE_''26''\", \"AGE_''27''\" AS \"AGE_''27''\", \"AGE_''28''\" AS \"AGE_''28''\", \"AGE_''29''\" AS \"AGE_''29''\", \"AGE_''30''\" AS \"AGE_''30''\", \"AGE_''31''\" AS \"AGE_''31''\", \"AGE_''32''\" AS \"AGE_''32''\", \"AGE_''33''\" AS \"AGE_''33''\", \"AGE_''34''\" AS \"AGE_''34''\", \"AGE_''35''\" AS \"AGE_''35''\", \"AGE_''36''\" AS \"AGE_''36''\", \"AGE_''37''\" AS \"AGE_''37''\", \"AGE_''38''\" AS \"AGE_''38''\", \"AGE_''39''\" AS \"AGE_''39''\", \"AGE_''40''\" AS \"AGE_''40''\", \"AGE_''41''\" AS \"AGE_''41''\", \"AGE_''42''\" AS \"AGE_''42''\", \"AGE_''43''\" AS \"AGE_''43''\", \"AGE_''44''\" AS \"AGE_''44''\", \"AGE_''45''\" AS \"AGE_''45''\", \"AGE_''46''\" AS \"AGE_''46''\", \"AGE_''47''\" AS \"AGE_''47''\", \"AGE_''48''\" AS \"AGE_''48''\", \"AGE_''49''\" AS \"AGE_''49''\", \"AGE_''50''\" AS \"AGE_''50''\", \"AGE_''51''\" AS \"AGE_''51''\", \"AGE_''52''\" AS \"AGE_''52''\", \"AGE_''53''\" AS \"AGE_''53''\", \"AGE_''54''\" AS \"AGE_''54''\", \"AGE_''55''\" AS \"AGE_''55''\", \"AGE_''56''\" AS \"AGE_''56''\", \"AGE_''57''\" AS \"AGE_''57''\", \"AGE_''58''\" AS \"AGE_''58''\", \"AGE_''59''\" AS \"AGE_''59''\", \"AGE_''60''\" AS \"AGE_''60''\", \"AGE_''61''\" AS \"AGE_''61''\", \"AGE_''62''\" AS \"AGE_''62''\", \"AGE_''63''\" AS \"AGE_''63''\", \"AGE_''64''\" AS \"AGE_''64''\", \"AGE_''65''\" AS \"AGE_''65''\", \"AGE_''66''\" AS \"AGE_''66''\", \"AGE_''67''\" AS \"AGE_''67''\", \"AGE_''68''\" AS \"AGE_''68''\", \"AGE_''69''\" AS \"AGE_''69''\", \"AGE_''70''\" AS \"AGE_''70''\", \"AGE_''71''\" AS \"AGE_''71''\", \"AGE_''72''\" AS \"AGE_''72''\", \"AGE_''73''\" AS \"AGE_''73''\", \"AGE_''74''\" AS \"AGE_''74''\", \"AGE_''75''\" AS \"AGE_''75''\", \"AGE_''76''\" AS \"AGE_''76''\", \"AGE_''77''\" AS \"AGE_''77''\", \"AGE_''78''\" AS \"AGE_''78''\", \"AGE_''79''\" AS \"AGE_''79''\", \"AGE_''80''\" AS \"AGE_''80''\", \"AGE_''81''\" AS \"AGE_''81''\", \"AGE_''82''\" AS \"AGE_''82''\", \"AGE_''83''\" AS \"AGE_''83''\", \"AGE_''84''\" AS \"AGE_''84''\", \"AGE_''85''\" AS \"AGE_''85''\", \"AGE_''86''\" AS \"AGE_''86''\", \"AGE_''88''\" AS \"AGE_''88''\", \"AGE_''89''\" AS \"AGE_''89''\", \"AGE_''91''\" AS \"AGE_''91''\", \"AGE_''92''\" AS \"AGE_''92''\", \"AGE_''94''\" AS \"AGE_''94''\", \"AGE_''95''\" AS \"AGE_''95''\", \"AGE_''98''\" AS \"AGE_''98''\", \"CAMPAIGN_''1''\" AS \"CAMPAIGN_''1''\", \"CAMPAIGN_''10''\" AS \"CAMPAIGN_''10''\", \"CAMPAIGN_''11''\" AS \"CAMPAIGN_''11''\", \"CAMPAIGN_''12''\" AS \"CAMPAIGN_''12''\", \"CAMPAIGN_''13''\" AS \"CAMPAIGN_''13''\", \"CAMPAIGN_''14''\" AS \"CAMPAIGN_''14''\", \"CAMPAIGN_''15''\" AS \"CAMPAIGN_''15''\", \"CAMPAIGN_''16''\" AS \"CAMPAIGN_''16''\", \"CAMPAIGN_''17''\" AS \"CAMPAIGN_''17''\", \"CAMPAIGN_''18''\" AS \"CAMPAIGN_''18''\", \"CAMPAIGN_''19''\" AS \"CAMPAIGN_''19''\", \"CAMPAIGN_''2''\" AS \"CAMPAIGN_''2''\", \"CAMPAIGN_''20''\" AS \"CAMPAIGN_''20''\", \"CAMPAIGN_''21''\" AS \"CAMPAIGN_''21''\", \"CAMPAIGN_''22''\" AS \"CAMPAIGN_''22''\", \"CAMPAIGN_''23''\" AS \"CAMPAIGN_''23''\", \"CAMPAIGN_''24''\" AS \"CAMPAIGN_''24''\", \"CAMPAIGN_''25''\" AS \"CAMPAIGN_''25''\", \"CAMPAIGN_''26''\" AS \"CAMPAIGN_''26''\", \"CAMPAIGN_''27''\" AS \"CAMPAIGN_''27''\", \"CAMPAIGN_''28''\" AS \"CAMPAIGN_''28''\", \"CAMPAIGN_''29''\" AS \"CAMPAIGN_''29''\", \"CAMPAIGN_''3''\" AS \"CAMPAIGN_''3''\", \"CAMPAIGN_''30''\" AS \"CAMPAIGN_''30''\", \"CAMPAIGN_''31''\" AS \"CAMPAIGN_''31''\", \"CAMPAIGN_''32''\" AS \"CAMPAIGN_''32''\", \"CAMPAIGN_''33''\" AS \"CAMPAIGN_''33''\", \"CAMPAIGN_''34''\" AS \"CAMPAIGN_''34''\", \"CAMPAIGN_''35''\" AS \"CAMPAIGN_''35''\", \"CAMPAIGN_''37''\" AS \"CAMPAIGN_''37''\", \"CAMPAIGN_''39''\" AS \"CAMPAIGN_''39''\", \"CAMPAIGN_''4''\" AS \"CAMPAIGN_''4''\", \"CAMPAIGN_''40''\" AS \"CAMPAIGN_''40''\", \"CAMPAIGN_''41''\" AS \"CAMPAIGN_''41''\", \"CAMPAIGN_''42''\" AS \"CAMPAIGN_''42''\", \"CAMPAIGN_''43''\" AS \"CAMPAIGN_''43''\", \"CAMPAIGN_''5''\" AS \"CAMPAIGN_''5''\", \"CAMPAIGN_''56''\" AS \"CAMPAIGN_''56''\", \"CAMPAIGN_''6''\" AS \"CAMPAIGN_''6''\", \"CAMPAIGN_''7''\" AS \"CAMPAIGN_''7''\", \"CAMPAIGN_''8''\" AS \"CAMPAIGN_''8''\", \"CAMPAIGN_''9''\" AS \"CAMPAIGN_''9''\", \"CONTACT_''cellular''\" AS \"CONTACT_''cellular''\", \"CONTACT_''telephone''\" AS \"CONTACT_''telephone''\" FROM ( SELECT  *  FROM (( SELECT \"AGE\" AS \"AGE\", \"JOB\" AS \"JOB\", \"MARITAL\" AS \"MARITAL\", \"EDUCATION\" AS \"EDUCATION\", \"DEFAULT\" AS \"DEFAULT\", \"HOUSING\" AS \"HOUSING\", \"LOAN\" AS \"LOAN\", \"CONTACT\" AS \"CONTACT\", \"MONTH\" AS \"MONTH\", \"DAY_OF_WEEK\" AS \"DAY_OF_WEEK\", \"DURATION\" AS \"DURATION\", \"CAMPAIGN\" AS \"CAMPAIGN\", \"PDAYS\" AS \"PDAYS\", \"PREVIOUS\" AS \"PREVIOUS\", \"POUTCOME\" AS \"POUTCOME\", \"EMP_VAR_RATE\" AS \"EMP_VAR_RATE\", \"CONS_PRICE_IDX\" AS \"CONS_PRICE_IDX\", \"CONS_CONF_IDX\" AS \"CONS_CONF_IDX\", \"EURIBOR3M\" AS \"EURIBOR3M\", \"NR_EMPLOYED\" AS \"NR_EMPLOYED\", \"LABEL\" AS \"LABEL\", \"AGE_''17''\" AS \"AGE_''17''\", \"AGE_''18''\" AS \"AGE_''18''\", \"AGE_''19''\" AS \"AGE_''19''\", \"AGE_''20''\" AS \"AGE_''20''\", \"AGE_''21''\" AS \"AGE_''21''\", \"AGE_''22''\" AS \"AGE_''22''\", \"AGE_''23''\" AS \"AGE_''23''\", \"AGE_''24''\" AS \"AGE_''24''\", \"AGE_''25''\" AS \"AGE_''25''\", \"AGE_''26''\" AS \"AGE_''26''\", \"AGE_''27''\" AS \"AGE_''27''\", \"AGE_''28''\" AS \"AGE_''28''\", \"AGE_''29''\" AS \"AGE_''29''\", \"AGE_''30''\" AS \"AGE_''30''\", \"AGE_''31''\" AS \"AGE_''31''\", \"AGE_''32''\" AS \"AGE_''32''\", \"AGE_''33''\" AS \"AGE_''33''\", \"AGE_''34''\" AS \"AGE_''34''\", \"AGE_''35''\" AS \"AGE_''35''\", \"AGE_''36''\" AS \"AGE_''36''\", \"AGE_''37''\" AS \"AGE_''37''\", \"AGE_''38''\" AS \"AGE_''38''\", \"AGE_''39''\" AS \"AGE_''39''\", \"AGE_''40''\" AS \"AGE_''40''\", \"AGE_''41''\" AS \"AGE_''41''\", \"AGE_''42''\" AS \"AGE_''42''\", \"AGE_''43''\" AS \"AGE_''43''\", \"AGE_''44''\" AS \"AGE_''44''\", \"AGE_''45''\" AS \"AGE_''45''\", \"AGE_''46''\" AS \"AGE_''46''\", \"AGE_''47''\" AS \"AGE_''47''\", \"AGE_''48''\" AS \"AGE_''48''\", \"AGE_''49''\" AS \"AGE_''49''\", \"AGE_''50''\" AS \"AGE_''50''\", \"AGE_''51''\" AS \"AGE_''51''\", \"AGE_''52''\" AS \"AGE_''52''\", \"AGE_''53''\" AS \"AGE_''53''\", \"AGE_''54''\" AS \"AGE_''54''\", \"AGE_''55''\" AS \"AGE_''55''\", \"AGE_''56''\" AS \"AGE_''56''\", \"AGE_''57''\" AS \"AGE_''57''\", \"AGE_''58''\" AS \"AGE_''58''\", \"AGE_''59''\" AS \"AGE_''59''\", \"AGE_''60''\" AS \"AGE_''60''\", \"AGE_''61''\" AS \"AGE_''61''\", \"AGE_''62''\" AS \"AGE_''62''\", \"AGE_''63''\" AS \"AGE_''63''\", \"AGE_''64''\" AS \"AGE_''64''\", \"AGE_''65''\" AS \"AGE_''65''\", \"AGE_''66''\" AS \"AGE_''66''\", \"AGE_''67''\" AS \"AGE_''67''\", \"AGE_''68''\" AS \"AGE_''68''\", \"AGE_''69''\" AS \"AGE_''69''\", \"AGE_''70''\" AS \"AGE_''70''\", \"AGE_''71''\" AS \"AGE_''71''\", \"AGE_''72''\" AS \"AGE_''72''\", \"AGE_''73''\" AS \"AGE_''73''\", \"AGE_''74''\" AS \"AGE_''74''\", \"AGE_''75''\" AS \"AGE_''75''\", \"AGE_''76''\" AS \"AGE_''76''\", \"AGE_''77''\" AS \"AGE_''77''\", \"AGE_''78''\" AS \"AGE_''78''\", \"AGE_''79''\" AS \"AGE_''79''\", \"AGE_''80''\" AS \"AGE_''80''\", \"AGE_''81''\" AS \"AGE_''81''\", \"AGE_''82''\" AS \"AGE_''82''\", \"AGE_''83''\" AS \"AGE_''83''\", \"AGE_''84''\" AS \"AGE_''84''\", \"AGE_''85''\" AS \"AGE_''85''\", \"AGE_''86''\" AS \"AGE_''86''\", \"AGE_''88''\" AS \"AGE_''88''\", \"AGE_''89''\" AS \"AGE_''89''\", \"AGE_''91''\" AS \"AGE_''91''\", \"AGE_''92''\" AS \"AGE_''92''\", \"AGE_''94''\" AS \"AGE_''94''\", \"AGE_''95''\" AS \"AGE_''95''\", \"AGE_''98''\" AS \"AGE_''98''\", \"CAMPAIGN_''1''\" AS \"CAMPAIGN_''1''\", \"CAMPAIGN_''10''\" AS \"CAMPAIGN_''10''\", \"CAMPAIGN_''11''\" AS \"CAMPAIGN_''11''\", \"CAMPAIGN_''12''\" AS \"CAMPAIGN_''12''\", \"CAMPAIGN_''13''\" AS \"CAMPAIGN_''13''\", \"CAMPAIGN_''14''\" AS \"CAMPAIGN_''14''\", \"CAMPAIGN_''15''\" AS \"CAMPAIGN_''15''\", \"CAMPAIGN_''16''\" AS \"CAMPAIGN_''16''\", \"CAMPAIGN_''17''\" AS \"CAMPAIGN_''17''\", \"CAMPAIGN_''18''\" AS \"CAMPAIGN_''18''\", \"CAMPAIGN_''19''\" AS \"CAMPAIGN_''19''\", \"CAMPAIGN_''2''\" AS \"CAMPAIGN_''2''\", \"CAMPAIGN_''20''\" AS \"CAMPAIGN_''20''\", \"CAMPAIGN_''21''\" AS \"CAMPAIGN_''21''\", \"CAMPAIGN_''22''\" AS \"CAMPAIGN_''22''\", \"CAMPAIGN_''23''\" AS \"CAMPAIGN_''23''\", \"CAMPAIGN_''24''\" AS \"CAMPAIGN_''24''\", \"CAMPAIGN_''25''\" AS \"CAMPAIGN_''25''\", \"CAMPAIGN_''26''\" AS \"CAMPAIGN_''26''\", \"CAMPAIGN_''27''\" AS \"CAMPAIGN_''27''\", \"CAMPAIGN_''28''\" AS \"CAMPAIGN_''28''\", \"CAMPAIGN_''29''\" AS \"CAMPAIGN_''29''\", \"CAMPAIGN_''3''\" AS \"CAMPAIGN_''3''\", \"CAMPAIGN_''30''\" AS \"CAMPAIGN_''30''\", \"CAMPAIGN_''31''\" AS \"CAMPAIGN_''31''\", \"CAMPAIGN_''32''\" AS \"CAMPAIGN_''32''\", \"CAMPAIGN_''33''\" AS \"CAMPAIGN_''33''\", \"CAMPAIGN_''34''\" AS \"CAMPAIGN_''34''\", \"CAMPAIGN_''35''\" AS \"CAMPAIGN_''35''\", \"CAMPAIGN_''37''\" AS \"CAMPAIGN_''37''\", \"CAMPAIGN_''39''\" AS \"CAMPAIGN_''39''\", \"CAMPAIGN_''4''\" AS \"CAMPAIGN_''4''\", \"CAMPAIGN_''40''\" AS \"CAMPAIGN_''40''\", \"CAMPAIGN_''41''\" AS \"CAMPAIGN_''41''\", \"CAMPAIGN_''42''\" AS \"CAMPAIGN_''42''\", \"CAMPAIGN_''43''\" AS \"CAMPAIGN_''43''\", \"CAMPAIGN_''5''\" AS \"CAMPAIGN_''5''\", \"CAMPAIGN_''56''\" AS \"CAMPAIGN_''56''\", \"CAMPAIGN_''6''\" AS \"CAMPAIGN_''6''\", \"CAMPAIGN_''7''\" AS \"CAMPAIGN_''7''\", \"CAMPAIGN_''8''\" AS \"CAMPAIGN_''8''\", \"CAMPAIGN_''9''\" AS \"CAMPAIGN_''9''\" FROM ( SELECT  *  FROM (( SELECT \"AGE\" AS \"AGE\", \"JOB\" AS \"JOB\", \"MARITAL\" AS \"MARITAL\", \"EDUCATION\" AS \"EDUCATION\", \"DEFAULT\" AS \"DEFAULT\", \"HOUSING\" AS \"HOUSING\", \"LOAN\" AS \"LOAN\", \"CONTACT\" AS \"CONTACT\", \"MONTH\" AS \"MONTH\", \"DAY_OF_WEEK\" AS \"DAY_OF_WEEK\", \"DURATION\" AS \"DURATION\", \"CAMPAIGN\" AS \"CAMPAIGN\", \"PDAYS\" AS \"PDAYS\", \"PREVIOUS\" AS \"PREVIOUS\", \"POUTCOME\" AS \"POUTCOME\", \"EMP_VAR_RATE\" AS \"EMP_VAR_RATE\", \"CONS_PRICE_IDX\" AS \"CONS_PRICE_IDX\", \"CONS_CONF_IDX\" AS \"CONS_CONF_IDX\", \"EURIBOR3M\" AS \"EURIBOR3M\", \"NR_EMPLOYED\" AS \"NR_EMPLOYED\", \"LABEL\" AS \"LABEL\", \"AGE_''17''\" AS \"AGE_''17''\", \"AGE_''18''\" AS \"AGE_''18''\", \"AGE_''19''\" AS \"AGE_''19''\", \"AGE_''20''\" AS \"AGE_''20''\", \"AGE_''21''\" AS \"AGE_''21''\", \"AGE_''22''\" AS \"AGE_''22''\", \"AGE_''23''\" AS \"AGE_''23''\", \"AGE_''24''\" AS \"AGE_''24''\", \"AGE_''25''\" AS \"AGE_''25''\", \"AGE_''26''\" AS \"AGE_''26''\", \"AGE_''27''\" AS \"AGE_''27''\", \"AGE_''28''\" AS \"AGE_''28''\", \"AGE_''29''\" AS \"AGE_''29''\", \"AGE_''30''\" AS \"AGE_''30''\", \"AGE_''31''\" AS \"AGE_''31''\", \"AGE_''32''\" AS \"AGE_''32''\", \"AGE_''33''\" AS \"AGE_''33''\", \"AGE_''34''\" AS \"AGE_''34''\", \"AGE_''35''\" AS \"AGE_''35''\", \"AGE_''36''\" AS \"AGE_''36''\", \"AGE_''37''\" AS \"AGE_''37''\", \"AGE_''38''\" AS \"AGE_''38''\", \"AGE_''39''\" AS \"AGE_''39''\", \"AGE_''40''\" AS \"AGE_''40''\", \"AGE_''41''\" AS \"AGE_''41''\", \"AGE_''42''\" AS \"AGE_''42''\", \"AGE_''43''\" AS \"AGE_''43''\", \"AGE_''44''\" AS \"AGE_''44''\", \"AGE_''45''\" AS \"AGE_''45''\", \"AGE_''46''\" AS \"AGE_''46''\", \"AGE_''47''\" AS \"AGE_''47''\", \"AGE_''48''\" AS \"AGE_''48''\", \"AGE_''49''\" AS \"AGE_''49''\", \"AGE_''50''\" AS \"AGE_''50''\", \"AGE_''51''\" AS \"AGE_''51''\", \"AGE_''52''\" AS \"AGE_''52''\", \"AGE_''53''\" AS \"AGE_''53''\", \"AGE_''54''\" AS \"AGE_''54''\", \"AGE_''55''\" AS \"AGE_''55''\", \"AGE_''56''\" AS \"AGE_''56''\", \"AGE_''57''\" AS \"AGE_''57''\", \"AGE_''58''\" AS \"AGE_''58''\", \"AGE_''59''\" AS \"AGE_''59''\", \"AGE_''60''\" AS \"AGE_''60''\", \"AGE_''61''\" AS \"AGE_''61''\", \"AGE_''62''\" AS \"AGE_''62''\", \"AGE_''63''\" AS \"AGE_''63''\", \"AGE_''64''\" AS \"AGE_''64''\", \"AGE_''65''\" AS \"AGE_''65''\", \"AGE_''66''\" AS \"AGE_''66''\", \"AGE_''67''\" AS \"AGE_''67''\", \"AGE_''68''\" AS \"AGE_''68''\", \"AGE_''69''\" AS \"AGE_''69''\", \"AGE_''70''\" AS \"AGE_''70''\", \"AGE_''71''\" AS \"AGE_''71''\", \"AGE_''72''\" AS \"AGE_''72''\", \"AGE_''73''\" AS \"AGE_''73''\", \"AGE_''74''\" AS \"AGE_''74''\", \"AGE_''75''\" AS \"AGE_''75''\", \"AGE_''76''\" AS \"AGE_''76''\", \"AGE_''77''\" AS \"AGE_''77''\", \"AGE_''78''\" AS \"AGE_''78''\", \"AGE_''79''\" AS \"AGE_''79''\", \"AGE_''80''\" AS \"AGE_''80''\", \"AGE_''81''\" AS \"AGE_''81''\", \"AGE_''82''\" AS \"AGE_''82''\", \"AGE_''83''\" AS \"AGE_''83''\", \"AGE_''84''\" AS \"AGE_''84''\", \"AGE_''85''\" AS \"AGE_''85''\", \"AGE_''86''\" AS \"AGE_''86''\", \"AGE_''88''\" AS \"AGE_''88''\", \"AGE_''89''\" AS \"AGE_''89''\", \"AGE_''91''\" AS \"AGE_''91''\", \"AGE_''92''\" AS \"AGE_''92''\", \"AGE_''94''\" AS \"AGE_''94''\", \"AGE_''95''\" AS \"AGE_''95''\", \"AGE_''98''\" AS \"AGE_''98''\" FROM ( SELECT  *  FROM (( SELECT \"AGE\" AS \"AGE\", \"JOB\" AS \"JOB\", \"MARITAL\" AS \"MARITAL\", \"EDUCATION\" AS \"EDUCATION\", \"DEFAULT\" AS \"DEFAULT\", \"HOUSING\" AS \"HOUSING\", \"LOAN\" AS \"LOAN\", \"CONTACT\" AS \"CONTACT\", \"MONTH\" AS \"MONTH\", \"DAY_OF_WEEK\" AS \"DAY_OF_WEEK\", \"DURATION\" AS \"DURATION\", \"CAMPAIGN\" AS \"CAMPAIGN\", \"PDAYS\" AS \"PDAYS\", \"PREVIOUS\" AS \"PREVIOUS\", \"POUTCOME\" AS \"POUTCOME\", \"EMP_VAR_RATE\" AS \"EMP_VAR_RATE\", \"CONS_PRICE_IDX\" AS \"CONS_PRICE_IDX\", \"CONS_CONF_IDX\" AS \"CONS_CONF_IDX\", \"EURIBOR3M\" AS \"EURIBOR3M\", \"NR_EMPLOYED\" AS \"NR_EMPLOYED\", \"LABEL\" AS \"LABEL\" FROM ( SELECT  *  FROM SNOWPARK_TEMP_TABLE_C3NS0IVR5D WHERE ((\"SNOWPARK_TEMP_COLUMN_BOK4UH09O0\" >= 0 :: INT) AND (\"SNOWPARK_TEMP_COLUMN_BOK4UH09O0\" < 900000 :: INT)))) AS SNOWPARK_TEMP_TABLE_ZLAL9AFHW4 LEFT OUTER JOIN ( SELECT \"AGE_''17''\" AS \"AGE_''17''\", \"AGE_''18''\" AS \"AGE_''18''\", \"AGE_''19''\" AS \"AGE_''19''\", \"AGE_''20''\" AS \"AGE_''20''\", \"AGE_''21''\" AS \"AGE_''21''\", \"AGE_''22''\" AS \"AGE_''22''\", \"AGE_''23''\" AS \"AGE_''23''\", \"AGE_''24''\" AS \"AGE_''24''\", \"AGE_''25''\" AS \"AGE_''25''\", \"AGE_''26''\" AS \"AGE_''26''\", \"AGE_''27''\" AS \"AGE_''27''\", \"AGE_''28''\" AS \"AGE_''28''\", \"AGE_''29''\" AS \"AGE_''29''\", \"AGE_''30''\" AS \"AGE_''30''\", \"AGE_''31''\" AS \"AGE_''31''\", \"AGE_''32''\" AS \"AGE_''32''\", \"AGE_''33''\" AS \"AGE_''33''\", \"AGE_''34''\" AS \"AGE_''34''\", \"AGE_''35''\" AS \"AGE_''35''\", \"AGE_''36''\" AS \"AGE_''36''\", \"AGE_''37''\" AS \"AGE_''37''\", \"AGE_''38''\" AS \"AGE_''38''\", \"AGE_''39''\" AS \"AGE_''39''\", \"AGE_''40''\" AS \"AGE_''40''\", \"AGE_''41''\" AS \"AGE_''41''\", \"AGE_''42''\" AS \"AGE_''42''\", \"AGE_''43''\" AS \"AGE_''43''\", \"AGE_''44''\" AS \"AGE_''44''\", \"AGE_''45''\" AS \"AGE_''45''\", \"AGE_''46''\" AS \"AGE_''46''\", \"AGE_''47''\" AS \"AGE_''47''\", \"AGE_''48''\" AS \"AGE_''48''\", \"AGE_''49''\" AS \"AGE_''49''\", \"AGE_''50''\" AS \"AGE_''50''\", \"AGE_''51''\" AS \"AGE_''51''\", \"AGE_''52''\" AS \"AGE_''52''\", \"AGE_''53''\" AS \"AGE_''53''\", \"AGE_''54''\" AS \"AGE_''54''\", \"AGE_''55''\" AS \"AGE_''55''\", \"AGE_''56''\" AS \"AGE_''56''\", \"AGE_''57''\" AS \"AGE_''57''\", \"AGE_''58''\" AS \"AGE_''58''\", \"AGE_''59''\" AS \"AGE_''59''\", \"AGE_''60''\" AS \"AGE_''60''\", \"AGE_''61''\" AS \"AGE_''61''\", \"AGE_''62''\" AS \"AGE_''62''\", \"AGE_''63''\" AS \"AGE_''63''\", \"AGE_''64''\" AS \"AGE_''64''\", \"AGE_''65''\" AS \"AGE_''65''\", \"AGE_''66''\" AS \"AGE_''66''\", \"AGE_''67''\" AS \"AGE_''67''\", \"AGE_''68''\" AS \"AGE_''68''\", \"AGE_''69''\" AS \"AGE_''69''\", \"AGE_''70''\" AS \"AGE_''70''\", \"AGE_''71''\" AS \"AGE_''71''\", \"AGE_''72''\" AS \"AGE_''72''\", \"AGE_''73''\" AS \"AGE_''73''\", \"AGE_''74''\" AS \"AGE_''74''\", \"AGE_''75''\" AS \"AGE_''75''\", \"AGE_''76''\" AS \"AGE_''76''\", \"AGE_''77''\" AS \"AGE_''77''\", \"AGE_''78''\" AS \"AGE_''78''\", \"AGE_''79''\" AS \"AGE_''79''\", \"AGE_''80''\" AS \"AGE_''80''\", \"AGE_''81''\" AS \"AGE_''81''\", \"AGE_''82''\" AS \"AGE_''82''\", \"AGE_''83''\" AS \"AGE_''83''\", \"AGE_''84''\" AS \"AGE_''84''\", \"AGE_''85''\" AS \"AGE_''85''\", \"AGE_''86''\" AS \"AGE_''86''\", \"AGE_''88''\" AS \"AGE_''88''\", \"AGE_''89''\" AS \"AGE_''89''\", \"AGE_''91''\" AS \"AGE_''91''\", \"AGE_''92''\" AS \"AGE_''92''\", \"AGE_''94''\" AS \"AGE_''94''\", \"AGE_''95''\" AS \"AGE_''95''\", \"AGE_''98''\" AS \"AGE_''98''\", \"''_CATEGORY_szmjuuzlos''\" AS \"''_CATEGORY_szmjuuzlos''\" FROM ( SELECT  *  FROM \"ML_DATASETS\".\"PUBLIC\".\"SNOWPARK_TEMP_TABLE_7H3MRQH1QV\" WHERE (\"_COLUMN_NAME\" = ''AGE''))) AS SNOWPARK_TEMP_TABLE_7EAIXEXN3N ON EQUAL_NULL(\"AGE\", \"''_CATEGORY_szmjuuzlos''\")))) AS SNOWPARK_TEMP_TABLE_D4X62GHY7Q LEFT OUTER JOIN ( SELECT \"CAMPAIGN_''1''\" AS \"CAMPAIGN_''1''\", \"CAMPAIGN_''10''\" AS \"CAMPAIGN_''10''\", \"CAMPAIGN_''11''\" AS \"CAMPAIGN_''11''\", \"CAMPAIGN_''12''\" AS \"CAMPAIGN_''12''\", \"CAMPAIGN_''13''\" AS \"CAMPAIGN_''13''\", \"CAMPAIGN_''14''\" AS \"CAMPAIGN_''14''\", \"CAMPAIGN_''15''\" AS \"CAMPAIGN_''15''\", \"CAMPAIGN_''16''\" AS \"CAMPAIGN_''16''\", \"CAMPAIGN_''17''\" AS \"CAMPAIGN_''17''\", \"CAMPAIGN_''18''\" AS \"CAMPAIGN_''18''\", \"CAMPAIGN_''19''\" AS \"CAMPAIGN_''19''\", \"CAMPAIGN_''2''\" AS \"CAMPAIGN_''2''\", \"CAMPAIGN_''20''\" AS \"CAMPAIGN_''20''\", \"CAMPAIGN_''21''\" AS \"CAMPAIGN_''21''\", \"CAMPAIGN_''22''\" AS \"CAMPAIGN_''22''\", \"CAMPAIGN_''23''\" AS \"CAMPAIGN_''23''\", \"CAMPAIGN_''24''\" AS \"CAMPAIGN_''24''\", \"CAMPAIGN_''25''\" AS \"CAMPAIGN_''25''\", \"CAMPAIGN_''26''\" AS \"CAMPAIGN_''26''\", \"CAMPAIGN_''27''\" AS \"CAMPAIGN_''27''\", \"CAMPAIGN_''28''\" AS \"CAMPAIGN_''28''\", \"CAMPAIGN_''29''\" AS \"CAMPAIGN_''29''\", \"CAMPAIGN_''3''\" AS \"CAMPAIGN_''3''\", \"CAMPAIGN_''30''\" AS \"CAMPAIGN_''30''\", \"CAMPAIGN_''31''\" AS \"CAMPAIGN_''31''\", \"CAMPAIGN_''32''\" AS \"CAMPAIGN_''32''\", \"CAMPAIGN_''33''\" AS \"CAMPAIGN_''33''\", \"CAMPAIGN_''34''\" AS \"CAMPAIGN_''34''\", \"CAMPAIGN_''35''\" AS \"CAMPAIGN_''35''\", \"CAMPAIGN_''37''\" AS \"CAMPAIGN_''37''\", \"CAMPAIGN_''39''\" AS \"CAMPAIGN_''39''\", \"CAMPAIGN_''4''\" AS \"CAMPAIGN_''4''\", \"CAMPAIGN_''40''\" AS \"CAMPAIGN_''40''\", \"CAMPAIGN_''41''\" AS \"CAMPAIGN_''41''\", \"CAMPAIGN_''42''\" AS \"CAMPAIGN_''42''\", \"CAMPAIGN_''43''\" AS \"CAMPAIGN_''43''\", \"CAMPAIGN_''5''\" AS \"CAMPAIGN_''5''\", \"CAMPAIGN_''56''\" AS \"CAMPAIGN_''56''\", \"CAMPAIGN_''6''\" AS \"CAMPAIGN_''6''\", \"CAMPAIGN_''7''\" AS \"CAMPAIGN_''7''\", \"CAMPAIGN_''8''\" AS \"CAMPAIGN_''8''\", \"CAMPAIGN_''9''\" AS \"CAMPAIGN_''9''\", \"''_CATEGORY_szmjuuzlos''\" AS \"''_CATEGORY_szmjuuzlos''\" FROM ( SELECT  *  FROM \"ML_DATASETS\".\"PUBLIC\".\"SNOWPARK_TEMP_TABLE_7H3MRQH1QV\" WHERE (\"_COLUMN_NAME\" = ''CAMPAIGN''))) AS SNOWPARK_TEMP_TABLE_XN0Z09X9NP ON EQUAL_NULL(\"CAMPAIGN\", \"''_CATEGORY_szmjuuzlos''\")))) AS SNOWPARK_TEMP_TABLE_YL1913PUSZ LEFT OUTER JOIN ( SELECT \"CONTACT_''cellular''\" AS \"CONTACT_''cellular''\", \"CONTACT_''telephone''\" AS \"CONTACT_''telephone''\", \"''_CATEGORY_szmjuuzlos''\" AS \"''_CATEGORY_szmjuuzlos''\" FROM ( SELECT  *  FROM \"ML_DATASETS\".\"PUBLIC\".\"SNOWPARK_TEMP_TABLE_7H3MRQH1QV\" WHERE (\"_COLUMN_NAME\" = ''CONTACT''))) AS SNOWPARK_TEMP_TABLE_A27DBQI7PN ON EQUAL_NULL(\"CONTACT\", \"''_CATEGORY_szmjuuzlos''\")))) AS SNOWPARK_TEMP_TABLE_8PHSIVKMGX LEFT OUTER JOIN ( SELECT \"DAY_OF_WEEK_''fri''\" AS \"DAY_OF_WEEK_''fri''\", \"DAY_OF_WEEK_''mon''\" AS \"DAY_OF_WEEK_''mon''\", \"DAY_OF_WEEK_''thu''\" AS \"DAY_OF_WEEK_''thu''\", \"DAY_OF_WEEK_''tue''\" AS \"DAY_OF_WEEK_''tue''\", \"DAY_OF_WEEK_''wed''\" AS \"DAY_OF_WEEK_''wed''\", \"''_CATEGORY_szmjuuzlos''\" AS \"''_CATEGORY_szmjuuzlos''\" FROM ( SELECT  *  FROM \"ML_DATASETS\".\"PUBLIC\".\"SNOWPARK_TEMP_TABLE_7H3MRQH1QV\" WHERE (\"_COLUMN_NAME\" = ''DAY_OF_WEEK''))) AS SNOWPARK_TEMP_TABLE_Z89PRXI3YN ON EQUAL_NULL(\"DAY_OF_WEEK\", \"''_CATEGORY_szmjuuzlos''\")))) AS SNOWPARK_TEMP_TABLE_N3H3L7BRFD LEFT OUTER JOIN ( SELECT \"DEFAULT_''no''\" AS \"DEFAULT_''no''\", \"DEFAULT_''unknown''\" AS \"DEFAULT_''unknown''\", \"DEFAULT_''yes''\" AS \"DEFAULT_''yes''\", \"''_CATEGORY_szmjuuzlos''\" AS \"''_CATEGORY_szmjuuzlos''\" FROM ( SELECT  *  FROM \"ML_DATASETS\".\"PUBLIC\".\"SNOWPARK_TEMP_TABLE_7H3MRQH1QV\" WHERE (\"_COLUMN_NAME\" = ''DEFAULT''))) AS SNOWPARK_TEMP_TABLE_90F89WJL3K ON EQUAL_NULL(\"DEFAULT\", \"''_CATEGORY_szmjuuzlos''\")))) AS SNOWPARK_TEMP_TABLE_AOEU1W2UV4 LEFT OUTER JOIN ( SELECT \"EDUCATION_''basic.4y''\" AS \"EDUCATION_''basic.4y''\", \"EDUCATION_''basic.6y''\" AS \"EDUCATION_''basic.6y''\", \"EDUCATION_''basic.9y''\" AS \"EDUCATION_''basic.9y''\", \"EDUCATION_''high.school''\" AS \"EDUCATION_''high.school''\", \"EDUCATION_''illiterate''\" AS \"EDUCATION_''illiterate''\", \"EDUCATION_''professional.course''\" AS \"EDUCATION_''professional.course''\", \"EDUCATION_''university.degree''\" AS \"EDUCATION_''university.degree''\", \"EDUCATION_''unknown''\" AS \"EDUCATION_''unknown''\", \"''_CATEGORY_szmjuuzlos''\" AS \"''_CATEGORY_szmjuuzlos''\" FROM ( SELECT  *  FROM \"ML_DATASETS\".\"PUBLIC\".\"SNOWPARK_TEMP_TABLE_7H3MRQH1QV\" WHERE (\"_COLUMN_NAME\" = ''EDUCATION''))) AS SNOWPARK_TEMP_TABLE_32DUSHV7U7 ON EQUAL_NULL(\"EDUCATION\", \"''_CATEGORY_szmjuuzlos''\")))) AS SNOWPARK_TEMP_TABLE_SF2PCXYE3W LEFT OUTER JOIN ( SELECT \"HOUSING_''no''\" AS \"HOUSING_''no''\", \"HOUSING_''unknown''\" AS \"HOUSING_''unknown''\", \"HOUSING_''yes''\" AS \"HOUSING_''yes''\", \"''_CATEGORY_szmjuuzlos''\" AS \"''_CATEGORY_szmjuuzlos''\" FROM ( SELECT  *  FROM \"ML_DATASETS\".\"PUBLIC\".\"SNOWPARK_TEMP_TABLE_7H3MRQH1QV\" WHERE (\"_COLUMN_NAME\" = ''HOUSING''))) AS SNOWPARK_TEMP_TABLE_8Z1MG8Z63K ON EQUAL_NULL(\"HOUSING\", \"''_CATEGORY_szmjuuzlos''\")))) AS SNOWPARK_TEMP_TABLE_YXTTN0PETK LEFT OUTER JOIN ( SELECT \"JOB_''admin.''\" AS \"JOB_''admin.''\", \"JOB_''blue-collar''\" AS \"JOB_''blue-collar''\", \"JOB_''entrepreneur''\" AS \"JOB_''entrepreneur''\", \"JOB_''housemaid''\" AS \"JOB_''housemaid''\", \"JOB_''management''\" AS \"JOB_''management''\", \"JOB_''retired''\" AS \"JOB_''retired''\", \"JOB_''self-employed''\" AS \"JOB_''self-employed''\", \"JOB_''services''\" AS \"JOB_''services''\", \"JOB_''student''\" AS \"JOB_''student''\", \"JOB_''technician''\" AS \"JOB_''technician''\", \"JOB_''unemployed''\" AS \"JOB_''unemployed''\", \"JOB_''unknown''\" AS \"JOB_''unknown''\", \"''_CATEGORY_szmjuuzlos''\" AS \"''_CATEGORY_szmjuuzlos''\" FROM ( SELECT  *  FROM \"ML_DATASETS\".\"PUBLIC\".\"SNOWPARK_TEMP_TABLE_7H3MRQH1QV\" WHERE (\"_COLUMN_NAME\" = ''JOB''))) AS SNOWPARK_TEMP_TABLE_9XMDCIIFIC ON EQUAL_NULL(\"JOB\", \"''_CATEGORY_szmjuuzlos''\")))) AS SNOWPARK_TEMP_TABLE_E9XWBKWJJU LEFT OUTER JOIN ( SELECT \"LOAN_''no''\" AS \"LOAN_''no''\", \"LOAN_''unknown''\" AS \"LOAN_''unknown''\", \"LOAN_''yes''\" AS \"LOAN_''yes''\", \"''_CATEGORY_szmjuuzlos''\" AS \"''_CATEGORY_szmjuuzlos''\" FROM ( SELECT  *  FROM \"ML_DATASETS\".\"PUBLIC\".\"SNOWPARK_TEMP_TABLE_7H3MRQH1QV\" WHERE (\"_COLUMN_NAME\" = ''LOAN''))) AS SNOWPARK_TEMP_TABLE_M0SLKYVF9D ON EQUAL_NULL(\"LOAN\", \"''_CATEGORY_szmjuuzlos''\")))) AS SNOWPARK_TEMP_TABLE_OJY3TON37E LEFT OUTER JOIN ( SELECT \"MARITAL_''divorced''\" AS \"MARITAL_''divorced''\", \"MARITAL_''married''\" AS \"MARITAL_''married''\", \"MARITAL_''single''\" AS \"MARITAL_''single''\", \"MARITAL_''unknown''\" AS \"MARITAL_''unknown''\", \"''_CATEGORY_szmjuuzlos''\" AS \"''_CATEGORY_szmjuuzlos''\" FROM ( SELECT  *  FROM \"ML_DATASETS\".\"PUBLIC\".\"SNOWPARK_TEMP_TABLE_7H3MRQH1QV\" WHERE (\"_COLUMN_NAME\" = ''MARITAL''))) AS SNOWPARK_TEMP_TABLE_TW4O13MSY6 ON EQUAL_NULL(\"MARITAL\", \"''_CATEGORY_szmjuuzlos''\")))) AS SNOWPARK_TEMP_TABLE_UTKCXIOMTF LEFT OUTER JOIN ( SELECT \"MONTH_''apr''\" AS \"MONTH_''apr''\", \"MONTH_''aug''\" AS \"MONTH_''aug''\", \"MONTH_''dec''\" AS \"MONTH_''dec''\", \"MONTH_''jul''\" AS \"MONTH_''jul''\", \"MONTH_''jun''\" AS \"MONTH_''jun''\", \"MONTH_''mar''\" AS \"MONTH_''mar''\", \"MONTH_''may''\" AS \"MONTH_''may''\", \"MONTH_''nov''\" AS \"MONTH_''nov''\", \"MONTH_''oct''\" AS \"MONTH_''oct''\", \"MONTH_''sep''\" AS \"MONTH_''sep''\", \"''_CATEGORY_szmjuuzlos''\" AS \"''_CATEGORY_szmjuuzlos''\" FROM ( SELECT  *  FROM \"ML_DATASETS\".\"PUBLIC\".\"SNOWPARK_TEMP_TABLE_7H3MRQH1QV\" WHERE (\"_COLUMN_NAME\" = ''MONTH''))) AS SNOWPARK_TEMP_TABLE_J1KIJUMVIK ON EQUAL_NULL(\"MONTH\", \"''_CATEGORY_szmjuuzlos''\")))) AS SNOWPARK_TEMP_TABLE_P5LADD0WOY LEFT OUTER JOIN ( SELECT \"POUTCOME_''failure''\" AS \"POUTCOME_''failure''\", \"POUTCOME_''nonexistent''\" AS \"POUTCOME_''nonexistent''\", \"POUTCOME_''success''\" AS \"POUTCOME_''success''\", \"''_CATEGORY_szmjuuzlos''\" AS \"''_CATEGORY_szmjuuzlos''\" FROM ( SELECT  *  FROM \"ML_DATASETS\".\"PUBLIC\".\"SNOWPARK_TEMP_TABLE_7H3MRQH1QV\" WHERE (\"_COLUMN_NAME\" = ''POUTCOME''))) AS SNOWPARK_TEMP_TABLE_UYMLOV0MBP ON EQUAL_NULL(\"POUTCOME\", \"''_CATEGORY_szmjuuzlos''\")))', 'SNOWML_TRANSFORM_F3467B65_3D85_4B43_A678_D6F66E1942EB/tmp5w8mukh_', 'SNOWML_TRANSFORM_F3467B65_3D85_4B43_A678_D6F66E1942EB/tmp5w8mukh_', PARSE_JSON('[]') :: ARRAY, PARSE_JSON('[]') :: ARRAY)\n",
      "100357 (P0000): Python Interpreter Error:\n",
      "Traceback (most recent call last):\n",
      "  File \"_udf_code.py\", line 7, in compute\n",
      "  File \"/opt/homebrew/anaconda3/envs/snowpark/lib/python3.8/site-packages/snowflake/ml/linear_model/logistic_regression.py\", line 360, in fit_wrapper_sproc\n",
      "  File \"/usr/lib/python_udf/41c4eeac2aad7a9c9505d8d840e88d4a8bd7375f79c59cce9c55fabcbc38aef5/lib/python3.8/site-packages/sklearn/linear_model/_logistic.py\", line 1138, in fit\n",
      "    X, y = self._validate_data(\n",
      "  File \"/usr/lib/python_udf/41c4eeac2aad7a9c9505d8d840e88d4a8bd7375f79c59cce9c55fabcbc38aef5/lib/python3.8/site-packages/sklearn/base.py\", line 596, in _validate_data\n",
      "    X, y = check_X_y(X, y, **check_params)\n",
      "  File \"/usr/lib/python_udf/41c4eeac2aad7a9c9505d8d840e88d4a8bd7375f79c59cce9c55fabcbc38aef5/lib/python3.8/site-packages/sklearn/utils/validation.py\", line 1074, in check_X_y\n",
      "    X = check_array(\n",
      "  File \"/usr/lib/python_udf/41c4eeac2aad7a9c9505d8d840e88d4a8bd7375f79c59cce9c55fabcbc38aef5/lib/python3.8/site-packages/sklearn/utils/validation.py\", line 768, in check_array\n",
      "    dtype_orig = np.result_type(*dtypes_orig)\n",
      "  File \"<__array_function__ internals>\", line 180, in result_type\n",
      "ValueError: at least one array or dtype is required\n",
      " in function SNOWML_FIT_F3467B65_3D85_4B43_A678_D6F66E1942EB with handler compute\n"
     ]
    },
    {
     "ename": "SnowparkSQLException",
     "evalue": "(1304): 01aa8df7-0405-c4ee-000c-a901156fcce3: 100357 (P0000): Python Interpreter Error:\nTraceback (most recent call last):\n  File \"_udf_code.py\", line 7, in compute\n  File \"/opt/homebrew/anaconda3/envs/snowpark/lib/python3.8/site-packages/snowflake/ml/linear_model/logistic_regression.py\", line 360, in fit_wrapper_sproc\n  File \"/usr/lib/python_udf/41c4eeac2aad7a9c9505d8d840e88d4a8bd7375f79c59cce9c55fabcbc38aef5/lib/python3.8/site-packages/sklearn/linear_model/_logistic.py\", line 1138, in fit\n    X, y = self._validate_data(\n  File \"/usr/lib/python_udf/41c4eeac2aad7a9c9505d8d840e88d4a8bd7375f79c59cce9c55fabcbc38aef5/lib/python3.8/site-packages/sklearn/base.py\", line 596, in _validate_data\n    X, y = check_X_y(X, y, **check_params)\n  File \"/usr/lib/python_udf/41c4eeac2aad7a9c9505d8d840e88d4a8bd7375f79c59cce9c55fabcbc38aef5/lib/python3.8/site-packages/sklearn/utils/validation.py\", line 1074, in check_X_y\n    X = check_array(\n  File \"/usr/lib/python_udf/41c4eeac2aad7a9c9505d8d840e88d4a8bd7375f79c59cce9c55fabcbc38aef5/lib/python3.8/site-packages/sklearn/utils/validation.py\", line 768, in check_array\n    dtype_orig = np.result_type(*dtypes_orig)\n  File \"<__array_function__ internals>\", line 180, in result_type\nValueError: at least one array or dtype is required\n in function SNOWML_FIT_F3467B65_3D85_4B43_A678_D6F66E1942EB with handler compute",
     "output_type": "error",
     "traceback": [
      "\u001b[0;31m---------------------------------------------------------------------------\u001b[0m",
      "\u001b[0;31mSnowparkSQLException\u001b[0m                      Traceback (most recent call last)",
      "Cell \u001b[0;32mIn[7], line 16\u001b[0m\n\u001b[1;32m     14\u001b[0m     prediction_col \u001b[38;5;241m=\u001b[39m \u001b[38;5;124m\"\u001b[39m\u001b[38;5;124mPREDICTION\u001b[39m\u001b[38;5;124m\"\u001b[39m\n\u001b[1;32m     15\u001b[0m     clf \u001b[38;5;241m=\u001b[39m LogisticRegression(input_cols\u001b[38;5;241m=\u001b[39mfeature_columns, output_cols\u001b[38;5;241m=\u001b[39m[prediction_col], label_cols\u001b[38;5;241m=\u001b[39mlabel_column)\n\u001b[0;32m---> 16\u001b[0m     \u001b[43mclf\u001b[49m\u001b[38;5;241;43m.\u001b[39;49m\u001b[43mfit\u001b[49m\u001b[43m(\u001b[49m\u001b[43mtrain_preprocessed\u001b[49m\u001b[43m)\u001b[49m\n\u001b[1;32m     18\u001b[0m \u001b[38;5;28;01melif\u001b[39;00m ESTIMATOR_BACKEND \u001b[38;5;241m==\u001b[39m BACKEND_SKLEARN:\n\u001b[1;32m     19\u001b[0m     clf \u001b[38;5;241m=\u001b[39m LogisticRegression(max_iter\u001b[38;5;241m=\u001b[39m\u001b[38;5;241m1000\u001b[39m)\n",
      "File \u001b[0;32m/opt/homebrew/anaconda3/envs/snowpark/lib/python3.8/site-packages/snowflake/ml/linear_model/logistic_regression.py:374\u001b[0m, in \u001b[0;36mLogisticRegression.fit\u001b[0;34m(self, dataset)\u001b[0m\n\u001b[1;32m    371\u001b[0m     \u001b[38;5;28;01mreturn\u001b[39;00m \u001b[38;5;28mstr\u001b[39m(os\u001b[38;5;241m.\u001b[39mpath\u001b[38;5;241m.\u001b[39mbasename(joblib_dump_files[\u001b[38;5;241m0\u001b[39m]))\n\u001b[1;32m    373\u001b[0m \u001b[38;5;66;03m# Call fit sproc\u001b[39;00m\n\u001b[0;32m--> 374\u001b[0m sproc_export_file_name \u001b[38;5;241m=\u001b[39m \u001b[43msession\u001b[49m\u001b[38;5;241;43m.\u001b[39;49m\u001b[43mcall\u001b[49m\u001b[43m(\u001b[49m\n\u001b[1;32m    375\u001b[0m \u001b[43m    \u001b[49m\u001b[43mfit_sproc_name\u001b[49m\u001b[43m,\u001b[49m\n\u001b[1;32m    376\u001b[0m \u001b[43m    \u001b[49m\u001b[43mquery\u001b[49m\u001b[43m,\u001b[49m\n\u001b[1;32m    377\u001b[0m \u001b[43m    \u001b[49m\u001b[43mstage_transform_file_name\u001b[49m\u001b[43m,\u001b[49m\n\u001b[1;32m    378\u001b[0m \u001b[43m    \u001b[49m\u001b[43mstage_result_file_name\u001b[49m\u001b[43m,\u001b[49m\n\u001b[1;32m    379\u001b[0m \u001b[43m    \u001b[49m\u001b[38;5;28;43mself\u001b[39;49m\u001b[38;5;241;43m.\u001b[39;49m\u001b[43minput_cols\u001b[49m\u001b[43m,\u001b[49m\n\u001b[1;32m    380\u001b[0m \u001b[43m    \u001b[49m\u001b[38;5;28;43mself\u001b[39;49m\u001b[38;5;241;43m.\u001b[39;49m\u001b[43mlabel_cols\u001b[49m\u001b[43m,\u001b[49m\n\u001b[1;32m    381\u001b[0m \u001b[43m\u001b[49m\u001b[43m)\u001b[49m\n\u001b[1;32m    383\u001b[0m \u001b[38;5;28;01mif\u001b[39;00m \u001b[38;5;124m\"\u001b[39m\u001b[38;5;124m|\u001b[39m\u001b[38;5;124m\"\u001b[39m \u001b[38;5;129;01min\u001b[39;00m sproc_export_file_name:\n\u001b[1;32m    384\u001b[0m     fields \u001b[38;5;241m=\u001b[39m sproc_export_file_name\u001b[38;5;241m.\u001b[39mstrip()\u001b[38;5;241m.\u001b[39msplit(\u001b[38;5;124m\"\u001b[39m\u001b[38;5;124m|\u001b[39m\u001b[38;5;124m\"\u001b[39m)\n",
      "File \u001b[0;32m/opt/homebrew/anaconda3/envs/snowpark/lib/python3.8/site-packages/snowflake/snowpark/session.py:1805\u001b[0m, in \u001b[0;36mSession.call\u001b[0;34m(self, sproc_name, *args)\u001b[0m\n\u001b[1;32m   1803\u001b[0m df \u001b[38;5;241m=\u001b[39m \u001b[38;5;28mself\u001b[39m\u001b[38;5;241m.\u001b[39msql(\u001b[38;5;124mf\u001b[39m\u001b[38;5;124m\"\u001b[39m\u001b[38;5;124mCALL \u001b[39m\u001b[38;5;132;01m{\u001b[39;00msproc_name\u001b[38;5;132;01m}\u001b[39;00m\u001b[38;5;124m(\u001b[39m\u001b[38;5;132;01m{\u001b[39;00m\u001b[38;5;124m'\u001b[39m\u001b[38;5;124m, \u001b[39m\u001b[38;5;124m'\u001b[39m\u001b[38;5;241m.\u001b[39mjoin(sql_args)\u001b[38;5;132;01m}\u001b[39;00m\u001b[38;5;124m)\u001b[39m\u001b[38;5;124m\"\u001b[39m)\n\u001b[1;32m   1804\u001b[0m set_api_call_source(df, \u001b[38;5;124m\"\u001b[39m\u001b[38;5;124mSession.call\u001b[39m\u001b[38;5;124m\"\u001b[39m)\n\u001b[0;32m-> 1805\u001b[0m \u001b[38;5;28;01mreturn\u001b[39;00m \u001b[43mdf\u001b[49m\u001b[38;5;241;43m.\u001b[39;49m\u001b[43mcollect\u001b[49m\u001b[43m(\u001b[49m\u001b[43m)\u001b[49m[\u001b[38;5;241m0\u001b[39m][\u001b[38;5;241m0\u001b[39m]\n",
      "File \u001b[0;32m/opt/homebrew/anaconda3/envs/snowpark/lib/python3.8/site-packages/snowflake/snowpark/_internal/telemetry.py:138\u001b[0m, in \u001b[0;36mdf_collect_api_telemetry.<locals>.wrap\u001b[0;34m(*args, **kwargs)\u001b[0m\n\u001b[1;32m    135\u001b[0m \u001b[38;5;129m@functools\u001b[39m\u001b[38;5;241m.\u001b[39mwraps(func)\n\u001b[1;32m    136\u001b[0m \u001b[38;5;28;01mdef\u001b[39;00m \u001b[38;5;21mwrap\u001b[39m(\u001b[38;5;241m*\u001b[39margs, \u001b[38;5;241m*\u001b[39m\u001b[38;5;241m*\u001b[39mkwargs):\n\u001b[1;32m    137\u001b[0m     \u001b[38;5;28;01mwith\u001b[39;00m args[\u001b[38;5;241m0\u001b[39m]\u001b[38;5;241m.\u001b[39m_session\u001b[38;5;241m.\u001b[39mquery_history() \u001b[38;5;28;01mas\u001b[39;00m query_history:\n\u001b[0;32m--> 138\u001b[0m         result \u001b[38;5;241m=\u001b[39m \u001b[43mfunc\u001b[49m\u001b[43m(\u001b[49m\u001b[38;5;241;43m*\u001b[39;49m\u001b[43margs\u001b[49m\u001b[43m,\u001b[49m\u001b[43m \u001b[49m\u001b[38;5;241;43m*\u001b[39;49m\u001b[38;5;241;43m*\u001b[39;49m\u001b[43mkwargs\u001b[49m\u001b[43m)\u001b[49m\n\u001b[1;32m    139\u001b[0m     plan \u001b[38;5;241m=\u001b[39m args[\u001b[38;5;241m0\u001b[39m]\u001b[38;5;241m.\u001b[39m_select_statement \u001b[38;5;129;01mor\u001b[39;00m args[\u001b[38;5;241m0\u001b[39m]\u001b[38;5;241m.\u001b[39m_plan\n\u001b[1;32m    140\u001b[0m     api_calls \u001b[38;5;241m=\u001b[39m [\n\u001b[1;32m    141\u001b[0m         \u001b[38;5;241m*\u001b[39mplan\u001b[38;5;241m.\u001b[39mapi_calls,\n\u001b[1;32m    142\u001b[0m         {TelemetryField\u001b[38;5;241m.\u001b[39mNAME\u001b[38;5;241m.\u001b[39mvalue: \u001b[38;5;124mf\u001b[39m\u001b[38;5;124m\"\u001b[39m\u001b[38;5;124mDataFrame.\u001b[39m\u001b[38;5;132;01m{\u001b[39;00mfunc\u001b[38;5;241m.\u001b[39m\u001b[38;5;18m__name__\u001b[39m\u001b[38;5;132;01m}\u001b[39;00m\u001b[38;5;124m\"\u001b[39m},\n\u001b[1;32m    143\u001b[0m     ]\n",
      "File \u001b[0;32m/opt/homebrew/anaconda3/envs/snowpark/lib/python3.8/site-packages/snowflake/snowpark/dataframe.py:546\u001b[0m, in \u001b[0;36mDataFrame.collect\u001b[0;34m(self, statement_params, block)\u001b[0m\n\u001b[1;32m    530\u001b[0m \u001b[38;5;129m@df_collect_api_telemetry\u001b[39m\n\u001b[1;32m    531\u001b[0m \u001b[38;5;28;01mdef\u001b[39;00m \u001b[38;5;21mcollect\u001b[39m(\n\u001b[1;32m    532\u001b[0m     \u001b[38;5;28mself\u001b[39m, \u001b[38;5;241m*\u001b[39m, statement_params: Optional[Dict[\u001b[38;5;28mstr\u001b[39m, \u001b[38;5;28mstr\u001b[39m]] \u001b[38;5;241m=\u001b[39m \u001b[38;5;28;01mNone\u001b[39;00m, block: \u001b[38;5;28mbool\u001b[39m \u001b[38;5;241m=\u001b[39m \u001b[38;5;28;01mTrue\u001b[39;00m\n\u001b[1;32m    533\u001b[0m ) \u001b[38;5;241m-\u001b[39m\u001b[38;5;241m>\u001b[39m Union[List[Row], AsyncJob]:\n\u001b[1;32m    534\u001b[0m \u001b[38;5;250m    \u001b[39m\u001b[38;5;124;03m\"\"\"Executes the query representing this DataFrame and returns the result as a\u001b[39;00m\n\u001b[1;32m    535\u001b[0m \u001b[38;5;124;03m    list of :class:`Row` objects.\u001b[39;00m\n\u001b[1;32m    536\u001b[0m \n\u001b[0;32m   (...)\u001b[0m\n\u001b[1;32m    544\u001b[0m \u001b[38;5;124;03m        :meth:`collect_nowait()`\u001b[39;00m\n\u001b[1;32m    545\u001b[0m \u001b[38;5;124;03m    \"\"\"\u001b[39;00m\n\u001b[0;32m--> 546\u001b[0m     \u001b[38;5;28;01mreturn\u001b[39;00m \u001b[38;5;28;43mself\u001b[39;49m\u001b[38;5;241;43m.\u001b[39;49m\u001b[43m_internal_collect_with_tag_no_telemetry\u001b[49m\u001b[43m(\u001b[49m\n\u001b[1;32m    547\u001b[0m \u001b[43m        \u001b[49m\u001b[43mstatement_params\u001b[49m\u001b[38;5;241;43m=\u001b[39;49m\u001b[43mstatement_params\u001b[49m\u001b[43m,\u001b[49m\u001b[43m \u001b[49m\u001b[43mblock\u001b[49m\u001b[38;5;241;43m=\u001b[39;49m\u001b[43mblock\u001b[49m\n\u001b[1;32m    548\u001b[0m \u001b[43m    \u001b[49m\u001b[43m)\u001b[49m\n",
      "File \u001b[0;32m/opt/homebrew/anaconda3/envs/snowpark/lib/python3.8/site-packages/snowflake/snowpark/dataframe.py:581\u001b[0m, in \u001b[0;36mDataFrame._internal_collect_with_tag_no_telemetry\u001b[0;34m(self, statement_params, block, data_type)\u001b[0m\n\u001b[1;32m    571\u001b[0m \u001b[38;5;28;01mdef\u001b[39;00m \u001b[38;5;21m_internal_collect_with_tag_no_telemetry\u001b[39m(\n\u001b[1;32m    572\u001b[0m     \u001b[38;5;28mself\u001b[39m,\n\u001b[1;32m    573\u001b[0m     \u001b[38;5;241m*\u001b[39m,\n\u001b[0;32m   (...)\u001b[0m\n\u001b[1;32m    579\u001b[0m     \u001b[38;5;66;03m# we should always call this method instead of collect(), to make sure the\u001b[39;00m\n\u001b[1;32m    580\u001b[0m     \u001b[38;5;66;03m# query tag is set properly.\u001b[39;00m\n\u001b[0;32m--> 581\u001b[0m     \u001b[38;5;28;01mreturn\u001b[39;00m \u001b[38;5;28;43mself\u001b[39;49m\u001b[38;5;241;43m.\u001b[39;49m\u001b[43m_session\u001b[49m\u001b[38;5;241;43m.\u001b[39;49m\u001b[43m_conn\u001b[49m\u001b[38;5;241;43m.\u001b[39;49m\u001b[43mexecute\u001b[49m\u001b[43m(\u001b[49m\n\u001b[1;32m    582\u001b[0m \u001b[43m        \u001b[49m\u001b[38;5;28;43mself\u001b[39;49m\u001b[38;5;241;43m.\u001b[39;49m\u001b[43m_plan\u001b[49m\u001b[43m,\u001b[49m\n\u001b[1;32m    583\u001b[0m \u001b[43m        \u001b[49m\u001b[43mblock\u001b[49m\u001b[38;5;241;43m=\u001b[39;49m\u001b[43mblock\u001b[49m\u001b[43m,\u001b[49m\n\u001b[1;32m    584\u001b[0m \u001b[43m        \u001b[49m\u001b[43mdata_type\u001b[49m\u001b[38;5;241;43m=\u001b[39;49m\u001b[43mdata_type\u001b[49m\u001b[43m,\u001b[49m\n\u001b[1;32m    585\u001b[0m \u001b[43m        \u001b[49m\u001b[43m_statement_params\u001b[49m\u001b[38;5;241;43m=\u001b[39;49m\u001b[43mcreate_or_update_statement_params_with_query_tag\u001b[49m\u001b[43m(\u001b[49m\n\u001b[1;32m    586\u001b[0m \u001b[43m            \u001b[49m\u001b[43mstatement_params\u001b[49m\u001b[43m,\u001b[49m\u001b[43m \u001b[49m\u001b[38;5;28;43mself\u001b[39;49m\u001b[38;5;241;43m.\u001b[39;49m\u001b[43m_session\u001b[49m\u001b[38;5;241;43m.\u001b[39;49m\u001b[43mquery_tag\u001b[49m\u001b[43m,\u001b[49m\u001b[43m \u001b[49m\u001b[43mSKIP_LEVELS_THREE\u001b[49m\n\u001b[1;32m    587\u001b[0m \u001b[43m        \u001b[49m\u001b[43m)\u001b[49m\u001b[43m,\u001b[49m\n\u001b[1;32m    588\u001b[0m \u001b[43m    \u001b[49m\u001b[43m)\u001b[49m\n",
      "File \u001b[0;32m/opt/homebrew/anaconda3/envs/snowpark/lib/python3.8/site-packages/snowflake/snowpark/_internal/server_connection.py:406\u001b[0m, in \u001b[0;36mServerConnection.execute\u001b[0;34m(self, plan, to_pandas, to_iter, block, data_type, **kwargs)\u001b[0m\n\u001b[1;32m    402\u001b[0m \u001b[38;5;28;01mif\u001b[39;00m is_in_stored_procedure() \u001b[38;5;129;01mand\u001b[39;00m \u001b[38;5;129;01mnot\u001b[39;00m block:  \u001b[38;5;66;03m# pragma: no cover\u001b[39;00m\n\u001b[1;32m    403\u001b[0m     \u001b[38;5;28;01mraise\u001b[39;00m \u001b[38;5;167;01mNotImplementedError\u001b[39;00m(\n\u001b[1;32m    404\u001b[0m         \u001b[38;5;124m\"\u001b[39m\u001b[38;5;124mAsync query is not supported in stored procedure yet\u001b[39m\u001b[38;5;124m\"\u001b[39m\n\u001b[1;32m    405\u001b[0m     )\n\u001b[0;32m--> 406\u001b[0m result_set, result_meta \u001b[38;5;241m=\u001b[39m \u001b[38;5;28;43mself\u001b[39;49m\u001b[38;5;241;43m.\u001b[39;49m\u001b[43mget_result_set\u001b[49m\u001b[43m(\u001b[49m\n\u001b[1;32m    407\u001b[0m \u001b[43m    \u001b[49m\u001b[43mplan\u001b[49m\u001b[43m,\u001b[49m\u001b[43m \u001b[49m\u001b[43mto_pandas\u001b[49m\u001b[43m,\u001b[49m\u001b[43m \u001b[49m\u001b[43mto_iter\u001b[49m\u001b[43m,\u001b[49m\u001b[43m \u001b[49m\u001b[38;5;241;43m*\u001b[39;49m\u001b[38;5;241;43m*\u001b[39;49m\u001b[43mkwargs\u001b[49m\u001b[43m,\u001b[49m\u001b[43m \u001b[49m\u001b[43mblock\u001b[49m\u001b[38;5;241;43m=\u001b[39;49m\u001b[43mblock\u001b[49m\u001b[43m,\u001b[49m\u001b[43m \u001b[49m\u001b[43mdata_type\u001b[49m\u001b[38;5;241;43m=\u001b[39;49m\u001b[43mdata_type\u001b[49m\n\u001b[1;32m    408\u001b[0m \u001b[43m\u001b[49m\u001b[43m)\u001b[49m\n\u001b[1;32m    409\u001b[0m \u001b[38;5;28;01mif\u001b[39;00m \u001b[38;5;129;01mnot\u001b[39;00m block:\n\u001b[1;32m    410\u001b[0m     \u001b[38;5;28;01mreturn\u001b[39;00m result_set\n",
      "File \u001b[0;32m/opt/homebrew/anaconda3/envs/snowpark/lib/python3.8/site-packages/snowflake/snowpark/_internal/analyzer/snowflake_plan.py:156\u001b[0m, in \u001b[0;36mSnowflakePlan.Decorator.wrap_exception.<locals>.wrap\u001b[0;34m(*args, **kwargs)\u001b[0m\n\u001b[1;32m    152\u001b[0m \u001b[38;5;28;01melse\u001b[39;00m:\n\u001b[1;32m    153\u001b[0m     ne \u001b[38;5;241m=\u001b[39m SnowparkClientExceptionMessages\u001b[38;5;241m.\u001b[39mSQL_EXCEPTION_FROM_PROGRAMMING_ERROR(\n\u001b[1;32m    154\u001b[0m         e\n\u001b[1;32m    155\u001b[0m     )\n\u001b[0;32m--> 156\u001b[0m     \u001b[38;5;28;01mraise\u001b[39;00m ne\u001b[38;5;241m.\u001b[39mwith_traceback(tb) \u001b[38;5;28;01mfrom\u001b[39;00m \u001b[38;5;28mNone\u001b[39m\n",
      "File \u001b[0;32m/opt/homebrew/anaconda3/envs/snowpark/lib/python3.8/site-packages/snowflake/snowpark/_internal/analyzer/snowflake_plan.py:89\u001b[0m, in \u001b[0;36mSnowflakePlan.Decorator.wrap_exception.<locals>.wrap\u001b[0;34m(*args, **kwargs)\u001b[0m\n\u001b[1;32m     87\u001b[0m \u001b[38;5;28;01mdef\u001b[39;00m \u001b[38;5;21mwrap\u001b[39m(\u001b[38;5;241m*\u001b[39margs, \u001b[38;5;241m*\u001b[39m\u001b[38;5;241m*\u001b[39mkwargs):\n\u001b[1;32m     88\u001b[0m     \u001b[38;5;28;01mtry\u001b[39;00m:\n\u001b[0;32m---> 89\u001b[0m         \u001b[38;5;28;01mreturn\u001b[39;00m \u001b[43mfunc\u001b[49m\u001b[43m(\u001b[49m\u001b[38;5;241;43m*\u001b[39;49m\u001b[43margs\u001b[49m\u001b[43m,\u001b[49m\u001b[43m \u001b[49m\u001b[38;5;241;43m*\u001b[39;49m\u001b[38;5;241;43m*\u001b[39;49m\u001b[43mkwargs\u001b[49m\u001b[43m)\u001b[49m\n\u001b[1;32m     90\u001b[0m     \u001b[38;5;28;01mexcept\u001b[39;00m snowflake\u001b[38;5;241m.\u001b[39mconnector\u001b[38;5;241m.\u001b[39merrors\u001b[38;5;241m.\u001b[39mProgrammingError \u001b[38;5;28;01mas\u001b[39;00m e:\n\u001b[1;32m     91\u001b[0m         tb \u001b[38;5;241m=\u001b[39m sys\u001b[38;5;241m.\u001b[39mexc_info()[\u001b[38;5;241m2\u001b[39m]\n",
      "File \u001b[0;32m/opt/homebrew/anaconda3/envs/snowpark/lib/python3.8/site-packages/snowflake/snowpark/_internal/server_connection.py:494\u001b[0m, in \u001b[0;36mServerConnection.get_result_set\u001b[0;34m(self, plan, to_pandas, to_iter, block, data_type, **kwargs)\u001b[0m\n\u001b[1;32m    492\u001b[0m \u001b[38;5;28;01mfor\u001b[39;00m holder, id_ \u001b[38;5;129;01min\u001b[39;00m placeholders\u001b[38;5;241m.\u001b[39mitems():\n\u001b[1;32m    493\u001b[0m     final_query \u001b[38;5;241m=\u001b[39m final_query\u001b[38;5;241m.\u001b[39mreplace(holder, id_)\n\u001b[0;32m--> 494\u001b[0m result \u001b[38;5;241m=\u001b[39m \u001b[38;5;28;43mself\u001b[39;49m\u001b[38;5;241;43m.\u001b[39;49m\u001b[43mrun_query\u001b[49m\u001b[43m(\u001b[49m\n\u001b[1;32m    495\u001b[0m \u001b[43m    \u001b[49m\u001b[43mfinal_query\u001b[49m\u001b[43m,\u001b[49m\n\u001b[1;32m    496\u001b[0m \u001b[43m    \u001b[49m\u001b[43mto_pandas\u001b[49m\u001b[43m,\u001b[49m\n\u001b[1;32m    497\u001b[0m \u001b[43m    \u001b[49m\u001b[43mto_iter\u001b[49m\u001b[43m \u001b[49m\u001b[38;5;129;43;01mand\u001b[39;49;00m\u001b[43m \u001b[49m\u001b[43m(\u001b[49m\u001b[43mi\u001b[49m\u001b[43m \u001b[49m\u001b[38;5;241;43m==\u001b[39;49m\u001b[43m \u001b[49m\u001b[38;5;28;43mlen\u001b[39;49m\u001b[43m(\u001b[49m\u001b[43mplan\u001b[49m\u001b[38;5;241;43m.\u001b[39;49m\u001b[43mqueries\u001b[49m\u001b[43m)\u001b[49m\u001b[43m \u001b[49m\u001b[38;5;241;43m-\u001b[39;49m\u001b[43m \u001b[49m\u001b[38;5;241;43m1\u001b[39;49m\u001b[43m)\u001b[49m\u001b[43m,\u001b[49m\n\u001b[1;32m    498\u001b[0m \u001b[43m    \u001b[49m\u001b[43mis_ddl_on_temp_object\u001b[49m\u001b[38;5;241;43m=\u001b[39;49m\u001b[43mquery\u001b[49m\u001b[38;5;241;43m.\u001b[39;49m\u001b[43mis_ddl_on_temp_object\u001b[49m\u001b[43m,\u001b[49m\n\u001b[1;32m    499\u001b[0m \u001b[43m    \u001b[49m\u001b[43mblock\u001b[49m\u001b[38;5;241;43m=\u001b[39;49m\u001b[38;5;129;43;01mnot\u001b[39;49;00m\u001b[43m \u001b[49m\u001b[43mis_last\u001b[49m\u001b[43m,\u001b[49m\n\u001b[1;32m    500\u001b[0m \u001b[43m    \u001b[49m\u001b[43mdata_type\u001b[49m\u001b[38;5;241;43m=\u001b[39;49m\u001b[43mdata_type\u001b[49m\u001b[43m,\u001b[49m\n\u001b[1;32m    501\u001b[0m \u001b[43m    \u001b[49m\u001b[43masync_job_plan\u001b[49m\u001b[38;5;241;43m=\u001b[39;49m\u001b[43mplan\u001b[49m\u001b[43m,\u001b[49m\n\u001b[1;32m    502\u001b[0m \u001b[43m    \u001b[49m\u001b[38;5;241;43m*\u001b[39;49m\u001b[38;5;241;43m*\u001b[39;49m\u001b[43mkwargs\u001b[49m\u001b[43m,\u001b[49m\n\u001b[1;32m    503\u001b[0m \u001b[43m\u001b[49m\u001b[43m)\u001b[49m\n\u001b[1;32m    504\u001b[0m placeholders[query\u001b[38;5;241m.\u001b[39mquery_id_place_holder] \u001b[38;5;241m=\u001b[39m (\n\u001b[1;32m    505\u001b[0m     result[\u001b[38;5;124m\"\u001b[39m\u001b[38;5;124msfqid\u001b[39m\u001b[38;5;124m\"\u001b[39m] \u001b[38;5;28;01mif\u001b[39;00m \u001b[38;5;129;01mnot\u001b[39;00m is_last \u001b[38;5;28;01melse\u001b[39;00m result\u001b[38;5;241m.\u001b[39mquery_id\n\u001b[1;32m    506\u001b[0m )\n\u001b[1;32m    507\u001b[0m result_meta \u001b[38;5;241m=\u001b[39m \u001b[38;5;28mself\u001b[39m\u001b[38;5;241m.\u001b[39m_cursor\u001b[38;5;241m.\u001b[39mdescription\n",
      "File \u001b[0;32m/opt/homebrew/anaconda3/envs/snowpark/lib/python3.8/site-packages/snowflake/snowpark/_internal/server_connection.py:104\u001b[0m, in \u001b[0;36mServerConnection._Decorator.wrap_exception.<locals>.wrap\u001b[0;34m(*args, **kwargs)\u001b[0m\n\u001b[1;32m    100\u001b[0m     \u001b[38;5;28;01mraise\u001b[39;00m SnowparkClientExceptionMessages\u001b[38;5;241m.\u001b[39mSERVER_SESSION_EXPIRED(\n\u001b[1;32m    101\u001b[0m         ex\u001b[38;5;241m.\u001b[39mcause\n\u001b[1;32m    102\u001b[0m     )\n\u001b[1;32m    103\u001b[0m \u001b[38;5;28;01mexcept\u001b[39;00m \u001b[38;5;167;01mException\u001b[39;00m \u001b[38;5;28;01mas\u001b[39;00m ex:\n\u001b[0;32m--> 104\u001b[0m     \u001b[38;5;28;01mraise\u001b[39;00m ex\n",
      "File \u001b[0;32m/opt/homebrew/anaconda3/envs/snowpark/lib/python3.8/site-packages/snowflake/snowpark/_internal/server_connection.py:98\u001b[0m, in \u001b[0;36mServerConnection._Decorator.wrap_exception.<locals>.wrap\u001b[0;34m(*args, **kwargs)\u001b[0m\n\u001b[1;32m     96\u001b[0m     \u001b[38;5;28;01mraise\u001b[39;00m SnowparkClientExceptionMessages\u001b[38;5;241m.\u001b[39mSERVER_SESSION_HAS_BEEN_CLOSED()\n\u001b[1;32m     97\u001b[0m \u001b[38;5;28;01mtry\u001b[39;00m:\n\u001b[0;32m---> 98\u001b[0m     \u001b[38;5;28;01mreturn\u001b[39;00m \u001b[43mfunc\u001b[49m\u001b[43m(\u001b[49m\u001b[38;5;241;43m*\u001b[39;49m\u001b[43margs\u001b[49m\u001b[43m,\u001b[49m\u001b[43m \u001b[49m\u001b[38;5;241;43m*\u001b[39;49m\u001b[38;5;241;43m*\u001b[39;49m\u001b[43mkwargs\u001b[49m\u001b[43m)\u001b[49m\n\u001b[1;32m     99\u001b[0m \u001b[38;5;28;01mexcept\u001b[39;00m ReauthenticationRequest \u001b[38;5;28;01mas\u001b[39;00m ex:\n\u001b[1;32m    100\u001b[0m     \u001b[38;5;28;01mraise\u001b[39;00m SnowparkClientExceptionMessages\u001b[38;5;241m.\u001b[39mSERVER_SESSION_EXPIRED(\n\u001b[1;32m    101\u001b[0m         ex\u001b[38;5;241m.\u001b[39mcause\n\u001b[1;32m    102\u001b[0m     )\n",
      "File \u001b[0;32m/opt/homebrew/anaconda3/envs/snowpark/lib/python3.8/site-packages/snowflake/snowpark/_internal/server_connection.py:333\u001b[0m, in \u001b[0;36mServerConnection.run_query\u001b[0;34m(self, query, to_pandas, to_iter, is_ddl_on_temp_object, block, data_type, async_job_plan, **kwargs)\u001b[0m\n\u001b[1;32m    331\u001b[0m     query_id_log \u001b[38;5;241m=\u001b[39m \u001b[38;5;124mf\u001b[39m\u001b[38;5;124m\"\u001b[39m\u001b[38;5;124m [queryID: \u001b[39m\u001b[38;5;132;01m{\u001b[39;00mex\u001b[38;5;241m.\u001b[39msfqid\u001b[38;5;132;01m}\u001b[39;00m\u001b[38;5;124m]\u001b[39m\u001b[38;5;124m\"\u001b[39m \u001b[38;5;28;01mif\u001b[39;00m \u001b[38;5;28mhasattr\u001b[39m(ex, \u001b[38;5;124m\"\u001b[39m\u001b[38;5;124msfqid\u001b[39m\u001b[38;5;124m\"\u001b[39m) \u001b[38;5;28;01melse\u001b[39;00m \u001b[38;5;124m\"\u001b[39m\u001b[38;5;124m\"\u001b[39m\n\u001b[1;32m    332\u001b[0m     logger\u001b[38;5;241m.\u001b[39merror(\u001b[38;5;124mf\u001b[39m\u001b[38;5;124m\"\u001b[39m\u001b[38;5;124mFailed to execute query\u001b[39m\u001b[38;5;132;01m{\u001b[39;00mquery_id_log\u001b[38;5;132;01m}\u001b[39;00m\u001b[38;5;124m \u001b[39m\u001b[38;5;132;01m{\u001b[39;00mquery\u001b[38;5;132;01m}\u001b[39;00m\u001b[38;5;130;01m\\n\u001b[39;00m\u001b[38;5;132;01m{\u001b[39;00mex\u001b[38;5;132;01m}\u001b[39;00m\u001b[38;5;124m\"\u001b[39m)\n\u001b[0;32m--> 333\u001b[0m     \u001b[38;5;28;01mraise\u001b[39;00m ex\n\u001b[1;32m    335\u001b[0m \u001b[38;5;66;03m# fetch_pandas_all/batches() only works for SELECT statements\u001b[39;00m\n\u001b[1;32m    336\u001b[0m \u001b[38;5;66;03m# We call fetchall() if fetch_pandas_all/batches() fails,\u001b[39;00m\n\u001b[1;32m    337\u001b[0m \u001b[38;5;66;03m# because when the query plan has multiple queries, it will\u001b[39;00m\n\u001b[1;32m    338\u001b[0m \u001b[38;5;66;03m# have non-select statements, and it shouldn't fail if the user\u001b[39;00m\n\u001b[1;32m    339\u001b[0m \u001b[38;5;66;03m# calls to_pandas() to execute the query.\u001b[39;00m\n\u001b[1;32m    340\u001b[0m \u001b[38;5;28;01mif\u001b[39;00m block:\n",
      "File \u001b[0;32m/opt/homebrew/anaconda3/envs/snowpark/lib/python3.8/site-packages/snowflake/snowpark/_internal/server_connection.py:317\u001b[0m, in \u001b[0;36mServerConnection.run_query\u001b[0;34m(self, query, to_pandas, to_iter, is_ddl_on_temp_object, block, data_type, async_job_plan, **kwargs)\u001b[0m\n\u001b[1;32m    315\u001b[0m     kwargs[\u001b[38;5;124m\"\u001b[39m\u001b[38;5;124m_statement_params\u001b[39m\u001b[38;5;124m\"\u001b[39m][\u001b[38;5;124m\"\u001b[39m\u001b[38;5;124mSNOWPARK_SKIP_TXN_COMMIT_IN_DDL\u001b[39m\u001b[38;5;124m\"\u001b[39m] \u001b[38;5;241m=\u001b[39m \u001b[38;5;28;01mTrue\u001b[39;00m\n\u001b[1;32m    316\u001b[0m \u001b[38;5;28;01mif\u001b[39;00m block:\n\u001b[0;32m--> 317\u001b[0m     results_cursor \u001b[38;5;241m=\u001b[39m \u001b[38;5;28;43mself\u001b[39;49m\u001b[38;5;241;43m.\u001b[39;49m\u001b[43m_cursor\u001b[49m\u001b[38;5;241;43m.\u001b[39;49m\u001b[43mexecute\u001b[49m\u001b[43m(\u001b[49m\u001b[43mquery\u001b[49m\u001b[43m,\u001b[49m\u001b[43m \u001b[49m\u001b[38;5;241;43m*\u001b[39;49m\u001b[38;5;241;43m*\u001b[39;49m\u001b[43mkwargs\u001b[49m\u001b[43m)\u001b[49m\n\u001b[1;32m    318\u001b[0m     \u001b[38;5;28mself\u001b[39m\u001b[38;5;241m.\u001b[39mnotify_query_listeners(\n\u001b[1;32m    319\u001b[0m         QueryRecord(results_cursor\u001b[38;5;241m.\u001b[39msfqid, results_cursor\u001b[38;5;241m.\u001b[39mquery)\n\u001b[1;32m    320\u001b[0m     )\n\u001b[1;32m    321\u001b[0m     logger\u001b[38;5;241m.\u001b[39mdebug(\u001b[38;5;124mf\u001b[39m\u001b[38;5;124m\"\u001b[39m\u001b[38;5;124mExecute query [queryID: \u001b[39m\u001b[38;5;132;01m{\u001b[39;00mresults_cursor\u001b[38;5;241m.\u001b[39msfqid\u001b[38;5;132;01m}\u001b[39;00m\u001b[38;5;124m] \u001b[39m\u001b[38;5;132;01m{\u001b[39;00mquery\u001b[38;5;132;01m}\u001b[39;00m\u001b[38;5;124m\"\u001b[39m)\n",
      "File \u001b[0;32m/opt/homebrew/anaconda3/envs/snowpark/lib/python3.8/site-packages/snowflake/connector/cursor.py:804\u001b[0m, in \u001b[0;36mSnowflakeCursor.execute\u001b[0;34m(self, command, params, _bind_stage, timeout, _exec_async, _no_retry, _do_reset, _put_callback, _put_azure_callback, _put_callback_output_stream, _get_callback, _get_azure_callback, _get_callback_output_stream, _show_progress_bar, _statement_params, _is_internal, _describe_only, _no_results, _is_put_get, _raise_put_get_error, _force_put_overwrite, file_stream)\u001b[0m\n\u001b[1;32m    800\u001b[0m     is_integrity_error \u001b[38;5;241m=\u001b[39m (\n\u001b[1;32m    801\u001b[0m         code \u001b[38;5;241m==\u001b[39m \u001b[38;5;124m\"\u001b[39m\u001b[38;5;124m100072\u001b[39m\u001b[38;5;124m\"\u001b[39m\n\u001b[1;32m    802\u001b[0m     )  \u001b[38;5;66;03m# NULL result in a non-nullable column\u001b[39;00m\n\u001b[1;32m    803\u001b[0m     error_class \u001b[38;5;241m=\u001b[39m IntegrityError \u001b[38;5;28;01mif\u001b[39;00m is_integrity_error \u001b[38;5;28;01melse\u001b[39;00m ProgrammingError\n\u001b[0;32m--> 804\u001b[0m     \u001b[43mError\u001b[49m\u001b[38;5;241;43m.\u001b[39;49m\u001b[43merrorhandler_wrapper\u001b[49m\u001b[43m(\u001b[49m\u001b[38;5;28;43mself\u001b[39;49m\u001b[38;5;241;43m.\u001b[39;49m\u001b[43mconnection\u001b[49m\u001b[43m,\u001b[49m\u001b[43m \u001b[49m\u001b[38;5;28;43mself\u001b[39;49m\u001b[43m,\u001b[49m\u001b[43m \u001b[49m\u001b[43merror_class\u001b[49m\u001b[43m,\u001b[49m\u001b[43m \u001b[49m\u001b[43merrvalue\u001b[49m\u001b[43m)\u001b[49m\n\u001b[1;32m    805\u001b[0m \u001b[38;5;28;01mreturn\u001b[39;00m \u001b[38;5;28mself\u001b[39m\n",
      "File \u001b[0;32m/opt/homebrew/anaconda3/envs/snowpark/lib/python3.8/site-packages/snowflake/connector/errors.py:276\u001b[0m, in \u001b[0;36mError.errorhandler_wrapper\u001b[0;34m(connection, cursor, error_class, error_value)\u001b[0m\n\u001b[1;32m    253\u001b[0m \u001b[38;5;129m@staticmethod\u001b[39m\n\u001b[1;32m    254\u001b[0m \u001b[38;5;28;01mdef\u001b[39;00m \u001b[38;5;21merrorhandler_wrapper\u001b[39m(\n\u001b[1;32m    255\u001b[0m     connection: SnowflakeConnection \u001b[38;5;241m|\u001b[39m \u001b[38;5;28;01mNone\u001b[39;00m,\n\u001b[0;32m   (...)\u001b[0m\n\u001b[1;32m    258\u001b[0m     error_value: \u001b[38;5;28mdict\u001b[39m[\u001b[38;5;28mstr\u001b[39m, \u001b[38;5;28mstr\u001b[39m \u001b[38;5;241m|\u001b[39m \u001b[38;5;28mbool\u001b[39m \u001b[38;5;241m|\u001b[39m \u001b[38;5;28mint\u001b[39m],\n\u001b[1;32m    259\u001b[0m ) \u001b[38;5;241m-\u001b[39m\u001b[38;5;241m>\u001b[39m \u001b[38;5;28;01mNone\u001b[39;00m:\n\u001b[1;32m    260\u001b[0m \u001b[38;5;250m    \u001b[39m\u001b[38;5;124;03m\"\"\"Error handler wrapper that calls the errorhandler method.\u001b[39;00m\n\u001b[1;32m    261\u001b[0m \n\u001b[1;32m    262\u001b[0m \u001b[38;5;124;03m    Args:\u001b[39;00m\n\u001b[0;32m   (...)\u001b[0m\n\u001b[1;32m    273\u001b[0m \u001b[38;5;124;03m        exception to the first handler in that order.\u001b[39;00m\n\u001b[1;32m    274\u001b[0m \u001b[38;5;124;03m    \"\"\"\u001b[39;00m\n\u001b[0;32m--> 276\u001b[0m     handed_over \u001b[38;5;241m=\u001b[39m \u001b[43mError\u001b[49m\u001b[38;5;241;43m.\u001b[39;49m\u001b[43mhand_to_other_handler\u001b[49m\u001b[43m(\u001b[49m\n\u001b[1;32m    277\u001b[0m \u001b[43m        \u001b[49m\u001b[43mconnection\u001b[49m\u001b[43m,\u001b[49m\n\u001b[1;32m    278\u001b[0m \u001b[43m        \u001b[49m\u001b[43mcursor\u001b[49m\u001b[43m,\u001b[49m\n\u001b[1;32m    279\u001b[0m \u001b[43m        \u001b[49m\u001b[43merror_class\u001b[49m\u001b[43m,\u001b[49m\n\u001b[1;32m    280\u001b[0m \u001b[43m        \u001b[49m\u001b[43merror_value\u001b[49m\u001b[43m,\u001b[49m\n\u001b[1;32m    281\u001b[0m \u001b[43m    \u001b[49m\u001b[43m)\u001b[49m\n\u001b[1;32m    282\u001b[0m     \u001b[38;5;28;01mif\u001b[39;00m \u001b[38;5;129;01mnot\u001b[39;00m handed_over:\n\u001b[1;32m    283\u001b[0m         \u001b[38;5;28;01mraise\u001b[39;00m Error\u001b[38;5;241m.\u001b[39merrorhandler_make_exception(\n\u001b[1;32m    284\u001b[0m             error_class,\n\u001b[1;32m    285\u001b[0m             error_value,\n\u001b[1;32m    286\u001b[0m         )\n",
      "File \u001b[0;32m/opt/homebrew/anaconda3/envs/snowpark/lib/python3.8/site-packages/snowflake/connector/errors.py:331\u001b[0m, in \u001b[0;36mError.hand_to_other_handler\u001b[0;34m(connection, cursor, error_class, error_value)\u001b[0m\n\u001b[1;32m    329\u001b[0m \u001b[38;5;28;01mif\u001b[39;00m cursor \u001b[38;5;129;01mis\u001b[39;00m \u001b[38;5;129;01mnot\u001b[39;00m \u001b[38;5;28;01mNone\u001b[39;00m:\n\u001b[1;32m    330\u001b[0m     cursor\u001b[38;5;241m.\u001b[39mmessages\u001b[38;5;241m.\u001b[39mappend((error_class, error_value))\n\u001b[0;32m--> 331\u001b[0m     \u001b[43mcursor\u001b[49m\u001b[38;5;241;43m.\u001b[39;49m\u001b[43merrorhandler\u001b[49m\u001b[43m(\u001b[49m\u001b[43mconnection\u001b[49m\u001b[43m,\u001b[49m\u001b[43m \u001b[49m\u001b[43mcursor\u001b[49m\u001b[43m,\u001b[49m\u001b[43m \u001b[49m\u001b[43merror_class\u001b[49m\u001b[43m,\u001b[49m\u001b[43m \u001b[49m\u001b[43merror_value\u001b[49m\u001b[43m)\u001b[49m\n\u001b[1;32m    332\u001b[0m     \u001b[38;5;28;01mreturn\u001b[39;00m \u001b[38;5;28;01mTrue\u001b[39;00m\n\u001b[1;32m    333\u001b[0m \u001b[38;5;28;01melif\u001b[39;00m connection \u001b[38;5;129;01mis\u001b[39;00m \u001b[38;5;129;01mnot\u001b[39;00m \u001b[38;5;28;01mNone\u001b[39;00m:\n",
      "File \u001b[0;32m/opt/homebrew/anaconda3/envs/snowpark/lib/python3.8/site-packages/snowflake/connector/errors.py:210\u001b[0m, in \u001b[0;36mError.default_errorhandler\u001b[0;34m(connection, cursor, error_class, error_value)\u001b[0m\n\u001b[1;32m    192\u001b[0m \u001b[38;5;129m@staticmethod\u001b[39m\n\u001b[1;32m    193\u001b[0m \u001b[38;5;28;01mdef\u001b[39;00m \u001b[38;5;21mdefault_errorhandler\u001b[39m(\n\u001b[1;32m    194\u001b[0m     connection: SnowflakeConnection,\n\u001b[0;32m   (...)\u001b[0m\n\u001b[1;32m    197\u001b[0m     error_value: \u001b[38;5;28mdict\u001b[39m[\u001b[38;5;28mstr\u001b[39m, \u001b[38;5;28mstr\u001b[39m],\n\u001b[1;32m    198\u001b[0m ) \u001b[38;5;241m-\u001b[39m\u001b[38;5;241m>\u001b[39m \u001b[38;5;28;01mNone\u001b[39;00m:\n\u001b[1;32m    199\u001b[0m \u001b[38;5;250m    \u001b[39m\u001b[38;5;124;03m\"\"\"Default error handler that raises an error.\u001b[39;00m\n\u001b[1;32m    200\u001b[0m \n\u001b[1;32m    201\u001b[0m \u001b[38;5;124;03m    Args:\u001b[39;00m\n\u001b[0;32m   (...)\u001b[0m\n\u001b[1;32m    208\u001b[0m \u001b[38;5;124;03m        A Snowflake error.\u001b[39;00m\n\u001b[1;32m    209\u001b[0m \u001b[38;5;124;03m    \"\"\"\u001b[39;00m\n\u001b[0;32m--> 210\u001b[0m     \u001b[38;5;28;01mraise\u001b[39;00m error_class(\n\u001b[1;32m    211\u001b[0m         msg\u001b[38;5;241m=\u001b[39merror_value\u001b[38;5;241m.\u001b[39mget(\u001b[38;5;124m\"\u001b[39m\u001b[38;5;124mmsg\u001b[39m\u001b[38;5;124m\"\u001b[39m),\n\u001b[1;32m    212\u001b[0m         errno\u001b[38;5;241m=\u001b[39merror_value\u001b[38;5;241m.\u001b[39mget(\u001b[38;5;124m\"\u001b[39m\u001b[38;5;124merrno\u001b[39m\u001b[38;5;124m\"\u001b[39m),\n\u001b[1;32m    213\u001b[0m         sqlstate\u001b[38;5;241m=\u001b[39merror_value\u001b[38;5;241m.\u001b[39mget(\u001b[38;5;124m\"\u001b[39m\u001b[38;5;124msqlstate\u001b[39m\u001b[38;5;124m\"\u001b[39m),\n\u001b[1;32m    214\u001b[0m         sfqid\u001b[38;5;241m=\u001b[39merror_value\u001b[38;5;241m.\u001b[39mget(\u001b[38;5;124m\"\u001b[39m\u001b[38;5;124msfqid\u001b[39m\u001b[38;5;124m\"\u001b[39m),\n\u001b[1;32m    215\u001b[0m         done_format_msg\u001b[38;5;241m=\u001b[39merror_value\u001b[38;5;241m.\u001b[39mget(\u001b[38;5;124m\"\u001b[39m\u001b[38;5;124mdone_format_msg\u001b[39m\u001b[38;5;124m\"\u001b[39m),\n\u001b[1;32m    216\u001b[0m         connection\u001b[38;5;241m=\u001b[39mconnection,\n\u001b[1;32m    217\u001b[0m         cursor\u001b[38;5;241m=\u001b[39mcursor,\n\u001b[1;32m    218\u001b[0m     )\n",
      "\u001b[0;31mSnowparkSQLException\u001b[0m: (1304): 01aa8df7-0405-c4ee-000c-a901156fcce3: 100357 (P0000): Python Interpreter Error:\nTraceback (most recent call last):\n  File \"_udf_code.py\", line 7, in compute\n  File \"/opt/homebrew/anaconda3/envs/snowpark/lib/python3.8/site-packages/snowflake/ml/linear_model/logistic_regression.py\", line 360, in fit_wrapper_sproc\n  File \"/usr/lib/python_udf/41c4eeac2aad7a9c9505d8d840e88d4a8bd7375f79c59cce9c55fabcbc38aef5/lib/python3.8/site-packages/sklearn/linear_model/_logistic.py\", line 1138, in fit\n    X, y = self._validate_data(\n  File \"/usr/lib/python_udf/41c4eeac2aad7a9c9505d8d840e88d4a8bd7375f79c59cce9c55fabcbc38aef5/lib/python3.8/site-packages/sklearn/base.py\", line 596, in _validate_data\n    X, y = check_X_y(X, y, **check_params)\n  File \"/usr/lib/python_udf/41c4eeac2aad7a9c9505d8d840e88d4a8bd7375f79c59cce9c55fabcbc38aef5/lib/python3.8/site-packages/sklearn/utils/validation.py\", line 1074, in check_X_y\n    X = check_array(\n  File \"/usr/lib/python_udf/41c4eeac2aad7a9c9505d8d840e88d4a8bd7375f79c59cce9c55fabcbc38aef5/lib/python3.8/site-packages/sklearn/utils/validation.py\", line 768, in check_array\n    dtype_orig = np.result_type(*dtypes_orig)\n  File \"<__array_function__ internals>\", line 180, in result_type\nValueError: at least one array or dtype is required\n in function SNOWML_FIT_F3467B65_3D85_4B43_A678_D6F66E1942EB with handler compute"
     ]
    }
   ],
   "source": [
    "if ESTIMATOR_BACKEND == BACKEND_SNOWML:\n",
    "    from snowflake.ml.xgboost.xgb_regressor import XGBRegressor\n",
    "    from snowflake.ml.ensemble.random_forest_regressor import RandomForestRegressor\n",
    "    from snowflake.ml.ensemble.gradient_boosting_regressor import GradientBoostingRegressor\n",
    "    from snowflake.ml.linear_model.logistic_regression import LogisticRegression\n",
    "    from snowflake.ml.linear_model.linear_regression import LinearRegression\n",
    "elif ESTIMATOR_BACKEND == BACKEND_SKLEARN:\n",
    "    from sklearn.utils.validation import column_or_1d\n",
    "    from xgboost import XGBRegressor\n",
    "    from sklearn.linear_model import LogisticRegression, LinearRegression\n",
    "    from sklearn.ensemble import RandomForestRegressor, GradientBoostingRegressor    \n",
    "\n",
    "if ESTIMATOR_BACKEND == BACKEND_SNOWML:\n",
    "    prediction_col = \"PREDICTION\"\n",
    "    clf = LogisticRegression(input_cols=feature_columns, output_cols=[prediction_col], label_cols=label_column)\n",
    "    clf.fit(train_preprocessed)\n",
    "\n",
    "elif ESTIMATOR_BACKEND == BACKEND_SKLEARN:\n",
    "    clf = LogisticRegression(max_iter=1000)\n",
    "    clf.fit(train_preprocessed, column_or_1d(train_label))"
   ]
  },
  {
   "cell_type": "code",
   "execution_count": null,
   "id": "4122d641",
   "metadata": {},
   "outputs": [],
   "source": [
    "for id in (\n",
    "    \"0c0e951eb16411ed8846e289b4f89202\",\n",
    "    \"ff52e938b16311ed8846e289b4f89202\",\n",
    "    \"f268515eb16311ed8846e289b4f89202\",\n",
    "    \"e15897cab16311ed8846e289b4f89202\",\n",
    "    \"d1e675e6b16311ed8846e289b4f89202\",\n",
    "    \"1cf19188b16411ed8846e289b4f89202\",\n",
    "    ):\n",
    "    print(id)\n",
    "    registry.set_tag(id=id, name=\"stage\", value=\"experimental\")\n",
    "    \n"
   ]
  },
  {
   "cell_type": "code",
   "execution_count": null,
   "id": "245f2fc0",
   "metadata": {
    "scrolled": true
   },
   "outputs": [],
   "source": [
    "import numpy as np\n",
    "from sklearn import metrics\n",
    "\n",
    "def train_and_evaluate(classifier, X_train, y_train, X_test, y_test):\n",
    "    if hasattr(classifier, \"set_input_cols\"):\n",
    "        return train_and_evaluate_snowml(classifier, X_train, X_test)\n",
    "    else:\n",
    "        return train_and_evaluate_sklearn(classifier, X_train, y_train, X_test, y_test)\n",
    "\n",
    "def train_and_evaluate_sklearn(classifier, X_train, y_train, X_test, y_test):\n",
    "    name = classifier.__class__.__name__\n",
    "    params = classifier.get_params()\n",
    "    print(f\"Training a {name} with params {params}.\")\n",
    "    \n",
    "    classifier.fit(X_train, column_or_1d(y_train))\n",
    "    if \"predict_proba\" in dir(classifier):\n",
    "        prediction_labels = classifier.predict(X_test)\n",
    "        prediction_probabilities = classifier.predict_proba(X_test)\n",
    "    elif \"score_samples\" in dir(classifier):\n",
    "        positive_probabilities = classifier.score_samples(X_test)\n",
    "        prediction_labels = np.array([ 1 if x > 0.5 else 0 for x in positive_probabilities])\n",
    "        prediction_probabilities = np.array(\n",
    "            [np.array([1-x, x]) for x in positive_probabilities]\n",
    "        )\n",
    "    elif \"predict\" in dir(classifier):\n",
    "        positive_probabilities = classifier.predict(X_test)\n",
    "        prediction_labels = np.array([ 1 if x > 0.5 else 0 for x in positive_probabilities])\n",
    "        prediction_probabilities = np.array(\n",
    "            [np.array([1-x, x]) for x in positive_probabilities]  \n",
    "        )\n",
    "    \n",
    "    return {\n",
    "        \"classifier\": {\n",
    "            \"object\": classifier,\n",
    "            \"name\": classifier.__class__.__name__,\n",
    "            \"params\": classifier.get_params(),\n",
    "        },\n",
    "        \"predictions\": {\n",
    "            \"probabilities\": prediction_probabilities,\n",
    "            \"labels\": prediction_labels,\n",
    "        },\n",
    "        \"metrics\": {\n",
    "            \"accuracy\": metrics.accuracy_score(y_test, prediction_labels),\n",
    "            \"precision\": metrics.precision_score(y_test, prediction_labels),\n",
    "            \"recall\": metrics.recall_score(y_test, prediction_labels),\n",
    "            \"roc_auc\": metrics.roc_auc_score(y_true=y_test, y_score=prediction_probabilities[:,1]),\n",
    "            \"pr_curve\": metrics.precision_recall_curve(y_true=y_test, probas_pred=prediction_probabilities[:,1], pos_label=1),\n",
    "            \"roc_curve\": metrics.roc_curve(y_true=y_test, y_score=prediction_probabilities[:,1], pos_label=1),\n",
    "        }\n",
    "    }\n",
    "    "
   ]
  },
  {
   "cell_type": "code",
   "execution_count": null,
   "id": "28867b99",
   "metadata": {
    "scrolled": true
   },
   "outputs": [],
   "source": [
    "all_results = []\n",
    "\n",
    "all_results.append(train_and_evaluate(\n",
    "    LinearRegression(),\n",
    "    train_preprocessed, train_label,\n",
    "    test_preprocessed, test_label))\n",
    "\n",
    "all_results.append(train_and_evaluate(\n",
    "    LogisticRegression(verbose=0, max_iter=10000), \n",
    "    train_preprocessed, train_label,\n",
    "    test_preprocessed, test_label))\n",
    "\n",
    "all_results.append(train_and_evaluate(\n",
    "    RandomForestRegressor(n_estimators=1),\n",
    "    train_preprocessed, train_label,\n",
    "    test_preprocessed, test_label))\n",
    "\n",
    "all_results.append(train_and_evaluate(\n",
    "    RandomForestRegressor(n_estimators=10),\n",
    "    train_preprocessed, train_label,\n",
    "    test_preprocessed, test_label))\n",
    "\n",
    "all_results.append(train_and_evaluate(\n",
    "    RandomForestRegressor(n_estimators=100),\n",
    "    train_preprocessed, train_label,\n",
    "    test_preprocessed, test_label))\n",
    "\n",
    "all_results.append(train_and_evaluate(\n",
    "    GradientBoostingRegressor(n_estimators=100),\n",
    "    train_preprocessed, train_label,\n",
    "    test_preprocessed, test_label))\n"
   ]
  },
  {
   "cell_type": "code",
   "execution_count": null,
   "id": "ee209944",
   "metadata": {
    "scrolled": false
   },
   "outputs": [],
   "source": [
    "#from sklearn.metrics import PrecisionRecallDisplay, RocCurveDisplay\n",
    "\n",
    "#for r in all_results:\n",
    "#    print(r[\"classifier\"][\"name\"], \n",
    "#          r[\"metrics\"][\"roc_auc\"], \n",
    "#          sum(r[\"predictions\"][\"labels\"]), \n",
    "#         )\n",
    "#    RocCurveDisplay(fpr=r[\"metrics\"][\"roc_curve\"][0], tpr=r[\"metrics\"][\"roc_curve\"][1]).plot()\n"
   ]
  },
  {
   "cell_type": "markdown",
   "id": "dfa9ab88",
   "metadata": {},
   "source": [
    "## Open/Create Model Registry"
   ]
  },
  {
   "cell_type": "code",
   "execution_count": null,
   "id": "5d37ad34",
   "metadata": {
    "scrolled": false
   },
   "outputs": [],
   "source": [
    "import importlib\n",
    "from snowflake.ml.registry import model_registry\n",
    "importlib.reload(model_registry)"
   ]
  },
  {
   "cell_type": "code",
   "execution_count": null,
   "id": "98dbe771",
   "metadata": {
    "scrolled": false
   },
   "outputs": [],
   "source": [
    "# Create a new model registry. This will be a no-op if the registry already exists.\n",
    "create_result = model_registry.create_model_registry(session)"
   ]
  },
  {
   "cell_type": "code",
   "execution_count": null,
   "id": "7fff21bc",
   "metadata": {
    "scrolled": false
   },
   "outputs": [],
   "source": [
    "registry = model_registry.ModelRegistry(session=session)"
   ]
  },
  {
   "cell_type": "code",
   "execution_count": null,
   "id": "fbaac5a1",
   "metadata": {},
   "outputs": [],
   "source": [
    "for result in all_results:\n",
    "    model_id = registry.log_model(model=result[\"classifier\"][\"object\"], name=\"uci-bank-marketing\", tags={\n",
    "        \"classifier\": result[\"classifier\"][\"name\"],\n",
    "        \"params\": result[\"classifier\"][\"params\"]})\n",
    "    for name, value in result[\"metrics\"].items():\n",
    "        registry.set_metric(model_id, name, value)\n",
    "    \n",
    "    "
   ]
  },
  {
   "cell_type": "markdown",
   "id": "317e7843",
   "metadata": {},
   "source": [
    "## Register a new Model"
   ]
  },
  {
   "cell_type": "code",
   "execution_count": null,
   "id": "9d8ad06e",
   "metadata": {
    "scrolled": false
   },
   "outputs": [],
   "source": [
    "model_id = registry.log_model(model=clf, name=\"my_model\", tags={\n",
    "    \"stage\": \"testing\", \"classifier_type\": \"svm.SVC\", \"svc_gamma\": svc_gamma, \"svc_C\": svc_C})\n",
    "model = model_registry.ModelReference(registry=registry, id=model_id)\n",
    "print(\"Registered new model:\", model_id)"
   ]
  },
  {
   "cell_type": "markdown",
   "id": "27d1158d",
   "metadata": {},
   "source": [
    "## Add Metrics"
   ]
  },
  {
   "cell_type": "code",
   "execution_count": null,
   "id": "c2b0cdbd",
   "metadata": {
    "scrolled": false
   },
   "outputs": [],
   "source": [
    "from sklearn import metrics\n",
    "import snowflake.ml.utils.formatting\n",
    "importlib.reload(snowflake.ml.utils.formatting)\n",
    "importlib.reload(snowflake.ml.registry.model_registry)\n",
    "\n",
    "\n",
    "test_accuracy = metrics.accuracy_score(test_labels, prediction)\n",
    "print(\"Model test accuracy:\", test_accuracy)\n",
    "\n",
    "# Simple scalar metrics.\n",
    "registry.set_metric(id=model_id, name=\"test_accuracy\", value=test_accuracy)\n",
    "# OR in object model\n",
    "model.set_metric(name=\"num_training_examples\", value=num_training_examples)\n",
    "\n",
    "# Hierarchical metric.\n",
    "registry.set_metric(id=model_id, name=\"dataset_test\", value={\"accuracy\": test_accuracy})\n",
    "\n",
    "# Multivalent metric:\n",
    "test_confusion_matrix = metrics.confusion_matrix(test_labels, prediction)\n",
    "print(\"Confusion matrix:\", test_confusion_matrix)\n",
    "\n",
    "registry.set_metric(id=model_id, name=\"confusion_matrix\", value=test_confusion_matrix)"
   ]
  },
  {
   "cell_type": "markdown",
   "id": "98164cb7",
   "metadata": {},
   "source": [
    "## List Model in Registry"
   ]
  },
  {
   "cell_type": "code",
   "execution_count": null,
   "id": "dc82b541",
   "metadata": {
    "scrolled": false
   },
   "outputs": [],
   "source": [
    "model_list = registry.list_models()\n",
    "print(model_id)\n",
    "model_list.filter(model_list[\"ID\"] == model_id).select(\"NAME\",\"TAGS\",\"METRICS\").show()"
   ]
  },
  {
   "cell_type": "markdown",
   "id": "5706004c",
   "metadata": {},
   "source": [
    "## Metadata: Tags and Name\n",
    "\n",
    "### Relational API"
   ]
  },
  {
   "cell_type": "code",
   "execution_count": null,
   "id": "f80f78da",
   "metadata": {
    "scrolled": false
   },
   "outputs": [],
   "source": [
    "print(\"Old tags:\", registry.get_tags(model_id))\n",
    "\n",
    "registry.set_tag(model_id, \"minor_version\", \"23\")\n",
    "print(\"Added tag:\", registry.get_tags(model_id))\n",
    "\n",
    "registry.remove_tag(model_id, \"minor_version\")\n",
    "print(\"Removed tag\", registry.get_tags(model_id))\n",
    "registry.set_tag(model_id, \"stage\", \"production\")\n",
    "print(\"Updated tag:\", registry.get_tags(model_id))\n",
    "\n",
    "# Rename Model\n",
    "print(\"Old name:\", registry.get_model_name(model_id))\n",
    "\n",
    "new_model_name = f\"target_digit_{target_digit}\"\n",
    "registry.set_model_name(id=model_id, name=new_model_name)\n",
    "\n",
    "print(\"New name:\", registry.get_model_name(model_id))"
   ]
  },
  {
   "cell_type": "markdown",
   "id": "47e80e1e",
   "metadata": {},
   "source": [
    "### Object API"
   ]
  },
  {
   "cell_type": "code",
   "execution_count": null,
   "id": "7905d9c9",
   "metadata": {
    "scrolled": false
   },
   "outputs": [],
   "source": [
    "print(\"Old tags:\", model.get_tags())\n",
    "\n",
    "model.set_tag(\"minor_version\", \"23\")\n",
    "print(\"Added tag:\", model.get_tags())\n",
    "\n",
    "model.remove_tag(\"minor_version\")\n",
    "print(\"Removed tag\", model.get_tags())\n",
    "model.set_tag(\"stage\", \"production\")\n",
    "print(\"Updated tag:\", model.get_tags())\n",
    "\n",
    "# Rename Model\n",
    "print(\"Old name:\", model.get_model_name())\n",
    "\n",
    "new_model_name = f\"target_digit_{target_digit}\"\n",
    "model.set_model_name(name=new_model_name)\n",
    "\n",
    "print(\"New name:\", model.get_model_name())"
   ]
  },
  {
   "cell_type": "markdown",
   "id": "72ade02b",
   "metadata": {},
   "source": [
    "## List recent Models in Registry"
   ]
  },
  {
   "cell_type": "code",
   "execution_count": null,
   "id": "eef6965d",
   "metadata": {
    "scrolled": false
   },
   "outputs": [],
   "source": [
    "model_list.select(\"ID\",\"NAME\",\"CREATION_TIME\",\"TAGS\").order_by(\"CREATION_TIME\", ascending=False).show()"
   ]
  },
  {
   "cell_type": "markdown",
   "id": "b2a42a8f",
   "metadata": {},
   "source": [
    "## List all versions of a Model ordered by test set accuracy"
   ]
  },
  {
   "cell_type": "code",
   "execution_count": null,
   "id": "6df2eafc",
   "metadata": {
    "scrolled": false
   },
   "outputs": [],
   "source": [
    "model_list.select(\"ID\",\"NAME\",\"TAGS\",\"METRICS\").filter(\n",
    "    Column(\"NAME\") == \"uci-bank-marketing\").order_by(Column(\"METRICS\")[\"test_accuracy\"], ascending=False \n",
    ").show()                                                                                                             "
   ]
  },
  {
   "cell_type": "markdown",
   "id": "f444385f",
   "metadata": {},
   "source": [
    "## Examine Model History\n",
    "\n",
    "### Relational API"
   ]
  },
  {
   "cell_type": "code",
   "execution_count": null,
   "id": "aed50394",
   "metadata": {
    "scrolled": false
   },
   "outputs": [],
   "source": [
    "registry.get_model_history(id=model_id).select(\"EVENT_TIMESTAMP\", \"ROLE\", \"ATTRIBUTE_NAME\",\"VALUE[ATTRIBUTE_NAME]\").show()"
   ]
  },
  {
   "cell_type": "markdown",
   "id": "9810d4f4",
   "metadata": {},
   "source": [
    "### Object API"
   ]
  },
  {
   "cell_type": "code",
   "execution_count": null,
   "id": "21f7e0b5",
   "metadata": {
    "scrolled": false
   },
   "outputs": [],
   "source": [
    "model.get_model_history().select(\"EVENT_TIMESTAMP\", \"ROLE\", \"ATTRIBUTE_NAME\",\"VALUE[ATTRIBUTE_NAME]\").show()"
   ]
  },
  {
   "cell_type": "markdown",
   "id": "735f0ac3",
   "metadata": {},
   "source": [
    "## Load Model\n",
    "\n",
    "### Relational Model"
   ]
  },
  {
   "cell_type": "code",
   "execution_count": null,
   "id": "cc0512e1",
   "metadata": {
    "scrolled": false
   },
   "outputs": [],
   "source": [
    "importlib.reload(snowflake.ml.model_registry.model_registry)\n",
    "registry = model_registry.ModelRegistry(session=session)\n",
    "\n",
    "restored_clf = registry.load_model(id=model_id)\n",
    "\n",
    "restored_prediction = restored_clf.predict(test_features)\n",
    "\n",
    "print(\"Original prediction:\", prediction[:10])\n",
    "print(\"Restored prediction:\", restored_prediction[:10])"
   ]
  },
  {
   "cell_type": "markdown",
   "id": "4fbc0793",
   "metadata": {},
   "source": [
    "### Object Model"
   ]
  },
  {
   "cell_type": "code",
   "execution_count": null,
   "id": "2796f2e0",
   "metadata": {
    "scrolled": false
   },
   "outputs": [],
   "source": [
    "importlib.reload(snowflake.ml.model_registry.model_registry)\n",
    "registry = model_registry.ModelRegistry(session=session)\n",
    "model = model_registry.ModelReference(registry=registry, id=model_id)\n",
    "restored_clf = model.load_model()\n",
    "\n",
    "restored_prediction = restored_clf.predict(test_features)\n",
    "\n",
    "print(\"Original prediction:\", prediction[:10])\n",
    "print(\"Restored prediction:\", restored_prediction[:10])"
   ]
  },
  {
   "cell_type": "markdown",
   "id": "f1f97a74",
   "metadata": {},
   "source": [
    "## Close Session"
   ]
  },
  {
   "cell_type": "code",
   "execution_count": null,
   "id": "361605e0",
   "metadata": {
    "scrolled": false
   },
   "outputs": [],
   "source": [
    "# session.close()"
   ]
  }
 ],
 "metadata": {
  "kernelspec": {
   "display_name": "Python 3 (ipykernel)",
   "language": "python",
   "name": "python3"
  },
  "language_info": {
   "codemirror_mode": {
    "name": "ipython",
    "version": 3
   },
   "file_extension": ".py",
   "mimetype": "text/x-python",
   "name": "python",
   "nbconvert_exporter": "python",
   "pygments_lexer": "ipython3",
   "version": "3.8.16"
  },
  "vscode": {
   "interpreter": {
    "hash": "fb0a62cbfaa59af7646af5a6672c5c3e72ec75fbadf6ff0336b6769523f221a5"
   }
  }
 },
 "nbformat": 4,
 "nbformat_minor": 5
}
