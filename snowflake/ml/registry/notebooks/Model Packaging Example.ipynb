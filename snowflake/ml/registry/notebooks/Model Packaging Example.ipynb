{
 "cells": [
  {
   "attachments": {},
   "cell_type": "markdown",
   "id": "5de3eb26",
   "metadata": {},
   "source": [
    "# Model Packaging Example"
   ]
  },
  {
   "attachments": {},
   "cell_type": "markdown",
   "id": "197efd00",
   "metadata": {},
   "source": [
    "## Before Everything"
   ]
  },
  {
   "attachments": {},
   "cell_type": "markdown",
   "id": "6ce97b36",
   "metadata": {},
   "source": [
    "### Install `snowflake-ml-python` locally"
   ]
  },
  {
   "attachments": {},
   "cell_type": "markdown",
   "id": "1117c596",
   "metadata": {},
   "source": [
    "Please refer to our [landing page](https://docs.snowflake.com/en/developer-guide/snowpark-ml/index) to install `snowflake-ml-python`."
   ]
  },
  {
   "attachments": {},
   "cell_type": "markdown",
   "id": "99e58d8c",
   "metadata": {},
   "source": [
    "### Setup Notebook"
   ]
  },
  {
   "cell_type": "code",
   "execution_count": 1,
   "id": "afd16ff5",
   "metadata": {},
   "outputs": [],
   "source": [
    "%load_ext autoreload\n",
    "%autoreload 2"
   ]
  },
  {
   "cell_type": "code",
   "execution_count": 2,
   "id": "d609ff44",
   "metadata": {},
   "outputs": [
    {
     "data": {
      "text/html": [
       "<style>.container { width:100% !important; }</style>"
      ],
      "text/plain": [
       "<IPython.core.display.HTML object>"
      ]
     },
     "metadata": {},
     "output_type": "display_data"
    }
   ],
   "source": [
    "# Scale cell width with the browser window to accommodate .show() commands for wider tables.\n",
    "from IPython.display import display, HTML\n",
    "\n",
    "display(HTML(\"<style>.container { width:100% !important; }</style>\"))"
   ]
  },
  {
   "attachments": {},
   "cell_type": "markdown",
   "id": "1ac32c6f",
   "metadata": {},
   "source": [
    "### Start Snowpark Session\n",
    "\n",
    "To avoid exposing credentials in Github, we use a small utility `SnowflakeLoginOptions`. It allows you to score your default credentials in `~/.snowsql/config` in the following format:\n",
    "```\n",
    "[connections]\n",
    "accountname = <string>   # Account identifier to connect to Snowflake.\n",
    "username = <string>      # User name in the account. Optional.\n",
    "password = <string>      # User password. Optional.\n",
    "dbname = <string>        # Default database. Optional.\n",
    "schemaname = <string>    # Default schema. Optional.\n",
    "warehousename = <string> # Default warehouse. Optional.\n",
    "#rolename = <string>      # Default role. Optional.\n",
    "#authenticator = <string> # Authenticator: 'snowflake', 'externalbrowser', etc\n",
    "```\n",
    "Please follow [this](https://docs.snowflake.com/en/user-guide/snowsql-start.html#configuring-default-connection-settings) for more details."
   ]
  },
  {
   "cell_type": "code",
   "execution_count": 15,
   "id": "b2efc0a8",
   "metadata": {},
   "outputs": [],
   "source": [
    "from snowflake.ml.utils.connection_params import SnowflakeLoginOptions\n",
    "from snowflake.snowpark import Session\n",
    "\n",
    "session = Session.builder.configs(SnowflakeLoginOptions()).create()"
   ]
  },
  {
   "attachments": {},
   "cell_type": "markdown",
   "id": "dfa9ab88",
   "metadata": {},
   "source": [
    "### Open/Create Model Registry"
   ]
  },
  {
   "attachments": {},
   "cell_type": "markdown",
   "id": "b0a0c8a8",
   "metadata": {},
   "source": [
    "A model registry needs to be created before it can be used. The creation will create a new database in the current account so the active role needs to have permissions to create a database. After the first creation, the model registry can be opened without the need to create it again."
   ]
  },
  {
   "cell_type": "code",
   "execution_count": 16,
   "id": "a95e3431",
   "metadata": {},
   "outputs": [],
   "source": [
    "REGISTRY_DATABASE_NAME = \"MODEL_REGISTRY\"\n",
    "REGISTRY_SCHEMA_NAME = \"PUBLIC\""
   ]
  },
  {
   "cell_type": "code",
   "execution_count": null,
   "id": "7fff21bc",
   "metadata": {},
   "outputs": [],
   "source": [
    "from snowflake.ml.registry import model_registry\n",
    "\n",
    "model_registry.create_model_registry(\n",
    "    session=session, database_name=REGISTRY_DATABASE_NAME, schema_name=REGISTRY_SCHEMA_NAME\n",
    ")\n",
    "registry = model_registry.ModelRegistry(\n",
    "    session=session, database_name=REGISTRY_DATABASE_NAME, schema_name=REGISTRY_SCHEMA_NAME\n",
    ")"
   ]
  },
  {
   "attachments": {},
   "cell_type": "markdown",
   "id": "d76e14a1",
   "metadata": {},
   "source": [
    "## Use with scikit-learn model"
   ]
  },
  {
   "attachments": {},
   "cell_type": "markdown",
   "id": "c592d46c",
   "metadata": {},
   "source": [
    "### Train A Small Scikit-learn Model"
   ]
  },
  {
   "attachments": {},
   "cell_type": "markdown",
   "id": "378eb3ba",
   "metadata": {},
   "source": [
    "The cell below trains a small model for demonstration purposes. The nature of the model does not matter, it is purely used to demonstrate the usage of the Model Packaging and Registry."
   ]
  },
  {
   "cell_type": "code",
   "execution_count": 6,
   "id": "8cf44218",
   "metadata": {},
   "outputs": [],
   "source": [
    "from sklearn import svm\n",
    "from sklearn.datasets import load_digits\n",
    "import numpy as np\n",
    "\n",
    "digits = load_digits()\n",
    "target_digit = 6\n",
    "num_training_examples = 10\n",
    "svc_gamma = 0.001\n",
    "svc_C = 10.0\n",
    "\n",
    "clf = svm.SVC(gamma=svc_gamma, C=svc_C, probability=True)\n",
    "\n",
    "\n",
    "def one_vs_all(dataset, digit):\n",
    "    return [x == digit for x in dataset]\n",
    "\n",
    "\n",
    "# Train a classifier using num_training_examples and use the last 100 examples for test.\n",
    "train_features = digits.data[:num_training_examples]\n",
    "train_labels = one_vs_all(digits.target[:num_training_examples], target_digit)\n",
    "clf.fit(train_features, train_labels)\n",
    "\n",
    "test_features = digits.data[-100:]\n",
    "test_labels = one_vs_all(digits.target[-100:], target_digit)\n",
    "prediction = clf.predict(test_features)"
   ]
  },
  {
   "cell_type": "code",
   "execution_count": null,
   "id": "c25bd0d4",
   "metadata": {},
   "outputs": [],
   "source": [
    "print(prediction[:10])"
   ]
  },
  {
   "attachments": {},
   "cell_type": "markdown",
   "id": "dda57d0b",
   "metadata": {},
   "source": [
    "SVC has multiple method, for example, `predict_proba`."
   ]
  },
  {
   "cell_type": "code",
   "execution_count": null,
   "id": "dd7ee333",
   "metadata": {},
   "outputs": [],
   "source": [
    "prediction_proba = clf.predict_proba(test_features)\n",
    "print(prediction_proba[:10])"
   ]
  },
  {
   "attachments": {},
   "cell_type": "markdown",
   "id": "317e7843",
   "metadata": {},
   "source": [
    "### Register Model"
   ]
  },
  {
   "attachments": {},
   "cell_type": "markdown",
   "id": "3b482561",
   "metadata": {},
   "source": [
    "The call to `log_model` executes a few steps:\n",
    "1. The given model object is serialized and uploaded to a stage.\n",
    "1. An entry in the Model Registry is created for the model, referencing the model stage location.\n",
    "1. Additional metadata is updated for the model as provided in the call.\n",
    "\n",
    "For the serialization to work, the model object needs to be serializable in python.\n",
    "\n",
    "Aso, you have to provide a sample input data so that we could infer the model signature for you, or you can specify the model signature manually."
   ]
  },
  {
   "cell_type": "code",
   "execution_count": null,
   "id": "68705420",
   "metadata": {},
   "outputs": [],
   "source": [
    "SVC_MODEL_NAME = \"SIMPLE_SVC_MODEL\"\n",
    "SVC_MODEL_VERSION = \"v1\""
   ]
  },
  {
   "cell_type": "code",
   "execution_count": null,
   "id": "9d8ad06e",
   "metadata": {},
   "outputs": [],
   "source": [
    "# A name and model tags can be added to the model at registration time.\n",
    "svc_model = registry.log_model(\n",
    "    model_name=SVC_MODEL_NAME,\n",
    "    model_version=SVC_MODEL_VERSION,\n",
    "    model=clf,\n",
    "    tags={\"stage\": \"testing\", \"classifier_type\": \"svm.SVC\", \"svc_gamma\": svc_gamma, \"svc_C\": svc_C},\n",
    "    sample_input_data=test_features[:10],\n",
    ")"
   ]
  },
  {
   "attachments": {},
   "cell_type": "markdown",
   "id": "45c75e28",
   "metadata": {},
   "source": [
    "### Deploy Model and Batch Inference"
   ]
  },
  {
   "attachments": {},
   "cell_type": "markdown",
   "id": "a8d496db",
   "metadata": {},
   "source": [
    "We can also deploy the model we saved to the registry to warehouse and predict it in the warehouse.\n",
    "\n",
    "Although the model may contain multiple methods, every deployment can only have one target method, and you need to specify that when you deploy the model."
   ]
  },
  {
   "cell_type": "code",
   "execution_count": null,
   "id": "7ecab97c",
   "metadata": {},
   "outputs": [],
   "source": [
    "svc_model.deploy(\n",
    "    deployment_name=\"svc_model_predict\",\n",
    "    target_method=\"predict\",\n",
    ")"
   ]
  },
  {
   "cell_type": "code",
   "execution_count": null,
   "id": "3e150421",
   "metadata": {},
   "outputs": [],
   "source": [
    "remote_prediction = svc_model.predict(deployment_name=\"svc_model_predict\", data=test_features)\n",
    "\n",
    "print(\"Remote prediction:\", remote_prediction[:10])\n",
    "\n",
    "print(\"Result comparison:\", np.array_equal(prediction, remote_prediction[\"output_feature_0\"].values))"
   ]
  },
  {
   "attachments": {},
   "cell_type": "markdown",
   "id": "6c1f3c07",
   "metadata": {},
   "source": [
    "We can also deploy another method to warehouse."
   ]
  },
  {
   "cell_type": "code",
   "execution_count": null,
   "id": "9c6f189c",
   "metadata": {},
   "outputs": [],
   "source": [
    "svc_model.deploy(\n",
    "    deployment_name=\"svc_model_predict_proba\",\n",
    "    target_method=\"predict_proba\",\n",
    ")"
   ]
  },
  {
   "cell_type": "code",
   "execution_count": null,
   "id": "36a00e1e",
   "metadata": {},
   "outputs": [],
   "source": [
    "remote_prediction_proba = svc_model.predict(deployment_name=\"svc_model_predict_proba\", data=test_features)\n",
    "\n",
    "print(\"Remote prediction:\", remote_prediction_proba[:10])\n",
    "\n",
    "print(\"Result comparison:\", np.allclose(prediction_proba, remote_prediction_proba.values))"
   ]
  },
  {
   "attachments": {},
   "cell_type": "markdown",
   "id": "dc2e2f5e",
   "metadata": {},
   "source": [
    "## Use with customize model"
   ]
  },
  {
   "attachments": {},
   "cell_type": "markdown",
   "id": "f2224cc7",
   "metadata": {},
   "source": [
    "Requirements:\n",
    "- `transformers` and `tensorflow` installed locally."
   ]
  },
  {
   "attachments": {},
   "cell_type": "markdown",
   "id": "9bc58b66",
   "metadata": {},
   "source": [
    "### Download a GPT-2 model"
   ]
  },
  {
   "cell_type": "code",
   "execution_count": null,
   "id": "0ce2cca3",
   "metadata": {},
   "outputs": [],
   "source": [
    "from transformers import AutoModelForCausalLM, AutoTokenizer\n",
    "\n",
    "model_name = \"gpt2-medium\"\n",
    "tokenizer = AutoTokenizer.from_pretrained(model_name)\n",
    "model = AutoModelForCausalLM.from_pretrained(model_name)"
   ]
  },
  {
   "attachments": {},
   "cell_type": "markdown",
   "id": "03454cba",
   "metadata": {},
   "source": [
    "### Store GPT-2 Model components locally"
   ]
  },
  {
   "cell_type": "code",
   "execution_count": null,
   "id": "05a0e170",
   "metadata": {},
   "outputs": [],
   "source": [
    "ARTIFACTS_DIR = \"/tmp/gpt-2/\""
   ]
  },
  {
   "cell_type": "code",
   "execution_count": null,
   "id": "f60d49c4",
   "metadata": {},
   "outputs": [],
   "source": [
    "import os\n",
    "\n",
    "os.makedirs(os.path.join(ARTIFACTS_DIR, \"model\"), exist_ok=True)\n",
    "os.makedirs(os.path.join(ARTIFACTS_DIR, \"tokenizer\"), exist_ok=True)\n",
    "\n",
    "model.save_pretrained(os.path.join(ARTIFACTS_DIR, \"model\"))\n",
    "tokenizer.save_pretrained(os.path.join(ARTIFACTS_DIR, \"tokenizer\"))"
   ]
  },
  {
   "attachments": {},
   "cell_type": "markdown",
   "id": "333118b7",
   "metadata": {},
   "source": [
    "### Create a custom model using GPT-2"
   ]
  },
  {
   "cell_type": "code",
   "execution_count": null,
   "id": "49c27920",
   "metadata": {},
   "outputs": [],
   "source": [
    "from snowflake.ml.model import custom_model\n",
    "import pandas as pd\n",
    "\n",
    "\n",
    "class GPT2Model(custom_model.CustomModel):\n",
    "    def __init__(self, context: custom_model.ModelContext) -> None:\n",
    "        super().__init__(context)\n",
    "\n",
    "        self.model = AutoModelForCausalLM.from_pretrained(self.context.path(\"model\"))\n",
    "        self.tokenizer = AutoTokenizer.from_pretrained(self.context.path(\"tokenizer\"))\n",
    "\n",
    "    @custom_model.inference_api\n",
    "    def predict(self, X: pd.DataFrame) -> pd.DataFrame:\n",
    "        def _generate(input_text: str) -> str:\n",
    "            input_ids = self.tokenizer.encode(input_text, return_tensors=\"pt\")\n",
    "\n",
    "            output = self.model.generate(input_ids, max_length=50, do_sample=True, top_p=0.95, top_k=60)\n",
    "            generated_text = self.tokenizer.decode(output[0], skip_special_tokens=True)\n",
    "\n",
    "            return generated_text\n",
    "\n",
    "        res_df = pd.DataFrame({\"output\": pd.Series.apply(X[\"input\"], _generate)})\n",
    "        return res_df"
   ]
  },
  {
   "cell_type": "code",
   "execution_count": null,
   "id": "36438fd5",
   "metadata": {},
   "outputs": [],
   "source": [
    "gpt_model = GPT2Model(\n",
    "    custom_model.ModelContext(\n",
    "        models={},\n",
    "        artifacts={\n",
    "            \"model\": os.path.join(ARTIFACTS_DIR, \"model\"),\n",
    "            \"tokenizer\": os.path.join(ARTIFACTS_DIR, \"tokenizer\"),\n",
    "        },\n",
    "    )\n",
    ")\n",
    "\n",
    "gpt_model.predict(pd.DataFrame({\"input\": [\"Hello, are you GPT?\"]}))"
   ]
  },
  {
   "attachments": {},
   "cell_type": "markdown",
   "id": "e111b527",
   "metadata": {},
   "source": [
    "### Register the custom model"
   ]
  },
  {
   "attachments": {},
   "cell_type": "markdown",
   "id": "c27ed16a",
   "metadata": {},
   "source": [
    "Here, how to specify dependencies and model signature manually is shown."
   ]
  },
  {
   "cell_type": "code",
   "execution_count": null,
   "id": "0c22ec2f",
   "metadata": {},
   "outputs": [],
   "source": [
    "GPT2_MODEL_NAME = \"GPT2_MODEL\"\n",
    "GPT2_MODEL_VERSION = \"v1\""
   ]
  },
  {
   "cell_type": "code",
   "execution_count": null,
   "id": "3a913530",
   "metadata": {},
   "outputs": [],
   "source": [
    "from snowflake.ml.model import model_signature\n",
    "\n",
    "gpt_model_ref = registry.log_model(\n",
    "    model_name=GPT2_MODEL_NAME,\n",
    "    model_version=GPT2_MODEL_VERSION,\n",
    "    model=gpt_model,\n",
    "    conda_dependencies=[\"tensorflow\", \"transformers\"],\n",
    "    signatures={\n",
    "        \"predict\": model_signature.ModelSignature(\n",
    "            inputs=[model_signature.FeatureSpec(name=\"input\", dtype=model_signature.DataType.STRING)],\n",
    "            outputs=[model_signature.FeatureSpec(name=\"output\", dtype=model_signature.DataType.STRING)],\n",
    "        )\n",
    "    },\n",
    ")"
   ]
  },
  {
   "attachments": {},
   "cell_type": "markdown",
   "id": "e634f4c1",
   "metadata": {},
   "source": [
    "### Deploy the model and predict"
   ]
  },
  {
   "attachments": {},
   "cell_type": "markdown",
   "id": "fc0f289d",
   "metadata": {},
   "source": [
    "Relax version is an option that allow the deployer tries to relax the version specifications when initial attempt to\n",
    "resolve the dependencies in Snowflake Anaconda Channel fails."
   ]
  },
  {
   "cell_type": "code",
   "execution_count": null,
   "id": "f6d64cb0",
   "metadata": {},
   "outputs": [],
   "source": [
    "gpt_model_ref.deploy(\n",
    "    deployment_name=\"gpt_model_predict\",\n",
    ")"
   ]
  },
  {
   "cell_type": "code",
   "execution_count": null,
   "id": "24702087",
   "metadata": {},
   "outputs": [],
   "source": [
    "gpt_model_ref.predict(deployment_name=\"gpt_model_predict\", data=pd.DataFrame({\"input\": [\"Hello, are you GPT?\"]}))"
   ]
  },
  {
   "attachments": {},
   "cell_type": "markdown",
   "id": "b44a55b7",
   "metadata": {},
   "source": [
    "## Use with XGBoost Model, Snowpark DataFrame and permanent deployment"
   ]
  },
  {
   "attachments": {},
   "cell_type": "markdown",
   "id": "05e45630",
   "metadata": {},
   "source": [
    "### Prepare dataset"
   ]
  },
  {
   "cell_type": "code",
   "execution_count": null,
   "id": "16debd21",
   "metadata": {},
   "outputs": [],
   "source": [
    "from sklearn.datasets import fetch_kddcup99\n",
    "\n",
    "DATA_TABLE_NAME = \"KDDCUP99_DATASET\"\n",
    "\n",
    "kddcup99_data = fetch_kddcup99(as_frame=True)\n",
    "kddcup99_sp_df = session.create_dataframe(kddcup99_data.frame)\n",
    "kddcup99_sp_df.write.mode(\"overwrite\").save_as_table(DATA_TABLE_NAME)"
   ]
  },
  {
   "attachments": {},
   "cell_type": "markdown",
   "id": "771cad94",
   "metadata": {},
   "source": [
    "### Preprocessing Dataset"
   ]
  },
  {
   "cell_type": "code",
   "execution_count": null,
   "id": "04b976c8",
   "metadata": {},
   "outputs": [],
   "source": [
    "from snowflake.ml.modeling.preprocessing import one_hot_encoder, ordinal_encoder, standard_scaler\n",
    "import snowflake.snowpark.functions as F\n",
    "\n",
    "quote_fn = lambda x: f'\"{x}\"'\n",
    "\n",
    "ONE_HOT_ENCODE_COL_NAMES = [\"protocol_type\", \"service\", \"flag\"]\n",
    "ORDINAL_ENCODE_COL_NAMES = [\"labels\"]\n",
    "STANDARD_SCALER_COL_NAMES = [\n",
    "    \"duration\",\n",
    "    \"src_bytes\",\n",
    "    \"dst_bytes\",\n",
    "    \"wrong_fragment\",\n",
    "    \"urgent\",\n",
    "    \"hot\",\n",
    "    \"num_failed_logins\",\n",
    "    \"num_compromised\",\n",
    "    \"num_root\",\n",
    "    \"num_file_creations\",\n",
    "    \"num_shells\",\n",
    "    \"num_access_files\",\n",
    "    \"num_outbound_cmds\",\n",
    "    \"count\",\n",
    "    \"srv_count\",\n",
    "    \"dst_host_count\",\n",
    "    \"dst_host_srv_count\",\n",
    "]\n",
    "\n",
    "TRAIN_SIZE_K = 0.2\n",
    "kddcup99_data = session.table(DATA_TABLE_NAME)\n",
    "kddcup99_data = kddcup99_data.with_columns(\n",
    "    list(map(quote_fn, ONE_HOT_ENCODE_COL_NAMES + ORDINAL_ENCODE_COL_NAMES)),\n",
    "    [\n",
    "        F.to_char(col_name, \"utf-8\")\n",
    "        for col_name in list(map(quote_fn, ONE_HOT_ENCODE_COL_NAMES + ORDINAL_ENCODE_COL_NAMES))\n",
    "    ],\n",
    ")\n",
    "kddcup99_sp_df_train, kddcup99_sp_df_test = tuple(\n",
    "    kddcup99_data.random_split([TRAIN_SIZE_K, 1 - TRAIN_SIZE_K], seed=2568)\n",
    ")\n",
    "\n",
    "ft_one_hot_encoder = one_hot_encoder.OneHotEncoder(\n",
    "    handle_unknown=\"ignore\",\n",
    "    input_cols=list(map(quote_fn, ONE_HOT_ENCODE_COL_NAMES)),\n",
    "    output_cols=ONE_HOT_ENCODE_COL_NAMES,\n",
    "    drop_input_cols=True,\n",
    ")\n",
    "ft_one_hot_encoder = ft_one_hot_encoder.fit(kddcup99_sp_df_train)\n",
    "kddcup99_sp_df_train = ft_one_hot_encoder.transform(kddcup99_sp_df_train)\n",
    "kddcup99_sp_df_test = ft_one_hot_encoder.transform(kddcup99_sp_df_test)\n",
    "\n",
    "ft_ordinal_encoder = ordinal_encoder.OrdinalEncoder(\n",
    "    input_cols=list(map(quote_fn, ORDINAL_ENCODE_COL_NAMES)),\n",
    "    output_cols=list(map(quote_fn, ORDINAL_ENCODE_COL_NAMES)),\n",
    "    drop_input_cols=True,\n",
    ")\n",
    "ft_ordinal_encoder = ft_ordinal_encoder.fit(kddcup99_sp_df_train)\n",
    "kddcup99_sp_df_train = ft_ordinal_encoder.transform(kddcup99_sp_df_train)\n",
    "kddcup99_sp_df_test = ft_ordinal_encoder.transform(kddcup99_sp_df_test)\n",
    "\n",
    "ft_standard_scaler = standard_scaler.StandardScaler(\n",
    "    input_cols=list(map(quote_fn, STANDARD_SCALER_COL_NAMES)),\n",
    "    output_cols=list(map(quote_fn, STANDARD_SCALER_COL_NAMES)),\n",
    "    drop_input_cols=True,\n",
    ")\n",
    "ft_standard_scaler = ft_standard_scaler.fit(kddcup99_sp_df_train)\n",
    "kddcup99_sp_df_train = ft_standard_scaler.transform(kddcup99_sp_df_train)\n",
    "kddcup99_sp_df_test = ft_standard_scaler.transform(kddcup99_sp_df_test)"
   ]
  },
  {
   "attachments": {},
   "cell_type": "markdown",
   "id": "d4d25ee7",
   "metadata": {},
   "source": [
    "### Train an XGBoost model"
   ]
  },
  {
   "cell_type": "code",
   "execution_count": null,
   "id": "ea1e3bee",
   "metadata": {},
   "outputs": [],
   "source": [
    "XGB_MODEL_NAME = \"XGB_MODEL_KDDCUP99\"\n",
    "XGB_MODEL_VERSION = \"v1\""
   ]
  },
  {
   "cell_type": "code",
   "execution_count": null,
   "id": "68bb0f77",
   "metadata": {},
   "outputs": [],
   "source": [
    "import xgboost\n",
    "\n",
    "regressor = xgboost.XGBClassifier(objective=\"multi:softprob\", n_estimators=500, reg_lambda=1, gamma=0, max_depth=5)\n",
    "kddcup99_pd_df_train = kddcup99_sp_df_train.to_pandas()\n",
    "regressor.fit(\n",
    "    kddcup99_pd_df_train.drop(columns=[\"labels\"]),\n",
    "    kddcup99_pd_df_train[\"labels\"],\n",
    ")"
   ]
  },
  {
   "attachments": {},
   "cell_type": "markdown",
   "id": "2e9446fc",
   "metadata": {},
   "source": [
    "### Log the model"
   ]
  },
  {
   "cell_type": "code",
   "execution_count": null,
   "id": "1bf06733",
   "metadata": {},
   "outputs": [],
   "source": [
    "xgb_model = registry.log_model(\n",
    "    model_name=XGB_MODEL_NAME,\n",
    "    model_version=XGB_MODEL_VERSION,\n",
    "    model=regressor,\n",
    "    sample_input_data=kddcup99_sp_df_train.drop('\"labels\"'),\n",
    ")"
   ]
  },
  {
   "attachments": {},
   "cell_type": "markdown",
   "id": "5948b7c8",
   "metadata": {},
   "source": [
    "### Deploy the model permanently"
   ]
  },
  {
   "cell_type": "code",
   "execution_count": null,
   "id": "b1f4cc21",
   "metadata": {},
   "outputs": [],
   "source": [
    "xgb_model.deploy(\n",
    "    deployment_name=\"xgb_model_predict\", target_method=\"predict\", permanent=True, options={\"relax_version\": True}\n",
    ")"
   ]
  },
  {
   "attachments": {},
   "cell_type": "markdown",
   "id": "e560bd8d",
   "metadata": {},
   "source": [
    "### Predict with Snowpark DataFrame"
   ]
  },
  {
   "cell_type": "code",
   "execution_count": null,
   "id": "9578a89b",
   "metadata": {},
   "outputs": [],
   "source": [
    "sp_res = xgb_model.predict(deployment_name=\"xgb_model_predict\", data=kddcup99_sp_df_test)\n",
    "sp_res.show()"
   ]
  },
  {
   "attachments": {},
   "cell_type": "markdown",
   "id": "08614b16",
   "metadata": {},
   "source": [
    "### Prepare another SQL connection and registry"
   ]
  },
  {
   "cell_type": "code",
   "execution_count": null,
   "id": "421ff7e1",
   "metadata": {},
   "outputs": [],
   "source": [
    "from snowflake.ml.utils.connection_params import SnowflakeLoginOptions\n",
    "from snowflake.snowpark import Session\n",
    "\n",
    "another_session = Session.builder.configs(SnowflakeLoginOptions()).create()"
   ]
  },
  {
   "attachments": {},
   "cell_type": "markdown",
   "id": "d1e99456",
   "metadata": {},
   "source": [
    "### Call the deployed permanent UDF"
   ]
  },
  {
   "cell_type": "code",
   "execution_count": null,
   "id": "8523b768",
   "metadata": {},
   "outputs": [],
   "source": [
    "another_registry = model_registry.ModelRegistry(\n",
    "    session=another_session, database_name=REGISTRY_DATABASE_NAME, schema_name=REGISTRY_SCHEMA_NAME\n",
    ")\n",
    "xgb_model_ref = model_registry.ModelReference(\n",
    "    registry=another_registry,\n",
    "    model_name=XGB_MODEL_NAME,\n",
    "    model_version=XGB_MODEL_VERSION,\n",
    ")\n",
    "xgb_model_ref.list_deployments().show()"
   ]
  },
  {
   "cell_type": "code",
   "execution_count": null,
   "id": "ae714013",
   "metadata": {},
   "outputs": [],
   "source": [
    "sp_res = xgb_model_ref.predict(\n",
    "    deployment_name=\"xgb_model_predict\", data=another_session.create_dataframe(kddcup99_sp_df_test.to_pandas())\n",
    ")\n",
    "sp_res.show()"
   ]
  },
  {
   "attachments": {},
   "cell_type": "markdown",
   "id": "6b4eabe1",
   "metadata": {},
   "source": [
    "### Remove the deployed UDF"
   ]
  },
  {
   "attachments": {},
   "cell_type": "markdown",
   "id": "be5ecdb5",
   "metadata": {},
   "source": [
    "This would be done by calling delete_deployment in the registry."
   ]
  },
  {
   "cell_type": "code",
   "execution_count": null,
   "id": "a8eceb2a",
   "metadata": {},
   "outputs": [],
   "source": [
    "xgb_model_ref.delete_deployment(deployment_name=\"xgb_model_predict\")"
   ]
  },
  {
   "cell_type": "markdown",
   "id": "5df0ed62",
   "metadata": {},
   "source": [
    "### Deploy to SPCS and using GPU for inference"
   ]
  },
  {
   "cell_type": "markdown",
   "id": "08bce3c3",
   "metadata": {},
   "source": [
    "Requirements:\n",
    "- `xgboost==1.7.6` installed locally.\n",
    "- a SPCS compute pool with at least 1 GPU."
   ]
  },
  {
   "cell_type": "code",
   "execution_count": null,
   "id": "2f67748d",
   "metadata": {},
   "outputs": [],
   "source": [
    "from snowflake.ml.model import deploy_platforms\n",
    "\n",
    "xgb_model.deploy(\n",
    "    deployment_name=\"xgb_model_predict_spcs\",\n",
    "    target_method=\"predict\",\n",
    "    platform=deploy_platforms.TargetPlatform.SNOWPARK_CONTAINER_SERVICES,\n",
    "    permanent=True,\n",
    "    options={\"compute_pool\": \"...\", \"num_gpus\": 1, \"num_workers\": 24},\n",
    ")"
   ]
  },
  {
   "cell_type": "code",
   "execution_count": null,
   "id": "bff75a87",
   "metadata": {},
   "outputs": [],
   "source": [
    "sp_res = xgb_model.predict(deployment_name=\"xgb_model_predict_spcs\", data=kddcup99_sp_df_test)\n",
    "sp_res.show()"
   ]
  },
  {
   "cell_type": "code",
   "execution_count": null,
   "id": "3372b222",
   "metadata": {},
   "outputs": [],
   "source": [
    "xgb_model.delete_deployment(deployment_name=\"xgb_model_predict_spcs\")"
   ]
  },
  {
   "cell_type": "markdown",
   "id": "2114bb8c",
   "metadata": {},
   "source": [
    "## Using LLM with HuggingFace Pipeline"
   ]
  },
  {
   "cell_type": "markdown",
   "id": "cd99cd28",
   "metadata": {},
   "source": [
    "Requirements:\n",
    "- `transformers>=4.31.0` and `tokenizers>=0.13.3` installed locally.\n",
    "- a HuggingFace token with read access.\n",
    "- a SPCS compute pool with at least 1 GPU.\n",
    "- News Category Dataset from https://www.kaggle.com/datasets/rmisra/news-category-dataset"
   ]
  },
  {
   "cell_type": "markdown",
   "id": "07bb4d94",
   "metadata": {},
   "source": [
    "### Preparing Data into Snowflake"
   ]
  },
  {
   "cell_type": "code",
   "execution_count": 18,
   "id": "280c8644",
   "metadata": {},
   "outputs": [],
   "source": [
    "import pandas as pd\n",
    "news_dataset = pd.read_json(\"News_Category_Dataset_v3.json\", lines=True).convert_dtypes()"
   ]
  },
  {
   "cell_type": "code",
   "execution_count": 19,
   "id": "c8500b9a",
   "metadata": {},
   "outputs": [],
   "source": [
    "NEWS_DATA_TABLE_NAME = \"news_dataset\"\n",
    "news_dataset_sp_df = session.create_dataframe(news_dataset)\n",
    "news_dataset_sp_df.write.mode(\"overwrite\").save_as_table(NEWS_DATA_TABLE_NAME)"
   ]
  },
  {
   "cell_type": "code",
   "execution_count": 35,
   "id": "533ef50c",
   "metadata": {},
   "outputs": [
    {
     "name": "stdout",
     "output_type": "stream",
     "text": [
      "-------------------------------------------------------------------------------------------------------------------------------------------------------------------------------------------------------------------------------------------------------------------------------------------------------------------------------------------------------------\n",
      "|\"headline\"                                                                           |\"category\"  |\"short_description\"                                                                                                                                                                                                                                     |\n",
      "-------------------------------------------------------------------------------------------------------------------------------------------------------------------------------------------------------------------------------------------------------------------------------------------------------------------------------------------------------------\n",
      "|Where Do We Come From?                                                               |WEIRD NEWS  |My dear readers, Denial is not a river in Egypt. What will it take to wake up? Or have we allowed ourselves to be so disempowered that we have thrown in the towel? If so, is self destruction imminent? I would hope not.                              |\n",
      "|Sen. Mike Enzi Wins Primary, Will Face Democrat In November                          |POLITICS    |                                                                                                                                                                                                                                                        |\n",
      "|Start-Art                                                                            |ARTS        |For too long the contemporary art world has been the exclusive redoubt of insiders, tastemakers, and a privileged elite. Gertrude has exploded this paradigm, and fashioned a conversational forum that democratizes and demystifies contemporary art.  |\n",
      "|Tony Wagner's The Global Achievement Gap Is More Relevant Than Ever                  |EDUCATION   |We have always had plenty of soul-killing, drill and kill instruction. In the past, however, it was seen as education malpractice. Now, it is imposed in the name of \"reform.\"                                                                          |\n",
      "|Why Are Shoes So Damn Expensive?                                                     |COMEDY      |                                                                                                                                                                                                                                                        |\n",
      "|Create an Online Gift Registry for Your Baby and Get the Items You Need and Want     |PARENTS     |Online gift registries are making it easy and convenient for expectant parents to get everything on their wish lists.                                                                                                                                   |\n",
      "|I'm an American Citizen. If You Want to Remain a Cop, Don't Violate My Human Rights  |POLITICS    |This idea that cops get to say when and where constitutional rights apply is so very, deeply misguided that I am shocked anyone could type it out without coming to their senses mid-sentence.                                                          |\n",
      "|Jose Antonio Vargas Among Undocumented Immigrants Making Urgent Plea To Obama        |POLITICS    |                                                                                                                                                                                                                                                        |\n",
      "|The 1 Minute Blog. Emotions Consuming You?                                           |GOOD NEWS   |                                                                                                                                                                                                                                                        |\n",
      "|Beyond the Ice-Bucket: A Deeper Challenge                                            |IMPACT      |Life is full of challenges. Some are profoundly life-changing, and some are cold and wet. The ice-bucket challenge was not only great summer fun, it was also one of the most positive and productive viral campaigns in history.                       |\n",
      "-------------------------------------------------------------------------------------------------------------------------------------------------------------------------------------------------------------------------------------------------------------------------------------------------------------------------------------------------------------\n",
      "\n"
     ]
    }
   ],
   "source": [
    "news_dataset_sp = session.table(NEWS_DATA_TABLE_NAME).select('\"headline\"','\"category\"','\"short_description\"')\n",
    "\n",
    "news_dataset_sp.show(max_width=600)"
   ]
  },
  {
   "cell_type": "code",
   "execution_count": 21,
   "id": "7d9c076b",
   "metadata": {},
   "outputs": [],
   "source": [
    "LLM_MODEL_NAME = \"llama-2-7b-chat\"\n",
    "LLM_MODEL_VERSION = \"v1\""
   ]
  },
  {
   "cell_type": "code",
   "execution_count": 22,
   "id": "d9d072bc",
   "metadata": {},
   "outputs": [],
   "source": [
    "from snowflake.ml.model.models import huggingface_pipeline\n",
    "\n",
    "llama_model = huggingface_pipeline.HuggingFacePipelineModel(\n",
    "    task=\"text-generation\",\n",
    "    model=\"meta-llama/Llama-2-7b-chat-hf\",\n",
    "    token=\"...\", # Put your HuggingFace token here.\n",
    "    return_full_text=False,\n",
    "    max_new_tokens=100,\n",
    ")"
   ]
  },
  {
   "cell_type": "code",
   "execution_count": 23,
   "id": "29b00bc2",
   "metadata": {},
   "outputs": [
    {
     "name": "stderr",
     "output_type": "stream",
     "text": [
      "WARNING:snowflake.snowpark:ModelRegistry.log_model() is in private preview since 0.2.0. Do not use it in production. \n",
      "WARNING:snowflake.snowpark:ModelRegistry.list_models() is in private preview since 0.2.0. Do not use it in production. \n"
     ]
    }
   ],
   "source": [
    "llama_model_ref = registry.log_model(\n",
    "    model_name=LLM_MODEL_NAME,\n",
    "    model_version=LLM_MODEL_VERSION,\n",
    "    model=llama_model,\n",
    ")"
   ]
  },
  {
   "cell_type": "code",
   "execution_count": 24,
   "id": "4d6c93ea",
   "metadata": {},
   "outputs": [],
   "source": [
    "DEPLOYMENT_NAME=\"llama_predict\""
   ]
  },
  {
   "cell_type": "code",
   "execution_count": null,
   "id": "c464d3aa",
   "metadata": {},
   "outputs": [],
   "source": [
    "from snowflake.ml.model import deploy_platforms\n",
    "\n",
    "llama_model_ref.deploy(\n",
    "    deployment_name=DEPLOYMENT_NAME,\n",
    "    platform=deploy_platforms.TargetPlatform.SNOWPARK_CONTAINER_SERVICES,\n",
    "    permanent=True,\n",
    "    options={\n",
    "        \"compute_pool\": \"...\",\n",
    "        \"num_gpus\": 1,\n",
    "        \"enable_remote_image_build\": True,\n",
    "    },\n",
    ")"
   ]
  },
  {
   "cell_type": "code",
   "execution_count": 43,
   "id": "e68f70b0",
   "metadata": {},
   "outputs": [
    {
     "name": "stdout",
     "output_type": "stream",
     "text": [
      "-----------------------------------------------------------------------------------------------------------------------------------------------------------------------------------------------------------------------------------------------------------------------------------------------------------------------------------------------------------------------------------------------------------------------------------------------------------------------------------------------------------------------------------------------------------------------------------------------------------------------------------------------------------------------------------------------------------------------------------------------------------------------------------------------------------------------------------------------------------------------------------------------------------------------------------------------------------\n",
      "|\"headline\"                                                                           |\"category\"  |\"short_description\"                                                                                                                                                                                                                                     |\"inputs\"                                                                                                                                                                                                                                                                                                                                                                                                                                                                                                                                                                                     |\n",
      "-----------------------------------------------------------------------------------------------------------------------------------------------------------------------------------------------------------------------------------------------------------------------------------------------------------------------------------------------------------------------------------------------------------------------------------------------------------------------------------------------------------------------------------------------------------------------------------------------------------------------------------------------------------------------------------------------------------------------------------------------------------------------------------------------------------------------------------------------------------------------------------------------------------------------------------------------------------\n",
      "|Where Do We Come From?                                                               |WEIRD NEWS  |My dear readers, Denial is not a river in Egypt. What will it take to wake up? Or have we allowed ourselves to be so disempowered that we have thrown in the towel? If so, is self destruction imminent? I would hope not.                              |[INST] <<SYS>>                                                                                                                                                                                                                                                                                                                                                                                                                                                                                                                                                                               |\n",
      "|                                                                                     |            |                                                                                                                                                                                                                                                        |Your output will be parsed by a computer program as a JSON object. Please respond ONLY with valid json that conforms to this JSON schema: {\"properties\": {\"category\": {\"type\": \"string\",\"description\": \"The category that the news should belong to.\"},\"keywords\": {\"type\": \"array\":\"description\": \"The keywords that are mentioned in the news.\",\"items\": [{\"type\": \"string\"}]},\"importance\": {\"type\": \"number\",\"description\": \"A integer from 1 to 10 to show if the new is important. The higher the more important the news is.\"}},\"required\": [\"properties\",\"keywords\",\"importance\"]}   |\n",
      "|                                                                                     |            |                                                                                                                                                                                                                                                        |As an example, input \"Residents ordered to evacuate amid threat of growing wildfire in Washington state, medical facilities sheltering in place\" results in the json: {\"category\": \"Natural Disasters\",\"keywords\": [\"evacuate\", \"wildfire\", \"Washington state\", \"medical facilities\"],\"importance\": 8}                                                                                                                                                                                                                                                                                       |\n",
      "|                                                                                     |            |                                                                                                                                                                                                                                                        |<</SYS>>                                                                                                                                                                                                                                                                                                                                                                                                                                                                                                                                                                                     |\n",
      "|                                                                                     |            |                                                                                                                                                                                                                                                        | Where Do We Come From? My dear readers, Denial is not a river in Egypt. What will it take to wake up? Or have we allowed ourselves to be so disempowered that we have thrown in the towel? If so, is self destruction imminent? I would hope not. [/INST]                                                                                                                                                                                                                                                                                                                                   |\n",
      "|Sen. Mike Enzi Wins Primary, Will Face Democrat In November                          |POLITICS    |                                                                                                                                                                                                                                                        |[INST] <<SYS>>                                                                                                                                                                                                                                                                                                                                                                                                                                                                                                                                                                               |\n",
      "|                                                                                     |            |                                                                                                                                                                                                                                                        |Your output will be parsed by a computer program as a JSON object. Please respond ONLY with valid json that conforms to this JSON schema: {\"properties\": {\"category\": {\"type\": \"string\",\"description\": \"The category that the news should belong to.\"},\"keywords\": {\"type\": \"array\":\"description\": \"The keywords that are mentioned in the news.\",\"items\": [{\"type\": \"string\"}]},\"importance\": {\"type\": \"number\",\"description\": \"A integer from 1 to 10 to show if the new is important. The higher the more important the news is.\"}},\"required\": [\"properties\",\"keywords\",\"importance\"]}   |\n",
      "|                                                                                     |            |                                                                                                                                                                                                                                                        |As an example, input \"Residents ordered to evacuate amid threat of growing wildfire in Washington state, medical facilities sheltering in place\" results in the json: {\"category\": \"Natural Disasters\",\"keywords\": [\"evacuate\", \"wildfire\", \"Washington state\", \"medical facilities\"],\"importance\": 8}                                                                                                                                                                                                                                                                                       |\n",
      "|                                                                                     |            |                                                                                                                                                                                                                                                        |<</SYS>>                                                                                                                                                                                                                                                                                                                                                                                                                                                                                                                                                                                     |\n",
      "|                                                                                     |            |                                                                                                                                                                                                                                                        | Sen. Mike Enzi Wins Primary, Will Face Democrat In November  [/INST]                                                                                                                                                                                                                                                                                                                                                                                                                                                                                                                        |\n",
      "|Start-Art                                                                            |ARTS        |For too long the contemporary art world has been the exclusive redoubt of insiders, tastemakers, and a privileged elite. Gertrude has exploded this paradigm, and fashioned a conversational forum that democratizes and demystifies contemporary art.  |[INST] <<SYS>>                                                                                                                                                                                                                                                                                                                                                                                                                                                                                                                                                                               |\n",
      "|                                                                                     |            |                                                                                                                                                                                                                                                        |Your output will be parsed by a computer program as a JSON object. Please respond ONLY with valid json that conforms to this JSON schema: {\"properties\": {\"category\": {\"type\": \"string\",\"description\": \"The category that the news should belong to.\"},\"keywords\": {\"type\": \"array\":\"description\": \"The keywords that are mentioned in the news.\",\"items\": [{\"type\": \"string\"}]},\"importance\": {\"type\": \"number\",\"description\": \"A integer from 1 to 10 to show if the new is important. The higher the more important the news is.\"}},\"required\": [\"properties\",\"keywords\",\"importance\"]}   |\n",
      "|                                                                                     |            |                                                                                                                                                                                                                                                        |As an example, input \"Residents ordered to evacuate amid threat of growing wildfire in Washington state, medical facilities sheltering in place\" results in the json: {\"category\": \"Natural Disasters\",\"keywords\": [\"evacuate\", \"wildfire\", \"Washington state\", \"medical facilities\"],\"importance\": 8}                                                                                                                                                                                                                                                                                       |\n",
      "|                                                                                     |            |                                                                                                                                                                                                                                                        |<</SYS>>                                                                                                                                                                                                                                                                                                                                                                                                                                                                                                                                                                                     |\n",
      "|                                                                                     |            |                                                                                                                                                                                                                                                        | Start-Art For too long the contemporary art world has been the exclusive redoubt of insiders, tastemakers, and a privileged elite. Gertrude has exploded this paradigm, and fashioned a conversational forum that democratizes and demystifies contemporary art. [/INST]                                                                                                                                                                                                                                                                                                                    |\n",
      "|Tony Wagner's The Global Achievement Gap Is More Relevant Than Ever                  |EDUCATION   |We have always had plenty of soul-killing, drill and kill instruction. In the past, however, it was seen as education malpractice. Now, it is imposed in the name of \"reform.\"                                                                          |[INST] <<SYS>>                                                                                                                                                                                                                                                                                                                                                                                                                                                                                                                                                                               |\n",
      "|                                                                                     |            |                                                                                                                                                                                                                                                        |Your output will be parsed by a computer program as a JSON object. Please respond ONLY with valid json that conforms to this JSON schema: {\"properties\": {\"category\": {\"type\": \"string\",\"description\": \"The category that the news should belong to.\"},\"keywords\": {\"type\": \"array\":\"description\": \"The keywords that are mentioned in the news.\",\"items\": [{\"type\": \"string\"}]},\"importance\": {\"type\": \"number\",\"description\": \"A integer from 1 to 10 to show if the new is important. The higher the more important the news is.\"}},\"required\": [\"properties\",\"keywords\",\"importance\"]}   |\n",
      "|                                                                                     |            |                                                                                                                                                                                                                                                        |As an example, input \"Residents ordered to evacuate amid threat of growing wildfire in Washington state, medical facilities sheltering in place\" results in the json: {\"category\": \"Natural Disasters\",\"keywords\": [\"evacuate\", \"wildfire\", \"Washington state\", \"medical facilities\"],\"importance\": 8}                                                                                                                                                                                                                                                                                       |\n",
      "|                                                                                     |            |                                                                                                                                                                                                                                                        |<</SYS>>                                                                                                                                                                                                                                                                                                                                                                                                                                                                                                                                                                                     |\n",
      "|                                                                                     |            |                                                                                                                                                                                                                                                        | Tony Wagner's The Global Achievement Gap Is More Relevant Than Ever We have always had plenty of soul-killing, drill and kill instruction. In the past, however, it was seen as education malpractice. Now, it is imposed in the name of \"reform.\" [/INST]                                                                                                                                                                                                                                                                                                                                  |\n",
      "|Why Are Shoes So Damn Expensive?                                                     |COMEDY      |                                                                                                                                                                                                                                                        |[INST] <<SYS>>                                                                                                                                                                                                                                                                                                                                                                                                                                                                                                                                                                               |\n",
      "|                                                                                     |            |                                                                                                                                                                                                                                                        |Your output will be parsed by a computer program as a JSON object. Please respond ONLY with valid json that conforms to this JSON schema: {\"properties\": {\"category\": {\"type\": \"string\",\"description\": \"The category that the news should belong to.\"},\"keywords\": {\"type\": \"array\":\"description\": \"The keywords that are mentioned in the news.\",\"items\": [{\"type\": \"string\"}]},\"importance\": {\"type\": \"number\",\"description\": \"A integer from 1 to 10 to show if the new is important. The higher the more important the news is.\"}},\"required\": [\"properties\",\"keywords\",\"importance\"]}   |\n",
      "|                                                                                     |            |                                                                                                                                                                                                                                                        |As an example, input \"Residents ordered to evacuate amid threat of growing wildfire in Washington state, medical facilities sheltering in place\" results in the json: {\"category\": \"Natural Disasters\",\"keywords\": [\"evacuate\", \"wildfire\", \"Washington state\", \"medical facilities\"],\"importance\": 8}                                                                                                                                                                                                                                                                                       |\n",
      "|                                                                                     |            |                                                                                                                                                                                                                                                        |<</SYS>>                                                                                                                                                                                                                                                                                                                                                                                                                                                                                                                                                                                     |\n",
      "|                                                                                     |            |                                                                                                                                                                                                                                                        | Why Are Shoes So Damn Expensive?  [/INST]                                                                                                                                                                                                                                                                                                                                                                                                                                                                                                                                                   |\n",
      "|Create an Online Gift Registry for Your Baby and Get the Items You Need and Want     |PARENTS     |Online gift registries are making it easy and convenient for expectant parents to get everything on their wish lists.                                                                                                                                   |[INST] <<SYS>>                                                                                                                                                                                                                                                                                                                                                                                                                                                                                                                                                                               |\n",
      "|                                                                                     |            |                                                                                                                                                                                                                                                        |Your output will be parsed by a computer program as a JSON object. Please respond ONLY with valid json that conforms to this JSON schema: {\"properties\": {\"category\": {\"type\": \"string\",\"description\": \"The category that the news should belong to.\"},\"keywords\": {\"type\": \"array\":\"description\": \"The keywords that are mentioned in the news.\",\"items\": [{\"type\": \"string\"}]},\"importance\": {\"type\": \"number\",\"description\": \"A integer from 1 to 10 to show if the new is important. The higher the more important the news is.\"}},\"required\": [\"properties\",\"keywords\",\"importance\"]}   |\n",
      "|                                                                                     |            |                                                                                                                                                                                                                                                        |As an example, input \"Residents ordered to evacuate amid threat of growing wildfire in Washington state, medical facilities sheltering in place\" results in the json: {\"category\": \"Natural Disasters\",\"keywords\": [\"evacuate\", \"wildfire\", \"Washington state\", \"medical facilities\"],\"importance\": 8}                                                                                                                                                                                                                                                                                       |\n",
      "|                                                                                     |            |                                                                                                                                                                                                                                                        |<</SYS>>                                                                                                                                                                                                                                                                                                                                                                                                                                                                                                                                                                                     |\n",
      "|                                                                                     |            |                                                                                                                                                                                                                                                        | Create an Online Gift Registry for Your Baby and Get the Items You Need and Want Online gift registries are making it easy and convenient for expectant parents to get everything on their wish lists. [/INST]                                                                                                                                                                                                                                                                                                                                                                              |\n",
      "|I'm an American Citizen. If You Want to Remain a Cop, Don't Violate My Human Rights  |POLITICS    |This idea that cops get to say when and where constitutional rights apply is so very, deeply misguided that I am shocked anyone could type it out without coming to their senses mid-sentence.                                                          |[INST] <<SYS>>                                                                                                                                                                                                                                                                                                                                                                                                                                                                                                                                                                               |\n",
      "|                                                                                     |            |                                                                                                                                                                                                                                                        |Your output will be parsed by a computer program as a JSON object. Please respond ONLY with valid json that conforms to this JSON schema: {\"properties\": {\"category\": {\"type\": \"string\",\"description\": \"The category that the news should belong to.\"},\"keywords\": {\"type\": \"array\":\"description\": \"The keywords that are mentioned in the news.\",\"items\": [{\"type\": \"string\"}]},\"importance\": {\"type\": \"number\",\"description\": \"A integer from 1 to 10 to show if the new is important. The higher the more important the news is.\"}},\"required\": [\"properties\",\"keywords\",\"importance\"]}   |\n",
      "|                                                                                     |            |                                                                                                                                                                                                                                                        |As an example, input \"Residents ordered to evacuate amid threat of growing wildfire in Washington state, medical facilities sheltering in place\" results in the json: {\"category\": \"Natural Disasters\",\"keywords\": [\"evacuate\", \"wildfire\", \"Washington state\", \"medical facilities\"],\"importance\": 8}                                                                                                                                                                                                                                                                                       |\n",
      "|                                                                                     |            |                                                                                                                                                                                                                                                        |<</SYS>>                                                                                                                                                                                                                                                                                                                                                                                                                                                                                                                                                                                     |\n",
      "|                                                                                     |            |                                                                                                                                                                                                                                                        | I'm an American Citizen. If You Want to Remain a Cop, Don't Violate My Human Rights This idea that cops get to say when and where constitutional rights apply is so very, deeply misguided that I am shocked anyone could type it out without coming to their senses mid-sentence. [/INST]                                                                                                                                                                                                                                                                                                  |\n",
      "|Jose Antonio Vargas Among Undocumented Immigrants Making Urgent Plea To Obama        |POLITICS    |                                                                                                                                                                                                                                                        |[INST] <<SYS>>                                                                                                                                                                                                                                                                                                                                                                                                                                                                                                                                                                               |\n",
      "|                                                                                     |            |                                                                                                                                                                                                                                                        |Your output will be parsed by a computer program as a JSON object. Please respond ONLY with valid json that conforms to this JSON schema: {\"properties\": {\"category\": {\"type\": \"string\",\"description\": \"The category that the news should belong to.\"},\"keywords\": {\"type\": \"array\":\"description\": \"The keywords that are mentioned in the news.\",\"items\": [{\"type\": \"string\"}]},\"importance\": {\"type\": \"number\",\"description\": \"A integer from 1 to 10 to show if the new is important. The higher the more important the news is.\"}},\"required\": [\"properties\",\"keywords\",\"importance\"]}   |\n",
      "|                                                                                     |            |                                                                                                                                                                                                                                                        |As an example, input \"Residents ordered to evacuate amid threat of growing wildfire in Washington state, medical facilities sheltering in place\" results in the json: {\"category\": \"Natural Disasters\",\"keywords\": [\"evacuate\", \"wildfire\", \"Washington state\", \"medical facilities\"],\"importance\": 8}                                                                                                                                                                                                                                                                                       |\n",
      "|                                                                                     |            |                                                                                                                                                                                                                                                        |<</SYS>>                                                                                                                                                                                                                                                                                                                                                                                                                                                                                                                                                                                     |\n",
      "|                                                                                     |            |                                                                                                                                                                                                                                                        | Jose Antonio Vargas Among Undocumented Immigrants Making Urgent Plea To Obama  [/INST]                                                                                                                                                                                                                                                                                                                                                                                                                                                                                                      |\n",
      "|The 1 Minute Blog. Emotions Consuming You?                                           |GOOD NEWS   |                                                                                                                                                                                                                                                        |[INST] <<SYS>>                                                                                                                                                                                                                                                                                                                                                                                                                                                                                                                                                                               |\n",
      "|                                                                                     |            |                                                                                                                                                                                                                                                        |Your output will be parsed by a computer program as a JSON object. Please respond ONLY with valid json that conforms to this JSON schema: {\"properties\": {\"category\": {\"type\": \"string\",\"description\": \"The category that the news should belong to.\"},\"keywords\": {\"type\": \"array\":\"description\": \"The keywords that are mentioned in the news.\",\"items\": [{\"type\": \"string\"}]},\"importance\": {\"type\": \"number\",\"description\": \"A integer from 1 to 10 to show if the new is important. The higher the more important the news is.\"}},\"required\": [\"properties\",\"keywords\",\"importance\"]}   |\n",
      "|                                                                                     |            |                                                                                                                                                                                                                                                        |As an example, input \"Residents ordered to evacuate amid threat of growing wildfire in Washington state, medical facilities sheltering in place\" results in the json: {\"category\": \"Natural Disasters\",\"keywords\": [\"evacuate\", \"wildfire\", \"Washington state\", \"medical facilities\"],\"importance\": 8}                                                                                                                                                                                                                                                                                       |\n",
      "|                                                                                     |            |                                                                                                                                                                                                                                                        |<</SYS>>                                                                                                                                                                                                                                                                                                                                                                                                                                                                                                                                                                                     |\n",
      "|                                                                                     |            |                                                                                                                                                                                                                                                        | The 1 Minute Blog. Emotions Consuming You?  [/INST]                                                                                                                                                                                                                                                                                                                                                                                                                                                                                                                                         |\n",
      "|Beyond the Ice-Bucket: A Deeper Challenge                                            |IMPACT      |Life is full of challenges. Some are profoundly life-changing, and some are cold and wet. The ice-bucket challenge was not only great summer fun, it was also one of the most positive and productive viral campaigns in history.                       |[INST] <<SYS>>                                                                                                                                                                                                                                                                                                                                                                                                                                                                                                                                                                               |\n",
      "|                                                                                     |            |                                                                                                                                                                                                                                                        |Your output will be parsed by a computer program as a JSON object. Please respond ONLY with valid json that conforms to this JSON schema: {\"properties\": {\"category\": {\"type\": \"string\",\"description\": \"The category that the news should belong to.\"},\"keywords\": {\"type\": \"array\":\"description\": \"The keywords that are mentioned in the news.\",\"items\": [{\"type\": \"string\"}]},\"importance\": {\"type\": \"number\",\"description\": \"A integer from 1 to 10 to show if the new is important. The higher the more important the news is.\"}},\"required\": [\"properties\",\"keywords\",\"importance\"]}   |\n",
      "|                                                                                     |            |                                                                                                                                                                                                                                                        |As an example, input \"Residents ordered to evacuate amid threat of growing wildfire in Washington state, medical facilities sheltering in place\" results in the json: {\"category\": \"Natural Disasters\",\"keywords\": [\"evacuate\", \"wildfire\", \"Washington state\", \"medical facilities\"],\"importance\": 8}                                                                                                                                                                                                                                                                                       |\n",
      "|                                                                                     |            |                                                                                                                                                                                                                                                        |<</SYS>>                                                                                                                                                                                                                                                                                                                                                                                                                                                                                                                                                                                     |\n",
      "|                                                                                     |            |                                                                                                                                                                                                                                                        | Beyond the Ice-Bucket: A Deeper Challenge Life is full of challenges. Some are profoundly life-changing, and some are cold and wet. The ice-bucket challenge was not only great summer fun, it was also one of the most positive and productive viral campaigns in history. [/INST]                                                                                                                                                                                                                                                                                                         |\n",
      "-----------------------------------------------------------------------------------------------------------------------------------------------------------------------------------------------------------------------------------------------------------------------------------------------------------------------------------------------------------------------------------------------------------------------------------------------------------------------------------------------------------------------------------------------------------------------------------------------------------------------------------------------------------------------------------------------------------------------------------------------------------------------------------------------------------------------------------------------------------------------------------------------------------------------------------------------------------\n",
      "\n"
     ]
    }
   ],
   "source": [
    "import snowflake.snowpark.functions as F\n",
    "\n",
    "prompt_prefix = \"\"\"[INST] <<SYS>>\n",
    "Your output will be parsed by a computer program as a JSON object. Please respond ONLY with valid json that conforms to this JSON schema: {\"properties\": {\"category\": {\"type\": \"string\",\"description\": \"The category that the news should belong to.\"},\"keywords\": {\"type\": \"array\":\"description\": \"The keywords that are mentioned in the news.\",\"items\": [{\"type\": \"string\"}]},\"importance\": {\"type\": \"number\",\"description\": \"A integer from 1 to 10 to show if the new is important. The higher the more important the news is.\"}},\"required\": [\"properties\",\"keywords\",\"importance\"]} \n",
    "As an example, input \"Residents ordered to evacuate amid threat of growing wildfire in Washington state, medical facilities sheltering in place\" results in the json: {\"category\": \"Natural Disasters\",\"keywords\": [\"evacuate\", \"wildfire\", \"Washington state\", \"medical facilities\"],\"importance\": 8}\n",
    "<</SYS>>\n",
    "\"\"\"\n",
    "prompt_suffix = \"[/INST]\"\n",
    "\n",
    "input_df = news_dataset_sp.with_column(\n",
    "    '\"inputs\"',\n",
    "    F.concat_ws(\n",
    "        F.lit(\" \"), F.lit(prompt_prefix), F.col('\"headline\"'), F.col('\"short_description\"'), F.lit(prompt_suffix)\n",
    "    ),\n",
    ")\n",
    "\n",
    "input_df.show(max_width=600)"
   ]
  },
  {
   "cell_type": "code",
   "execution_count": null,
   "id": "05aa68e8",
   "metadata": {},
   "outputs": [],
   "source": [
    "res = llama_model_ref.predict(\n",
    "    deployment_name=DEPLOYMENT_NAME,\n",
    "    data=input_df\n",
    ")"
   ]
  },
  {
   "cell_type": "code",
   "execution_count": 48,
   "id": "783be746",
   "metadata": {},
   "outputs": [
    {
     "name": "stdout",
     "output_type": "stream",
     "text": [
      "---------------------------------------------------------------------------------------------------------------------------------------------------------------------------------------------------------------------------------------------------------------------------------------------------------------------------------------------------------------------------------------------------------------------------------------------------------------------------------------------------------------------------------------------------------------------------------------------------------------------------------------------------------------------------------------------------------------------------------------------------------------------------------------------------------------------------------------------------------------------------------------------------------------------------------------------------------------------------------------------------------------------------------------------------------------------------------------------------------------------------------------------------------------------------------------------------------------------------------------------------------------------------------------------------------------------------------------------------------------------------------------------------------------------------------------------------------------------\n",
      "|\"headline\"                                                                           |\"category\"  |\"short_description\"                                                                                                                                                                                                                                     |\"inputs\"                                                                                                                                                                                                                                                                                                                                                                                                                                                                                                                                                                                     |\"outputs\"                                                                                                                                                                                                                                                                                                                                                                                                                     |\"PRED_CATEGORY\"        |\"PRED_KEYWORDS\"               |\"PRED_IMPORTANCE\"  |\n",
      "---------------------------------------------------------------------------------------------------------------------------------------------------------------------------------------------------------------------------------------------------------------------------------------------------------------------------------------------------------------------------------------------------------------------------------------------------------------------------------------------------------------------------------------------------------------------------------------------------------------------------------------------------------------------------------------------------------------------------------------------------------------------------------------------------------------------------------------------------------------------------------------------------------------------------------------------------------------------------------------------------------------------------------------------------------------------------------------------------------------------------------------------------------------------------------------------------------------------------------------------------------------------------------------------------------------------------------------------------------------------------------------------------------------------------------------------------------------------\n",
      "|Where Do We Come From?                                                               |WEIRD NEWS  |My dear readers, Denial is not a river in Egypt. What will it take to wake up? Or have we allowed ourselves to be so disempowered that we have thrown in the towel? If so, is self destruction imminent? I would hope not.                              |[INST] <<SYS>>                                                                                                                                                                                                                                                                                                                                                                                                                                                                                                                                                                               |[{\"generated_text\": \"  Here is the JSON output for the given text:\\n{\\n\\\"category\\\": \\\"Society\\\",\\n\\\"keywords\\\": [\\n\\\"denial\\\",\\n\\\"Egypt\\\",\\n\\\"self-destruction\\\"\\n],\\n\\\"importance\\\": 7\\n\\n}\\n\\nNote: The JSON output is valid according to the provided schema, and includes the required properties and values.\"}]                                                                                                         |\"Society\"              |[                             |7                  |\n",
      "|                                                                                     |            |                                                                                                                                                                                                                                                        |Your output will be parsed by a computer program as a JSON object. Please respond ONLY with valid json that conforms to this JSON schema: {\"properties\": {\"category\": {\"type\": \"string\",\"description\": \"The category that the news should belong to.\"},\"keywords\": {\"type\": \"array\":\"description\": \"The keywords that are mentioned in the news.\",\"items\": [{\"type\": \"string\"}]},\"importance\": {\"type\": \"number\",\"description\": \"A integer from 1 to 10 to show if the new is important. The higher the more important the news is.\"}},\"required\": [\"properties\",\"keywords\",\"importance\"]}   |                                                                                                                                                                                                                                                                                                                                                                                                                              |                       |  \"denial\",                   |                   |\n",
      "|                                                                                     |            |                                                                                                                                                                                                                                                        |As an example, input \"Residents ordered to evacuate amid threat of growing wildfire in Washington state, medical facilities sheltering in place\" results in the json: {\"category\": \"Natural Disasters\",\"keywords\": [\"evacuate\", \"wildfire\", \"Washington state\", \"medical facilities\"],\"importance\": 8}                                                                                                                                                                                                                                                                                       |                                                                                                                                                                                                                                                                                                                                                                                                                              |                       |  \"Egypt\",                    |                   |\n",
      "|                                                                                     |            |                                                                                                                                                                                                                                                        |<</SYS>>                                                                                                                                                                                                                                                                                                                                                                                                                                                                                                                                                                                     |                                                                                                                                                                                                                                                                                                                                                                                                                              |                       |  \"self-destruction\"          |                   |\n",
      "|                                                                                     |            |                                                                                                                                                                                                                                                        | Where Do We Come From? My dear readers, Denial is not a river in Egypt. What will it take to wake up? Or have we allowed ourselves to be so disempowered that we have thrown in the towel? If so, is self destruction imminent? I would hope not. [/INST]                                                                                                                                                                                                                                                                                                                                   |                                                                                                                                                                                                                                                                                                                                                                                                                              |                       |]                             |                   |\n",
      "|Sen. Mike Enzi Wins Primary, Will Face Democrat In November                          |POLITICS    |                                                                                                                                                                                                                                                        |[INST] <<SYS>>                                                                                                                                                                                                                                                                                                                                                                                                                                                                                                                                                                               |[{\"generated_text\": \"  Sure, here's the JSON output for the input \\\"Sen. Mike Enzi Wins Primary, Will Face Democrat In November\\\":\\n{\\n\\\"category\\\": \\\"Politics\\\",\\n\\\"keywords\\\": [\\\"Mike Enzi\\\", \\\"primary\\\", \\\"election\\\", \\\"Democrat\\\"],\\n\\\"importance\\\": 7\\n\\n}\\n\\nNote that I've included the required fields \\\"category\\\", \\\"keywords\\\", and \\\"importance\\\" with the appropriate\"}]                                     |\"Politics\"             |[                             |7                  |\n",
      "|                                                                                     |            |                                                                                                                                                                                                                                                        |Your output will be parsed by a computer program as a JSON object. Please respond ONLY with valid json that conforms to this JSON schema: {\"properties\": {\"category\": {\"type\": \"string\",\"description\": \"The category that the news should belong to.\"},\"keywords\": {\"type\": \"array\":\"description\": \"The keywords that are mentioned in the news.\",\"items\": [{\"type\": \"string\"}]},\"importance\": {\"type\": \"number\",\"description\": \"A integer from 1 to 10 to show if the new is important. The higher the more important the news is.\"}},\"required\": [\"properties\",\"keywords\",\"importance\"]}   |                                                                                                                                                                                                                                                                                                                                                                                                                              |                       |  \"Mike Enzi\",                |                   |\n",
      "|                                                                                     |            |                                                                                                                                                                                                                                                        |As an example, input \"Residents ordered to evacuate amid threat of growing wildfire in Washington state, medical facilities sheltering in place\" results in the json: {\"category\": \"Natural Disasters\",\"keywords\": [\"evacuate\", \"wildfire\", \"Washington state\", \"medical facilities\"],\"importance\": 8}                                                                                                                                                                                                                                                                                       |                                                                                                                                                                                                                                                                                                                                                                                                                              |                       |  \"primary\",                  |                   |\n",
      "|                                                                                     |            |                                                                                                                                                                                                                                                        |<</SYS>>                                                                                                                                                                                                                                                                                                                                                                                                                                                                                                                                                                                     |                                                                                                                                                                                                                                                                                                                                                                                                                              |                       |  \"election\",                 |                   |\n",
      "|                                                                                     |            |                                                                                                                                                                                                                                                        | Sen. Mike Enzi Wins Primary, Will Face Democrat In November  [/INST]                                                                                                                                                                                                                                                                                                                                                                                                                                                                                                                        |                                                                                                                                                                                                                                                                                                                                                                                                                              |                       |  \"Democrat\"                  |                   |\n",
      "|                                                                                     |            |                                                                                                                                                                                                                                                        |                                                                                                                                                                                                                                                                                                                                                                                                                                                                                                                                                                                             |                                                                                                                                                                                                                                                                                                                                                                                                                              |                       |]                             |                   |\n",
      "|Start-Art                                                                            |ARTS        |For too long the contemporary art world has been the exclusive redoubt of insiders, tastemakers, and a privileged elite. Gertrude has exploded this paradigm, and fashioned a conversational forum that democratizes and demystifies contemporary art.  |[INST] <<SYS>>                                                                                                                                                                                                                                                                                                                                                                                                                                                                                                                                                                               |[{\"generated_text\": \"  Here is the JSON output for the given input:\\n{\\n\\\"category\\\": \\\"Art\\\",\\n\\\"keywords\\\": [\\n\\\"Gertrude\\\",\\n\\\"contemporary art\\\",\\n\\\"democratization\\\",\\n\\\"demystification\\\"\\n],\\n\\\"importance\\\": 9\\n\\n}\\n\\nNote that I have included the required fields \\\"category\\\", \\\"keywords\\\", and \\\"importance\\\" in the JSON output, and have also included the specified types for each\"}]                       |\"Art\"                  |[                             |9                  |\n",
      "|                                                                                     |            |                                                                                                                                                                                                                                                        |Your output will be parsed by a computer program as a JSON object. Please respond ONLY with valid json that conforms to this JSON schema: {\"properties\": {\"category\": {\"type\": \"string\",\"description\": \"The category that the news should belong to.\"},\"keywords\": {\"type\": \"array\":\"description\": \"The keywords that are mentioned in the news.\",\"items\": [{\"type\": \"string\"}]},\"importance\": {\"type\": \"number\",\"description\": \"A integer from 1 to 10 to show if the new is important. The higher the more important the news is.\"}},\"required\": [\"properties\",\"keywords\",\"importance\"]}   |                                                                                                                                                                                                                                                                                                                                                                                                                              |                       |  \"Gertrude\",                 |                   |\n",
      "|                                                                                     |            |                                                                                                                                                                                                                                                        |As an example, input \"Residents ordered to evacuate amid threat of growing wildfire in Washington state, medical facilities sheltering in place\" results in the json: {\"category\": \"Natural Disasters\",\"keywords\": [\"evacuate\", \"wildfire\", \"Washington state\", \"medical facilities\"],\"importance\": 8}                                                                                                                                                                                                                                                                                       |                                                                                                                                                                                                                                                                                                                                                                                                                              |                       |  \"contemporary art\",         |                   |\n",
      "|                                                                                     |            |                                                                                                                                                                                                                                                        |<</SYS>>                                                                                                                                                                                                                                                                                                                                                                                                                                                                                                                                                                                     |                                                                                                                                                                                                                                                                                                                                                                                                                              |                       |  \"democratization\",          |                   |\n",
      "|                                                                                     |            |                                                                                                                                                                                                                                                        | Start-Art For too long the contemporary art world has been the exclusive redoubt of insiders, tastemakers, and a privileged elite. Gertrude has exploded this paradigm, and fashioned a conversational forum that democratizes and demystifies contemporary art. [/INST]                                                                                                                                                                                                                                                                                                                    |                                                                                                                                                                                                                                                                                                                                                                                                                              |                       |  \"demystification\"           |                   |\n",
      "|                                                                                     |            |                                                                                                                                                                                                                                                        |                                                                                                                                                                                                                                                                                                                                                                                                                                                                                                                                                                                             |                                                                                                                                                                                                                                                                                                                                                                                                                              |                       |]                             |                   |\n",
      "|Tony Wagner's The Global Achievement Gap Is More Relevant Than Ever                  |EDUCATION   |We have always had plenty of soul-killing, drill and kill instruction. In the past, however, it was seen as education malpractice. Now, it is imposed in the name of \"reform.\"                                                                          |[INST] <<SYS>>                                                                                                                                                                                                                                                                                                                                                                                                                                                                                                                                                                               |[{\"generated_text\": \"  Sure, here is the JSON output for the given input:\\n{\\n\\\"category\\\": \\\"Education\\\",\\n\\\"keywords\\\": [\\\"soul-killing\\\", \\\"drill and kill\\\", \\\"education malpractice\\\", \\\"reform\\\"],\\n\\\"importance\\\": 7\\n}\\nNote that I have included the required properties and their respective values as per the provided JSON schema.\"}]                                                                             |\"Education\"            |[                             |7                  |\n",
      "|                                                                                     |            |                                                                                                                                                                                                                                                        |Your output will be parsed by a computer program as a JSON object. Please respond ONLY with valid json that conforms to this JSON schema: {\"properties\": {\"category\": {\"type\": \"string\",\"description\": \"The category that the news should belong to.\"},\"keywords\": {\"type\": \"array\":\"description\": \"The keywords that are mentioned in the news.\",\"items\": [{\"type\": \"string\"}]},\"importance\": {\"type\": \"number\",\"description\": \"A integer from 1 to 10 to show if the new is important. The higher the more important the news is.\"}},\"required\": [\"properties\",\"keywords\",\"importance\"]}   |                                                                                                                                                                                                                                                                                                                                                                                                                              |                       |  \"soul-killing\",             |                   |\n",
      "|                                                                                     |            |                                                                                                                                                                                                                                                        |As an example, input \"Residents ordered to evacuate amid threat of growing wildfire in Washington state, medical facilities sheltering in place\" results in the json: {\"category\": \"Natural Disasters\",\"keywords\": [\"evacuate\", \"wildfire\", \"Washington state\", \"medical facilities\"],\"importance\": 8}                                                                                                                                                                                                                                                                                       |                                                                                                                                                                                                                                                                                                                                                                                                                              |                       |  \"drill and kill\",           |                   |\n",
      "|                                                                                     |            |                                                                                                                                                                                                                                                        |<</SYS>>                                                                                                                                                                                                                                                                                                                                                                                                                                                                                                                                                                                     |                                                                                                                                                                                                                                                                                                                                                                                                                              |                       |  \"education malpractice\",    |                   |\n",
      "|                                                                                     |            |                                                                                                                                                                                                                                                        | Tony Wagner's The Global Achievement Gap Is More Relevant Than Ever We have always had plenty of soul-killing, drill and kill instruction. In the past, however, it was seen as education malpractice. Now, it is imposed in the name of \"reform.\" [/INST]                                                                                                                                                                                                                                                                                                                                  |                                                                                                                                                                                                                                                                                                                                                                                                                              |                       |  \"reform\"                    |                   |\n",
      "|                                                                                     |            |                                                                                                                                                                                                                                                        |                                                                                                                                                                                                                                                                                                                                                                                                                                                                                                                                                                                             |                                                                                                                                                                                                                                                                                                                                                                                                                              |                       |]                             |                   |\n",
      "|Why Are Shoes So Damn Expensive?                                                     |COMEDY      |                                                                                                                                                                                                                                                        |[INST] <<SYS>>                                                                                                                                                                                                                                                                                                                                                                                                                                                                                                                                                                               |[{\"generated_text\": \"  Here is the JSON output for the given text:\\n{\\n\\\"category\\\": \\\"Society\\\",\\n\\\"keywords\\\": [\\\"shoes\\\", \\\"expensive\\\", \\\"prices\\\", \\\"consumerism\\\"],\\n\\\"importance\\\": 7\\n}\\n\\nNote: The output is in compliance with the provided JSON schema, and includes the required properties and values.\"}]                                                                                                       |\"Society\"              |[                             |7                  |\n",
      "|                                                                                     |            |                                                                                                                                                                                                                                                        |Your output will be parsed by a computer program as a JSON object. Please respond ONLY with valid json that conforms to this JSON schema: {\"properties\": {\"category\": {\"type\": \"string\",\"description\": \"The category that the news should belong to.\"},\"keywords\": {\"type\": \"array\":\"description\": \"The keywords that are mentioned in the news.\",\"items\": [{\"type\": \"string\"}]},\"importance\": {\"type\": \"number\",\"description\": \"A integer from 1 to 10 to show if the new is important. The higher the more important the news is.\"}},\"required\": [\"properties\",\"keywords\",\"importance\"]}   |                                                                                                                                                                                                                                                                                                                                                                                                                              |                       |  \"shoes\",                    |                   |\n",
      "|                                                                                     |            |                                                                                                                                                                                                                                                        |As an example, input \"Residents ordered to evacuate amid threat of growing wildfire in Washington state, medical facilities sheltering in place\" results in the json: {\"category\": \"Natural Disasters\",\"keywords\": [\"evacuate\", \"wildfire\", \"Washington state\", \"medical facilities\"],\"importance\": 8}                                                                                                                                                                                                                                                                                       |                                                                                                                                                                                                                                                                                                                                                                                                                              |                       |  \"expensive\",                |                   |\n",
      "|                                                                                     |            |                                                                                                                                                                                                                                                        |<</SYS>>                                                                                                                                                                                                                                                                                                                                                                                                                                                                                                                                                                                     |                                                                                                                                                                                                                                                                                                                                                                                                                              |                       |  \"prices\",                   |                   |\n",
      "|                                                                                     |            |                                                                                                                                                                                                                                                        | Why Are Shoes So Damn Expensive?  [/INST]                                                                                                                                                                                                                                                                                                                                                                                                                                                                                                                                                   |                                                                                                                                                                                                                                                                                                                                                                                                                              |                       |  \"consumerism\"               |                   |\n",
      "|                                                                                     |            |                                                                                                                                                                                                                                                        |                                                                                                                                                                                                                                                                                                                                                                                                                                                                                                                                                                                             |                                                                                                                                                                                                                                                                                                                                                                                                                              |                       |]                             |                   |\n",
      "|Create an Online Gift Registry for Your Baby and Get the Items You Need and Want     |PARENTS     |Online gift registries are making it easy and convenient for expectant parents to get everything on their wish lists.                                                                                                                                   |[INST] <<SYS>>                                                                                                                                                                                                                                                                                                                                                                                                                                                                                                                                                                               |[{\"generated_text\": \"  Sure! Here is the JSON output for the given input:\\n{\\n\\\"category\\\": \\\"Parenting\\\",\\n\\\"keywords\\\": [\\n\\\"gift registry\\\",\\n\\\"baby gifts\\\",\\n\\\"online registry\\\",\\n\\\"registry ideas\\\",\\n\\\"baby shower gifts\\\"\\n],\\n\\\"importance\\\": 7\\n\\n}\\n\\nNote that I have included the \\\"category\\\" and \\\"keywords\\\" properties as requested, and have also included the \\\"\"}]                                       |\"Parenting\"            |[                             |7                  |\n",
      "|                                                                                     |            |                                                                                                                                                                                                                                                        |Your output will be parsed by a computer program as a JSON object. Please respond ONLY with valid json that conforms to this JSON schema: {\"properties\": {\"category\": {\"type\": \"string\",\"description\": \"The category that the news should belong to.\"},\"keywords\": {\"type\": \"array\":\"description\": \"The keywords that are mentioned in the news.\",\"items\": [{\"type\": \"string\"}]},\"importance\": {\"type\": \"number\",\"description\": \"A integer from 1 to 10 to show if the new is important. The higher the more important the news is.\"}},\"required\": [\"properties\",\"keywords\",\"importance\"]}   |                                                                                                                                                                                                                                                                                                                                                                                                                              |                       |  \"gift registry\",            |                   |\n",
      "|                                                                                     |            |                                                                                                                                                                                                                                                        |As an example, input \"Residents ordered to evacuate amid threat of growing wildfire in Washington state, medical facilities sheltering in place\" results in the json: {\"category\": \"Natural Disasters\",\"keywords\": [\"evacuate\", \"wildfire\", \"Washington state\", \"medical facilities\"],\"importance\": 8}                                                                                                                                                                                                                                                                                       |                                                                                                                                                                                                                                                                                                                                                                                                                              |                       |  \"baby gifts\",               |                   |\n",
      "|                                                                                     |            |                                                                                                                                                                                                                                                        |<</SYS>>                                                                                                                                                                                                                                                                                                                                                                                                                                                                                                                                                                                     |                                                                                                                                                                                                                                                                                                                                                                                                                              |                       |  \"online registry\",          |                   |\n",
      "|                                                                                     |            |                                                                                                                                                                                                                                                        | Create an Online Gift Registry for Your Baby and Get the Items You Need and Want Online gift registries are making it easy and convenient for expectant parents to get everything on their wish lists. [/INST]                                                                                                                                                                                                                                                                                                                                                                              |                                                                                                                                                                                                                                                                                                                                                                                                                              |                       |  \"registry ideas\",           |                   |\n",
      "|                                                                                     |            |                                                                                                                                                                                                                                                        |                                                                                                                                                                                                                                                                                                                                                                                                                                                                                                                                                                                             |                                                                                                                                                                                                                                                                                                                                                                                                                              |                       |  \"baby shower gifts\"         |                   |\n",
      "|                                                                                     |            |                                                                                                                                                                                                                                                        |                                                                                                                                                                                                                                                                                                                                                                                                                                                                                                                                                                                             |                                                                                                                                                                                                                                                                                                                                                                                                                              |                       |]                             |                   |\n",
      "|I'm an American Citizen. If You Want to Remain a Cop, Don't Violate My Human Rights  |POLITICS    |This idea that cops get to say when and where constitutional rights apply is so very, deeply misguided that I am shocked anyone could type it out without coming to their senses mid-sentence.                                                          |[INST] <<SYS>>                                                                                                                                                                                                                                                                                                                                                                                                                                                                                                                                                                               |[{\"generated_text\": \"  Sure, here is the JSON output for the given text:\\n{\\n\\\"category\\\": \\\"Society\\\",\\n\\\"keywords\\\": [\\n\\\"police\\\",\\n\\\"human rights\\\",\\n\\\"constitution\\\",\\n\\\"violation\\\"\\n],\\n\\\"importance\\\": 9\\n\\n}\\n\\nNote that I have included the required properties and values according to the JSON schema you provided.\"}]                                                                                          |\"Society\"              |[                             |9                  |\n",
      "|                                                                                     |            |                                                                                                                                                                                                                                                        |Your output will be parsed by a computer program as a JSON object. Please respond ONLY with valid json that conforms to this JSON schema: {\"properties\": {\"category\": {\"type\": \"string\",\"description\": \"The category that the news should belong to.\"},\"keywords\": {\"type\": \"array\":\"description\": \"The keywords that are mentioned in the news.\",\"items\": [{\"type\": \"string\"}]},\"importance\": {\"type\": \"number\",\"description\": \"A integer from 1 to 10 to show if the new is important. The higher the more important the news is.\"}},\"required\": [\"properties\",\"keywords\",\"importance\"]}   |                                                                                                                                                                                                                                                                                                                                                                                                                              |                       |  \"police\",                   |                   |\n",
      "|                                                                                     |            |                                                                                                                                                                                                                                                        |As an example, input \"Residents ordered to evacuate amid threat of growing wildfire in Washington state, medical facilities sheltering in place\" results in the json: {\"category\": \"Natural Disasters\",\"keywords\": [\"evacuate\", \"wildfire\", \"Washington state\", \"medical facilities\"],\"importance\": 8}                                                                                                                                                                                                                                                                                       |                                                                                                                                                                                                                                                                                                                                                                                                                              |                       |  \"human rights\",             |                   |\n",
      "|                                                                                     |            |                                                                                                                                                                                                                                                        |<</SYS>>                                                                                                                                                                                                                                                                                                                                                                                                                                                                                                                                                                                     |                                                                                                                                                                                                                                                                                                                                                                                                                              |                       |  \"constitution\",             |                   |\n",
      "|                                                                                     |            |                                                                                                                                                                                                                                                        | I'm an American Citizen. If You Want to Remain a Cop, Don't Violate My Human Rights This idea that cops get to say when and where constitutional rights apply is so very, deeply misguided that I am shocked anyone could type it out without coming to their senses mid-sentence. [/INST]                                                                                                                                                                                                                                                                                                  |                                                                                                                                                                                                                                                                                                                                                                                                                              |                       |  \"violation\"                 |                   |\n",
      "|                                                                                     |            |                                                                                                                                                                                                                                                        |                                                                                                                                                                                                                                                                                                                                                                                                                                                                                                                                                                                             |                                                                                                                                                                                                                                                                                                                                                                                                                              |                       |]                             |                   |\n",
      "|Jose Antonio Vargas Among Undocumented Immigrants Making Urgent Plea To Obama        |POLITICS    |                                                                                                                                                                                                                                                        |[INST] <<SYS>>                                                                                                                                                                                                                                                                                                                                                                                                                                                                                                                                                                               |[{\"generated_text\": \"  Sure, here is the JSON output for the given input:\\n{\\n\\\"category\\\": \\\"Politics\\\",\\n\\\"keywords\\\": [\\\"undocumented immigrants\\\", \\\"Barack Obama\\\", \\\"plea\\\"],\\n\\\"importance\\\": 7\\n\\n}\\n\\nPlease note that the output is in the format of a JSON object, with the properties, keywords, and importance values corresponding to the fields in the JSON schema you provided.\"}]                            |\"Politics\"             |[                             |7                  |\n",
      "|                                                                                     |            |                                                                                                                                                                                                                                                        |Your output will be parsed by a computer program as a JSON object. Please respond ONLY with valid json that conforms to this JSON schema: {\"properties\": {\"category\": {\"type\": \"string\",\"description\": \"The category that the news should belong to.\"},\"keywords\": {\"type\": \"array\":\"description\": \"The keywords that are mentioned in the news.\",\"items\": [{\"type\": \"string\"}]},\"importance\": {\"type\": \"number\",\"description\": \"A integer from 1 to 10 to show if the new is important. The higher the more important the news is.\"}},\"required\": [\"properties\",\"keywords\",\"importance\"]}   |                                                                                                                                                                                                                                                                                                                                                                                                                              |                       |  \"undocumented immigrants\",  |                   |\n",
      "|                                                                                     |            |                                                                                                                                                                                                                                                        |As an example, input \"Residents ordered to evacuate amid threat of growing wildfire in Washington state, medical facilities sheltering in place\" results in the json: {\"category\": \"Natural Disasters\",\"keywords\": [\"evacuate\", \"wildfire\", \"Washington state\", \"medical facilities\"],\"importance\": 8}                                                                                                                                                                                                                                                                                       |                                                                                                                                                                                                                                                                                                                                                                                                                              |                       |  \"Barack Obama\",             |                   |\n",
      "|                                                                                     |            |                                                                                                                                                                                                                                                        |<</SYS>>                                                                                                                                                                                                                                                                                                                                                                                                                                                                                                                                                                                     |                                                                                                                                                                                                                                                                                                                                                                                                                              |                       |  \"plea\"                      |                   |\n",
      "|                                                                                     |            |                                                                                                                                                                                                                                                        | Jose Antonio Vargas Among Undocumented Immigrants Making Urgent Plea To Obama  [/INST]                                                                                                                                                                                                                                                                                                                                                                                                                                                                                                      |                                                                                                                                                                                                                                                                                                                                                                                                                              |                       |]                             |                   |\n",
      "|The 1 Minute Blog. Emotions Consuming You?                                           |GOOD NEWS   |                                                                                                                                                                                                                                                        |[INST] <<SYS>>                                                                                                                                                                                                                                                                                                                                                                                                                                                                                                                                                                               |[{\"generated_text\": \"  Sure, I can provide a valid JSON response that conforms to the schema you provided. Here's an example:\\n{\\n\\\"category\\\": \\\"Local News\\\",\\n\\\"keywords\\\": [\\n\\\"crime\\\",\\n\\\"arrest\\\",\\n\\\"suspect\\\",\\n\\\"police\\\",\\n\\\"investigation\\\"\\n],\\n\\\"importance\\\": 7\\n\\n}\\n\\nPlease let me know if you have any other questions or if you'd like me to\"}]                                                           |\"Local News\"           |[                             |7                  |\n",
      "|                                                                                     |            |                                                                                                                                                                                                                                                        |Your output will be parsed by a computer program as a JSON object. Please respond ONLY with valid json that conforms to this JSON schema: {\"properties\": {\"category\": {\"type\": \"string\",\"description\": \"The category that the news should belong to.\"},\"keywords\": {\"type\": \"array\":\"description\": \"The keywords that are mentioned in the news.\",\"items\": [{\"type\": \"string\"}]},\"importance\": {\"type\": \"number\",\"description\": \"A integer from 1 to 10 to show if the new is important. The higher the more important the news is.\"}},\"required\": [\"properties\",\"keywords\",\"importance\"]}   |                                                                                                                                                                                                                                                                                                                                                                                                                              |                       |  \"crime\",                    |                   |\n",
      "|                                                                                     |            |                                                                                                                                                                                                                                                        |As an example, input \"Residents ordered to evacuate amid threat of growing wildfire in Washington state, medical facilities sheltering in place\" results in the json: {\"category\": \"Natural Disasters\",\"keywords\": [\"evacuate\", \"wildfire\", \"Washington state\", \"medical facilities\"],\"importance\": 8}                                                                                                                                                                                                                                                                                       |                                                                                                                                                                                                                                                                                                                                                                                                                              |                       |  \"arrest\",                   |                   |\n",
      "|                                                                                     |            |                                                                                                                                                                                                                                                        |<</SYS>>                                                                                                                                                                                                                                                                                                                                                                                                                                                                                                                                                                                     |                                                                                                                                                                                                                                                                                                                                                                                                                              |                       |  \"suspect\",                  |                   |\n",
      "|                                                                                     |            |                                                                                                                                                                                                                                                        | The 1 Minute Blog. Emotions Consuming You?  [/INST]                                                                                                                                                                                                                                                                                                                                                                                                                                                                                                                                         |                                                                                                                                                                                                                                                                                                                                                                                                                              |                       |  \"police\",                   |                   |\n",
      "|                                                                                     |            |                                                                                                                                                                                                                                                        |                                                                                                                                                                                                                                                                                                                                                                                                                                                                                                                                                                                             |                                                                                                                                                                                                                                                                                                                                                                                                                              |                       |  \"investigation\"             |                   |\n",
      "|                                                                                     |            |                                                                                                                                                                                                                                                        |                                                                                                                                                                                                                                                                                                                                                                                                                                                                                                                                                                                             |                                                                                                                                                                                                                                                                                                                                                                                                                              |                       |]                             |                   |\n",
      "|Beyond the Ice-Bucket: A Deeper Challenge                                            |IMPACT      |Life is full of challenges. Some are profoundly life-changing, and some are cold and wet. The ice-bucket challenge was not only great summer fun, it was also one of the most positive and productive viral campaigns in history.                       |[INST] <<SYS>>                                                                                                                                                                                                                                                                                                                                                                                                                                                                                                                                                                               |[{\"generated_text\": \"  Here is the JSON output for the provided text:\\n{\\n\\\"category\\\": \\\"Society and Culture\\\",\\n\\\"keywords\\\": [\\n\\\"challenge\\\",\\n\\\"life\\\",\\n\\\"viral campaign\\\",\\n\\\"positive\\\",\\n\\\"productive\\\"\\n],\\n\\\"importance\\\": 7\\n\\n}\\n\\nNote: The output is formatted according to the provided JSON schema, with the required properties and values. The \\\"keywords\\\" array includes the five keywords mentioned\"}]  |\"Society and Culture\"  |[                             |7                  |\n",
      "|                                                                                     |            |                                                                                                                                                                                                                                                        |Your output will be parsed by a computer program as a JSON object. Please respond ONLY with valid json that conforms to this JSON schema: {\"properties\": {\"category\": {\"type\": \"string\",\"description\": \"The category that the news should belong to.\"},\"keywords\": {\"type\": \"array\":\"description\": \"The keywords that are mentioned in the news.\",\"items\": [{\"type\": \"string\"}]},\"importance\": {\"type\": \"number\",\"description\": \"A integer from 1 to 10 to show if the new is important. The higher the more important the news is.\"}},\"required\": [\"properties\",\"keywords\",\"importance\"]}   |                                                                                                                                                                                                                                                                                                                                                                                                                              |                       |  \"challenge\",                |                   |\n",
      "|                                                                                     |            |                                                                                                                                                                                                                                                        |As an example, input \"Residents ordered to evacuate amid threat of growing wildfire in Washington state, medical facilities sheltering in place\" results in the json: {\"category\": \"Natural Disasters\",\"keywords\": [\"evacuate\", \"wildfire\", \"Washington state\", \"medical facilities\"],\"importance\": 8}                                                                                                                                                                                                                                                                                       |                                                                                                                                                                                                                                                                                                                                                                                                                              |                       |  \"life\",                     |                   |\n",
      "|                                                                                     |            |                                                                                                                                                                                                                                                        |<</SYS>>                                                                                                                                                                                                                                                                                                                                                                                                                                                                                                                                                                                     |                                                                                                                                                                                                                                                                                                                                                                                                                              |                       |  \"viral campaign\",           |                   |\n",
      "|                                                                                     |            |                                                                                                                                                                                                                                                        | Beyond the Ice-Bucket: A Deeper Challenge Life is full of challenges. Some are profoundly life-changing, and some are cold and wet. The ice-bucket challenge was not only great summer fun, it was also one of the most positive and productive viral campaigns in history. [/INST]                                                                                                                                                                                                                                                                                                         |                                                                                                                                                                                                                                                                                                                                                                                                                              |                       |  \"positive\",                 |                   |\n",
      "|                                                                                     |            |                                                                                                                                                                                                                                                        |                                                                                                                                                                                                                                                                                                                                                                                                                                                                                                                                                                                             |                                                                                                                                                                                                                                                                                                                                                                                                                              |                       |  \"productive\"                |                   |\n",
      "|                                                                                     |            |                                                                                                                                                                                                                                                        |                                                                                                                                                                                                                                                                                                                                                                                                                                                                                                                                                                                             |                                                                                                                                                                                                                                                                                                                                                                                                                              |                       |]                             |                   |\n",
      "---------------------------------------------------------------------------------------------------------------------------------------------------------------------------------------------------------------------------------------------------------------------------------------------------------------------------------------------------------------------------------------------------------------------------------------------------------------------------------------------------------------------------------------------------------------------------------------------------------------------------------------------------------------------------------------------------------------------------------------------------------------------------------------------------------------------------------------------------------------------------------------------------------------------------------------------------------------------------------------------------------------------------------------------------------------------------------------------------------------------------------------------------------------------------------------------------------------------------------------------------------------------------------------------------------------------------------------------------------------------------------------------------------------------------------------------------------------------\n",
      "\n"
     ]
    }
   ],
   "source": [
    "json_capture_regexp = r'[{\\[]{1}([,:{}\\[\\]0-9.\\-+Eaeflnr-u \\n\\r\\t]|\".*?\")+[}\\]]{1}'\n",
    "\n",
    "output_json_col = F.parse_json(\n",
    "    F.regexp_extract(\n",
    "        F.replace(F.get(F.get(F.parse_json(F.col('\"outputs\"')), 0), F.lit(\"generated_text\")), r\"\\\"\", '\"'),\n",
    "        json_capture_regexp,\n",
    "        0,\n",
    "    )\n",
    ")\n",
    "\n",
    "output_df = res.with_columns(\n",
    "    [\"pred_category\", \"pred_keywords\", \"pred_importance\"],\n",
    "    [\n",
    "        F.get(output_json_col, F.lit(\"category\")),\n",
    "        F.get(output_json_col, F.lit(\"keywords\")),\n",
    "        F.get(output_json_col, F.lit(\"importance\")),\n",
    "    ],\n",
    ")\n",
    "\n",
    "output_df.show(max_width=600)"
   ]
  },
  {
   "cell_type": "code",
   "execution_count": 49,
   "id": "9baccb60",
   "metadata": {},
   "outputs": [
    {
     "name": "stderr",
     "output_type": "stream",
     "text": [
      "WARNING:snowflake.snowpark:ModelRegistry.delete_deployment() is in private preview since 1.0.1. Do not use it in production. \n"
     ]
    }
   ],
   "source": [
    "llama_model_ref.delete_deployment(deployment_name=DEPLOYMENT_NAME)"
   ]
  },
  {
   "cell_type": "code",
   "execution_count": 50,
   "id": "968f8571",
   "metadata": {},
   "outputs": [
    {
     "name": "stderr",
     "output_type": "stream",
     "text": [
      "WARNING:snowflake.snowpark:ModelRegistry.delete_model() is in private preview since 0.2.0. Do not use it in production. \n"
     ]
    }
   ],
   "source": [
    "llama_model_ref.delete_model()"
   ]
  }
 ],
 "metadata": {
  "kernelspec": {
   "display_name": "Python 3 (ipykernel)",
   "language": "python",
   "name": "python3"
  },
  "language_info": {
   "codemirror_mode": {
    "name": "ipython",
    "version": 3
   },
   "file_extension": ".py",
   "mimetype": "text/x-python",
   "name": "python",
   "nbconvert_exporter": "python",
   "pygments_lexer": "ipython3",
   "version": "3.9.18"
  },
  "vscode": {
   "interpreter": {
    "hash": "fb0a62cbfaa59af7646af5a6672c5c3e72ec75fbadf6ff0336b6769523f221a5"
   }
  }
 },
 "nbformat": 4,
 "nbformat_minor": 5
}
