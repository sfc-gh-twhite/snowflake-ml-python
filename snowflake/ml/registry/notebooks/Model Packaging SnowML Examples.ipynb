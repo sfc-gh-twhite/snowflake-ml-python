{
 "cells": [
  {
   "cell_type": "markdown",
   "id": "5de3eb26",
   "metadata": {},
   "source": [
    "# Model Packaging Example"
   ]
  },
  {
   "cell_type": "markdown",
   "id": "197efd00",
   "metadata": {},
   "source": [
    "## Before Everything"
   ]
  },
  {
   "cell_type": "markdown",
   "id": "6ce97b36",
   "metadata": {},
   "source": [
    "### Install `snowflake-ml-python` locally"
   ]
  },
  {
   "attachments": {},
   "cell_type": "markdown",
   "id": "1117c596",
   "metadata": {},
   "source": [
    "Please refer to our [readme file](https://docs.google.com/document/d/10DmBHYFGKINQwyvJupfuhARDk-cyG5_Fn3Uy2OQcQPk) to install `snowflake-ml-python`."
   ]
  },
  {
   "cell_type": "code",
   "execution_count": null,
   "id": "da314158",
   "metadata": {},
   "outputs": [],
   "source": [
    "# Snowpark Connector, Snowpark Library, Session\n",
    "import snowflake.connector\n",
    "import snowflake.snowpark\n",
    "import snowflake.ml.modeling.preprocessing as snowml\n",
    "from snowflake.snowpark import Session\n",
    "from snowflake.snowpark.version import VERSION\n",
    "from snowflake.ml.utils import connection_params"
   ]
  },
  {
   "cell_type": "markdown",
   "id": "99e58d8c",
   "metadata": {},
   "source": [
    "### Setup Notebook"
   ]
  },
  {
   "cell_type": "code",
   "execution_count": null,
   "id": "afd16ff5",
   "metadata": {},
   "outputs": [],
   "source": [
    "%load_ext autoreload\n",
    "%autoreload 2"
   ]
  },
  {
   "cell_type": "code",
   "execution_count": null,
   "id": "d609ff44",
   "metadata": {},
   "outputs": [],
   "source": [
    "# Scale cell width with the browser window to accommodate .show() commands for wider tables.\n",
    "from IPython.display import display, HTML\n",
    "\n",
    "display(HTML(\"<style>.container { width:100% !important; }</style>\"))"
   ]
  },
  {
   "cell_type": "markdown",
   "id": "1ac32c6f",
   "metadata": {},
   "source": [
    "### Start Snowpark Session\n",
    "\n",
    "To avoid exposing credentials in Github, we use a small utility `SnowflakeLoginOptions`. It allows you to score your default credentials in `~/.snowsql/config` in the following format:\n",
    "```\n",
    "[connections]\n",
    "accountname = <string>   # Account identifier to connect to Snowflake.\n",
    "username = <string>      # User name in the account. Optional.\n",
    "password = <string>      # User password. Optional.\n",
    "dbname = <string>        # Default database. Optional.\n",
    "schemaname = <string>    # Default schema. Optional.\n",
    "warehousename = <string> # Default warehouse. Optional.\n",
    "#rolename = <string>      # Default role. Optional.\n",
    "#authenticator = <string> # Authenticator: 'snowflake', 'externalbrowser', etc\n",
    "```\n",
    "Please follow [this](https://docs.snowflake.com/en/user-guide/snowsql-start.html#configuring-default-connection-settings) for more details."
   ]
  },
  {
   "cell_type": "code",
   "execution_count": null,
   "id": "b2efc0a8",
   "metadata": {},
   "outputs": [],
   "source": [
    "from snowflake.ml.utils.connection_params import SnowflakeLoginOptions\n",
    "from snowflake.snowpark import Session\n",
    "\n",
    "session = Session.builder.configs(SnowflakeLoginOptions()).create()"
   ]
  },
  {
   "cell_type": "markdown",
   "id": "dfa9ab88",
   "metadata": {},
   "source": [
    "### Open/Create Model Registry"
   ]
  },
  {
   "cell_type": "markdown",
   "id": "b0a0c8a8",
   "metadata": {},
   "source": [
    "A model registry needs to be created before it can be used. The creation will create a new database in the current account so the active role needs to have permissions to create a database. After the first creation, the model registry can be opened without the need to create it again."
   ]
  },
  {
   "cell_type": "code",
   "execution_count": null,
   "id": "a95e3431",
   "metadata": {},
   "outputs": [],
   "source": [
    "REGISTRY_DATABASE_NAME = \"TEMP\"\n",
    "REGISTRY_SCHEMA_NAME = \"WZHAO\""
   ]
  },
  {
   "cell_type": "code",
   "execution_count": null,
   "id": "7fff21bc",
   "metadata": {},
   "outputs": [],
   "source": [
    "from snowflake.ml.registry import model_registry\n",
    "model_registry.create_model_registry(session=session, database_name=REGISTRY_DATABASE_NAME, schema_name=REGISTRY_SCHEMA_NAME)\n",
    "registry = model_registry.ModelRegistry(session=session, database_name=REGISTRY_DATABASE_NAME, schema_name=REGISTRY_SCHEMA_NAME)"
   ]
  },
  {
   "cell_type": "markdown",
   "id": "ca0f443d",
   "metadata": {},
   "source": [
    "## Use with snowml model"
   ]
  },
  {
   "cell_type": "code",
   "execution_count": null,
   "id": "6271c9d1",
   "metadata": {},
   "outputs": [],
   "source": [
    "from snowflake.ml.modeling.xgboost import XGBClassifier\n",
    "from sklearn.datasets import load_iris\n",
    "import numpy as np\n",
    "import pandas as pd\n",
    "\n",
    "\n",
    "iris = load_iris()\n",
    "df = pd.DataFrame(data= np.c_[iris['data'], iris['target']],\n",
    "                     columns= iris['feature_names'] + ['target'])\n",
    "df.columns = [s.replace(\" (CM)\", '').replace(' ', '') for s in df.columns.str.upper()]\n",
    "\n",
    "INPUT_COLUMNS = ['SEPALLENGTH', 'SEPALWIDTH', 'PETALLENGTH', 'PETALWIDTH']\n",
    "LABEL_COLUMNS = 'TARGET'\n",
    "OUTPUT_COLUMNS = 'PREDICTED_TARGET'"
   ]
  },
  {
   "cell_type": "code",
   "execution_count": null,
   "id": "4c8de352",
   "metadata": {},
   "outputs": [],
   "source": [
    "df"
   ]
  },
  {
   "cell_type": "code",
   "execution_count": null,
   "id": "7ca901eb",
   "metadata": {},
   "outputs": [],
   "source": [
    "test_features = df[:10]\n",
    "model_version = \"1_008\""
   ]
  },
  {
   "cell_type": "markdown",
   "id": "b9441f7a",
   "metadata": {},
   "source": [
    "### XGBoost model"
   ]
  },
  {
   "cell_type": "code",
   "execution_count": null,
   "id": "4ac4c21e",
   "metadata": {},
   "outputs": [],
   "source": [
    "clf_xgb = XGBClassifier(input_cols=INPUT_COLUMNS,\n",
    "                          output_cols=OUTPUT_COLUMNS,\n",
    "                          label_cols=LABEL_COLUMNS,\n",
    "                          drop_input_cols=True)\n",
    "\n",
    "clf_xgb.fit(df)"
   ]
  },
  {
   "cell_type": "code",
   "execution_count": null,
   "id": "dd0ca646",
   "metadata": {},
   "outputs": [],
   "source": [
    "prediction = clf_xgb.predict(test_features)\n",
    "prediction_proba = clf_xgb.predict_proba(test_features)"
   ]
  },
  {
   "cell_type": "code",
   "execution_count": null,
   "id": "3d872431",
   "metadata": {},
   "outputs": [],
   "source": [
    "model_name = \"SIMPLE_XGB_MODEL\"\n",
    "deploy_name = \"xgb_model_predict\""
   ]
  },
  {
   "cell_type": "code",
   "execution_count": null,
   "id": "523cc249",
   "metadata": {
    "code_folding": []
   },
   "outputs": [],
   "source": [
    "# A name and model tags can be added to the model at registration time.\n",
    "model_id = registry.log_model(\n",
    "    model_name=model_name,\n",
    "    model_version=model_version,\n",
    "    model=clf_xgb,\n",
    "    tags={\"stage\": \"testing\", \"classifier_type\": \"XGBClassifier\"},\n",
    "    options={\"embed_local_ml_library\": True}\n",
    ")\n",
    "\n",
    "# The object API can be used to reference a model after creation.\n",
    "model = model_registry.ModelReference(registry=registry, model_name=model_name, model_version=model_version)\n",
    "print(\"Registered new model:\", model_id)"
   ]
  },
  {
   "cell_type": "markdown",
   "id": "fccfb1af",
   "metadata": {},
   "source": [
    "### Test on the result using load_model "
   ]
  },
  {
   "cell_type": "code",
   "execution_count": null,
   "id": "bf9a3596",
   "metadata": {
    "code_folding": []
   },
   "outputs": [],
   "source": [
    "registry = model_registry.ModelRegistry(\n",
    "    session=session, database_name=REGISTRY_DATABASE_NAME, schema_name=REGISTRY_SCHEMA_NAME\n",
    ")\n",
    "model = model_registry.ModelReference(registry=registry, model_name=model_name, model_version=model_version)\n",
    "restored_clf = model.load_model()\n",
    "\n",
    "restored_prediction = restored_clf.predict(test_features)\n",
    "\n",
    "print(\"Original prediction:\", prediction[:10])\n",
    "print(\"Restored prediction:\", restored_prediction[:10])\n",
    "\n",
    "print(\"Result comparison:\", np.array_equal(prediction, restored_prediction[prediction.columns]))"
   ]
  },
  {
   "cell_type": "markdown",
   "id": "fe9e2081",
   "metadata": {},
   "source": [
    "### Testing on deploy"
   ]
  },
  {
   "cell_type": "markdown",
   "id": "56834c5c",
   "metadata": {},
   "source": [
    "#### Predict function match/mismatch? - comparsion between deploy and local"
   ]
  },
  {
   "cell_type": "code",
   "execution_count": null,
   "id": "bf55701d",
   "metadata": {},
   "outputs": [],
   "source": [
    "registry = model_registry.ModelRegistry(\n",
    "    session=session, database_name=REGISTRY_DATABASE_NAME, schema_name=REGISTRY_SCHEMA_NAME\n",
    ")\n",
    "model = model_registry.ModelReference(registry=registry, model_name=model_name, model_version=model_version)\n",
    "model.deploy(\n",
    "    deployment_name=deploy_name,\n",
    "    target_method=\"predict\",\n",
    "    options={\"relax_version\": True},\n",
    ")"
   ]
  },
  {
   "cell_type": "code",
   "execution_count": null,
   "id": "6f159a5f",
   "metadata": {},
   "outputs": [],
   "source": [
    "remote_prediction = model.predict(deployment_name=deploy_name, data=test_features)\n",
    "\n",
    "print(\"Remote prediction:\", remote_prediction[:10])\n",
    "\n",
    "print(\"Result comparison:\", np.array_equal(prediction, remote_prediction.values))"
   ]
  },
  {
   "cell_type": "markdown",
   "id": "65af7944",
   "metadata": {},
   "source": [
    "#### Predict_proba function match/mismatch? - comparsion between deploy and local"
   ]
  },
  {
   "cell_type": "code",
   "execution_count": null,
   "id": "0c77d583",
   "metadata": {},
   "outputs": [],
   "source": [
    "registry = model_registry.ModelRegistry(\n",
    "    session=session, database_name=REGISTRY_DATABASE_NAME, schema_name=REGISTRY_SCHEMA_NAME\n",
    ")\n",
    "model = model_registry.ModelReference(registry=registry, model_name=model_name, model_version=model_version)\n",
    "model.deploy(\n",
    "    deployment_name=deploy_name,\n",
    "    target_method=\"predict_proba\",\n",
    "    options={\"relax_version\": True},\n",
    ")"
   ]
  },
  {
   "cell_type": "code",
   "execution_count": null,
   "id": "1216dbe8",
   "metadata": {
    "scrolled": true
   },
   "outputs": [],
   "source": [
    "remote_prediction_proba = model.predict(deployment_name=deploy_name, data=test_features)\n",
    "\n",
    "print(\"Remote prediction:\", remote_prediction_proba[:10])\n",
    "\n",
    "print(\"Result comparison:\", np.allclose(prediction_proba, remote_prediction_proba.values))"
   ]
  },
  {
   "cell_type": "markdown",
   "id": "e5f9c9b7",
   "metadata": {},
   "source": [
    "### Random Forest model *from ensemble*\n"
   ]
  },
  {
   "cell_type": "code",
   "execution_count": null,
   "id": "48780cb2",
   "metadata": {},
   "outputs": [],
   "source": [
    "from snowflake.ml.modeling.ensemble import RandomForestClassifier"
   ]
  },
  {
   "cell_type": "code",
   "execution_count": null,
   "id": "93d42010",
   "metadata": {},
   "outputs": [],
   "source": [
    "clf_rf = RandomForestClassifier(input_cols=INPUT_COLUMNS,\n",
    "                          output_cols=OUTPUT_COLUMNS,\n",
    "                          label_cols=LABEL_COLUMNS,\n",
    "                          drop_input_cols=True)\n",
    "\n",
    "clf_rf.fit(df)"
   ]
  },
  {
   "cell_type": "code",
   "execution_count": null,
   "id": "cfe55d82",
   "metadata": {},
   "outputs": [],
   "source": [
    "prediction = clf_rf.predict(test_features)\n",
    "prediction_proba = clf_rf.predict_proba(test_features)\n",
    "prediction_log_proba = clf_rf.predict_log_proba(test_features)"
   ]
  },
  {
   "cell_type": "code",
   "execution_count": null,
   "id": "4ef91e18",
   "metadata": {},
   "outputs": [],
   "source": [
    "model_name = \"SIMPLE_RF_MODEL\"\n",
    "deploy_name = \"rf_model_predict\"\n",
    "classifier_type = \"RFClassifier\""
   ]
  },
  {
   "cell_type": "code",
   "execution_count": null,
   "id": "f9401b46",
   "metadata": {},
   "outputs": [],
   "source": [
    "# A name and model tags can be added to the model at registration time.\n",
    "model_id = registry.log_model(\n",
    "    model_name=model_name,\n",
    "    model_version=model_version,\n",
    "    model=clf_rf,\n",
    "    tags={\"stage\": \"testing\", \"classifier_type\": classifier_type},\n",
    "    options={\"embed_local_ml_library\": True}\n",
    ")\n",
    "\n",
    "# The object API can be used to reference a model after creation.\n",
    "model = model_registry.ModelReference(registry=registry, model_name=model_name, model_version=model_version)\n",
    "print(\"Registered new model:\", model_id)"
   ]
  },
  {
   "cell_type": "markdown",
   "id": "1c8e87fc",
   "metadata": {},
   "source": [
    "#### Comparsion between load_model"
   ]
  },
  {
   "cell_type": "code",
   "execution_count": null,
   "id": "cf1db785",
   "metadata": {},
   "outputs": [],
   "source": [
    "registry = model_registry.ModelRegistry(\n",
    "    session=session, database_name=REGISTRY_DATABASE_NAME, schema_name=REGISTRY_SCHEMA_NAME\n",
    ")\n",
    "model = model_registry.ModelReference(registry=registry, model_name=model_name, model_version=model_version)\n",
    "restored_clf = model.load_model()\n",
    "\n",
    "restored_prediction = restored_clf.predict(test_features)\n",
    "\n",
    "print(\"Original prediction:\", prediction[:10])\n",
    "print(\"Restored prediction:\", restored_prediction[:10])\n",
    "\n",
    "print(\"Result comparison:\", np.array_equal(prediction[\"PREDICTED_TARGET\"], restored_prediction[prediction.columns]))"
   ]
  },
  {
   "cell_type": "markdown",
   "id": "cefbad30",
   "metadata": {},
   "source": [
    "#### Comparsion between deploy"
   ]
  },
  {
   "cell_type": "code",
   "execution_count": null,
   "id": "f81f663e",
   "metadata": {},
   "outputs": [],
   "source": [
    "registry = model_registry.ModelRegistry(\n",
    "    session=session, database_name=REGISTRY_DATABASE_NAME, schema_name=REGISTRY_SCHEMA_NAME\n",
    ")\n",
    "model = model_registry.ModelReference(registry=registry, model_name=model_name, model_version=model_version)\n",
    "model.deploy(\n",
    "    deployment_name=deploy_name,\n",
    "    target_method=\"predict\",\n",
    "    options={\"relax_version\": True},\n",
    ")"
   ]
  },
  {
   "cell_type": "code",
   "execution_count": null,
   "id": "726838d0",
   "metadata": {},
   "outputs": [],
   "source": [
    "remote_prediction = model.predict(deployment_name=deploy_name, data=test_features)\n",
    "\n",
    "print(\"Remote prediction:\", remote_prediction[:10])\n",
    "\n",
    "print(\"Result comparison:\", np.array_equal(prediction, remote_prediction.values))"
   ]
  },
  {
   "cell_type": "code",
   "execution_count": null,
   "id": "33833e23",
   "metadata": {},
   "outputs": [],
   "source": [
    "registry = model_registry.ModelRegistry(\n",
    "    session=session, database_name=REGISTRY_DATABASE_NAME, schema_name=REGISTRY_SCHEMA_NAME\n",
    ")\n",
    "model = model_registry.ModelReference(registry=registry, model_name=model_name, model_version=model_version)\n",
    "model.deploy(\n",
    "    deployment_name=deploy_name,\n",
    "    target_method=\"predict_proba\",\n",
    "    options={\"relax_version\": True},\n",
    ")"
   ]
  },
  {
   "cell_type": "code",
   "execution_count": null,
   "id": "4e5d8d89",
   "metadata": {},
   "outputs": [],
   "source": [
    "remote_prediction_proba = model.predict(deployment_name=deploy_name, data=test_features)\n",
    "\n",
    "print(\"Remote prediction:\", remote_prediction_proba[:10])\n",
    "\n",
    "print(\"Result comparison:\", np.array_equal(prediction_proba, remote_prediction_proba.values))"
   ]
  },
  {
   "cell_type": "code",
   "execution_count": null,
   "id": "8ddc04e8",
   "metadata": {},
   "outputs": [],
   "source": [
    "registry = model_registry.ModelRegistry(\n",
    "    session=session, database_name=REGISTRY_DATABASE_NAME, schema_name=REGISTRY_SCHEMA_NAME\n",
    ")\n",
    "model = model_registry.ModelReference(registry=registry, model_name=model_name, model_version=model_version)\n",
    "model.deploy(\n",
    "    deployment_name=deploy_name,\n",
    "    target_method=\"predict_log_proba\",\n",
    "    options={\"relax_version\": True},\n",
    ")"
   ]
  },
  {
   "cell_type": "code",
   "execution_count": null,
   "id": "cf688655",
   "metadata": {},
   "outputs": [],
   "source": [
    "remote_prediction_log_proba = model.predict(deployment_name=deploy_name, data=test_features)\n",
    "\n",
    "print(\"Remote prediction:\", remote_prediction_log_proba[:10])\n",
    "\n",
    "print(\"Result comparison:\", np.array_equal(prediction_log_proba, remote_prediction_log_proba.values))"
   ]
  },
  {
   "cell_type": "markdown",
   "id": "eb7b90fe",
   "metadata": {},
   "source": [
    "### Logistic Regression model\n",
    "\n",
    "The reason to test w/ LR model is because, it has all the functions such as `predict, predict_log_proba, predict_proba, decision_function`"
   ]
  },
  {
   "cell_type": "code",
   "execution_count": null,
   "id": "6b1d0b93",
   "metadata": {},
   "outputs": [],
   "source": [
    "from snowflake.ml.modeling.linear_model import LogisticRegression"
   ]
  },
  {
   "cell_type": "code",
   "execution_count": null,
   "id": "3280b02f",
   "metadata": {},
   "outputs": [],
   "source": [
    "clf_lr = LogisticRegression(input_cols=INPUT_COLUMNS,\n",
    "                          output_cols=OUTPUT_COLUMNS,\n",
    "                          label_cols=LABEL_COLUMNS,\n",
    "                          drop_input_cols=True,\n",
    "                           max_iter=1000)\n",
    "\n",
    "clf_lr.fit(df)"
   ]
  },
  {
   "cell_type": "code",
   "execution_count": null,
   "id": "a74cef89",
   "metadata": {},
   "outputs": [],
   "source": [
    "prediction = clf_lr.predict(test_features)\n",
    "prediction_proba = clf_lr.predict_proba(test_features)\n",
    "prediction_log_proba = clf_lr.predict_log_proba(test_features)\n",
    "prediction_decision = clf_lr.decision_function(test_features)"
   ]
  },
  {
   "cell_type": "code",
   "execution_count": null,
   "id": "de6fa3a0",
   "metadata": {},
   "outputs": [],
   "source": [
    "model_name = \"SIMPLE_LR_MODEL\"\n",
    "deploy_name = \"lr_model_predict\"\n",
    "classifier_type = \"LogisticRegression\""
   ]
  },
  {
   "cell_type": "code",
   "execution_count": null,
   "id": "35ca8aa6",
   "metadata": {},
   "outputs": [],
   "source": [
    "# A name and model tags can be added to the model at registration time.\n",
    "model_id = registry.log_model(\n",
    "    model_name=model_name,\n",
    "    model_version=model_version,\n",
    "    model=clf_lr,\n",
    "    tags={\"stage\": \"testing\", \"classifier_type\": classifier_type},\n",
    "    options={\"embed_local_ml_library\": True}\n",
    ")\n",
    "\n",
    "# The object API can be used to reference a model after creation.\n",
    "model = model_registry.ModelReference(registry=registry, model_name=model_name, model_version=model_version)\n",
    "print(\"Registered new model:\", model_id)"
   ]
  },
  {
   "cell_type": "markdown",
   "id": "39bdfe5a",
   "metadata": {},
   "source": [
    "#### Comparison between load_model"
   ]
  },
  {
   "cell_type": "code",
   "execution_count": null,
   "id": "b5fcc75b",
   "metadata": {},
   "outputs": [],
   "source": [
    "registry = model_registry.ModelRegistry(\n",
    "    session=session, database_name=REGISTRY_DATABASE_NAME, schema_name=REGISTRY_SCHEMA_NAME\n",
    ")\n",
    "model = model_registry.ModelReference(registry=registry, model_name=model_name, model_version=model_version)\n",
    "restored_clf = model.load_model()\n",
    "\n",
    "restored_prediction = restored_clf.predict(test_features)\n",
    "\n",
    "print(\"Original prediction:\", prediction[:10])\n",
    "print(\"Restored prediction:\", restored_prediction[:10])\n",
    "\n",
    "print(\"Result comparison:\", np.array_equal(prediction, restored_prediction[prediction.columns]))"
   ]
  },
  {
   "cell_type": "markdown",
   "id": "83ff0a1b",
   "metadata": {},
   "source": [
    "#### Comparison between deploy"
   ]
  },
  {
   "cell_type": "code",
   "execution_count": null,
   "id": "25be7377",
   "metadata": {},
   "outputs": [],
   "source": [
    "registry = model_registry.ModelRegistry(\n",
    "    session=session, database_name=REGISTRY_DATABASE_NAME, schema_name=REGISTRY_SCHEMA_NAME\n",
    ")\n",
    "model = model_registry.ModelReference(registry=registry, model_name=model_name, model_version=model_version)\n",
    "model.deploy(\n",
    "    deployment_name=deploy_name,\n",
    "    target_method=\"predict\",\n",
    "    options={\"relax_version\": True},\n",
    ")"
   ]
  },
  {
   "cell_type": "code",
   "execution_count": null,
   "id": "afd5f285",
   "metadata": {},
   "outputs": [],
   "source": [
    "remote_prediction = model.predict(deployment_name=deploy_name, data=test_features)\n",
    "\n",
    "print(\"Remote prediction:\", remote_prediction[:10])\n",
    "\n",
    "print(\"Result comparison:\", np.array_equal(prediction, remote_prediction.values))"
   ]
  },
  {
   "cell_type": "code",
   "execution_count": null,
   "id": "fa054c3c",
   "metadata": {},
   "outputs": [],
   "source": [
    "registry = model_registry.ModelRegistry(\n",
    "    session=session, database_name=REGISTRY_DATABASE_NAME, schema_name=REGISTRY_SCHEMA_NAME\n",
    ")\n",
    "model = model_registry.ModelReference(registry=registry, model_name=model_name, model_version=model_version)\n",
    "model.deploy(\n",
    "    deployment_name=deploy_name,\n",
    "    target_method=\"predict_proba\",\n",
    "    options={\"relax_version\": True},\n",
    ")"
   ]
  },
  {
   "cell_type": "code",
   "execution_count": null,
   "id": "ec25c905",
   "metadata": {},
   "outputs": [],
   "source": [
    "remote_prediction_proba = model.predict(deployment_name=deploy_name, data=test_features)\n",
    "\n",
    "print(\"Remote prediction:\", remote_prediction_proba[:10])\n",
    "\n",
    "print(\"Result comparison:\", np.allclose(prediction_proba, remote_prediction_proba.values))"
   ]
  },
  {
   "cell_type": "code",
   "execution_count": null,
   "id": "5a425e55",
   "metadata": {},
   "outputs": [],
   "source": [
    "registry = model_registry.ModelRegistry(\n",
    "    session=session, database_name=REGISTRY_DATABASE_NAME, schema_name=REGISTRY_SCHEMA_NAME\n",
    ")\n",
    "model = model_registry.ModelReference(registry=registry, model_name=model_name, model_version=model_version)\n",
    "model.deploy(\n",
    "    deployment_name=deploy_name,\n",
    "    target_method=\"predict_log_proba\",\n",
    "    options={\"relax_version\": True},\n",
    ")"
   ]
  },
  {
   "cell_type": "code",
   "execution_count": null,
   "id": "ff4a4c54",
   "metadata": {},
   "outputs": [],
   "source": [
    "remote_prediction_log_proba = model.predict(deployment_name=deploy_name, data=test_features)\n",
    "\n",
    "print(\"Remote prediction:\", remote_prediction_log_proba[:10])\n",
    "\n",
    "print(\"Result comparison:\", np.allclose(prediction_log_proba, remote_prediction_log_proba.values))"
   ]
  },
  {
   "cell_type": "code",
   "execution_count": null,
   "id": "2904de8c",
   "metadata": {},
   "outputs": [],
   "source": [
    "registry = model_registry.ModelRegistry(\n",
    "    session=session, database_name=REGISTRY_DATABASE_NAME, schema_name=REGISTRY_SCHEMA_NAME\n",
    ")\n",
    "model = model_registry.ModelReference(registry=registry, model_name=model_name, model_version=model_version)\n",
    "model.deploy(\n",
    "    deployment_name=deploy_name,\n",
    "    target_method=\"decision_function\",\n",
    "    options={\"relax_version\": True},\n",
    ")"
   ]
  },
  {
   "cell_type": "code",
   "execution_count": null,
   "id": "713806ec",
   "metadata": {},
   "outputs": [],
   "source": [
    "remote_prediction_decision_function = model.predict(deployment_name=deploy_name, data=test_features)\n",
    "\n",
    "print(\"Remote prediction:\", remote_prediction_decision_function[:10])\n",
    "\n",
    "print(\"Result comparison:\", np.allclose(prediction_decision, remote_prediction_decision_function.values))"
   ]
  },
  {
   "cell_type": "markdown",
   "id": "d6930720",
   "metadata": {},
   "source": [
    "### Pipeline model\n",
    "\n",
    "It is important to see if the whole pipeline is stored"
   ]
  },
  {
   "cell_type": "code",
   "execution_count": null,
   "id": "846db56a",
   "metadata": {},
   "outputs": [],
   "source": [
    "def add_simple_category(df):\n",
    "    bins = (-1, 4, 5, 6, 10)\n",
    "    group_names = ['Unknown', '1_quartile', '2_quartile', '3_quartile']\n",
    "    categories = pd.cut(df.SEPALLENGTH, bins, labels=group_names)\n",
    "    df['SIMPLE'] = categories\n",
    "    return df\n",
    "df_cat = add_simple_category(df)\n",
    "\n",
    "numeric_features=['SEPALLENGTH', 'SEPALWIDTH', 'PETALLENGTH', 'PETALWIDTH']\n",
    "categorical_features = ['SIMPLE']\n",
    "numeric_features_output = [x + '_O' for x in numeric_features]"
   ]
  },
  {
   "cell_type": "code",
   "execution_count": null,
   "id": "2033ef31",
   "metadata": {},
   "outputs": [],
   "source": [
    "# Define the Table and Cleanup Cols, have a work_schema for testing\n",
    "\n",
    "\n",
    "############################################################################\n",
    "# NOTE: \n",
    "#    Set work_schema variable to some schema that exists in your account.\n",
    "#    set data_dir to point to the directory that contains the diamonds.csv file.\n",
    "############################################################################\n",
    "work_schema = 'TEST'\n",
    "demo_table = 'IRIS_UPPER'\n",
    "\n",
    "# write the DF to Snowflake and create a Snowflake DF\n",
    "session.write_pandas(df_cat, demo_table, auto_create_table=True, table_type=\"temporary\", schema=work_schema)"
   ]
  },
  {
   "cell_type": "code",
   "execution_count": null,
   "id": "6b150ff8",
   "metadata": {},
   "outputs": [],
   "source": [
    "# Diamonds Snowflake Table\n",
    "input_tbl = f\"{session.get_current_database()}.{session.get_current_schema()}.{demo_table}\"\n",
    "iris_df = session.table(input_tbl)\n",
    "print(iris_df.limit(10).to_pandas())"
   ]
  },
  {
   "cell_type": "code",
   "execution_count": null,
   "id": "86f8b074",
   "metadata": {},
   "outputs": [],
   "source": [
    "from snowflake.ml.modeling.linear_model import LogisticRegression\n",
    "from snowflake.ml.preprocessing import MinMaxScaler, StandardScaler, OneHotEncoder\n",
    "from snowflake.ml.framework.pipeline import Pipeline\n",
    "pipeline = Pipeline(\n",
    "    steps=[\n",
    "        ('OHEHOT', OneHotEncoder(input_cols=categorical_features, output_cols='cat_output', drop_input_cols=True), ),\n",
    "        ('SCALER', MinMaxScaler(clip=True, input_cols=numeric_features, output_cols=numeric_features_output, drop_input_cols=True), ),\n",
    "        ('CLASSIFIER', LogisticRegression(label_cols=LABEL_COLUMNS))\n",
    "    ])\n",
    "pipeline.fit(iris_df)"
   ]
  },
  {
   "cell_type": "code",
   "execution_count": null,
   "id": "94231eb1",
   "metadata": {},
   "outputs": [],
   "source": [
    "iris_df_test = iris_df.limit(10)\n",
    "prediction = pipeline.predict(iris_df_test)"
   ]
  },
  {
   "cell_type": "code",
   "execution_count": null,
   "id": "2720275f",
   "metadata": {},
   "outputs": [],
   "source": [
    "pipeline.fit(iris_df.to_pandas())"
   ]
  },
  {
   "cell_type": "code",
   "execution_count": null,
   "id": "a3b5159a",
   "metadata": {},
   "outputs": [],
   "source": [
    "prediction = pipeline.predict(iris_df_test.to_pandas())\n",
    "prediction_log_proba = pipeline.predict_log_proba(iris_df_test.to_pandas())\n",
    "prediction_proba = pipeline.predict_proba(iris_df_test.to_pandas())"
   ]
  },
  {
   "cell_type": "code",
   "execution_count": null,
   "id": "85917118",
   "metadata": {},
   "outputs": [],
   "source": [
    "model_name = \"SIMPLE_PP_MODEL\"\n",
    "deploy_name = \"pp_model_predict\"\n",
    "classifier_type = \"Pipeline\"\n",
    "model_version = f\"{model_name}_007\""
   ]
  },
  {
   "cell_type": "code",
   "execution_count": null,
   "id": "735ff3ca",
   "metadata": {},
   "outputs": [],
   "source": [
    "# A name and model tags can be added to the model at registration time.\n",
    "model_id = registry.log_model(\n",
    "    model_name=model_name,\n",
    "    model_version=model_version,\n",
    "    model=pipeline,\n",
    "    tags={\"stage\": \"testing\", \"classifier_type\": classifier_type},\n",
    "    options={\"embed_local_ml_library\": True}\n",
    ")\n",
    "\n",
    "# The object API can be used to reference a model after creation.\n",
    "model = model_registry.ModelReference(registry=registry, model_name=model_name, model_version=model_version)\n",
    "print(\"Registered new model:\", model_id)"
   ]
  },
  {
   "cell_type": "markdown",
   "id": "9cd6b554",
   "metadata": {},
   "source": [
    "#### Comparison between load_model"
   ]
  },
  {
   "cell_type": "code",
   "execution_count": null,
   "id": "ade4d099",
   "metadata": {},
   "outputs": [],
   "source": [
    "registry = model_registry.ModelRegistry(\n",
    "    session=session, database_name=REGISTRY_DATABASE_NAME, schema_name=REGISTRY_SCHEMA_NAME\n",
    ")\n",
    "model = model_registry.ModelReference(registry=registry, model_name=model_name, model_version=model_version)\n",
    "restored_clf = model.load_model()\n",
    "\n",
    "restored_prediction = restored_clf.predict(iris_df_test.to_pandas())\n",
    "\n",
    "print(\"Original prediction:\", prediction[:10])\n",
    "print(\"Restored prediction:\", restored_prediction[:10])\n",
    "\n",
    "print(\"Result comparison:\", np.array_equal(prediction, restored_prediction[prediction.columns]))"
   ]
  },
  {
   "cell_type": "markdown",
   "id": "2ca2e15e",
   "metadata": {},
   "source": [
    "#### Comparison between deploy predict"
   ]
  },
  {
   "cell_type": "code",
   "execution_count": null,
   "id": "7c1210c5",
   "metadata": {},
   "outputs": [],
   "source": [
    "registry = model_registry.ModelRegistry(\n",
    "    session=session, database_name=REGISTRY_DATABASE_NAME, schema_name=REGISTRY_SCHEMA_NAME\n",
    ")\n",
    "model = model_registry.ModelReference(registry=registry, model_name=model_name, model_version=model_version)\n",
    "model.deploy(\n",
    "    deployment_name=deploy_name,\n",
    "    target_method=\"predict\",\n",
    "    options={\"relax_version\": True},\n",
    ")"
   ]
  },
  {
   "cell_type": "code",
   "execution_count": null,
   "id": "d2ff838f",
   "metadata": {
    "scrolled": true
   },
   "outputs": [],
   "source": [
    "remote_prediction = model.predict(deployment_name=deploy_name, data=iris_df_test.to_pandas())\n",
    "\n",
    "print(\"Remote prediction:\", remote_prediction[:10])\n",
    "\n",
    "print(\"Result comparison:\", np.allclose(prediction, remote_prediction.values))"
   ]
  },
  {
   "cell_type": "code",
   "execution_count": null,
   "id": "0dd77df3",
   "metadata": {},
   "outputs": [],
   "source": []
  }
 ],
 "metadata": {
  "hide_input": false,
  "kernelspec": {
   "display_name": "Python 3 (ipykernel)",
   "language": "python",
   "name": "python3"
  },
  "language_info": {
   "codemirror_mode": {
    "name": "ipython",
    "version": 3
   },
   "file_extension": ".py",
   "mimetype": "text/x-python",
   "name": "python",
   "nbconvert_exporter": "python",
   "pygments_lexer": "ipython3",
   "version": "3.8.16"
  },
  "toc": {
   "base_numbering": 1,
   "nav_menu": {},
   "number_sections": true,
   "sideBar": true,
   "skip_h1_title": false,
   "title_cell": "Table of Contents",
   "title_sidebar": "Contents",
   "toc_cell": false,
   "toc_position": {},
   "toc_section_display": true,
   "toc_window_display": false
  },
  "vscode": {
   "interpreter": {
    "hash": "fb0a62cbfaa59af7646af5a6672c5c3e72ec75fbadf6ff0336b6769523f221a5"
   }
  }
 },
 "nbformat": 4,
 "nbformat_minor": 5
}
