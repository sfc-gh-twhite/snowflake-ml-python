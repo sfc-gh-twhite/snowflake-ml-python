{
 "cells": [
  {
   "cell_type": "markdown",
   "id": "5de3eb26",
   "metadata": {},
   "source": [
    "# Model Packaging Example"
   ]
  },
  {
   "cell_type": "markdown",
   "id": "197efd00",
   "metadata": {},
   "source": [
    "## Before Everything"
   ]
  },
  {
   "cell_type": "markdown",
   "id": "6ce97b36",
   "metadata": {},
   "source": [
    "### Install `snowflake-ml-python` locally"
   ]
  },
  {
   "cell_type": "markdown",
   "id": "1117c596",
   "metadata": {},
   "source": [
    "Before `snowflake-ml-python` is publicly available, you have to install from wheel file. Once it is ready, you could install them like other packages in PIP or conda."
   ]
  },
  {
   "cell_type": "code",
   "execution_count": 1,
   "id": "da314158",
   "metadata": {},
   "outputs": [],
   "source": [
    "%pip install snowflake_ml_python-0.3.2-py3-none-any.whl\n",
    "\n",
    "# Snowpark Connector, Snowpark Library, Session\n",
    "import snowflake.connector\n",
    "import snowflake.snowpark\n",
    "import snowflake.ml.preprocessing as snowml\n",
    "from snowflake.snowpark import Session\n",
    "from snowflake.snowpark.version import VERSION\n",
    "from snowflake.ml.utils import connection_params"
   ]
  },
  {
   "cell_type": "markdown",
   "id": "285c1b29",
   "metadata": {},
   "source": [
    "Notice: It is suggested to use pure-pip environment or empty conda environment when you try this. If you insist to install snowML in a conda environment with packages, it is suggested that you should install all requirements and install `snowflake-ml-python` with `--no-deps` flag."
   ]
  },
  {
   "cell_type": "markdown",
   "id": "99e58d8c",
   "metadata": {},
   "source": [
    "### Setup Notebook"
   ]
  },
  {
   "cell_type": "code",
   "execution_count": 2,
   "id": "afd16ff5",
   "metadata": {},
   "outputs": [],
   "source": [
    "%load_ext autoreload\n",
    "%autoreload 2"
   ]
  },
  {
   "cell_type": "code",
   "execution_count": 3,
   "id": "d609ff44",
   "metadata": {},
   "outputs": [
    {
     "data": {
      "text/html": [
       "<style>.container { width:100% !important; }</style>"
      ],
      "text/plain": [
       "<IPython.core.display.HTML object>"
      ]
     },
     "metadata": {},
     "output_type": "display_data"
    }
   ],
   "source": [
    "# Scale cell width with the browser window to accommodate .show() commands for wider tables.\n",
    "from IPython.display import display, HTML\n",
    "\n",
    "display(HTML(\"<style>.container { width:100% !important; }</style>\"))"
   ]
  },
  {
   "cell_type": "markdown",
   "id": "1ac32c6f",
   "metadata": {},
   "source": [
    "### Start Snowpark Session\n",
    "\n",
    "To avoid exposing credentials in Github, we use a small utility `SnowflakeLoginOptions`. It allows you to score your default credentials in `~/.snowsql/config` in the following format:\n",
    "```\n",
    "[connections]\n",
    "accountname = <string>   # Account identifier to connect to Snowflake.\n",
    "username = <string>      # User name in the account. Optional.\n",
    "password = <string>      # User password. Optional.\n",
    "dbname = <string>        # Default database. Optional.\n",
    "schemaname = <string>    # Default schema. Optional.\n",
    "warehousename = <string> # Default warehouse. Optional.\n",
    "#rolename = <string>      # Default role. Optional.\n",
    "#authenticator = <string> # Authenticator: 'snowflake', 'externalbrowser', etc\n",
    "```\n",
    "Please follow [this](https://docs.snowflake.com/en/user-guide/snowsql-start.html#configuring-default-connection-settings) for more details."
   ]
  },
  {
   "cell_type": "code",
   "execution_count": 4,
   "id": "b2efc0a8",
   "metadata": {},
   "outputs": [],
   "source": [
    "from snowflake.ml.utils.connection_params import SnowflakeLoginOptions\n",
    "from snowflake.snowpark import Session\n",
    "\n",
    "session = Session.builder.configs(SnowflakeLoginOptions()).create()"
   ]
  },
  {
   "cell_type": "markdown",
   "id": "e2fcbe4a",
   "metadata": {},
   "source": [
    "### Let `snowflake-ml-python` available for your models to be deployed"
   ]
  },
  {
   "cell_type": "markdown",
   "id": "671a7710",
   "metadata": {},
   "source": [
    "Unfortunately, since `snowflake-ml-python` does not exist in Anaconda channel yet, we have to import them manually to use it when the model get deployed to Snowflake. To avoid upload them again and again, we could set up a temporary stage and upload the wheel file there."
   ]
  },
  {
   "cell_type": "code",
   "execution_count": 5,
   "id": "5eae711f",
   "metadata": {},
   "outputs": [],
   "source": [
    "SNOW_ML_WHEEL_LOCAL_PATH = \"~/snowml/bazel-bin/snowflake/ml/snowflake_ml_python-0.3.2-py3-none-any.whl\""
   ]
  },
  {
   "cell_type": "code",
   "execution_count": 6,
   "id": "6fcececa",
   "metadata": {},
   "outputs": [],
   "source": [
    "import os\n",
    "\n",
    "\n",
    "def upload_snowml_to_tmp_stage(session: Session, wheel_path: str) -> str:\n",
    "    \"\"\"Upload model module of snowml to tmp stage.\n",
    "\n",
    "    Args:\n",
    "        session: Snowpark session.\n",
    "        wheel_path: Path to the local SnowML wheel file.\n",
    "\n",
    "    Returns:\n",
    "        The stage path to uploaded snowml.zip file.\n",
    "    \"\"\"\n",
    "    tmp_stage = session.get_session_stage()\n",
    "    _ = session.file.put(wheel_path, tmp_stage, auto_compress=False, overwrite=True)\n",
    "    whl_filename = os.path.basename(wheel_path)\n",
    "    return f\"{tmp_stage}/{whl_filename}\""
   ]
  },
  {
   "cell_type": "code",
   "execution_count": 7,
   "id": "90ea99cc",
   "metadata": {},
   "outputs": [],
   "source": [
    "SNOW_ML_WHEEL_STAGE_PATH = upload_snowml_to_tmp_stage(session, SNOW_ML_WHEEL_LOCAL_PATH)"
   ]
  },
  {
   "cell_type": "markdown",
   "id": "dfa9ab88",
   "metadata": {},
   "source": [
    "### Open/Create Model Registry"
   ]
  },
  {
   "cell_type": "markdown",
   "id": "b0a0c8a8",
   "metadata": {},
   "source": [
    "A model registry needs to be created before it can be used. The creation will create a new database in the current account so the active role needs to have permissions to create a database. After the first creation, the model registry can be opened without the need to create it again."
   ]
  },
  {
   "cell_type": "code",
   "execution_count": 8,
   "id": "a95e3431",
   "metadata": {},
   "outputs": [],
   "source": [
    "REGISTRY_DATABASE_NAME = \"TEMP\"\n",
    "REGISTRY_SCHEMA_NAME = \"WZHAO\""
   ]
  },
  {
   "cell_type": "code",
   "execution_count": 9,
   "id": "7fff21bc",
   "metadata": {},
   "outputs": [
    {
     "name": "stderr",
     "output_type": "stream",
     "text": [
      "WARNING:absl:The database TEMP already exists. Skipping creation.\n",
      "WARNING:absl:The schmea \"TEMP\".\"WZHAO\" already exists. Skipping creation.\n",
      "WARNING:absl:The registry table \"TEMP\".\"WZHAO\".\"MODELS\" already exists. Skipping creation.\n",
      "WARNING:absl:The metadata table \"TEMP\".\"WZHAO\".\"METADATA\" already exists. Skipping creation.\n"
     ]
    }
   ],
   "source": [
    "from snowflake.ml.registry import model_registry\n",
    "model_registry.create_model_registry(session=session, database_name=REGISTRY_DATABASE_NAME, schema_name=REGISTRY_SCHEMA_NAME)\n",
    "registry = model_registry.ModelRegistry(session=session, database_name=REGISTRY_DATABASE_NAME, schema_name=REGISTRY_SCHEMA_NAME)"
   ]
  },
  {
   "cell_type": "markdown",
   "id": "ca0f443d",
   "metadata": {},
   "source": [
    "## Use with snowml model"
   ]
  },
  {
   "cell_type": "code",
   "execution_count": 10,
   "id": "6271c9d1",
   "metadata": {},
   "outputs": [],
   "source": [
    "from snowflake.ml.modeling.xgboost import XGBClassifier\n",
    "from sklearn.datasets import load_iris\n",
    "import numpy as np\n",
    "import pandas as pd\n",
    "\n",
    "\n",
    "iris = load_iris()\n",
    "df = pd.DataFrame(data= np.c_[iris['data'], iris['target']],\n",
    "                     columns= iris['feature_names'] + ['target'])\n",
    "df.columns = [s.replace(\" (CM)\", '').replace(' ', '') for s in df.columns.str.upper()]\n",
    "\n",
    "INPUT_COLUMNS = ['SEPALLENGTH', 'SEPALWIDTH', 'PETALLENGTH', 'PETALWIDTH']\n",
    "LABEL_COLUMNS = 'TARGET'\n",
    "OUTPUT_COLUMNS = 'PREDICTED_TARGET'"
   ]
  },
  {
   "cell_type": "code",
   "execution_count": 11,
   "id": "4c8de352",
   "metadata": {},
   "outputs": [
    {
     "data": {
      "text/html": [
       "<div>\n",
       "<style scoped>\n",
       "    .dataframe tbody tr th:only-of-type {\n",
       "        vertical-align: middle;\n",
       "    }\n",
       "\n",
       "    .dataframe tbody tr th {\n",
       "        vertical-align: top;\n",
       "    }\n",
       "\n",
       "    .dataframe thead th {\n",
       "        text-align: right;\n",
       "    }\n",
       "</style>\n",
       "<table border=\"1\" class=\"dataframe\">\n",
       "  <thead>\n",
       "    <tr style=\"text-align: right;\">\n",
       "      <th></th>\n",
       "      <th>SEPALLENGTH</th>\n",
       "      <th>SEPALWIDTH</th>\n",
       "      <th>PETALLENGTH</th>\n",
       "      <th>PETALWIDTH</th>\n",
       "      <th>TARGET</th>\n",
       "    </tr>\n",
       "  </thead>\n",
       "  <tbody>\n",
       "    <tr>\n",
       "      <th>0</th>\n",
       "      <td>5.1</td>\n",
       "      <td>3.5</td>\n",
       "      <td>1.4</td>\n",
       "      <td>0.2</td>\n",
       "      <td>0.0</td>\n",
       "    </tr>\n",
       "    <tr>\n",
       "      <th>1</th>\n",
       "      <td>4.9</td>\n",
       "      <td>3.0</td>\n",
       "      <td>1.4</td>\n",
       "      <td>0.2</td>\n",
       "      <td>0.0</td>\n",
       "    </tr>\n",
       "    <tr>\n",
       "      <th>2</th>\n",
       "      <td>4.7</td>\n",
       "      <td>3.2</td>\n",
       "      <td>1.3</td>\n",
       "      <td>0.2</td>\n",
       "      <td>0.0</td>\n",
       "    </tr>\n",
       "    <tr>\n",
       "      <th>3</th>\n",
       "      <td>4.6</td>\n",
       "      <td>3.1</td>\n",
       "      <td>1.5</td>\n",
       "      <td>0.2</td>\n",
       "      <td>0.0</td>\n",
       "    </tr>\n",
       "    <tr>\n",
       "      <th>4</th>\n",
       "      <td>5.0</td>\n",
       "      <td>3.6</td>\n",
       "      <td>1.4</td>\n",
       "      <td>0.2</td>\n",
       "      <td>0.0</td>\n",
       "    </tr>\n",
       "    <tr>\n",
       "      <th>...</th>\n",
       "      <td>...</td>\n",
       "      <td>...</td>\n",
       "      <td>...</td>\n",
       "      <td>...</td>\n",
       "      <td>...</td>\n",
       "    </tr>\n",
       "    <tr>\n",
       "      <th>145</th>\n",
       "      <td>6.7</td>\n",
       "      <td>3.0</td>\n",
       "      <td>5.2</td>\n",
       "      <td>2.3</td>\n",
       "      <td>2.0</td>\n",
       "    </tr>\n",
       "    <tr>\n",
       "      <th>146</th>\n",
       "      <td>6.3</td>\n",
       "      <td>2.5</td>\n",
       "      <td>5.0</td>\n",
       "      <td>1.9</td>\n",
       "      <td>2.0</td>\n",
       "    </tr>\n",
       "    <tr>\n",
       "      <th>147</th>\n",
       "      <td>6.5</td>\n",
       "      <td>3.0</td>\n",
       "      <td>5.2</td>\n",
       "      <td>2.0</td>\n",
       "      <td>2.0</td>\n",
       "    </tr>\n",
       "    <tr>\n",
       "      <th>148</th>\n",
       "      <td>6.2</td>\n",
       "      <td>3.4</td>\n",
       "      <td>5.4</td>\n",
       "      <td>2.3</td>\n",
       "      <td>2.0</td>\n",
       "    </tr>\n",
       "    <tr>\n",
       "      <th>149</th>\n",
       "      <td>5.9</td>\n",
       "      <td>3.0</td>\n",
       "      <td>5.1</td>\n",
       "      <td>1.8</td>\n",
       "      <td>2.0</td>\n",
       "    </tr>\n",
       "  </tbody>\n",
       "</table>\n",
       "<p>150 rows × 5 columns</p>\n",
       "</div>"
      ],
      "text/plain": [
       "     SEPALLENGTH  SEPALWIDTH  PETALLENGTH  PETALWIDTH  TARGET\n",
       "0            5.1         3.5          1.4         0.2     0.0\n",
       "1            4.9         3.0          1.4         0.2     0.0\n",
       "2            4.7         3.2          1.3         0.2     0.0\n",
       "3            4.6         3.1          1.5         0.2     0.0\n",
       "4            5.0         3.6          1.4         0.2     0.0\n",
       "..           ...         ...          ...         ...     ...\n",
       "145          6.7         3.0          5.2         2.3     2.0\n",
       "146          6.3         2.5          5.0         1.9     2.0\n",
       "147          6.5         3.0          5.2         2.0     2.0\n",
       "148          6.2         3.4          5.4         2.3     2.0\n",
       "149          5.9         3.0          5.1         1.8     2.0\n",
       "\n",
       "[150 rows x 5 columns]"
      ]
     },
     "execution_count": 11,
     "metadata": {},
     "output_type": "execute_result"
    }
   ],
   "source": [
    "df"
   ]
  },
  {
   "cell_type": "code",
   "execution_count": 12,
   "id": "7ca901eb",
   "metadata": {},
   "outputs": [],
   "source": [
    "test_features = df[:10]\n",
    "model_version = \"1_007\""
   ]
  },
  {
   "cell_type": "markdown",
   "id": "b9441f7a",
   "metadata": {},
   "source": [
    "### XGBoost model"
   ]
  },
  {
   "cell_type": "code",
   "execution_count": 13,
   "id": "4ac4c21e",
   "metadata": {},
   "outputs": [
    {
     "data": {
      "text/plain": [
       "<snowflake.ml.modeling.xgboost.xgb_classifier.XGBClassifier at 0x7f9c589c5dc0>"
      ]
     },
     "execution_count": 13,
     "metadata": {},
     "output_type": "execute_result"
    }
   ],
   "source": [
    "clf_xgb = XGBClassifier(input_cols=INPUT_COLUMNS,\n",
    "                          output_cols=OUTPUT_COLUMNS,\n",
    "                          label_cols=LABEL_COLUMNS)\n",
    "\n",
    "clf_xgb.fit(df)"
   ]
  },
  {
   "cell_type": "code",
   "execution_count": 14,
   "id": "dd0ca646",
   "metadata": {},
   "outputs": [],
   "source": [
    "prediction = clf_xgb.predict(test_features)\n",
    "prediction_proba = clf_xgb.predict_proba(test_features)"
   ]
  },
  {
   "cell_type": "code",
   "execution_count": 15,
   "id": "3d872431",
   "metadata": {},
   "outputs": [],
   "source": [
    "model_name = \"SIMPLE_XGB_MODEL\"\n",
    "deploy_name = \"xgb_model_predict\""
   ]
  },
  {
   "cell_type": "code",
   "execution_count": 16,
   "id": "523cc249",
   "metadata": {
    "code_folding": []
   },
   "outputs": [
    {
     "name": "stdout",
     "output_type": "stream",
     "text": [
      "Registered new model: a1af4d7afbf111ed8e10ce0e8c87ef9b\n"
     ]
    }
   ],
   "source": [
    "# A name and model tags can be added to the model at registration time.\n",
    "model_id = registry.log_model(\n",
    "    model_name=model_name,\n",
    "    model_version=model_version,\n",
    "    model=clf_xgb,\n",
    "    tags={\"stage\": \"testing\", \"classifier_type\": \"XGBClassifier\"},\n",
    "    sample_input_data=test_features[:10], # this line can be removed after modelSignature\n",
    ")\n",
    "\n",
    "# The object API can be used to reference a model after creation.\n",
    "model = model_registry.ModelReference(registry=registry, model_name=model_name, model_version=model_version)\n",
    "print(\"Registered new model:\", model_id)"
   ]
  },
  {
   "cell_type": "markdown",
   "id": "fccfb1af",
   "metadata": {},
   "source": [
    "### Test on the result using load_model "
   ]
  },
  {
   "cell_type": "code",
   "execution_count": 17,
   "id": "bf9a3596",
   "metadata": {
    "code_folding": []
   },
   "outputs": [
    {
     "name": "stdout",
     "output_type": "stream",
     "text": [
      "Original prediction:    SEPALLENGTH  SEPALWIDTH  PETALLENGTH  PETALWIDTH  TARGET  PREDICTED_TARGET\n",
      "0          5.1         3.5          1.4         0.2     0.0                 0\n",
      "1          4.9         3.0          1.4         0.2     0.0                 0\n",
      "2          4.7         3.2          1.3         0.2     0.0                 0\n",
      "3          4.6         3.1          1.5         0.2     0.0                 0\n",
      "4          5.0         3.6          1.4         0.2     0.0                 0\n",
      "5          5.4         3.9          1.7         0.4     0.0                 0\n",
      "6          4.6         3.4          1.4         0.3     0.0                 0\n",
      "7          5.0         3.4          1.5         0.2     0.0                 0\n",
      "8          4.4         2.9          1.4         0.2     0.0                 0\n",
      "9          4.9         3.1          1.5         0.1     0.0                 0\n",
      "Restored prediction:    SEPALLENGTH  SEPALWIDTH  PETALLENGTH  PETALWIDTH  TARGET  PREDICTED_TARGET\n",
      "0          5.1         3.5          1.4         0.2     0.0                 0\n",
      "1          4.9         3.0          1.4         0.2     0.0                 0\n",
      "2          4.7         3.2          1.3         0.2     0.0                 0\n",
      "3          4.6         3.1          1.5         0.2     0.0                 0\n",
      "4          5.0         3.6          1.4         0.2     0.0                 0\n",
      "5          5.4         3.9          1.7         0.4     0.0                 0\n",
      "6          4.6         3.4          1.4         0.3     0.0                 0\n",
      "7          5.0         3.4          1.5         0.2     0.0                 0\n",
      "8          4.4         2.9          1.4         0.2     0.0                 0\n",
      "9          4.9         3.1          1.5         0.1     0.0                 0\n",
      "Result comparison: True\n"
     ]
    }
   ],
   "source": [
    "registry = model_registry.ModelRegistry(\n",
    "    session=session, database_name=REGISTRY_DATABASE_NAME, schema_name=REGISTRY_SCHEMA_NAME\n",
    ")\n",
    "model = model_registry.ModelReference(registry=registry, model_name=model_name, model_version=model_version)\n",
    "restored_clf = model.load_model()\n",
    "\n",
    "restored_prediction = restored_clf.predict(test_features)\n",
    "\n",
    "print(\"Original prediction:\", prediction[:10])\n",
    "print(\"Restored prediction:\", restored_prediction[:10])\n",
    "\n",
    "print(\"Result comparison:\", np.array_equal(prediction, restored_prediction[prediction.columns]))"
   ]
  },
  {
   "cell_type": "markdown",
   "id": "fe9e2081",
   "metadata": {},
   "source": [
    "### Testing on deploy"
   ]
  },
  {
   "cell_type": "markdown",
   "id": "56834c5c",
   "metadata": {},
   "source": [
    "#### Predict function match/mismatch? - comparsion between deploy and local"
   ]
  },
  {
   "cell_type": "code",
   "execution_count": 18,
   "id": "bf55701d",
   "metadata": {},
   "outputs": [
    {
     "name": "stderr",
     "output_type": "stream",
     "text": [
      "/Users/xjiang/Documents/snowml/snowflake/ml/model/_udf_util.py:227: RuntimeWarning: Cannot find conda resolver, use Snowflake information schema for best-effort dependency pre-check.\n",
      "  warnings.warn(\n"
     ]
    },
    {
     "name": "stdout",
     "output_type": "stream",
     "text": [
      "Generated UDF file is persisted at: /var/folders/76/47j700wn3g905_97713xwpnm0000gn/T/tmpuowyt6bq.py\n"
     ]
    },
    {
     "name": "stderr",
     "output_type": "stream",
     "text": [
      "WARNING:snowflake.snowpark.session:The version of package anyio in the local environment is 3.6.2, which does not fit the criteria for the requirement anyio. Your UDF might not work when the package version is different between the server and your local environment\n"
     ]
    },
    {
     "name": "stdout",
     "output_type": "stream",
     "text": [
      "xgb_model_predict is deployed to warehouse.\n"
     ]
    }
   ],
   "source": [
    "registry = model_registry.ModelRegistry(\n",
    "    session=session, database_name=REGISTRY_DATABASE_NAME, schema_name=REGISTRY_SCHEMA_NAME\n",
    ")\n",
    "model = model_registry.ModelReference(registry=registry, model_name=model_name, model_version=model_version)\n",
    "model.deploy(\n",
    "    deployment_name=deploy_name,\n",
    "    target_method=\"predict\",\n",
    "    options={\"_snowml_wheel_path\": SNOW_ML_WHEEL_STAGE_PATH, \"relax_version\": True},\n",
    ")"
   ]
  },
  {
   "cell_type": "code",
   "execution_count": 19,
   "id": "6f159a5f",
   "metadata": {},
   "outputs": [
    {
     "name": "stdout",
     "output_type": "stream",
     "text": [
      "Remote prediction:    SEPALLENGTH  SEPALWIDTH  PETALLENGTH  PETALWIDTH  TARGET  PREDICTED_TARGET\n",
      "0          5.1         3.5          1.4         0.2     0.0                 0\n",
      "1          4.9         3.0          1.4         0.2     0.0                 0\n",
      "2          4.7         3.2          1.3         0.2     0.0                 0\n",
      "3          4.6         3.1          1.5         0.2     0.0                 0\n",
      "4          5.0         3.6          1.4         0.2     0.0                 0\n",
      "5          5.4         3.9          1.7         0.4     0.0                 0\n",
      "6          4.6         3.4          1.4         0.3     0.0                 0\n",
      "7          5.0         3.4          1.5         0.2     0.0                 0\n",
      "8          4.4         2.9          1.4         0.2     0.0                 0\n",
      "9          4.9         3.1          1.5         0.1     0.0                 0\n",
      "Result comparison: True\n"
     ]
    }
   ],
   "source": [
    "remote_prediction = model.predict(deployment_name=deploy_name, data=test_features)\n",
    "\n",
    "print(\"Remote prediction:\", remote_prediction[:10])\n",
    "\n",
    "print(\"Result comparison:\", np.array_equal(prediction, remote_prediction.values))"
   ]
  },
  {
   "cell_type": "markdown",
   "id": "65af7944",
   "metadata": {},
   "source": [
    "#### Predict_proba function match/mismatch? - comparsion between deploy and local"
   ]
  },
  {
   "cell_type": "code",
   "execution_count": 20,
   "id": "0c77d583",
   "metadata": {},
   "outputs": [
    {
     "name": "stderr",
     "output_type": "stream",
     "text": [
      "/Users/xjiang/Documents/snowml/snowflake/ml/model/_udf_util.py:227: RuntimeWarning: Cannot find conda resolver, use Snowflake information schema for best-effort dependency pre-check.\n",
      "  warnings.warn(\n"
     ]
    },
    {
     "name": "stdout",
     "output_type": "stream",
     "text": [
      "Generated UDF file is persisted at: /var/folders/76/47j700wn3g905_97713xwpnm0000gn/T/tmpgltgg1aw.py\n"
     ]
    },
    {
     "name": "stderr",
     "output_type": "stream",
     "text": [
      "WARNING:snowflake.snowpark.session:The version of package anyio in the local environment is 3.6.2, which does not fit the criteria for the requirement anyio. Your UDF might not work when the package version is different between the server and your local environment\n"
     ]
    },
    {
     "name": "stdout",
     "output_type": "stream",
     "text": [
      "xgb_model_predict is deployed to warehouse.\n"
     ]
    }
   ],
   "source": [
    "registry = model_registry.ModelRegistry(\n",
    "    session=session, database_name=REGISTRY_DATABASE_NAME, schema_name=REGISTRY_SCHEMA_NAME\n",
    ")\n",
    "model = model_registry.ModelReference(registry=registry, model_name=model_name, model_version=model_version)\n",
    "model.deploy(\n",
    "    deployment_name=deploy_name,\n",
    "    target_method=\"predict_proba\",\n",
    "    options={\"_snowml_wheel_path\": SNOW_ML_WHEEL_STAGE_PATH, \"relax_version\": True},\n",
    ")"
   ]
  },
  {
   "cell_type": "code",
   "execution_count": 21,
   "id": "1216dbe8",
   "metadata": {
    "scrolled": true
   },
   "outputs": [
    {
     "name": "stdout",
     "output_type": "stream",
     "text": [
      "Remote prediction:    SEPALLENGTH  SEPALWIDTH  PETALLENGTH  PETALWIDTH  TARGET  \\\n",
      "0          5.1         3.5          1.4         0.2     0.0   \n",
      "1          4.9         3.0          1.4         0.2     0.0   \n",
      "2          4.7         3.2          1.3         0.2     0.0   \n",
      "3          4.6         3.1          1.5         0.2     0.0   \n",
      "4          5.0         3.6          1.4         0.2     0.0   \n",
      "5          5.4         3.9          1.7         0.4     0.0   \n",
      "6          4.6         3.4          1.4         0.3     0.0   \n",
      "7          5.0         3.4          1.5         0.2     0.0   \n",
      "8          4.4         2.9          1.4         0.2     0.0   \n",
      "9          4.9         3.1          1.5         0.1     0.0   \n",
      "\n",
      "   predict_proba_0.0  predict_proba_1.0  predict_proba_2.0  \n",
      "0           0.996803           0.002383           0.000814  \n",
      "1           0.996362           0.002382           0.001256  \n",
      "2           0.996803           0.002383           0.000814  \n",
      "3           0.996795           0.002383           0.000822  \n",
      "4           0.996803           0.002383           0.000814  \n",
      "5           0.996803           0.002383           0.000814  \n",
      "6           0.996803           0.002383           0.000814  \n",
      "7           0.996803           0.002383           0.000814  \n",
      "8           0.996362           0.002382           0.001256  \n",
      "9           0.996795           0.002383           0.000822  \n",
      "Result comparison: True\n"
     ]
    }
   ],
   "source": [
    "remote_prediction_proba = model.predict(deployment_name=deploy_name, data=test_features)\n",
    "\n",
    "print(\"Remote prediction:\", remote_prediction_proba[:10])\n",
    "\n",
    "print(\"Result comparison:\", np.allclose(prediction_proba, remote_prediction_proba.values))"
   ]
  },
  {
   "cell_type": "markdown",
   "id": "e5f9c9b7",
   "metadata": {},
   "source": [
    "### Random Forest model *from ensemble*\n"
   ]
  },
  {
   "cell_type": "code",
   "execution_count": 22,
   "id": "48780cb2",
   "metadata": {},
   "outputs": [],
   "source": [
    "from snowflake.ml.modeling.ensemble import RandomForestClassifier"
   ]
  },
  {
   "cell_type": "code",
   "execution_count": 23,
   "id": "93d42010",
   "metadata": {},
   "outputs": [
    {
     "data": {
      "text/plain": [
       "<snowflake.ml.modeling.ensemble.random_forest_classifier.RandomForestClassifier at 0x7f9c6c2512e0>"
      ]
     },
     "execution_count": 23,
     "metadata": {},
     "output_type": "execute_result"
    }
   ],
   "source": [
    "clf_rf = RandomForestClassifier(input_cols=INPUT_COLUMNS,\n",
    "                          output_cols=OUTPUT_COLUMNS,\n",
    "                          label_cols=LABEL_COLUMNS)\n",
    "\n",
    "clf_rf.fit(df)"
   ]
  },
  {
   "cell_type": "code",
   "execution_count": 24,
   "id": "cfe55d82",
   "metadata": {},
   "outputs": [
    {
     "name": "stderr",
     "output_type": "stream",
     "text": [
      "/Users/xjiang/opt/anaconda3/envs/snowflake-ml-modeling/lib/python3.8/site-packages/sklearn/ensemble/_forest.py:910: RuntimeWarning: divide by zero encountered in log\n",
      "  return np.log(proba)\n"
     ]
    }
   ],
   "source": [
    "prediction = clf_rf.predict(test_features)\n",
    "prediction_proba = clf_rf.predict_proba(test_features)\n",
    "prediction_log_proba = clf_rf.predict_log_proba(test_features)"
   ]
  },
  {
   "cell_type": "code",
   "execution_count": 25,
   "id": "4ef91e18",
   "metadata": {},
   "outputs": [],
   "source": [
    "model_name = \"SIMPLE_RF_MODEL\"\n",
    "deploy_name = \"rf_model_predict\"\n",
    "classifier_type = \"RFClassifier\""
   ]
  },
  {
   "cell_type": "code",
   "execution_count": 26,
   "id": "f9401b46",
   "metadata": {},
   "outputs": [
    {
     "name": "stderr",
     "output_type": "stream",
     "text": [
      "/Users/xjiang/opt/anaconda3/envs/snowflake-ml-modeling/lib/python3.8/site-packages/sklearn/ensemble/_forest.py:910: RuntimeWarning: divide by zero encountered in log\n",
      "  return np.log(proba)\n"
     ]
    },
    {
     "name": "stdout",
     "output_type": "stream",
     "text": [
      "Registered new model: fe277924fbf111ed8e10ce0e8c87ef9b\n"
     ]
    }
   ],
   "source": [
    "# A name and model tags can be added to the model at registration time.\n",
    "model_id = registry.log_model(\n",
    "    model_name=model_name,\n",
    "    model_version=model_version,\n",
    "    model=clf_rf,\n",
    "    tags={\"stage\": \"testing\", \"classifier_type\": classifier_type},\n",
    "    sample_input_data=test_features, # this line can be removed after modelSignature\n",
    ")\n",
    "\n",
    "# The object API can be used to reference a model after creation.\n",
    "model = model_registry.ModelReference(registry=registry, model_name=model_name, model_version=model_version)\n",
    "print(\"Registered new model:\", model_id)"
   ]
  },
  {
   "cell_type": "markdown",
   "id": "1c8e87fc",
   "metadata": {},
   "source": [
    "#### Comparsion between load_model"
   ]
  },
  {
   "cell_type": "code",
   "execution_count": 27,
   "id": "cf1db785",
   "metadata": {},
   "outputs": [
    {
     "name": "stdout",
     "output_type": "stream",
     "text": [
      "Original prediction:    SEPALLENGTH  SEPALWIDTH  PETALLENGTH  PETALWIDTH  TARGET  PREDICTED_TARGET\n",
      "0          5.1         3.5          1.4         0.2     0.0               0.0\n",
      "1          4.9         3.0          1.4         0.2     0.0               0.0\n",
      "2          4.7         3.2          1.3         0.2     0.0               0.0\n",
      "3          4.6         3.1          1.5         0.2     0.0               0.0\n",
      "4          5.0         3.6          1.4         0.2     0.0               0.0\n",
      "5          5.4         3.9          1.7         0.4     0.0               0.0\n",
      "6          4.6         3.4          1.4         0.3     0.0               0.0\n",
      "7          5.0         3.4          1.5         0.2     0.0               0.0\n",
      "8          4.4         2.9          1.4         0.2     0.0               0.0\n",
      "9          4.9         3.1          1.5         0.1     0.0               0.0\n",
      "Restored prediction:    SEPALLENGTH  SEPALWIDTH  PETALLENGTH  PETALWIDTH  TARGET  PREDICTED_TARGET\n",
      "0          5.1         3.5          1.4         0.2     0.0               0.0\n",
      "1          4.9         3.0          1.4         0.2     0.0               0.0\n",
      "2          4.7         3.2          1.3         0.2     0.0               0.0\n",
      "3          4.6         3.1          1.5         0.2     0.0               0.0\n",
      "4          5.0         3.6          1.4         0.2     0.0               0.0\n",
      "5          5.4         3.9          1.7         0.4     0.0               0.0\n",
      "6          4.6         3.4          1.4         0.3     0.0               0.0\n",
      "7          5.0         3.4          1.5         0.2     0.0               0.0\n",
      "8          4.4         2.9          1.4         0.2     0.0               0.0\n",
      "9          4.9         3.1          1.5         0.1     0.0               0.0\n",
      "Result comparison: True\n"
     ]
    }
   ],
   "source": [
    "registry = model_registry.ModelRegistry(\n",
    "    session=session, database_name=REGISTRY_DATABASE_NAME, schema_name=REGISTRY_SCHEMA_NAME\n",
    ")\n",
    "model = model_registry.ModelReference(registry=registry, model_name=model_name, model_version=model_version)\n",
    "restored_clf = model.load_model()\n",
    "\n",
    "restored_prediction = restored_clf.predict(test_features)\n",
    "\n",
    "print(\"Original prediction:\", prediction[:10])\n",
    "print(\"Restored prediction:\", restored_prediction[:10])\n",
    "\n",
    "print(\"Result comparison:\", np.array_equal(prediction, restored_prediction[prediction.columns]))"
   ]
  },
  {
   "cell_type": "markdown",
   "id": "cefbad30",
   "metadata": {},
   "source": [
    "#### Comparsion between deploy"
   ]
  },
  {
   "cell_type": "code",
   "execution_count": 28,
   "id": "f81f663e",
   "metadata": {},
   "outputs": [
    {
     "name": "stderr",
     "output_type": "stream",
     "text": [
      "/Users/xjiang/Documents/snowml/snowflake/ml/model/_udf_util.py:227: RuntimeWarning: Cannot find conda resolver, use Snowflake information schema for best-effort dependency pre-check.\n",
      "  warnings.warn(\n"
     ]
    },
    {
     "name": "stdout",
     "output_type": "stream",
     "text": [
      "Generated UDF file is persisted at: /var/folders/76/47j700wn3g905_97713xwpnm0000gn/T/tmpvnzzuuxw.py\n"
     ]
    },
    {
     "name": "stderr",
     "output_type": "stream",
     "text": [
      "WARNING:snowflake.snowpark.session:The version of package anyio in the local environment is 3.6.2, which does not fit the criteria for the requirement anyio. Your UDF might not work when the package version is different between the server and your local environment\n"
     ]
    },
    {
     "name": "stdout",
     "output_type": "stream",
     "text": [
      "rf_model_predict is deployed to warehouse.\n"
     ]
    }
   ],
   "source": [
    "registry = model_registry.ModelRegistry(\n",
    "    session=session, database_name=REGISTRY_DATABASE_NAME, schema_name=REGISTRY_SCHEMA_NAME\n",
    ")\n",
    "model = model_registry.ModelReference(registry=registry, model_name=model_name, model_version=model_version)\n",
    "model.deploy(\n",
    "    deployment_name=deploy_name,\n",
    "    target_method=\"predict\",\n",
    "    options={\"_snowml_wheel_path\": SNOW_ML_WHEEL_STAGE_PATH, \"relax_version\": True},\n",
    ")"
   ]
  },
  {
   "cell_type": "code",
   "execution_count": 29,
   "id": "726838d0",
   "metadata": {},
   "outputs": [
    {
     "name": "stdout",
     "output_type": "stream",
     "text": [
      "Remote prediction:    SEPALLENGTH  SEPALWIDTH  PETALLENGTH  PETALWIDTH  TARGET  PREDICTED_TARGET\n",
      "0          5.1         3.5          1.4         0.2     0.0               0.0\n",
      "1          4.9         3.0          1.4         0.2     0.0               0.0\n",
      "2          4.7         3.2          1.3         0.2     0.0               0.0\n",
      "3          4.6         3.1          1.5         0.2     0.0               0.0\n",
      "4          5.0         3.6          1.4         0.2     0.0               0.0\n",
      "5          5.4         3.9          1.7         0.4     0.0               0.0\n",
      "6          4.6         3.4          1.4         0.3     0.0               0.0\n",
      "7          5.0         3.4          1.5         0.2     0.0               0.0\n",
      "8          4.4         2.9          1.4         0.2     0.0               0.0\n",
      "9          4.9         3.1          1.5         0.1     0.0               0.0\n",
      "Result comparison: True\n"
     ]
    }
   ],
   "source": [
    "remote_prediction = model.predict(deployment_name=deploy_name, data=test_features)\n",
    "\n",
    "print(\"Remote prediction:\", remote_prediction[:10])\n",
    "\n",
    "print(\"Result comparison:\", np.array_equal(prediction, remote_prediction.values))"
   ]
  },
  {
   "cell_type": "code",
   "execution_count": 30,
   "id": "33833e23",
   "metadata": {},
   "outputs": [
    {
     "name": "stderr",
     "output_type": "stream",
     "text": [
      "/Users/xjiang/Documents/snowml/snowflake/ml/model/_udf_util.py:227: RuntimeWarning: Cannot find conda resolver, use Snowflake information schema for best-effort dependency pre-check.\n",
      "  warnings.warn(\n"
     ]
    },
    {
     "name": "stdout",
     "output_type": "stream",
     "text": [
      "Generated UDF file is persisted at: /var/folders/76/47j700wn3g905_97713xwpnm0000gn/T/tmp6rm6hkvn.py\n"
     ]
    },
    {
     "name": "stderr",
     "output_type": "stream",
     "text": [
      "WARNING:snowflake.snowpark.session:The version of package anyio in the local environment is 3.6.2, which does not fit the criteria for the requirement anyio. Your UDF might not work when the package version is different between the server and your local environment\n"
     ]
    },
    {
     "name": "stdout",
     "output_type": "stream",
     "text": [
      "rf_model_predict is deployed to warehouse.\n"
     ]
    }
   ],
   "source": [
    "registry = model_registry.ModelRegistry(\n",
    "    session=session, database_name=REGISTRY_DATABASE_NAME, schema_name=REGISTRY_SCHEMA_NAME\n",
    ")\n",
    "model = model_registry.ModelReference(registry=registry, model_name=model_name, model_version=model_version)\n",
    "model.deploy(\n",
    "    deployment_name=deploy_name,\n",
    "    target_method=\"predict_proba\",\n",
    "    options={\"_snowml_wheel_path\": SNOW_ML_WHEEL_STAGE_PATH, \"relax_version\": True},\n",
    ")"
   ]
  },
  {
   "cell_type": "code",
   "execution_count": 31,
   "id": "4e5d8d89",
   "metadata": {},
   "outputs": [
    {
     "name": "stdout",
     "output_type": "stream",
     "text": [
      "Remote prediction:    SEPALLENGTH  SEPALWIDTH  PETALLENGTH  PETALWIDTH  TARGET  \\\n",
      "0          5.1         3.5          1.4         0.2     0.0   \n",
      "1          4.9         3.0          1.4         0.2     0.0   \n",
      "2          4.7         3.2          1.3         0.2     0.0   \n",
      "3          4.6         3.1          1.5         0.2     0.0   \n",
      "4          5.0         3.6          1.4         0.2     0.0   \n",
      "5          5.4         3.9          1.7         0.4     0.0   \n",
      "6          4.6         3.4          1.4         0.3     0.0   \n",
      "7          5.0         3.4          1.5         0.2     0.0   \n",
      "8          4.4         2.9          1.4         0.2     0.0   \n",
      "9          4.9         3.1          1.5         0.1     0.0   \n",
      "\n",
      "   predict_proba_0.0  predict_proba_1.0  predict_proba_2.0  \n",
      "0                1.0                0.0                0.0  \n",
      "1                1.0                0.0                0.0  \n",
      "2                1.0                0.0                0.0  \n",
      "3                1.0                0.0                0.0  \n",
      "4                1.0                0.0                0.0  \n",
      "5                1.0                0.0                0.0  \n",
      "6                1.0                0.0                0.0  \n",
      "7                1.0                0.0                0.0  \n",
      "8                1.0                0.0                0.0  \n",
      "9                1.0                0.0                0.0  \n",
      "Result comparison: True\n"
     ]
    }
   ],
   "source": [
    "remote_prediction_proba = model.predict(deployment_name=deploy_name, data=test_features)\n",
    "\n",
    "print(\"Remote prediction:\", remote_prediction_proba[:10])\n",
    "\n",
    "print(\"Result comparison:\", np.array_equal(prediction_proba, remote_prediction_proba.values))"
   ]
  },
  {
   "cell_type": "code",
   "execution_count": 32,
   "id": "8ddc04e8",
   "metadata": {},
   "outputs": [
    {
     "name": "stderr",
     "output_type": "stream",
     "text": [
      "/Users/xjiang/Documents/snowml/snowflake/ml/model/_udf_util.py:227: RuntimeWarning: Cannot find conda resolver, use Snowflake information schema for best-effort dependency pre-check.\n",
      "  warnings.warn(\n"
     ]
    },
    {
     "name": "stdout",
     "output_type": "stream",
     "text": [
      "Generated UDF file is persisted at: /var/folders/76/47j700wn3g905_97713xwpnm0000gn/T/tmpfpyrwg0l.py\n"
     ]
    },
    {
     "name": "stderr",
     "output_type": "stream",
     "text": [
      "WARNING:snowflake.snowpark.session:The version of package anyio in the local environment is 3.6.2, which does not fit the criteria for the requirement anyio. Your UDF might not work when the package version is different between the server and your local environment\n"
     ]
    },
    {
     "name": "stdout",
     "output_type": "stream",
     "text": [
      "rf_model_predict is deployed to warehouse.\n"
     ]
    }
   ],
   "source": [
    "registry = model_registry.ModelRegistry(\n",
    "    session=session, database_name=REGISTRY_DATABASE_NAME, schema_name=REGISTRY_SCHEMA_NAME\n",
    ")\n",
    "model = model_registry.ModelReference(registry=registry, model_name=model_name, model_version=model_version)\n",
    "model.deploy(\n",
    "    deployment_name=deploy_name,\n",
    "    target_method=\"predict_log_proba\",\n",
    "    options={\"_snowml_wheel_path\": SNOW_ML_WHEEL_STAGE_PATH, \"relax_version\": True},\n",
    ")"
   ]
  },
  {
   "cell_type": "code",
   "execution_count": 33,
   "id": "cf688655",
   "metadata": {},
   "outputs": [
    {
     "name": "stdout",
     "output_type": "stream",
     "text": [
      "Remote prediction:    SEPALLENGTH  SEPALWIDTH  PETALLENGTH  PETALWIDTH  TARGET  \\\n",
      "0          5.1         3.5          1.4         0.2     0.0   \n",
      "1          4.9         3.0          1.4         0.2     0.0   \n",
      "2          4.7         3.2          1.3         0.2     0.0   \n",
      "3          4.6         3.1          1.5         0.2     0.0   \n",
      "4          5.0         3.6          1.4         0.2     0.0   \n",
      "5          5.4         3.9          1.7         0.4     0.0   \n",
      "6          4.6         3.4          1.4         0.3     0.0   \n",
      "7          5.0         3.4          1.5         0.2     0.0   \n",
      "8          4.4         2.9          1.4         0.2     0.0   \n",
      "9          4.9         3.1          1.5         0.1     0.0   \n",
      "\n",
      "   predict_log_proba_0.0  predict_log_proba_1.0  predict_log_proba_2.0  \n",
      "0                    0.0                   -inf                   -inf  \n",
      "1                    0.0                   -inf                   -inf  \n",
      "2                    0.0                   -inf                   -inf  \n",
      "3                    0.0                   -inf                   -inf  \n",
      "4                    0.0                   -inf                   -inf  \n",
      "5                    0.0                   -inf                   -inf  \n",
      "6                    0.0                   -inf                   -inf  \n",
      "7                    0.0                   -inf                   -inf  \n",
      "8                    0.0                   -inf                   -inf  \n",
      "9                    0.0                   -inf                   -inf  \n",
      "Result comparison: True\n"
     ]
    }
   ],
   "source": [
    "remote_prediction_log_proba = model.predict(deployment_name=deploy_name, data=test_features)\n",
    "\n",
    "print(\"Remote prediction:\", remote_prediction_log_proba[:10])\n",
    "\n",
    "print(\"Result comparison:\", np.array_equal(prediction_log_proba, remote_prediction_log_proba.values))"
   ]
  },
  {
   "cell_type": "markdown",
   "id": "eb7b90fe",
   "metadata": {},
   "source": [
    "### Logistic Regression model\n",
    "\n",
    "The reason to test w/ LR model is because, it has all the functions such as `predict, predict_log_proba, predict_proba, decision_function`"
   ]
  },
  {
   "cell_type": "code",
   "execution_count": 34,
   "id": "6b1d0b93",
   "metadata": {},
   "outputs": [],
   "source": [
    "from snowflake.ml.modeling.linear_model import LogisticRegression"
   ]
  },
  {
   "cell_type": "code",
   "execution_count": 35,
   "id": "3280b02f",
   "metadata": {},
   "outputs": [
    {
     "data": {
      "text/plain": [
       "<snowflake.ml.modeling.linear_model.logistic_regression.LogisticRegression at 0x7f9c5927fd30>"
      ]
     },
     "execution_count": 35,
     "metadata": {},
     "output_type": "execute_result"
    }
   ],
   "source": [
    "clf_lr = LogisticRegression(input_cols=INPUT_COLUMNS,\n",
    "                          output_cols=OUTPUT_COLUMNS,\n",
    "                          label_cols=LABEL_COLUMNS,\n",
    "                           max_iter=1000)\n",
    "\n",
    "clf_lr.fit(df)"
   ]
  },
  {
   "cell_type": "code",
   "execution_count": 36,
   "id": "a74cef89",
   "metadata": {},
   "outputs": [],
   "source": [
    "prediction = clf_lr.predict(test_features)\n",
    "prediction_proba = clf_lr.predict_proba(test_features)\n",
    "prediction_log_proba = clf_lr.predict_log_proba(test_features)\n",
    "prediction_decision = clf_lr.decision_function(test_features)"
   ]
  },
  {
   "cell_type": "code",
   "execution_count": 37,
   "id": "de6fa3a0",
   "metadata": {},
   "outputs": [],
   "source": [
    "model_name = \"SIMPLE_LR_MODEL\"\n",
    "deploy_name = \"lr_model_predict\"\n",
    "classifier_type = \"LogisticRegression\""
   ]
  },
  {
   "cell_type": "code",
   "execution_count": 38,
   "id": "35ca8aa6",
   "metadata": {},
   "outputs": [
    {
     "name": "stdout",
     "output_type": "stream",
     "text": [
      "Registered new model: 1ae7d6b2fbf211ed8e10ce0e8c87ef9b\n"
     ]
    }
   ],
   "source": [
    "# A name and model tags can be added to the model at registration time.\n",
    "model_id = registry.log_model(\n",
    "    model_name=model_name,\n",
    "    model_version=model_version,\n",
    "    model=clf_lr,\n",
    "    tags={\"stage\": \"testing\", \"classifier_type\": classifier_type},\n",
    "    sample_input_data=test_features, # this line can be removed after modelSignature\n",
    ")\n",
    "\n",
    "# The object API can be used to reference a model after creation.\n",
    "model = model_registry.ModelReference(registry=registry, model_name=model_name, model_version=model_version)\n",
    "print(\"Registered new model:\", model_id)"
   ]
  },
  {
   "cell_type": "markdown",
   "id": "39bdfe5a",
   "metadata": {},
   "source": [
    "#### Comparison between load_model"
   ]
  },
  {
   "cell_type": "code",
   "execution_count": 39,
   "id": "b5fcc75b",
   "metadata": {},
   "outputs": [
    {
     "name": "stdout",
     "output_type": "stream",
     "text": [
      "Original prediction:    SEPALLENGTH  SEPALWIDTH  PETALLENGTH  PETALWIDTH  TARGET  PREDICTED_TARGET\n",
      "0          5.1         3.5          1.4         0.2     0.0               0.0\n",
      "1          4.9         3.0          1.4         0.2     0.0               0.0\n",
      "2          4.7         3.2          1.3         0.2     0.0               0.0\n",
      "3          4.6         3.1          1.5         0.2     0.0               0.0\n",
      "4          5.0         3.6          1.4         0.2     0.0               0.0\n",
      "5          5.4         3.9          1.7         0.4     0.0               0.0\n",
      "6          4.6         3.4          1.4         0.3     0.0               0.0\n",
      "7          5.0         3.4          1.5         0.2     0.0               0.0\n",
      "8          4.4         2.9          1.4         0.2     0.0               0.0\n",
      "9          4.9         3.1          1.5         0.1     0.0               0.0\n",
      "Restored prediction:    SEPALLENGTH  SEPALWIDTH  PETALLENGTH  PETALWIDTH  TARGET  PREDICTED_TARGET\n",
      "0          5.1         3.5          1.4         0.2     0.0               0.0\n",
      "1          4.9         3.0          1.4         0.2     0.0               0.0\n",
      "2          4.7         3.2          1.3         0.2     0.0               0.0\n",
      "3          4.6         3.1          1.5         0.2     0.0               0.0\n",
      "4          5.0         3.6          1.4         0.2     0.0               0.0\n",
      "5          5.4         3.9          1.7         0.4     0.0               0.0\n",
      "6          4.6         3.4          1.4         0.3     0.0               0.0\n",
      "7          5.0         3.4          1.5         0.2     0.0               0.0\n",
      "8          4.4         2.9          1.4         0.2     0.0               0.0\n",
      "9          4.9         3.1          1.5         0.1     0.0               0.0\n",
      "Result comparison: True\n"
     ]
    }
   ],
   "source": [
    "registry = model_registry.ModelRegistry(\n",
    "    session=session, database_name=REGISTRY_DATABASE_NAME, schema_name=REGISTRY_SCHEMA_NAME\n",
    ")\n",
    "model = model_registry.ModelReference(registry=registry, model_name=model_name, model_version=model_version)\n",
    "restored_clf = model.load_model()\n",
    "\n",
    "restored_prediction = restored_clf.predict(test_features)\n",
    "\n",
    "print(\"Original prediction:\", prediction[:10])\n",
    "print(\"Restored prediction:\", restored_prediction[:10])\n",
    "\n",
    "print(\"Result comparison:\", np.array_equal(prediction, restored_prediction[prediction.columns]))"
   ]
  },
  {
   "cell_type": "markdown",
   "id": "83ff0a1b",
   "metadata": {},
   "source": [
    "#### Comparison between deploy"
   ]
  },
  {
   "cell_type": "code",
   "execution_count": 40,
   "id": "25be7377",
   "metadata": {},
   "outputs": [
    {
     "name": "stderr",
     "output_type": "stream",
     "text": [
      "/Users/xjiang/Documents/snowml/snowflake/ml/model/_udf_util.py:227: RuntimeWarning: Cannot find conda resolver, use Snowflake information schema for best-effort dependency pre-check.\n",
      "  warnings.warn(\n"
     ]
    },
    {
     "name": "stdout",
     "output_type": "stream",
     "text": [
      "Generated UDF file is persisted at: /var/folders/76/47j700wn3g905_97713xwpnm0000gn/T/tmpp1upu42a.py\n"
     ]
    },
    {
     "name": "stderr",
     "output_type": "stream",
     "text": [
      "WARNING:snowflake.snowpark.session:The version of package anyio in the local environment is 3.6.2, which does not fit the criteria for the requirement anyio. Your UDF might not work when the package version is different between the server and your local environment\n"
     ]
    },
    {
     "name": "stdout",
     "output_type": "stream",
     "text": [
      "lr_model_predict is deployed to warehouse.\n"
     ]
    }
   ],
   "source": [
    "registry = model_registry.ModelRegistry(\n",
    "    session=session, database_name=REGISTRY_DATABASE_NAME, schema_name=REGISTRY_SCHEMA_NAME\n",
    ")\n",
    "model = model_registry.ModelReference(registry=registry, model_name=model_name, model_version=model_version)\n",
    "model.deploy(\n",
    "    deployment_name=deploy_name,\n",
    "    target_method=\"predict\",\n",
    "    options={\"_snowml_wheel_path\": SNOW_ML_WHEEL_STAGE_PATH, \"relax_version\": True},\n",
    ")"
   ]
  },
  {
   "cell_type": "code",
   "execution_count": 41,
   "id": "afd5f285",
   "metadata": {},
   "outputs": [
    {
     "name": "stdout",
     "output_type": "stream",
     "text": [
      "Remote prediction:    SEPALLENGTH  SEPALWIDTH  PETALLENGTH  PETALWIDTH  TARGET  PREDICTED_TARGET\n",
      "0          5.1         3.5          1.4         0.2     0.0               0.0\n",
      "1          4.9         3.0          1.4         0.2     0.0               0.0\n",
      "2          4.7         3.2          1.3         0.2     0.0               0.0\n",
      "3          4.6         3.1          1.5         0.2     0.0               0.0\n",
      "4          5.0         3.6          1.4         0.2     0.0               0.0\n",
      "5          5.4         3.9          1.7         0.4     0.0               0.0\n",
      "6          4.6         3.4          1.4         0.3     0.0               0.0\n",
      "7          5.0         3.4          1.5         0.2     0.0               0.0\n",
      "8          4.4         2.9          1.4         0.2     0.0               0.0\n",
      "9          4.9         3.1          1.5         0.1     0.0               0.0\n",
      "Result comparison: True\n"
     ]
    }
   ],
   "source": [
    "remote_prediction = model.predict(deployment_name=deploy_name, data=test_features)\n",
    "\n",
    "print(\"Remote prediction:\", remote_prediction[:10])\n",
    "\n",
    "print(\"Result comparison:\", np.array_equal(prediction, remote_prediction.values))"
   ]
  },
  {
   "cell_type": "code",
   "execution_count": 42,
   "id": "fa054c3c",
   "metadata": {},
   "outputs": [
    {
     "name": "stderr",
     "output_type": "stream",
     "text": [
      "/Users/xjiang/Documents/snowml/snowflake/ml/model/_udf_util.py:227: RuntimeWarning: Cannot find conda resolver, use Snowflake information schema for best-effort dependency pre-check.\n",
      "  warnings.warn(\n"
     ]
    },
    {
     "name": "stdout",
     "output_type": "stream",
     "text": [
      "Generated UDF file is persisted at: /var/folders/76/47j700wn3g905_97713xwpnm0000gn/T/tmp9p9ocx8r.py\n"
     ]
    },
    {
     "name": "stderr",
     "output_type": "stream",
     "text": [
      "WARNING:snowflake.snowpark.session:The version of package anyio in the local environment is 3.6.2, which does not fit the criteria for the requirement anyio. Your UDF might not work when the package version is different between the server and your local environment\n"
     ]
    },
    {
     "name": "stdout",
     "output_type": "stream",
     "text": [
      "lr_model_predict is deployed to warehouse.\n"
     ]
    }
   ],
   "source": [
    "registry = model_registry.ModelRegistry(\n",
    "    session=session, database_name=REGISTRY_DATABASE_NAME, schema_name=REGISTRY_SCHEMA_NAME\n",
    ")\n",
    "model = model_registry.ModelReference(registry=registry, model_name=model_name, model_version=model_version)\n",
    "model.deploy(\n",
    "    deployment_name=deploy_name,\n",
    "    target_method=\"predict_proba\",\n",
    "    options={\"_snowml_wheel_path\": SNOW_ML_WHEEL_STAGE_PATH, \"relax_version\": True},\n",
    ")"
   ]
  },
  {
   "cell_type": "code",
   "execution_count": 43,
   "id": "ec25c905",
   "metadata": {},
   "outputs": [
    {
     "name": "stdout",
     "output_type": "stream",
     "text": [
      "Remote prediction:    SEPALLENGTH  SEPALWIDTH  PETALLENGTH  PETALWIDTH  TARGET  \\\n",
      "0          5.1         3.5          1.4         0.2     0.0   \n",
      "1          4.9         3.0          1.4         0.2     0.0   \n",
      "2          4.7         3.2          1.3         0.2     0.0   \n",
      "3          4.6         3.1          1.5         0.2     0.0   \n",
      "4          5.0         3.6          1.4         0.2     0.0   \n",
      "5          5.4         3.9          1.7         0.4     0.0   \n",
      "6          4.6         3.4          1.4         0.3     0.0   \n",
      "7          5.0         3.4          1.5         0.2     0.0   \n",
      "8          4.4         2.9          1.4         0.2     0.0   \n",
      "9          4.9         3.1          1.5         0.1     0.0   \n",
      "\n",
      "   predict_proba_0.0  predict_proba_1.0  predict_proba_2.0  \n",
      "0           0.981584           0.018416       1.449704e-08  \n",
      "1           0.971334           0.028666       3.019028e-08  \n",
      "2           0.985275           0.014725       1.233695e-08  \n",
      "3           0.976064           0.023936       3.970137e-08  \n",
      "4           0.985235           0.014765       1.200231e-08  \n",
      "5           0.970227           0.029773       7.396811e-08  \n",
      "6           0.986775           0.013225       1.997822e-08  \n",
      "7           0.976148           0.023852       2.773000e-08  \n",
      "8           0.979626           0.020373       3.060330e-08  \n",
      "9           0.968761           0.031239       3.173039e-08  \n",
      "Result comparison: True\n"
     ]
    }
   ],
   "source": [
    "remote_prediction_proba = model.predict(deployment_name=deploy_name, data=test_features)\n",
    "\n",
    "print(\"Remote prediction:\", remote_prediction_proba[:10])\n",
    "\n",
    "print(\"Result comparison:\", np.allclose(prediction_proba, remote_prediction_proba.values))"
   ]
  },
  {
   "cell_type": "code",
   "execution_count": 44,
   "id": "5a425e55",
   "metadata": {},
   "outputs": [
    {
     "name": "stderr",
     "output_type": "stream",
     "text": [
      "/Users/xjiang/Documents/snowml/snowflake/ml/model/_udf_util.py:227: RuntimeWarning: Cannot find conda resolver, use Snowflake information schema for best-effort dependency pre-check.\n",
      "  warnings.warn(\n"
     ]
    },
    {
     "name": "stdout",
     "output_type": "stream",
     "text": [
      "Generated UDF file is persisted at: /var/folders/76/47j700wn3g905_97713xwpnm0000gn/T/tmp4kciu22a.py\n"
     ]
    },
    {
     "name": "stderr",
     "output_type": "stream",
     "text": [
      "WARNING:snowflake.snowpark.session:The version of package anyio in the local environment is 3.6.2, which does not fit the criteria for the requirement anyio. Your UDF might not work when the package version is different between the server and your local environment\n"
     ]
    },
    {
     "name": "stdout",
     "output_type": "stream",
     "text": [
      "lr_model_predict is deployed to warehouse.\n"
     ]
    }
   ],
   "source": [
    "registry = model_registry.ModelRegistry(\n",
    "    session=session, database_name=REGISTRY_DATABASE_NAME, schema_name=REGISTRY_SCHEMA_NAME\n",
    ")\n",
    "model = model_registry.ModelReference(registry=registry, model_name=model_name, model_version=model_version)\n",
    "model.deploy(\n",
    "    deployment_name=deploy_name,\n",
    "    target_method=\"predict_log_proba\",\n",
    "    options={\"_snowml_wheel_path\": SNOW_ML_WHEEL_STAGE_PATH, \"relax_version\": True},\n",
    ")"
   ]
  },
  {
   "cell_type": "code",
   "execution_count": 45,
   "id": "ff4a4c54",
   "metadata": {},
   "outputs": [
    {
     "name": "stdout",
     "output_type": "stream",
     "text": [
      "Remote prediction:    SEPALLENGTH  SEPALWIDTH  PETALLENGTH  PETALWIDTH  TARGET  \\\n",
      "0          5.1         3.5          1.4         0.2     0.0   \n",
      "1          4.9         3.0          1.4         0.2     0.0   \n",
      "2          4.7         3.2          1.3         0.2     0.0   \n",
      "3          4.6         3.1          1.5         0.2     0.0   \n",
      "4          5.0         3.6          1.4         0.2     0.0   \n",
      "5          5.4         3.9          1.7         0.4     0.0   \n",
      "6          4.6         3.4          1.4         0.3     0.0   \n",
      "7          5.0         3.4          1.5         0.2     0.0   \n",
      "8          4.4         2.9          1.4         0.2     0.0   \n",
      "9          4.9         3.1          1.5         0.1     0.0   \n",
      "\n",
      "   predict_log_proba_0.0  predict_log_proba_1.0  predict_log_proba_2.0  \n",
      "0              -0.018588              -3.994513             -18.049321  \n",
      "1              -0.029085              -3.552040             -17.315746  \n",
      "2              -0.014834              -4.218213             -18.210667  \n",
      "3              -0.024227              -3.732359             -17.041880  \n",
      "4              -0.014875              -4.215482             -18.238166  \n",
      "5              -0.030225              -3.514169             -16.419632  \n",
      "6              -0.013313              -4.325674             -17.728623  \n",
      "7              -0.024141              -3.735879             -17.400751  \n",
      "8              -0.020584              -3.893520             -17.302158  \n",
      "9              -0.031738              -3.466082             -17.265991  \n",
      "Result comparison: True\n"
     ]
    }
   ],
   "source": [
    "remote_prediction_log_proba = model.predict(deployment_name=deploy_name, data=test_features)\n",
    "\n",
    "print(\"Remote prediction:\", remote_prediction_log_proba[:10])\n",
    "\n",
    "print(\"Result comparison:\", np.allclose(prediction_log_proba, remote_prediction_log_proba.values))"
   ]
  },
  {
   "cell_type": "code",
   "execution_count": 46,
   "id": "2904de8c",
   "metadata": {},
   "outputs": [
    {
     "name": "stderr",
     "output_type": "stream",
     "text": [
      "/Users/xjiang/Documents/snowml/snowflake/ml/model/_udf_util.py:227: RuntimeWarning: Cannot find conda resolver, use Snowflake information schema for best-effort dependency pre-check.\n",
      "  warnings.warn(\n"
     ]
    },
    {
     "name": "stdout",
     "output_type": "stream",
     "text": [
      "Generated UDF file is persisted at: /var/folders/76/47j700wn3g905_97713xwpnm0000gn/T/tmpevdk6spg.py\n"
     ]
    },
    {
     "name": "stderr",
     "output_type": "stream",
     "text": [
      "WARNING:snowflake.snowpark.session:The version of package anyio in the local environment is 3.6.2, which does not fit the criteria for the requirement anyio. Your UDF might not work when the package version is different between the server and your local environment\n"
     ]
    },
    {
     "name": "stdout",
     "output_type": "stream",
     "text": [
      "lr_model_predict is deployed to warehouse.\n"
     ]
    }
   ],
   "source": [
    "registry = model_registry.ModelRegistry(\n",
    "    session=session, database_name=REGISTRY_DATABASE_NAME, schema_name=REGISTRY_SCHEMA_NAME\n",
    ")\n",
    "model = model_registry.ModelReference(registry=registry, model_name=model_name, model_version=model_version)\n",
    "model.deploy(\n",
    "    deployment_name=deploy_name,\n",
    "    target_method=\"decision_function\",\n",
    "    options={\"_snowml_wheel_path\": SNOW_ML_WHEEL_STAGE_PATH, \"relax_version\": True},\n",
    ")"
   ]
  },
  {
   "cell_type": "code",
   "execution_count": 47,
   "id": "713806ec",
   "metadata": {},
   "outputs": [
    {
     "name": "stdout",
     "output_type": "stream",
     "text": [
      "Remote prediction:    SEPALLENGTH  SEPALWIDTH  PETALLENGTH  PETALWIDTH  TARGET  \\\n",
      "0          5.1         3.5          1.4         0.2     0.0   \n",
      "1          4.9         3.0          1.4         0.2     0.0   \n",
      "2          4.7         3.2          1.3         0.2     0.0   \n",
      "3          4.6         3.1          1.5         0.2     0.0   \n",
      "4          5.0         3.6          1.4         0.2     0.0   \n",
      "5          5.4         3.9          1.7         0.4     0.0   \n",
      "6          4.6         3.4          1.4         0.3     0.0   \n",
      "7          5.0         3.4          1.5         0.2     0.0   \n",
      "8          4.4         2.9          1.4         0.2     0.0   \n",
      "9          4.9         3.1          1.5         0.1     0.0   \n",
      "\n",
      "   decision_function_0.0  decision_function_1.0  decision_function_2.0  \n",
      "0               7.335553               3.359628             -10.695181  \n",
      "1               6.936539               3.413583             -10.350122  \n",
      "2               7.466404               3.263025             -10.729429  \n",
      "3               6.908595               3.200463             -10.109058  \n",
      "4               7.474632               3.274026             -10.748659  \n",
      "5               6.624451               3.140506              -9.764956  \n",
      "6               7.342557               3.030196             -10.372753  \n",
      "7               7.029449               3.317712             -10.347161  \n",
      "8               7.051503               3.178567             -10.230071  \n",
      "9               6.889533               3.455188             -10.344721  \n",
      "Result comparison: True\n"
     ]
    }
   ],
   "source": [
    "remote_prediction_decision_function = model.predict(deployment_name=deploy_name, data=test_features)\n",
    "\n",
    "print(\"Remote prediction:\", remote_prediction_decision_function[:10])\n",
    "\n",
    "print(\"Result comparison:\", np.allclose(prediction_decision, remote_prediction_decision_function.values))"
   ]
  },
  {
   "cell_type": "markdown",
   "id": "d6930720",
   "metadata": {},
   "source": [
    "### Pipeline model\n",
    "\n",
    "It is important to see if the whole pipeline is stored"
   ]
  },
  {
   "cell_type": "code",
   "execution_count": 48,
   "id": "846db56a",
   "metadata": {},
   "outputs": [],
   "source": [
    "def add_simple_category(df):\n",
    "    bins = (-1, 4, 5, 6, 10)\n",
    "    group_names = ['Unknown', '1_quartile', '2_quartile', '3_quartile']\n",
    "    categories = pd.cut(df.SEPALLENGTH, bins, labels=group_names)\n",
    "    df['SIMPLE'] = categories\n",
    "    return df\n",
    "df_cat = add_simple_category(df)\n",
    "\n",
    "numeric_features=['SEPALLENGTH', 'SEPALWIDTH', 'PETALLENGTH', 'PETALWIDTH']\n",
    "categorical_features = ['SIMPLE']\n",
    "numeric_features_output = [x + '_O' for x in numeric_features]"
   ]
  },
  {
   "cell_type": "code",
   "execution_count": 49,
   "id": "2033ef31",
   "metadata": {},
   "outputs": [
    {
     "data": {
      "text/plain": [
       "<snowflake.snowpark.table.Table at 0x7f9c5929f850>"
      ]
     },
     "execution_count": 49,
     "metadata": {},
     "output_type": "execute_result"
    }
   ],
   "source": [
    "# Define the Table and Cleanup Cols, have a work_schema for testing\n",
    "\n",
    "\n",
    "############################################################################\n",
    "# NOTE: \n",
    "#    Set work_schema variable to some schema that exists in your account.\n",
    "#    set data_dir to point to the directory that contains the diamonds.csv file.\n",
    "############################################################################\n",
    "work_schema = 'TEST'\n",
    "demo_table = 'IRIS_UPPER'\n",
    "\n",
    "# write the DF to Snowflake and create a Snowflake DF\n",
    "session.write_pandas(df_cat, demo_table, auto_create_table=True, table_type=\"temporary\", schema=work_schema)"
   ]
  },
  {
   "cell_type": "code",
   "execution_count": 50,
   "id": "6b150ff8",
   "metadata": {},
   "outputs": [
    {
     "name": "stdout",
     "output_type": "stream",
     "text": [
      "   SEPALLENGTH  SEPALWIDTH  PETALLENGTH  PETALWIDTH  TARGET      SIMPLE\n",
      "0          5.1         3.5          1.4         0.2     0.0  2_quartile\n",
      "1          4.9         3.0          1.4         0.2     0.0  1_quartile\n",
      "2          4.7         3.2          1.3         0.2     0.0  1_quartile\n",
      "3          4.6         3.1          1.5         0.2     0.0  1_quartile\n",
      "4          5.0         3.6          1.4         0.2     0.0  1_quartile\n",
      "5          5.4         3.9          1.7         0.4     0.0  2_quartile\n",
      "6          4.6         3.4          1.4         0.3     0.0  1_quartile\n",
      "7          5.0         3.4          1.5         0.2     0.0  1_quartile\n",
      "8          4.4         2.9          1.4         0.2     0.0  1_quartile\n",
      "9          4.9         3.1          1.5         0.1     0.0  1_quartile\n"
     ]
    }
   ],
   "source": [
    "# Diamonds Snowflake Table\n",
    "input_tbl = f\"{session.get_current_database()}.{session.get_current_schema()}.{demo_table}\"\n",
    "iris_df = session.table(input_tbl)\n",
    "print(iris_df.limit(10).to_pandas())"
   ]
  },
  {
   "cell_type": "code",
   "execution_count": 51,
   "id": "86f8b074",
   "metadata": {},
   "outputs": [
    {
     "name": "stderr",
     "output_type": "stream",
     "text": [
      "/Users/xjiang/opt/anaconda3/envs/snowflake-ml-modeling/lib/python3.8/site-packages/snowflake/snowpark/session.py:1374: UserWarning: Pandas Dataframe has non-standard index of type <class 'pandas.core.indexes.numeric.Int64Index'> which will not be written. Consider changing the index to pd.RangeIndex(start=0,...,step=1) or call reset_index() to keep index as column(s)\n",
      "  success, nchunks, nrows, ci_output = write_pandas(\n"
     ]
    },
    {
     "data": {
      "text/plain": [
       "<snowflake.ml.framework.pipeline.Pipeline at 0x7f9c6c3e6ca0>"
      ]
     },
     "execution_count": 51,
     "metadata": {},
     "output_type": "execute_result"
    }
   ],
   "source": [
    "from snowflake.ml.modeling.linear_model import LogisticRegression\n",
    "from snowflake.ml.preprocessing import MinMaxScaler, StandardScaler, OneHotEncoder\n",
    "from snowflake.ml.framework.pipeline import Pipeline\n",
    "pipeline = Pipeline(\n",
    "    steps=[\n",
    "        ('OHEHOT', OneHotEncoder(input_cols=categorical_features, output_cols='cat_output', drop_input_cols=True), ),\n",
    "        ('SCALER', MinMaxScaler(clip=True, input_cols=numeric_features, output_cols=numeric_features_output, drop_input_cols=True), ),\n",
    "        ('CLASSIFIER', LogisticRegression(label_cols=LABEL_COLUMNS))\n",
    "    ])\n",
    "pipeline.fit(iris_df)"
   ]
  },
  {
   "cell_type": "code",
   "execution_count": 52,
   "id": "94231eb1",
   "metadata": {},
   "outputs": [
    {
     "name": "stderr",
     "output_type": "stream",
     "text": [
      "/Users/xjiang/opt/anaconda3/envs/snowflake-ml-modeling/lib/python3.8/site-packages/snowflake/snowpark/session.py:1374: UserWarning: Pandas Dataframe has non-standard index of type <class 'pandas.core.indexes.numeric.Int64Index'> which will not be written. Consider changing the index to pd.RangeIndex(start=0,...,step=1) or call reset_index() to keep index as column(s)\n",
      "  success, nchunks, nrows, ci_output = write_pandas(\n"
     ]
    }
   ],
   "source": [
    "iris_df_test = iris_df.limit(10)\n",
    "prediction = pipeline.predict(iris_df_test)"
   ]
  },
  {
   "cell_type": "code",
   "execution_count": 53,
   "id": "2720275f",
   "metadata": {},
   "outputs": [
    {
     "name": "stderr",
     "output_type": "stream",
     "text": [
      "/Users/xjiang/opt/anaconda3/envs/snowflake-ml-modeling/lib/python3.8/site-packages/sklearn/base.py:413: UserWarning: X has feature names, but OneHotEncoder was fitted without feature names\n",
      "  warnings.warn(\n",
      "/Users/xjiang/opt/anaconda3/envs/snowflake-ml-modeling/lib/python3.8/site-packages/sklearn/base.py:413: UserWarning: X has feature names, but MinMaxScaler was fitted without feature names\n",
      "  warnings.warn(\n"
     ]
    },
    {
     "data": {
      "text/plain": [
       "<snowflake.ml.framework.pipeline.Pipeline at 0x7f9c6c3e6ca0>"
      ]
     },
     "execution_count": 53,
     "metadata": {},
     "output_type": "execute_result"
    }
   ],
   "source": [
    "pipeline.fit(iris_df.to_pandas())"
   ]
  },
  {
   "cell_type": "code",
   "execution_count": 54,
   "id": "a3b5159a",
   "metadata": {},
   "outputs": [
    {
     "name": "stderr",
     "output_type": "stream",
     "text": [
      "/Users/xjiang/opt/anaconda3/envs/snowflake-ml-modeling/lib/python3.8/site-packages/sklearn/base.py:413: UserWarning: X has feature names, but OneHotEncoder was fitted without feature names\n",
      "  warnings.warn(\n",
      "/Users/xjiang/opt/anaconda3/envs/snowflake-ml-modeling/lib/python3.8/site-packages/sklearn/base.py:413: UserWarning: X has feature names, but MinMaxScaler was fitted without feature names\n",
      "  warnings.warn(\n",
      "/Users/xjiang/opt/anaconda3/envs/snowflake-ml-modeling/lib/python3.8/site-packages/sklearn/base.py:413: UserWarning: X has feature names, but OneHotEncoder was fitted without feature names\n",
      "  warnings.warn(\n",
      "/Users/xjiang/opt/anaconda3/envs/snowflake-ml-modeling/lib/python3.8/site-packages/sklearn/base.py:413: UserWarning: X has feature names, but MinMaxScaler was fitted without feature names\n",
      "  warnings.warn(\n",
      "/Users/xjiang/opt/anaconda3/envs/snowflake-ml-modeling/lib/python3.8/site-packages/sklearn/base.py:413: UserWarning: X has feature names, but OneHotEncoder was fitted without feature names\n",
      "  warnings.warn(\n",
      "/Users/xjiang/opt/anaconda3/envs/snowflake-ml-modeling/lib/python3.8/site-packages/sklearn/base.py:413: UserWarning: X has feature names, but MinMaxScaler was fitted without feature names\n",
      "  warnings.warn(\n"
     ]
    }
   ],
   "source": [
    "prediction = pipeline.predict(iris_df_test.to_pandas())\n",
    "prediction_log_proba = pipeline.predict_log_proba(iris_df_test.to_pandas())\n",
    "prediction_proba = pipeline.predict_proba(iris_df_test.to_pandas())"
   ]
  },
  {
   "cell_type": "code",
   "execution_count": 55,
   "id": "85917118",
   "metadata": {},
   "outputs": [],
   "source": [
    "model_name = \"SIMPLE_PP_MODEL\"\n",
    "deploy_name = \"pp_model_predict\"\n",
    "classifier_type = \"Pipeline\"\n",
    "model_version = f\"{model_name}_007\""
   ]
  },
  {
   "cell_type": "code",
   "execution_count": 56,
   "id": "735ff3ca",
   "metadata": {},
   "outputs": [
    {
     "name": "stderr",
     "output_type": "stream",
     "text": [
      "/Users/xjiang/opt/anaconda3/envs/snowflake-ml-modeling/lib/python3.8/site-packages/sklearn/base.py:413: UserWarning: X has feature names, but OneHotEncoder was fitted without feature names\n",
      "  warnings.warn(\n",
      "/Users/xjiang/opt/anaconda3/envs/snowflake-ml-modeling/lib/python3.8/site-packages/sklearn/base.py:413: UserWarning: X has feature names, but MinMaxScaler was fitted without feature names\n",
      "  warnings.warn(\n",
      "/Users/xjiang/opt/anaconda3/envs/snowflake-ml-modeling/lib/python3.8/site-packages/sklearn/base.py:413: UserWarning: X has feature names, but OneHotEncoder was fitted without feature names\n",
      "  warnings.warn(\n",
      "/Users/xjiang/opt/anaconda3/envs/snowflake-ml-modeling/lib/python3.8/site-packages/sklearn/base.py:413: UserWarning: X has feature names, but MinMaxScaler was fitted without feature names\n",
      "  warnings.warn(\n",
      "/Users/xjiang/opt/anaconda3/envs/snowflake-ml-modeling/lib/python3.8/site-packages/sklearn/base.py:413: UserWarning: X has feature names, but OneHotEncoder was fitted without feature names\n",
      "  warnings.warn(\n",
      "/Users/xjiang/opt/anaconda3/envs/snowflake-ml-modeling/lib/python3.8/site-packages/sklearn/base.py:413: UserWarning: X has feature names, but MinMaxScaler was fitted without feature names\n",
      "  warnings.warn(\n"
     ]
    },
    {
     "name": "stdout",
     "output_type": "stream",
     "text": [
      "Registered new model: 46bab6bafbf211ed8e10ce0e8c87ef9b\n"
     ]
    }
   ],
   "source": [
    "# A name and model tags can be added to the model at registration time.\n",
    "model_id = registry.log_model(\n",
    "    model_name=model_name,\n",
    "    model_version=model_version,\n",
    "    model=pipeline,\n",
    "    tags={\"stage\": \"testing\", \"classifier_type\": classifier_type},\n",
    "    sample_input_data=iris_df_test.to_pandas(), # this line can be removed after modelSignature\n",
    ")\n",
    "\n",
    "# The object API can be used to reference a model after creation.\n",
    "model = model_registry.ModelReference(registry=registry, model_name=model_name, model_version=model_version)\n",
    "print(\"Registered new model:\", model_id)"
   ]
  },
  {
   "cell_type": "markdown",
   "id": "9cd6b554",
   "metadata": {},
   "source": [
    "#### Comparison between load_model"
   ]
  },
  {
   "cell_type": "code",
   "execution_count": 57,
   "id": "ade4d099",
   "metadata": {},
   "outputs": [
    {
     "name": "stdout",
     "output_type": "stream",
     "text": [
      "Original prediction:    TARGET  \"cat_output_1_quartile\"  \"cat_output_2_quartile\"  \\\n",
      "0     0.0                      0.0                      1.0   \n",
      "1     0.0                      1.0                      0.0   \n",
      "2     0.0                      1.0                      0.0   \n",
      "3     0.0                      1.0                      0.0   \n",
      "4     0.0                      1.0                      0.0   \n",
      "5     0.0                      0.0                      1.0   \n",
      "6     0.0                      1.0                      0.0   \n",
      "7     0.0                      1.0                      0.0   \n",
      "8     0.0                      1.0                      0.0   \n",
      "9     0.0                      1.0                      0.0   \n",
      "\n",
      "   \"cat_output_3_quartile\"  SEPALLENGTH_O  SEPALWIDTH_O  PETALLENGTH_O  \\\n",
      "0                      0.0       0.222222      0.625000       0.067797   \n",
      "1                      0.0       0.166667      0.416667       0.067797   \n",
      "2                      0.0       0.111111      0.500000       0.050847   \n",
      "3                      0.0       0.083333      0.458333       0.084746   \n",
      "4                      0.0       0.194444      0.666667       0.067797   \n",
      "5                      0.0       0.305556      0.791667       0.118644   \n",
      "6                      0.0       0.083333      0.583333       0.067797   \n",
      "7                      0.0       0.194444      0.583333       0.084746   \n",
      "8                      0.0       0.027778      0.375000       0.067797   \n",
      "9                      0.0       0.166667      0.458333       0.084746   \n",
      "\n",
      "   PETALWIDTH_O  OUTPUT_TARGET  \n",
      "0      0.041667            0.0  \n",
      "1      0.041667            0.0  \n",
      "2      0.041667            0.0  \n",
      "3      0.041667            0.0  \n",
      "4      0.041667            0.0  \n",
      "5      0.125000            0.0  \n",
      "6      0.083333            0.0  \n",
      "7      0.041667            0.0  \n",
      "8      0.041667            0.0  \n",
      "9      0.000000            0.0  \n",
      "Restored prediction:    TARGET  \"cat_output_1_quartile\"  \"cat_output_2_quartile\"  \\\n",
      "0     0.0                      0.0                      1.0   \n",
      "1     0.0                      1.0                      0.0   \n",
      "2     0.0                      1.0                      0.0   \n",
      "3     0.0                      1.0                      0.0   \n",
      "4     0.0                      1.0                      0.0   \n",
      "5     0.0                      0.0                      1.0   \n",
      "6     0.0                      1.0                      0.0   \n",
      "7     0.0                      1.0                      0.0   \n",
      "8     0.0                      1.0                      0.0   \n",
      "9     0.0                      1.0                      0.0   \n",
      "\n",
      "   \"cat_output_3_quartile\"  SEPALLENGTH_O  SEPALWIDTH_O  PETALLENGTH_O  \\\n",
      "0                      0.0       0.222222      0.625000       0.067797   \n",
      "1                      0.0       0.166667      0.416667       0.067797   \n",
      "2                      0.0       0.111111      0.500000       0.050847   \n",
      "3                      0.0       0.083333      0.458333       0.084746   \n",
      "4                      0.0       0.194444      0.666667       0.067797   \n",
      "5                      0.0       0.305556      0.791667       0.118644   \n",
      "6                      0.0       0.083333      0.583333       0.067797   \n",
      "7                      0.0       0.194444      0.583333       0.084746   \n",
      "8                      0.0       0.027778      0.375000       0.067797   \n",
      "9                      0.0       0.166667      0.458333       0.084746   \n",
      "\n",
      "   PETALWIDTH_O  OUTPUT_TARGET  \n",
      "0      0.041667            0.0  \n",
      "1      0.041667            0.0  \n",
      "2      0.041667            0.0  \n",
      "3      0.041667            0.0  \n",
      "4      0.041667            0.0  \n",
      "5      0.125000            0.0  \n",
      "6      0.083333            0.0  \n",
      "7      0.041667            0.0  \n",
      "8      0.041667            0.0  \n",
      "9      0.000000            0.0  \n",
      "Result comparison: True\n"
     ]
    },
    {
     "name": "stderr",
     "output_type": "stream",
     "text": [
      "/Users/xjiang/opt/anaconda3/envs/snowflake-ml-modeling/lib/python3.8/site-packages/sklearn/base.py:413: UserWarning: X has feature names, but OneHotEncoder was fitted without feature names\n",
      "  warnings.warn(\n",
      "/Users/xjiang/opt/anaconda3/envs/snowflake-ml-modeling/lib/python3.8/site-packages/sklearn/base.py:413: UserWarning: X has feature names, but MinMaxScaler was fitted without feature names\n",
      "  warnings.warn(\n"
     ]
    }
   ],
   "source": [
    "registry = model_registry.ModelRegistry(\n",
    "    session=session, database_name=REGISTRY_DATABASE_NAME, schema_name=REGISTRY_SCHEMA_NAME\n",
    ")\n",
    "model = model_registry.ModelReference(registry=registry, model_name=model_name, model_version=model_version)\n",
    "restored_clf = model.load_model()\n",
    "\n",
    "restored_prediction = restored_clf.predict(iris_df_test.to_pandas())\n",
    "\n",
    "print(\"Original prediction:\", prediction[:10])\n",
    "print(\"Restored prediction:\", restored_prediction[:10])\n",
    "\n",
    "print(\"Result comparison:\", np.array_equal(prediction, restored_prediction[prediction.columns]))"
   ]
  },
  {
   "cell_type": "markdown",
   "id": "2ca2e15e",
   "metadata": {},
   "source": [
    "#### Comparison between deploy predict"
   ]
  },
  {
   "cell_type": "code",
   "execution_count": 58,
   "id": "7c1210c5",
   "metadata": {},
   "outputs": [
    {
     "name": "stderr",
     "output_type": "stream",
     "text": [
      "/Users/xjiang/Documents/snowml/snowflake/ml/model/_udf_util.py:227: RuntimeWarning: Cannot find conda resolver, use Snowflake information schema for best-effort dependency pre-check.\n",
      "  warnings.warn(\n"
     ]
    },
    {
     "name": "stdout",
     "output_type": "stream",
     "text": [
      "Generated UDF file is persisted at: /var/folders/76/47j700wn3g905_97713xwpnm0000gn/T/tmp0_o73cne.py\n"
     ]
    },
    {
     "name": "stderr",
     "output_type": "stream",
     "text": [
      "WARNING:snowflake.snowpark.session:The version of package anyio in the local environment is 3.6.2, which does not fit the criteria for the requirement anyio. Your UDF might not work when the package version is different between the server and your local environment\n"
     ]
    },
    {
     "name": "stdout",
     "output_type": "stream",
     "text": [
      "pp_model_predict is deployed to warehouse.\n"
     ]
    }
   ],
   "source": [
    "registry = model_registry.ModelRegistry(\n",
    "    session=session, database_name=REGISTRY_DATABASE_NAME, schema_name=REGISTRY_SCHEMA_NAME\n",
    ")\n",
    "model = model_registry.ModelReference(registry=registry, model_name=model_name, model_version=model_version)\n",
    "model.deploy(\n",
    "    deployment_name=deploy_name,\n",
    "    target_method=\"predict\",\n",
    "    options={\"_snowml_wheel_path\": SNOW_ML_WHEEL_STAGE_PATH, \"relax_version\": True},\n",
    ")"
   ]
  },
  {
   "cell_type": "code",
   "execution_count": 59,
   "id": "d2ff838f",
   "metadata": {
    "scrolled": true
   },
   "outputs": [
    {
     "name": "stdout",
     "output_type": "stream",
     "text": [
      "Remote prediction:    TARGET  \"cat_output_1_quartile\"  \"cat_output_2_quartile\"  \\\n",
      "0     0.0                      0.0                      1.0   \n",
      "1     0.0                      1.0                      0.0   \n",
      "2     0.0                      1.0                      0.0   \n",
      "3     0.0                      1.0                      0.0   \n",
      "4     0.0                      1.0                      0.0   \n",
      "5     0.0                      0.0                      1.0   \n",
      "6     0.0                      1.0                      0.0   \n",
      "7     0.0                      1.0                      0.0   \n",
      "8     0.0                      1.0                      0.0   \n",
      "9     0.0                      1.0                      0.0   \n",
      "\n",
      "   \"cat_output_3_quartile\"  SEPALLENGTH_O  SEPALWIDTH_O  PETALLENGTH_O  \\\n",
      "0                      0.0       0.222222      0.625000       0.067797   \n",
      "1                      0.0       0.166667      0.416667       0.067797   \n",
      "2                      0.0       0.111111      0.500000       0.050847   \n",
      "3                      0.0       0.083333      0.458333       0.084746   \n",
      "4                      0.0       0.194444      0.666667       0.067797   \n",
      "5                      0.0       0.305556      0.791667       0.118644   \n",
      "6                      0.0       0.083333      0.583333       0.067797   \n",
      "7                      0.0       0.194444      0.583333       0.084746   \n",
      "8                      0.0       0.027778      0.375000       0.067797   \n",
      "9                      0.0       0.166667      0.458333       0.084746   \n",
      "\n",
      "   PETALWIDTH_O  OUTPUT_TARGET  \n",
      "0      0.041667            0.0  \n",
      "1      0.041667            0.0  \n",
      "2      0.041667            0.0  \n",
      "3      0.041667            0.0  \n",
      "4      0.041667            0.0  \n",
      "5      0.125000            0.0  \n",
      "6      0.083333            0.0  \n",
      "7      0.041667            0.0  \n",
      "8      0.041667            0.0  \n",
      "9      0.000000            0.0  \n",
      "Result comparison: True\n"
     ]
    }
   ],
   "source": [
    "remote_prediction = model.predict(deployment_name=deploy_name, data=iris_df_test.to_pandas())\n",
    "\n",
    "print(\"Remote prediction:\", remote_prediction[:10])\n",
    "\n",
    "print(\"Result comparison:\", np.allclose(prediction, remote_prediction.values))"
   ]
  },
  {
   "cell_type": "code",
   "execution_count": null,
   "id": "0dd77df3",
   "metadata": {},
   "outputs": [],
   "source": []
  }
 ],
 "metadata": {
  "hide_input": false,
  "kernelspec": {
   "display_name": "Python 3 (ipykernel)",
   "language": "python",
   "name": "python3"
  },
  "language_info": {
   "codemirror_mode": {
    "name": "ipython",
    "version": 3
   },
   "file_extension": ".py",
   "mimetype": "text/x-python",
   "name": "python",
   "nbconvert_exporter": "python",
   "pygments_lexer": "ipython3",
   "version": "3.8.16"
  },
  "toc": {
   "base_numbering": 1,
   "nav_menu": {},
   "number_sections": true,
   "sideBar": true,
   "skip_h1_title": false,
   "title_cell": "Table of Contents",
   "title_sidebar": "Contents",
   "toc_cell": false,
   "toc_position": {},
   "toc_section_display": true,
   "toc_window_display": false
  },
  "vscode": {
   "interpreter": {
    "hash": "fb0a62cbfaa59af7646af5a6672c5c3e72ec75fbadf6ff0336b6769523f221a5"
   }
  }
 },
 "nbformat": 4,
 "nbformat_minor": 5
}
