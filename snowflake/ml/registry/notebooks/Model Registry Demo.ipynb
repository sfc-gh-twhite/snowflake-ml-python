{
 "cells": [
  {
   "cell_type": "markdown",
   "id": "5de3eb26",
   "metadata": {},
   "source": [
    "# Model Registry Demo"
   ]
  },
  {
   "cell_type": "markdown",
   "id": "99e58d8c",
   "metadata": {},
   "source": [
    "## Setup Notebook and Import Path"
   ]
  },
  {
   "cell_type": "code",
   "execution_count": 1,
   "id": "d609ff44",
   "metadata": {},
   "outputs": [
    {
     "data": {
      "text/html": [
       "<style>.container { width:100% !important; }</style>"
      ],
      "text/plain": [
       "<IPython.core.display.HTML object>"
      ]
     },
     "metadata": {},
     "output_type": "display_data"
    }
   ],
   "source": [
    "# Scale cell width with the browser window to accommodate .show() commands for wider tables.\n",
    "from IPython.display import display, HTML\n",
    "display(HTML(\"<style>.container { width:100% !important; }</style>\"))"
   ]
  },
  {
   "cell_type": "code",
   "execution_count": 2,
   "id": "95cde1f7",
   "metadata": {},
   "outputs": [
    {
     "name": "stdout",
     "output_type": "stream",
     "text": [
      "Adding /Users/zzhu/workspace/sfml/snowml to system path\n"
     ]
    }
   ],
   "source": [
    "import sys\n",
    "import os\n",
    "\n",
    "# Simplify reading from the local repository\n",
    "cwd=os.getcwd()\n",
    "REPO_PREFIX=\"snowflake/ml\"\n",
    "LOCAL_REPO_PATH=cwd[:cwd.find(REPO_PREFIX)].rstrip('/')\n",
    "\n",
    "if LOCAL_REPO_PATH not in sys.path:\n",
    "    print(f\"Adding {LOCAL_REPO_PATH} to system path\")\n",
    "    sys.path.append(LOCAL_REPO_PATH)"
   ]
  },
  {
   "cell_type": "markdown",
   "id": "c592d46c",
   "metadata": {},
   "source": [
    "## Train A Small Model"
   ]
  },
  {
   "cell_type": "markdown",
   "id": "bec73215",
   "metadata": {},
   "source": [
    "The cell below trains a small model for demonstration purposes. The nature of the model does not matter, it is purely used to demonstrate the usage of the Model Registry."
   ]
  },
  {
   "cell_type": "code",
   "execution_count": 3,
   "id": "8cf44218",
   "metadata": {},
   "outputs": [],
   "source": [
    "from sklearn import svm, linear_model\n",
    "from sklearn.datasets import load_digits\n",
    "\n",
    "digits = load_digits()\n",
    "target_digit = 6\n",
    "num_training_examples = 10\n",
    "svc_gamma = 0.001\n",
    "svc_C = 10.\n",
    "\n",
    "clf = svm.SVC(gamma=svc_gamma, C=svc_C, probability=True)\n",
    "\n",
    "\n",
    "def one_vs_all(dataset, digit):\n",
    "    return [x == digit for x in dataset]\n",
    "\n",
    "# Train a classifier using num_training_examples and use the last 100 examples for test.\n",
    "train_features = digits.data[:num_training_examples]\n",
    "train_labels = one_vs_all(digits.target[:num_training_examples], target_digit)\n",
    "clf.fit(train_features, train_labels)\n",
    "\n",
    "test_features = digits.data[-100:]\n",
    "test_labels = one_vs_all(digits.target[-100:], target_digit)\n",
    "prediction = clf.predict(test_features)\n"
   ]
  },
  {
   "cell_type": "markdown",
   "id": "20eef3b6",
   "metadata": {},
   "source": [
    "## Start Snowpark Session\n",
    "\n",
    "To avoid exposing credentials in Github, we use a small utility `SnowflakeLoginOptions`. It allows you to score your default credentials in `~/.snowsql/config` in the following format:\n",
    "```\n",
    "[connections]\n",
    "accountname = <string>   # Account identifier to connect to Snowflake.\n",
    "username = <string>      # User name in the account. Optional.\n",
    "password = <string>      # User password. Optional.\n",
    "dbname = <string>        # Default database. Optional.\n",
    "schemaname = <string>    # Default schema. Optional.\n",
    "warehousename = <string> # Default warehouse. Optional.\n",
    "#rolename = <string>      # Default role. Optional.\n",
    "#authenticator = <string> # Authenticator: 'snowflake', 'externalbrowser', etc\n",
    "```\n",
    "Please follow [this](https://docs.snowflake.com/en/user-guide/snowsql-start.html#configuring-default-connection-settings) for more details."
   ]
  },
  {
   "cell_type": "code",
   "execution_count": 4,
   "id": "75282f6d",
   "metadata": {},
   "outputs": [
    {
     "name": "stderr",
     "output_type": "stream",
     "text": [
      "/opt/miniconda3/envs/py38/lib/python3.8/site-packages/snowflake/connector/options.py:96: UserWarning: You have an incompatible version of 'pyarrow' installed (10.0.1), please install a version that adheres to: 'pyarrow<8.1.0,>=8.0.0; extra == \"pandas\"'\n",
      "  warn_incompatible_dep(\n"
     ]
    }
   ],
   "source": [
    "from snowflake.ml.utils.connection_params import SnowflakeLoginOptions\n",
    "from snowflake.snowpark import Session, Column, functions\n",
    "\n",
    "session = Session.builder.configs(SnowflakeLoginOptions()).create()"
   ]
  },
  {
   "cell_type": "markdown",
   "id": "dfa9ab88",
   "metadata": {},
   "source": [
    "## Open/Create Model Registry"
   ]
  },
  {
   "cell_type": "markdown",
   "id": "676b28b3",
   "metadata": {},
   "source": [
    "A model registry needs to be created before it can be used. The creation will create a new database in the current account so the active role needs to have permissions to create a database. After the first creation, the model registry can be opened without the need to create it again."
   ]
  },
  {
   "cell_type": "code",
   "execution_count": 5,
   "id": "5d37ad34",
   "metadata": {},
   "outputs": [],
   "source": [
    "import importlib\n",
    "from snowflake.ml.registry import model_registry\n",
    "# Force re-loading model_registry in case we updated the package during the runtime of this notebook.\n",
    "importlib.reload(model_registry)\n",
    "\n",
    "registry_name = \"model_registry_zzhu\""
   ]
  },
  {
   "cell_type": "code",
   "execution_count": 6,
   "id": "98dbe771",
   "metadata": {},
   "outputs": [
    {
     "name": "stderr",
     "output_type": "stream",
     "text": [
      "WARNING:absl:The database model_registry_zzhu already exists. Skipping creation.\n",
      "WARNING:absl:The schmea \"model_registry_zzhu\".\"PUBLIC\" already exists. Skipping creation.\n",
      "WARNING:absl:The registry table \"model_registry_zzhu\".\"PUBLIC\".\"MODELS\" already exists. Skipping creation.\n",
      "WARNING:absl:The metadata table \"model_registry_zzhu\".\"PUBLIC\".\"METADATA\" already exists. Skipping creation.\n"
     ]
    }
   ],
   "source": [
    "# Create a new model registry. This will be a no-op if the registry already exists.\n",
    "create_result = model_registry.create_model_registry(session=session, database_name=registry_name)"
   ]
  },
  {
   "cell_type": "code",
   "execution_count": 7,
   "id": "7fff21bc",
   "metadata": {},
   "outputs": [],
   "source": [
    "registry = model_registry.ModelRegistry(session=session, database_name=registry_name)"
   ]
  },
  {
   "cell_type": "markdown",
   "id": "5d6a85b3",
   "metadata": {},
   "source": [
    "There are two functionally equivalent APIs to interact with the model registry.\n",
    "\n",
    "* A _relational API_ where all operations are performed as methods of the `registry` object and \n",
    "* a _object API_ where operations on a specific model are performend as methods of a `ModelReference` object.\n",
    "\n",
    "The usage examples below will add some color to the two APIs and how they behave."
   ]
  },
  {
   "cell_type": "markdown",
   "id": "317e7843",
   "metadata": {},
   "source": [
    "## Register a new Model"
   ]
  },
  {
   "cell_type": "markdown",
   "id": "3bdda91a",
   "metadata": {},
   "source": [
    "Registering a new model is always performed through the relational API. \n",
    "\n",
    "The call to `log_model` executes a few steps:\n",
    "1. The given model object is serialized and uploaded to a stage.\n",
    "1. An entry in the Model Registry is created for the model, referencing the model stage location.\n",
    "1. Additional metadata is updated for the model as provided in the call.\n",
    "\n",
    "For the serialization to work, the model object needs to be serializable in python."
   ]
  },
  {
   "cell_type": "code",
   "execution_count": 8,
   "id": "9d8ad06e",
   "metadata": {},
   "outputs": [],
   "source": [
    "# A name and model tags can be added to the model at registration time.\n",
    "model_name = \"my_model\"\n",
    "model_version = \"107.1\"\n",
    "model_id = registry.log_model(model_name=model_name, model_version=model_version, model=clf, tags={\n",
    "    \"stage\": \"testing\", \"classifier_type\": \"svm.SVC\", \"svc_gamma\": svc_gamma, \"svc_C\": svc_C}, sample_input_data=train_features)"
   ]
  },
  {
   "cell_type": "code",
   "execution_count": 9,
   "id": "b463bad9",
   "metadata": {},
   "outputs": [
    {
     "name": "stdout",
     "output_type": "stream",
     "text": [
      "Registered new model: 9a72b5dcf68e11ed89d2acde48001122\n"
     ]
    }
   ],
   "source": [
    "# The object API can be used to reference a model after creation.\n",
    "model = model_registry.ModelReference(registry=registry, id=model_id, model_name=model_name, model_version=model_version)\n",
    "print(\"Registered new model:\", model_id)"
   ]
  },
  {
   "cell_type": "markdown",
   "id": "27d1158d",
   "metadata": {},
   "source": [
    "## Add Metrics"
   ]
  },
  {
   "cell_type": "markdown",
   "id": "d6035ca5",
   "metadata": {},
   "source": [
    "Metrics are a type of metadata annotation that can be associated with models stored in the Model Registry. Metrics often take the form of scalars but we also support more complex objects such as arrays or dictionaries to represent metrics. In the exmamples below, we add scalars, dictionaries, and a 2-dimensional numpy array as metrics."
   ]
  },
  {
   "cell_type": "code",
   "execution_count": 10,
   "id": "c2b0cdbd",
   "metadata": {},
   "outputs": [
    {
     "name": "stdout",
     "output_type": "stream",
     "text": [
      "Model test accuracy: 0.97\n",
      "Confusion matrix: [[90  0]\n",
      " [ 3  7]]\n"
     ]
    }
   ],
   "source": [
    "from sklearn import metrics\n",
    "\n",
    "test_accuracy = metrics.accuracy_score(test_labels, prediction)\n",
    "print(\"Model test accuracy:\", test_accuracy)\n",
    "\n",
    "# Simple scalar metrics.\n",
    "\n",
    "# Relational API\n",
    "registry.set_metric(model_name=model_name, model_version=model_version, metric_name=\"test_accuracy\", metric_value=test_accuracy)\n",
    "\n",
    "# Object API\n",
    "model.set_metric(metric_name=\"num_training_examples\", metric_value=num_training_examples)\n",
    "\n",
    "# Hierarchical metric.\n",
    "registry.set_metric(model_name=model_name, model_version=model_version, metric_name=\"dataset_test\", metric_value={\"accuracy\": test_accuracy})\n",
    "\n",
    "# Multivalent metric:\n",
    "test_confusion_matrix = metrics.confusion_matrix(test_labels, prediction)\n",
    "print(\"Confusion matrix:\", test_confusion_matrix)\n",
    "\n",
    "registry.set_metric(model_name=model_name, model_version=model_version, metric_name=\"confusion_matrix\", metric_value=test_confusion_matrix)"
   ]
  },
  {
   "cell_type": "code",
   "execution_count": 11,
   "id": "45b81834",
   "metadata": {},
   "outputs": [
    {
     "data": {
      "text/plain": [
       "{'confusion_matrix': [[90, 0], [3, 7]],\n",
       " 'dataset_test': {'accuracy': 0.97},\n",
       " 'num_training_examples': 10,\n",
       " 'test_accuracy': 0.97}"
      ]
     },
     "execution_count": 11,
     "metadata": {},
     "output_type": "execute_result"
    }
   ],
   "source": [
    "# Relational API\n",
    "registry.get_metrics(model_name=model_name, model_version=model_version)"
   ]
  },
  {
   "cell_type": "code",
   "execution_count": 12,
   "id": "9a2627c5",
   "metadata": {},
   "outputs": [
    {
     "data": {
      "text/plain": [
       "{'confusion_matrix': [[90, 0], [3, 7]],\n",
       " 'dataset_test': {'accuracy': 0.97},\n",
       " 'num_training_examples': 10,\n",
       " 'test_accuracy': 0.97}"
      ]
     },
     "execution_count": 12,
     "metadata": {},
     "output_type": "execute_result"
    }
   ],
   "source": [
    "# Object API\n",
    "model.get_metrics()"
   ]
  },
  {
   "cell_type": "markdown",
   "id": "98164cb7",
   "metadata": {},
   "source": [
    "## List Model in Registry"
   ]
  },
  {
   "cell_type": "markdown",
   "id": "67eac368",
   "metadata": {},
   "source": [
    "Listing models in the registry returns a SnowPark DataFrame. That allows the caller to select and filter the models as needed. In the example below, we list the name, tags, and metrics for the model we just added."
   ]
  },
  {
   "cell_type": "code",
   "execution_count": 13,
   "id": "dc82b541",
   "metadata": {},
   "outputs": [
    {
     "name": "stdout",
     "output_type": "stream",
     "text": [
      "-------------------------------------------------------------------------------------------\n",
      "|\"NAME\"    |\"VERSION\"  |\"TAGS\"                           |\"METRICS\"                       |\n",
      "-------------------------------------------------------------------------------------------\n",
      "|my_model  |107.1      |{                                |{                               |\n",
      "|          |           |  \"classifier_type\": \"svm.SVC\",  |  \"confusion_matrix\": [         |\n",
      "|          |           |  \"stage\": \"testing\",            |    [                           |\n",
      "|          |           |  \"svc_C\": 10,                   |      90,                       |\n",
      "|          |           |  \"svc_gamma\": 0.001             |      0                         |\n",
      "|          |           |}                                |    ],                          |\n",
      "|          |           |                                 |    [                           |\n",
      "|          |           |                                 |      3,                        |\n",
      "|          |           |                                 |      7                         |\n",
      "|          |           |                                 |    ]                           |\n",
      "|          |           |                                 |  ],                            |\n",
      "|          |           |                                 |  \"dataset_test\": {             |\n",
      "|          |           |                                 |    \"accuracy\": 0.97            |\n",
      "|          |           |                                 |  },                            |\n",
      "|          |           |                                 |  \"num_training_examples\": 10,  |\n",
      "|          |           |                                 |  \"test_accuracy\": 0.97         |\n",
      "|          |           |                                 |}                               |\n",
      "-------------------------------------------------------------------------------------------\n",
      "\n"
     ]
    }
   ],
   "source": [
    "model_list = registry.list_models()\n",
    "\n",
    "model_list.filter(model_list[\"ID\"] == model_id).select(\"NAME\",\"VERSION\",\"TAGS\",\"METRICS\").show()"
   ]
  },
  {
   "attachments": {},
   "cell_type": "markdown",
   "id": "5706004c",
   "metadata": {},
   "source": [
    "## Metadata: Tags and Descriptions"
   ]
  },
  {
   "attachments": {},
   "cell_type": "markdown",
   "id": "05cee94f",
   "metadata": {},
   "source": [
    "Similar to how we changed metrics in the example above, we can also edit tags and descriptions of models both with the relational API and with the object API."
   ]
  },
  {
   "cell_type": "markdown",
   "id": "88707ecd",
   "metadata": {},
   "source": [
    "### Relational API"
   ]
  },
  {
   "cell_type": "code",
   "execution_count": 14,
   "id": "f80f78da",
   "metadata": {},
   "outputs": [
    {
     "name": "stdout",
     "output_type": "stream",
     "text": [
      "Old tags: {'classifier_type': 'svm.SVC', 'stage': 'testing', 'svc_C': 10, 'svc_gamma': 0.001}\n",
      "Added tag: {'classifier_type': 'svm.SVC', 'minor_version': '23', 'stage': 'testing', 'svc_C': 10, 'svc_gamma': 0.001}\n",
      "Removed tag {'classifier_type': 'svm.SVC', 'stage': 'testing', 'svc_C': 10, 'svc_gamma': 0.001}\n",
      "Updated tag: {'classifier_type': 'svm.SVC', 'stage': 'production', 'svc_C': 10, 'svc_gamma': 0.001}\n",
      "Added description: \"My model is better than talkgpt-5!\"\n"
     ]
    }
   ],
   "source": [
    "print(\"Old tags:\", registry.get_tags(model_name=model_name, model_version=model_version))\n",
    "\n",
    "registry.set_tag(model_name=model_name, model_version=model_version, tag_name=\"minor_version\", tag_value=\"23\")\n",
    "print(\"Added tag:\", registry.get_tags(model_name=model_name, model_version=model_version,))\n",
    "\n",
    "registry.remove_tag(model_name=model_name, model_version=model_version, tag_name=\"minor_version\")\n",
    "print(\"Removed tag\", registry.get_tags(model_name=model_name, model_version=model_version,))\n",
    "\n",
    "registry.set_tag(model_name, model_version,\"stage\",\"production\")\n",
    "print(\"Updated tag:\", registry.get_tags(model_name=model_name, model_version=model_version,))\n",
    "\n",
    "registry.set_model_description(description=\"My model is better than talkgpt-5!\", model_name=model_name, model_version=model_version,)\n",
    "print(\"Added description:\", registry.get_model_description(model_name=model_name, model_version=model_version,))"
   ]
  },
  {
   "cell_type": "markdown",
   "id": "47e80e1e",
   "metadata": {},
   "source": [
    "### Object API"
   ]
  },
  {
   "cell_type": "code",
   "execution_count": 15,
   "id": "7905d9c9",
   "metadata": {},
   "outputs": [
    {
     "name": "stdout",
     "output_type": "stream",
     "text": [
      "Old tags: {'classifier_type': 'svm.SVC', 'stage': 'production', 'svc_C': 10, 'svc_gamma': 0.001}\n",
      "Added tag: {'classifier_type': 'svm.SVC', 'minor_version': '23', 'stage': 'production', 'svc_C': 10, 'svc_gamma': 0.001}\n",
      "Removed tag {'classifier_type': 'svm.SVC', 'stage': 'production', 'svc_C': 10, 'svc_gamma': 0.001}\n",
      "Updated tag: {'classifier_type': 'svm.SVC', 'stage': 'production', 'svc_C': 10, 'svc_gamma': 0.001}\n",
      "New description: \"My model is better than speakgpt-6!\"\n"
     ]
    }
   ],
   "source": [
    "print(\"Old tags:\", model.get_tags())\n",
    "\n",
    "model.set_tag(\"minor_version\", \"23\")\n",
    "print(\"Added tag:\", model.get_tags())\n",
    "\n",
    "model.remove_tag(\"minor_version\")\n",
    "print(\"Removed tag\", model.get_tags())\n",
    "\n",
    "model.set_tag(\"stage\", \"production\")\n",
    "print(\"Updated tag:\", model.get_tags())\n",
    "\n",
    "model.set_model_description(description=\"My model is better than speakgpt-6!\")\n",
    "print(\"New description:\", model.get_model_description())"
   ]
  },
  {
   "cell_type": "markdown",
   "id": "72ade02b",
   "metadata": {},
   "source": [
    "## List recent Models in Registry"
   ]
  },
  {
   "cell_type": "markdown",
   "id": "645df90e",
   "metadata": {},
   "source": [
    "Listing the models in the Model Registry returns a dataframe that allows us to conveniently manipulate the model list. In the example below, we show all models in the Model Registry sorted by recency."
   ]
  },
  {
   "cell_type": "code",
   "execution_count": 16,
   "id": "eef6965d",
   "metadata": {
    "scrolled": true
   },
   "outputs": [
    {
     "name": "stdout",
     "output_type": "stream",
     "text": [
      "--------------------------------------------------------------------------------------------------------------------------------\n",
      "|\"ID\"                              |\"NAME\"    |\"VERSION\"  |\"CREATION_TIME\"                   |\"TAGS\"                           |\n",
      "--------------------------------------------------------------------------------------------------------------------------------\n",
      "|9a72b5dcf68e11ed89d2acde48001122  |my_model  |107.1      |2023-05-19 14:46:27.717000-07:00  |{                                |\n",
      "|                                  |          |           |                                  |  \"classifier_type\": \"svm.SVC\",  |\n",
      "|                                  |          |           |                                  |  \"stage\": \"production\",         |\n",
      "|                                  |          |           |                                  |  \"svc_C\": 10,                   |\n",
      "|                                  |          |           |                                  |  \"svc_gamma\": 0.001             |\n",
      "|                                  |          |           |                                  |}                                |\n",
      "|6e09ee48f5da11edaa85acde48001122  |my_model  |107        |2023-05-18 17:17:22.291000-07:00  |{                                |\n",
      "|                                  |          |           |                                  |  \"classifier_type\": \"svm.SVC\",  |\n",
      "|                                  |          |           |                                  |  \"stage\": \"testing\",            |\n",
      "|                                  |          |           |                                  |  \"svc_C\": 10,                   |\n",
      "|                                  |          |           |                                  |  \"svc_gamma\": 0.001             |\n",
      "|                                  |          |           |                                  |}                                |\n",
      "|45b51536f5d911eda1b8acde48001122  |my_model  |106        |2023-05-18 17:08:25.500000-07:00  |{                                |\n",
      "|                                  |          |           |                                  |  \"classifier_type\": \"svm.SVC\",  |\n",
      "|                                  |          |           |                                  |  \"stage\": \"testing\",            |\n",
      "|                                  |          |           |                                  |  \"svc_C\": 10,                   |\n",
      "|                                  |          |           |                                  |  \"svc_gamma\": 0.001             |\n",
      "|                                  |          |           |                                  |}                                |\n",
      "--------------------------------------------------------------------------------------------------------------------------------\n",
      "\n"
     ]
    }
   ],
   "source": [
    "model_list.select(\"ID\",\"NAME\",\"VERSION\",\"CREATION_TIME\",\"TAGS\").order_by(\"CREATION_TIME\", ascending=False).show(3)"
   ]
  },
  {
   "cell_type": "markdown",
   "id": "b2a42a8f",
   "metadata": {},
   "source": [
    "## List all versions of a Model ordered by test set accuracy"
   ]
  },
  {
   "cell_type": "markdown",
   "id": "833bfd54",
   "metadata": {},
   "source": [
    "With a similar logic, we can also list all versions of a model with a given name sorted by a metric, in this case model accuracy."
   ]
  },
  {
   "cell_type": "code",
   "execution_count": 25,
   "id": "6df2eafc",
   "metadata": {
    "scrolled": false
   },
   "outputs": [
    {
     "name": "stdout",
     "output_type": "stream",
     "text": [
      "------------------------------------------------------------------------------------------------------------------------------\n",
      "|\"ID\"                              |\"NAME\"    |\"VERSION\"  |\"TAGS\"                           |\"METRICS\"                       |\n",
      "------------------------------------------------------------------------------------------------------------------------------\n",
      "|8aa8fac2f03911edb94aacde48001122  |my_model  |103        |{                                |{                               |\n",
      "|                                  |          |           |  \"classifier_type\": \"svm.SVC\",  |  \"confusion_matrix\": [         |\n",
      "|                                  |          |           |  \"stage\": \"production\",         |    [                           |\n",
      "|                                  |          |           |  \"svc_C\": 10,                   |      90,                       |\n",
      "|                                  |          |           |  \"svc_gamma\": 0.001             |      0                         |\n",
      "|                                  |          |           |}                                |    ],                          |\n",
      "|                                  |          |           |                                 |    [                           |\n",
      "|                                  |          |           |                                 |      3,                        |\n",
      "|                                  |          |           |                                 |      7                         |\n",
      "|                                  |          |           |                                 |    ]                           |\n",
      "|                                  |          |           |                                 |  ],                            |\n",
      "|                                  |          |           |                                 |  \"dataset_test\": {             |\n",
      "|                                  |          |           |                                 |    \"accuracy\": 0.97            |\n",
      "|                                  |          |           |                                 |  },                            |\n",
      "|                                  |          |           |                                 |  \"num_training_examples\": 10,  |\n",
      "|                                  |          |           |                                 |  \"test_accuracy\": 0.97         |\n",
      "|                                  |          |           |                                 |}                               |\n",
      "|3250c38ef42411eda1b8acde48001122  |my_model  |105        |{                                |{                               |\n",
      "|                                  |          |           |  \"classifier_type\": \"svm.SVC\",  |  \"confusion_matrix\": [         |\n",
      "|                                  |          |           |  \"stage\": \"production\",         |    [                           |\n",
      "|                                  |          |           |  \"svc_C\": 10,                   |      90,                       |\n",
      "|                                  |          |           |  \"svc_gamma\": 0.001             |      0                         |\n",
      "|                                  |          |           |}                                |    ],                          |\n",
      "|                                  |          |           |                                 |    [                           |\n",
      "|                                  |          |           |                                 |      3,                        |\n",
      "|                                  |          |           |                                 |      7                         |\n",
      "|                                  |          |           |                                 |    ]                           |\n",
      "|                                  |          |           |                                 |  ],                            |\n",
      "|                                  |          |           |                                 |  \"dataset_test\": {             |\n",
      "|                                  |          |           |                                 |    \"accuracy\": 0.97            |\n",
      "|                                  |          |           |                                 |  },                            |\n",
      "|                                  |          |           |                                 |  \"num_training_examples\": 10,  |\n",
      "|                                  |          |           |                                 |  \"test_accuracy\": 0.97         |\n",
      "|                                  |          |           |                                 |}                               |\n",
      "|ae1a8938efc811edb049acde48001122  |my_model  |1          |{                                |{                               |\n",
      "|                                  |          |           |  \"classifier_type\": \"svm.SVC\",  |  \"confusion_matrix\": [         |\n",
      "|                                  |          |           |  \"stage\": \"production\",         |    [                           |\n",
      "|                                  |          |           |  \"svc_C\": 10,                   |      90,                       |\n",
      "|                                  |          |           |  \"svc_gamma\": 0.001             |      0                         |\n",
      "|                                  |          |           |}                                |    ],                          |\n",
      "|                                  |          |           |                                 |    [                           |\n",
      "|                                  |          |           |                                 |      3,                        |\n",
      "|                                  |          |           |                                 |      7                         |\n",
      "|                                  |          |           |                                 |    ]                           |\n",
      "|                                  |          |           |                                 |  ],                            |\n",
      "|                                  |          |           |                                 |  \"dataset_test\": {             |\n",
      "|                                  |          |           |                                 |    \"accuracy\": 0.97            |\n",
      "|                                  |          |           |                                 |  },                            |\n",
      "|                                  |          |           |                                 |  \"num_training_examples\": 10,  |\n",
      "|                                  |          |           |                                 |  \"test_accuracy\": 0.97         |\n",
      "|                                  |          |           |                                 |}                               |\n",
      "------------------------------------------------------------------------------------------------------------------------------\n",
      "\n"
     ]
    }
   ],
   "source": [
    "model_list.select(\"ID\",\"NAME\",\"VERSION\",\"TAGS\",\"METRICS\").filter(\n",
    "    Column(\"NAME\") == model_name).order_by(Column(\"METRICS\")[\"test_accuracy\"], ascending=False \n",
    ").show(3)                                                                                                             "
   ]
  },
  {
   "cell_type": "markdown",
   "id": "f444385f",
   "metadata": {},
   "source": [
    "## Examine Model History"
   ]
  },
  {
   "cell_type": "markdown",
   "id": "2045ef23",
   "metadata": {},
   "source": [
    "In additon to the current state of the model metadata, we also give access to the history of all changes to the model metadata. This includes the registration event itself but also changes to any metadata of the model, when they happend and who initiated them."
   ]
  },
  {
   "cell_type": "markdown",
   "id": "fb221c55",
   "metadata": {},
   "source": [
    "### Relational API"
   ]
  },
  {
   "cell_type": "code",
   "execution_count": 17,
   "id": "aed50394",
   "metadata": {
    "scrolled": false
   },
   "outputs": [
    {
     "name": "stdout",
     "output_type": "stream",
     "text": [
      "-----------------------------------------------------------------------------------------------------------------------------------\n",
      "|\"EVENT_TIMESTAMP\"                 |\"ROLE\"                |\"ATTRIBUTE_NAME\"  |\"VALUE[ATTRIBUTE_NAME]\"                             |\n",
      "-----------------------------------------------------------------------------------------------------------------------------------\n",
      "|2023-05-19 14:46:29.334000-07:00  |\"ENG_ML_MODELING_RL\"  |REGISTRATION      |{                                                   |\n",
      "|                                  |                      |                  |  \"CREATION_ENVIRONMENT_SPEC\": {                    |\n",
      "|                                  |                      |                  |    \"python\": \"3.8.16\"                              |\n",
      "|                                  |                      |                  |  },                                                |\n",
      "|                                  |                      |                  |  \"CREATION_ROLE\": \"\\\"ENG_ML_MODELING_RL\\\"\",        |\n",
      "|                                  |                      |                  |  \"CREATION_TIME\": \"2023-05-19 14:46:29.334 -07...  |\n",
      "|                                  |                      |                  |  \"ID\": \"9a72b5dcf68e11ed89d2acde48001122\",         |\n",
      "|                                  |                      |                  |  \"NAME\": \"my_model\",                               |\n",
      "|                                  |                      |                  |  \"TYPE\": \"snowflake_native\",                       |\n",
      "|                                  |                      |                  |  \"URI\": \"sfc:model_registry_zzhu.PUBLIC.SNOWML...  |\n",
      "|                                  |                      |                  |  \"VERSION\": \"107.1\"                                |\n",
      "|                                  |                      |                  |}                                                   |\n",
      "|2023-05-19 14:46:30.462000-07:00  |\"ENG_ML_MODELING_RL\"  |TAGS              |{                                                   |\n",
      "|                                  |                      |                  |  \"classifier_type\": \"svm.SVC\",                     |\n",
      "|                                  |                      |                  |  \"stage\": \"testing\",                               |\n",
      "|                                  |                      |                  |  \"svc_C\": 10,                                      |\n",
      "|                                  |                      |                  |  \"svc_gamma\": 0.001                                |\n",
      "|                                  |                      |                  |}                                                   |\n",
      "|2023-05-19 14:46:45.751000-07:00  |\"ENG_ML_MODELING_RL\"  |METRICS           |{                                                   |\n",
      "|                                  |                      |                  |  \"test_accuracy\": 0.97                             |\n",
      "|                                  |                      |                  |}                                                   |\n",
      "|2023-05-19 14:46:47.522000-07:00  |\"ENG_ML_MODELING_RL\"  |METRICS           |{                                                   |\n",
      "|                                  |                      |                  |  \"num_training_examples\": 10,                      |\n",
      "|                                  |                      |                  |  \"test_accuracy\": 0.97                             |\n",
      "|                                  |                      |                  |}                                                   |\n",
      "|2023-05-19 14:46:49.228000-07:00  |\"ENG_ML_MODELING_RL\"  |METRICS           |{                                                   |\n",
      "|                                  |                      |                  |  \"dataset_test\": {                                 |\n",
      "|                                  |                      |                  |    \"accuracy\": 0.97                                |\n",
      "|                                  |                      |                  |  },                                                |\n",
      "|                                  |                      |                  |  \"num_training_examples\": 10,                      |\n",
      "|                                  |                      |                  |  \"test_accuracy\": 0.97                             |\n",
      "|                                  |                      |                  |}                                                   |\n",
      "|2023-05-19 14:46:50.837000-07:00  |\"ENG_ML_MODELING_RL\"  |METRICS           |{                                                   |\n",
      "|                                  |                      |                  |  \"confusion_matrix\": [                             |\n",
      "|                                  |                      |                  |    [                                               |\n",
      "|                                  |                      |                  |      90,                                           |\n",
      "|                                  |                      |                  |      0                                             |\n",
      "|                                  |                      |                  |    ],                                              |\n",
      "|                                  |                      |                  |    [                                               |\n",
      "|                                  |                      |                  |      3,                                            |\n",
      "|                                  |                      |                  |      7                                             |\n",
      "|                                  |                      |                  |    ]                                               |\n",
      "|                                  |                      |                  |  ],                                                |\n",
      "|                                  |                      |                  |  \"dataset_test\": {                                 |\n",
      "|                                  |                      |                  |    \"accuracy\": 0.97                                |\n",
      "|                                  |                      |                  |  },                                                |\n",
      "|                                  |                      |                  |  \"num_training_examples\": 10,                      |\n",
      "|                                  |                      |                  |  \"test_accuracy\": 0.97                             |\n",
      "|                                  |                      |                  |}                                                   |\n",
      "|2023-05-19 14:47:04.772000-07:00  |\"ENG_ML_MODELING_RL\"  |TAGS              |{                                                   |\n",
      "|                                  |                      |                  |  \"classifier_type\": \"svm.SVC\",                     |\n",
      "|                                  |                      |                  |  \"minor_version\": \"23\",                            |\n",
      "|                                  |                      |                  |  \"stage\": \"testing\",                               |\n",
      "|                                  |                      |                  |  \"svc_C\": 10,                                      |\n",
      "|                                  |                      |                  |  \"svc_gamma\": 0.001                                |\n",
      "|                                  |                      |                  |}                                                   |\n",
      "|2023-05-19 14:47:06.814000-07:00  |\"ENG_ML_MODELING_RL\"  |TAGS              |{                                                   |\n",
      "|                                  |                      |                  |  \"classifier_type\": \"svm.SVC\",                     |\n",
      "|                                  |                      |                  |  \"stage\": \"testing\",                               |\n",
      "|                                  |                      |                  |  \"svc_C\": 10,                                      |\n",
      "|                                  |                      |                  |  \"svc_gamma\": 0.001                                |\n",
      "|                                  |                      |                  |}                                                   |\n",
      "|2023-05-19 14:47:08.923000-07:00  |\"ENG_ML_MODELING_RL\"  |TAGS              |{                                                   |\n",
      "|                                  |                      |                  |  \"classifier_type\": \"svm.SVC\",                     |\n",
      "|                                  |                      |                  |  \"stage\": \"production\",                            |\n",
      "|                                  |                      |                  |  \"svc_C\": 10,                                      |\n",
      "|                                  |                      |                  |  \"svc_gamma\": 0.001                                |\n",
      "|                                  |                      |                  |}                                                   |\n",
      "|2023-05-19 14:47:10.910000-07:00  |\"ENG_ML_MODELING_RL\"  |DESCRIPTION       |\"My model is better than talkgpt-5!\"                |\n",
      "-----------------------------------------------------------------------------------------------------------------------------------\n",
      "\n"
     ]
    }
   ],
   "source": [
    "registry.get_model_history(model_name=model_name, model_version=model_version).select(\"EVENT_TIMESTAMP\", \"ROLE\", \"ATTRIBUTE_NAME\",\"VALUE[ATTRIBUTE_NAME]\").show()"
   ]
  },
  {
   "cell_type": "markdown",
   "id": "9810d4f4",
   "metadata": {},
   "source": [
    "### Object API"
   ]
  },
  {
   "cell_type": "code",
   "execution_count": 18,
   "id": "21f7e0b5",
   "metadata": {
    "scrolled": false
   },
   "outputs": [
    {
     "name": "stdout",
     "output_type": "stream",
     "text": [
      "-----------------------------------------------------------------------------------------------------------------------------------\n",
      "|\"EVENT_TIMESTAMP\"                 |\"ROLE\"                |\"ATTRIBUTE_NAME\"  |\"VALUE[ATTRIBUTE_NAME]\"                             |\n",
      "-----------------------------------------------------------------------------------------------------------------------------------\n",
      "|2023-05-19 14:46:29.334000-07:00  |\"ENG_ML_MODELING_RL\"  |REGISTRATION      |{                                                   |\n",
      "|                                  |                      |                  |  \"CREATION_ENVIRONMENT_SPEC\": {                    |\n",
      "|                                  |                      |                  |    \"python\": \"3.8.16\"                              |\n",
      "|                                  |                      |                  |  },                                                |\n",
      "|                                  |                      |                  |  \"CREATION_ROLE\": \"\\\"ENG_ML_MODELING_RL\\\"\",        |\n",
      "|                                  |                      |                  |  \"CREATION_TIME\": \"2023-05-19 14:46:29.334 -07...  |\n",
      "|                                  |                      |                  |  \"ID\": \"9a72b5dcf68e11ed89d2acde48001122\",         |\n",
      "|                                  |                      |                  |  \"NAME\": \"my_model\",                               |\n",
      "|                                  |                      |                  |  \"TYPE\": \"snowflake_native\",                       |\n",
      "|                                  |                      |                  |  \"URI\": \"sfc:model_registry_zzhu.PUBLIC.SNOWML...  |\n",
      "|                                  |                      |                  |  \"VERSION\": \"107.1\"                                |\n",
      "|                                  |                      |                  |}                                                   |\n",
      "|2023-05-19 14:46:30.462000-07:00  |\"ENG_ML_MODELING_RL\"  |TAGS              |{                                                   |\n",
      "|                                  |                      |                  |  \"classifier_type\": \"svm.SVC\",                     |\n",
      "|                                  |                      |                  |  \"stage\": \"testing\",                               |\n",
      "|                                  |                      |                  |  \"svc_C\": 10,                                      |\n",
      "|                                  |                      |                  |  \"svc_gamma\": 0.001                                |\n",
      "|                                  |                      |                  |}                                                   |\n",
      "|2023-05-19 14:46:45.751000-07:00  |\"ENG_ML_MODELING_RL\"  |METRICS           |{                                                   |\n",
      "|                                  |                      |                  |  \"test_accuracy\": 0.97                             |\n",
      "|                                  |                      |                  |}                                                   |\n",
      "|2023-05-19 14:46:47.522000-07:00  |\"ENG_ML_MODELING_RL\"  |METRICS           |{                                                   |\n",
      "|                                  |                      |                  |  \"num_training_examples\": 10,                      |\n",
      "|                                  |                      |                  |  \"test_accuracy\": 0.97                             |\n",
      "|                                  |                      |                  |}                                                   |\n",
      "|2023-05-19 14:46:49.228000-07:00  |\"ENG_ML_MODELING_RL\"  |METRICS           |{                                                   |\n",
      "|                                  |                      |                  |  \"dataset_test\": {                                 |\n",
      "|                                  |                      |                  |    \"accuracy\": 0.97                                |\n",
      "|                                  |                      |                  |  },                                                |\n",
      "|                                  |                      |                  |  \"num_training_examples\": 10,                      |\n",
      "|                                  |                      |                  |  \"test_accuracy\": 0.97                             |\n",
      "|                                  |                      |                  |}                                                   |\n",
      "|2023-05-19 14:46:50.837000-07:00  |\"ENG_ML_MODELING_RL\"  |METRICS           |{                                                   |\n",
      "|                                  |                      |                  |  \"confusion_matrix\": [                             |\n",
      "|                                  |                      |                  |    [                                               |\n",
      "|                                  |                      |                  |      90,                                           |\n",
      "|                                  |                      |                  |      0                                             |\n",
      "|                                  |                      |                  |    ],                                              |\n",
      "|                                  |                      |                  |    [                                               |\n",
      "|                                  |                      |                  |      3,                                            |\n",
      "|                                  |                      |                  |      7                                             |\n",
      "|                                  |                      |                  |    ]                                               |\n",
      "|                                  |                      |                  |  ],                                                |\n",
      "|                                  |                      |                  |  \"dataset_test\": {                                 |\n",
      "|                                  |                      |                  |    \"accuracy\": 0.97                                |\n",
      "|                                  |                      |                  |  },                                                |\n",
      "|                                  |                      |                  |  \"num_training_examples\": 10,                      |\n",
      "|                                  |                      |                  |  \"test_accuracy\": 0.97                             |\n",
      "|                                  |                      |                  |}                                                   |\n",
      "|2023-05-19 14:47:04.772000-07:00  |\"ENG_ML_MODELING_RL\"  |TAGS              |{                                                   |\n",
      "|                                  |                      |                  |  \"classifier_type\": \"svm.SVC\",                     |\n",
      "|                                  |                      |                  |  \"minor_version\": \"23\",                            |\n",
      "|                                  |                      |                  |  \"stage\": \"testing\",                               |\n",
      "|                                  |                      |                  |  \"svc_C\": 10,                                      |\n",
      "|                                  |                      |                  |  \"svc_gamma\": 0.001                                |\n",
      "|                                  |                      |                  |}                                                   |\n",
      "|2023-05-19 14:47:06.814000-07:00  |\"ENG_ML_MODELING_RL\"  |TAGS              |{                                                   |\n",
      "|                                  |                      |                  |  \"classifier_type\": \"svm.SVC\",                     |\n",
      "|                                  |                      |                  |  \"stage\": \"testing\",                               |\n",
      "|                                  |                      |                  |  \"svc_C\": 10,                                      |\n",
      "|                                  |                      |                  |  \"svc_gamma\": 0.001                                |\n",
      "|                                  |                      |                  |}                                                   |\n",
      "|2023-05-19 14:47:08.923000-07:00  |\"ENG_ML_MODELING_RL\"  |TAGS              |{                                                   |\n",
      "|                                  |                      |                  |  \"classifier_type\": \"svm.SVC\",                     |\n",
      "|                                  |                      |                  |  \"stage\": \"production\",                            |\n",
      "|                                  |                      |                  |  \"svc_C\": 10,                                      |\n",
      "|                                  |                      |                  |  \"svc_gamma\": 0.001                                |\n",
      "|                                  |                      |                  |}                                                   |\n",
      "|2023-05-19 14:47:10.910000-07:00  |\"ENG_ML_MODELING_RL\"  |DESCRIPTION       |\"My model is better than talkgpt-5!\"                |\n",
      "-----------------------------------------------------------------------------------------------------------------------------------\n",
      "\n"
     ]
    }
   ],
   "source": [
    "model.get_model_history().select(\"EVENT_TIMESTAMP\", \"ROLE\", \"ATTRIBUTE_NAME\",\"VALUE[ATTRIBUTE_NAME]\").show()"
   ]
  },
  {
   "cell_type": "markdown",
   "id": "735f0ac3",
   "metadata": {},
   "source": [
    "## Load Model"
   ]
  },
  {
   "cell_type": "markdown",
   "id": "0a43d2b6",
   "metadata": {},
   "source": [
    "We can also restore the model we saved to the registry and load it back into the local context to make predictions."
   ]
  },
  {
   "cell_type": "markdown",
   "id": "5e065521",
   "metadata": {},
   "source": [
    "### Relational API"
   ]
  },
  {
   "cell_type": "code",
   "execution_count": 20,
   "id": "cc0512e1",
   "metadata": {},
   "outputs": [
    {
     "name": "stdout",
     "output_type": "stream",
     "text": [
      "Original prediction: [False False False False False False False False False False]\n",
      "Restored prediction: [False False False False False False False False False False]\n"
     ]
    }
   ],
   "source": [
    "registry = model_registry.ModelRegistry(session=session, database_name=registry_name)\n",
    "\n",
    "restored_clf = registry.load_model(model_name=model_name, model_version=model_version)\n",
    "\n",
    "restored_prediction = restored_clf.predict(test_features)\n",
    "\n",
    "print(\"Original prediction:\", prediction[:10])\n",
    "print(\"Restored prediction:\", restored_prediction[:10])"
   ]
  },
  {
   "cell_type": "markdown",
   "id": "4fbc0793",
   "metadata": {},
   "source": [
    "### Object API"
   ]
  },
  {
   "cell_type": "code",
   "execution_count": 21,
   "id": "2796f2e0",
   "metadata": {},
   "outputs": [
    {
     "name": "stdout",
     "output_type": "stream",
     "text": [
      "Original prediction: [False False False False False False False False False False]\n",
      "Restored prediction: [False False False False False False False False False False]\n"
     ]
    }
   ],
   "source": [
    "registry = model_registry.ModelRegistry(session=session, database_name=registry_name)\n",
    "model = model_registry.ModelReference(registry=registry, model_name=model_name, model_version=model_version)\n",
    "restored_clf = model.load_model()\n",
    "\n",
    "restored_prediction = restored_clf.predict(test_features)\n",
    "\n",
    "print(\"Original prediction:\", prediction[:10])\n",
    "print(\"Restored prediction:\", restored_prediction[:10])"
   ]
  }
 ],
 "metadata": {
  "kernelspec": {
   "display_name": "Python 3 (ipykernel)",
   "language": "python",
   "name": "python3"
  },
  "language_info": {
   "codemirror_mode": {
    "name": "ipython",
    "version": 3
   },
   "file_extension": ".py",
   "mimetype": "text/x-python",
   "name": "python",
   "nbconvert_exporter": "python",
   "pygments_lexer": "ipython3",
   "version": "3.8.16"
  },
  "vscode": {
   "interpreter": {
    "hash": "fb0a62cbfaa59af7646af5a6672c5c3e72ec75fbadf6ff0336b6769523f221a5"
   }
  }
 },
 "nbformat": 4,
 "nbformat_minor": 5
}
