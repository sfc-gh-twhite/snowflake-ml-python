{
 "cells": [
  {
   "cell_type": "markdown",
   "id": "5de3eb26",
   "metadata": {},
   "source": [
    "# Model Registry Demo"
   ]
  },
  {
   "cell_type": "markdown",
   "id": "99e58d8c",
   "metadata": {},
   "source": [
    "## Setup Notebook and Import Path"
   ]
  },
  {
   "cell_type": "code",
   "execution_count": 1,
   "id": "d609ff44",
   "metadata": {},
   "outputs": [
    {
     "data": {
      "text/html": [
       "<style>.container { width:100% !important; }</style>"
      ],
      "text/plain": [
       "<IPython.core.display.HTML object>"
      ]
     },
     "metadata": {},
     "output_type": "display_data"
    }
   ],
   "source": [
    "# Scale cell width with the browser window to accommodate .show() commands for wider tables.\n",
    "from IPython.display import display, HTML\n",
    "display(HTML(\"<style>.container { width:100% !important; }</style>\"))"
   ]
  },
  {
   "cell_type": "code",
   "execution_count": 2,
   "id": "95cde1f7",
   "metadata": {},
   "outputs": [
    {
     "name": "stdout",
     "output_type": "stream",
     "text": [
      "Adding /Users/amauser/src/snowml to system path\n"
     ]
    }
   ],
   "source": [
    "import sys\n",
    "import os\n",
    "\n",
    "# Simplify reading from the local repository\n",
    "cwd=os.getcwd()\n",
    "REPO_PREFIX=\"snowflake/ml\"\n",
    "LOCAL_REPO_PATH=cwd[:cwd.find(REPO_PREFIX)].rstrip('/')\n",
    "\n",
    "if LOCAL_REPO_PATH not in sys.path:\n",
    "    print(f\"Adding {LOCAL_REPO_PATH} to system path\")\n",
    "    sys.path.append(LOCAL_REPO_PATH)"
   ]
  },
  {
   "cell_type": "markdown",
   "id": "c592d46c",
   "metadata": {},
   "source": [
    "## Train A Small Model"
   ]
  },
  {
   "cell_type": "markdown",
   "id": "bec73215",
   "metadata": {},
   "source": [
    "The cell below trains a small model for demonstration purposes. The nature of the model does not matter, it is purely used to demonstrate the usage of the Model Registry."
   ]
  },
  {
   "cell_type": "code",
   "execution_count": 3,
   "id": "8cf44218",
   "metadata": {},
   "outputs": [],
   "source": [
    "from sklearn import svm, linear_model\n",
    "from sklearn.datasets import load_digits\n",
    "\n",
    "digits = load_digits()\n",
    "target_digit = 6\n",
    "num_training_examples = 10\n",
    "svc_gamma = 0.001\n",
    "svc_C = 10.\n",
    "\n",
    "clf = svm.SVC(gamma=svc_gamma, C=svc_C, probability=True)\n",
    "\n",
    "\n",
    "def one_vs_all(dataset, digit):\n",
    "    return [x == digit for x in dataset]\n",
    "\n",
    "# Train a classifier using num_training_examples and use the last 100 examples for test.\n",
    "train_features = digits.data[:num_training_examples]\n",
    "train_labels = one_vs_all(digits.target[:num_training_examples], target_digit)\n",
    "clf.fit(train_features, train_labels)\n",
    "\n",
    "test_features = digits.data[-100:]\n",
    "test_labels = one_vs_all(digits.target[-100:], target_digit)\n",
    "prediction = clf.predict(test_features)\n"
   ]
  },
  {
   "cell_type": "markdown",
   "id": "20eef3b6",
   "metadata": {},
   "source": [
    "## Start Snowpark Session\n",
    "\n",
    "To avoid exposing credentials in Github, we use a small utility `SnowflakeLoginOptions`. It allows you to score your default credentials in `~/.snowsql/config` in the following format:\n",
    "```\n",
    "[connections]\n",
    "accountname = <string>   # Account identifier to connect to Snowflake.\n",
    "username = <string>      # User name in the account. Optional.\n",
    "password = <string>      # User password. Optional.\n",
    "dbname = <string>        # Default database. Optional.\n",
    "schemaname = <string>    # Default schema. Optional.\n",
    "warehousename = <string> # Default warehouse. Optional.\n",
    "#rolename = <string>      # Default role. Optional.\n",
    "#authenticator = <string> # Authenticator: 'snowflake', 'externalbrowser', etc\n",
    "```\n",
    "Please follow [this](https://docs.snowflake.com/en/user-guide/snowsql-start.html#configuring-default-connection-settings) for more details."
   ]
  },
  {
   "cell_type": "code",
   "execution_count": 4,
   "id": "75282f6d",
   "metadata": {},
   "outputs": [],
   "source": [
    "from snowflake.ml.utils.connection_params import SnowflakeLoginOptions\n",
    "from snowflake.snowpark import Session, Column, functions\n",
    "\n",
    "session = Session.builder.configs(SnowflakeLoginOptions()).create()"
   ]
  },
  {
   "cell_type": "markdown",
   "id": "dfa9ab88",
   "metadata": {},
   "source": [
    "## Open/Create Model Registry"
   ]
  },
  {
   "cell_type": "markdown",
   "id": "676b28b3",
   "metadata": {},
   "source": [
    "A model registry needs to be created before it can be used. The creation will create a new database in the current account so the active role needs to have permissions to create a database. After the first creation, the model registry can be opened without the need to create it again."
   ]
  },
  {
   "cell_type": "code",
   "execution_count": 5,
   "id": "5d37ad34",
   "metadata": {},
   "outputs": [
    {
     "data": {
      "text/plain": [
       "<module 'snowflake.ml.registry.model_registry' from '/opt/homebrew/anaconda3/envs/snowpark/lib/python3.8/site-packages/snowflake/ml/registry/model_registry.py'>"
      ]
     },
     "execution_count": 5,
     "metadata": {},
     "output_type": "execute_result"
    }
   ],
   "source": [
    "import importlib\n",
    "from snowflake.ml.registry import model_registry\n",
    "# Force re-loading model_registry in case we updated the package during the runtime of this notebook.\n",
    "importlib.reload(model_registry)"
   ]
  },
  {
   "cell_type": "code",
   "execution_count": 6,
   "id": "98dbe771",
   "metadata": {},
   "outputs": [
    {
     "name": "stderr",
     "output_type": "stream",
     "text": [
      "WARNING:absl:The database MODEL_REGISTRY already exists. Skipping creation.\n"
     ]
    }
   ],
   "source": [
    "# Create a new model registry. This will be a no-op if the registry already exists.\n",
    "create_result = model_registry.create_model_registry(session)"
   ]
  },
  {
   "cell_type": "code",
   "execution_count": 7,
   "id": "7fff21bc",
   "metadata": {},
   "outputs": [],
   "source": [
    "registry = model_registry.ModelRegistry(session=session)"
   ]
  },
  {
   "cell_type": "markdown",
   "id": "5d6a85b3",
   "metadata": {},
   "source": [
    "There are two functionally equivalent APIs to interact with the model registry.\n",
    "\n",
    "* A _relational API_ where all operations are performed as methods of the `registry` object and \n",
    "* a _object API_ where operations on a specific model are performend as methods of a `ModelReference` object.\n",
    "\n",
    "The usage examples below will add some color to the two APIs and how they behave."
   ]
  },
  {
   "cell_type": "markdown",
   "id": "317e7843",
   "metadata": {},
   "source": [
    "## Register a new Model"
   ]
  },
  {
   "cell_type": "markdown",
   "id": "3bdda91a",
   "metadata": {},
   "source": [
    "Registering a new model is always performed through the relational API. \n",
    "\n",
    "The call to `log_model` executes a few steps:\n",
    "1. The given model object is serialized and uploaded to a stage.\n",
    "1. An entry in the Model Registry is created for the model, referencing the model stage location.\n",
    "1. Additional metadata is updated for the model as provided in the call.\n",
    "\n",
    "For the serialization to work, the model object needs to be serializable in python."
   ]
  },
  {
   "cell_type": "code",
   "execution_count": 8,
   "id": "9d8ad06e",
   "metadata": {},
   "outputs": [
    {
     "name": "stdout",
     "output_type": "stream",
     "text": [
      "Registered new model: 89f1499eb70011ed9cd3e289b4f89202\n"
     ]
    }
   ],
   "source": [
    "# A name and model tags can be added to the model at registration time.\n",
    "model_id = registry.log_model(model=clf, name=\"my_model\", tags={\n",
    "    \"stage\": \"testing\", \"classifier_type\": \"svm.SVC\", \"svc_gamma\": svc_gamma, \"svc_C\": svc_C})\n",
    "\n",
    "# The object API can be used to reference a model after creation.\n",
    "model = model_registry.ModelReference(registry=registry, id=model_id)\n",
    "print(\"Registered new model:\", model_id)"
   ]
  },
  {
   "cell_type": "markdown",
   "id": "27d1158d",
   "metadata": {},
   "source": [
    "## Add Metrics"
   ]
  },
  {
   "cell_type": "markdown",
   "id": "d6035ca5",
   "metadata": {},
   "source": [
    "Metrics are a type of metadata annotation that can be associated with models stored in the Model Registry. Metrics often take the form of scalars but we also support more complex objects such as arrays or dictionaries to represent metrics. In the exmamples below, we add scalars, dictionaries, and a 2-dimensional numpy array as metrics."
   ]
  },
  {
   "cell_type": "code",
   "execution_count": 9,
   "id": "c2b0cdbd",
   "metadata": {},
   "outputs": [
    {
     "name": "stdout",
     "output_type": "stream",
     "text": [
      "Model test accuracy: 0.97\n",
      "Confusion matrix: [[90  0]\n",
      " [ 3  7]]\n"
     ]
    }
   ],
   "source": [
    "from sklearn import metrics\n",
    "\n",
    "test_accuracy = metrics.accuracy_score(test_labels, prediction)\n",
    "print(\"Model test accuracy:\", test_accuracy)\n",
    "\n",
    "# Simple scalar metrics.\n",
    "\n",
    "# Relational API\n",
    "registry.set_metric(id=model_id, name=\"test_accuracy\", value=test_accuracy)\n",
    "# Object API\n",
    "model.set_metric(name=\"num_training_examples\", value=num_training_examples)\n",
    "\n",
    "# Hierarchical metric.\n",
    "registry.set_metric(id=model_id, name=\"dataset_test\", value={\"accuracy\": test_accuracy})\n",
    "\n",
    "# Multivalent metric:\n",
    "test_confusion_matrix = metrics.confusion_matrix(test_labels, prediction)\n",
    "print(\"Confusion matrix:\", test_confusion_matrix)\n",
    "\n",
    "registry.set_metric(id=model_id, name=\"confusion_matrix\", value=test_confusion_matrix)"
   ]
  },
  {
   "cell_type": "markdown",
   "id": "98164cb7",
   "metadata": {},
   "source": [
    "## List Model in Registry"
   ]
  },
  {
   "cell_type": "markdown",
   "id": "67eac368",
   "metadata": {},
   "source": [
    "Listing models in the registry returns a SnowPark DataFrame. That allows the caller to select and filter the models as needed. In the example below, we list the name, tags, and metrics for the model we just added."
   ]
  },
  {
   "cell_type": "code",
   "execution_count": 10,
   "id": "dc82b541",
   "metadata": {},
   "outputs": [
    {
     "name": "stdout",
     "output_type": "stream",
     "text": [
      "---------------------------------------------------------------------------------\n",
      "|\"NAME\"      |\"TAGS\"                           |\"METRICS\"                       |\n",
      "---------------------------------------------------------------------------------\n",
      "|\"my_model\"  |{                                |{                               |\n",
      "|            |  \"classifier_type\": \"svm.SVC\",  |  \"confusion_matrix\": [         |\n",
      "|            |  \"stage\": \"testing\",            |    [                           |\n",
      "|            |  \"svc_C\": 10,                   |      90,                       |\n",
      "|            |  \"svc_gamma\": 0.001             |      0                         |\n",
      "|            |}                                |    ],                          |\n",
      "|            |                                 |    [                           |\n",
      "|            |                                 |      3,                        |\n",
      "|            |                                 |      7                         |\n",
      "|            |                                 |    ]                           |\n",
      "|            |                                 |  ],                            |\n",
      "|            |                                 |  \"dataset_test\": {             |\n",
      "|            |                                 |    \"accuracy\": 0.97            |\n",
      "|            |                                 |  },                            |\n",
      "|            |                                 |  \"num_training_examples\": 10,  |\n",
      "|            |                                 |  \"test_accuracy\": 0.97         |\n",
      "|            |                                 |}                               |\n",
      "---------------------------------------------------------------------------------\n",
      "\n"
     ]
    }
   ],
   "source": [
    "model_list = registry.list_models()\n",
    "\n",
    "model_list.filter(model_list[\"ID\"] == model_id).select(\"NAME\",\"TAGS\",\"METRICS\").show()"
   ]
  },
  {
   "cell_type": "markdown",
   "id": "5706004c",
   "metadata": {},
   "source": [
    "## Metadata: Tags and Name"
   ]
  },
  {
   "cell_type": "markdown",
   "id": "05cee94f",
   "metadata": {},
   "source": [
    "Similar to how we changed metrics in the example above, we can also edit tags and names of models both with the relational API and with the object API."
   ]
  },
  {
   "cell_type": "markdown",
   "id": "88707ecd",
   "metadata": {},
   "source": [
    "### Relational API"
   ]
  },
  {
   "cell_type": "code",
   "execution_count": 11,
   "id": "f80f78da",
   "metadata": {},
   "outputs": [
    {
     "name": "stdout",
     "output_type": "stream",
     "text": [
      "Old tags: {'classifier_type': 'svm.SVC', 'stage': 'testing', 'svc_C': 10, 'svc_gamma': 0.001}\n",
      "Added tag: {'classifier_type': 'svm.SVC', 'minor_version': '23', 'stage': 'testing', 'svc_C': 10, 'svc_gamma': 0.001}\n",
      "Removed tag {'classifier_type': 'svm.SVC', 'stage': 'testing', 'svc_C': 10, 'svc_gamma': 0.001}\n",
      "Updated tag: {'classifier_type': 'svm.SVC', 'stage': 'production', 'svc_C': 10, 'svc_gamma': 0.001}\n",
      "Old name: \"my_model\"\n",
      "New name: \"target_digit_6\"\n"
     ]
    }
   ],
   "source": [
    "print(\"Old tags:\", registry.get_tags(model_id))\n",
    "\n",
    "registry.set_tag(model_id, \"minor_version\", \"23\")\n",
    "print(\"Added tag:\", registry.get_tags(model_id))\n",
    "\n",
    "registry.remove_tag(model_id, \"minor_version\")\n",
    "print(\"Removed tag\", registry.get_tags(model_id))\n",
    "registry.set_tag(model_id, \"stage\", \"production\")\n",
    "print(\"Updated tag:\", registry.get_tags(model_id))\n",
    "\n",
    "# Rename Model\n",
    "print(\"Old name:\", registry.get_model_name(model_id))\n",
    "\n",
    "new_model_name = f\"target_digit_{target_digit}\"\n",
    "registry.set_model_name(id=model_id, name=new_model_name)\n",
    "\n",
    "print(\"New name:\", registry.get_model_name(model_id))"
   ]
  },
  {
   "cell_type": "markdown",
   "id": "47e80e1e",
   "metadata": {},
   "source": [
    "### Object API"
   ]
  },
  {
   "cell_type": "code",
   "execution_count": 12,
   "id": "7905d9c9",
   "metadata": {},
   "outputs": [
    {
     "name": "stdout",
     "output_type": "stream",
     "text": [
      "Old tags: {'classifier_type': 'svm.SVC', 'stage': 'production', 'svc_C': 10, 'svc_gamma': 0.001}\n",
      "Added tag: {'classifier_type': 'svm.SVC', 'minor_version': '23', 'stage': 'production', 'svc_C': 10, 'svc_gamma': 0.001}\n",
      "Removed tag {'classifier_type': 'svm.SVC', 'stage': 'production', 'svc_C': 10, 'svc_gamma': 0.001}\n",
      "Updated tag: {'classifier_type': 'svm.SVC', 'stage': 'production', 'svc_C': 10, 'svc_gamma': 0.001}\n",
      "Old name: \"target_digit_6\"\n",
      "New name: \"target_digit_6\"\n"
     ]
    }
   ],
   "source": [
    "print(\"Old tags:\", model.get_tags())\n",
    "\n",
    "model.set_tag(\"minor_version\", \"23\")\n",
    "print(\"Added tag:\", model.get_tags())\n",
    "\n",
    "model.remove_tag(\"minor_version\")\n",
    "print(\"Removed tag\", model.get_tags())\n",
    "model.set_tag(\"stage\", \"production\")\n",
    "print(\"Updated tag:\", model.get_tags())\n",
    "\n",
    "# Rename Model\n",
    "print(\"Old name:\", model.get_model_name())\n",
    "\n",
    "new_model_name = f\"target_digit_{target_digit}\"\n",
    "model.set_model_name(name=new_model_name)\n",
    "\n",
    "print(\"New name:\", model.get_model_name())"
   ]
  },
  {
   "cell_type": "markdown",
   "id": "72ade02b",
   "metadata": {},
   "source": [
    "## List recent Models in Registry"
   ]
  },
  {
   "cell_type": "markdown",
   "id": "645df90e",
   "metadata": {},
   "source": [
    "Listing the models in the Model Registry returns a dataframe that allows us to conveniently manipulate the model list. In the example below, we show all models in the Model Registry sorted by recency."
   ]
  },
  {
   "cell_type": "code",
   "execution_count": 13,
   "id": "eef6965d",
   "metadata": {
    "scrolled": true
   },
   "outputs": [
    {
     "name": "stdout",
     "output_type": "stream",
     "text": [
      "---------------------------------------------------------------------------------------------------------------------------------------------\n",
      "|\"ID\"                              |\"NAME\"                |\"CREATION_TIME\"                   |\"TAGS\"                                        |\n",
      "---------------------------------------------------------------------------------------------------------------------------------------------\n",
      "|89f1499eb70011ed9cd3e289b4f89202  |\"target_digit_6\"      |2023-02-27 16:40:47.108000-08:00  |{                                             |\n",
      "|                                  |                      |                                  |  \"classifier_type\": \"svm.SVC\",               |\n",
      "|                                  |                      |                                  |  \"stage\": \"production\",                      |\n",
      "|                                  |                      |                                  |  \"svc_C\": 10,                                |\n",
      "|                                  |                      |                                  |  \"svc_gamma\": 0.001                          |\n",
      "|                                  |                      |                                  |}                                             |\n",
      "|4c94d3d4b6fd11eda2d4e289b4f89202  |\"target_digit_6\"      |2023-02-27 16:17:36.381000-08:00  |{                                             |\n",
      "|                                  |                      |                                  |  \"classifier_type\": \"svm.SVC\",               |\n",
      "|                                  |                      |                                  |  \"stage\": \"production\",                      |\n",
      "|                                  |                      |                                  |  \"svc_C\": 10,                                |\n",
      "|                                  |                      |                                  |  \"svc_gamma\": 0.001                          |\n",
      "|                                  |                      |                                  |}                                             |\n",
      "|6a1b8e98b2f711eda1c2e289b4f89202  |\"target_digit_6\"      |2023-02-22 13:25:24.538000-08:00  |{                                             |\n",
      "|                                  |                      |                                  |  \"classifier_type\": \"svm.SVC\",               |\n",
      "|                                  |                      |                                  |  \"stage\": \"production\",                      |\n",
      "|                                  |                      |                                  |  \"svc_C\": 10,                                |\n",
      "|                                  |                      |                                  |  \"svc_gamma\": 0.001                          |\n",
      "|                                  |                      |                                  |}                                             |\n",
      "|1ff312fab2f711edaccee289b4f89202  |\"target_digit_6\"      |2023-02-22 13:23:20.365000-08:00  |{                                             |\n",
      "|                                  |                      |                                  |  \"classifier_type\": \"svm.SVC\",               |\n",
      "|                                  |                      |                                  |  \"stage\": \"production\",                      |\n",
      "|                                  |                      |                                  |  \"svc_C\": 10,                                |\n",
      "|                                  |                      |                                  |  \"svc_gamma\": 0.001                          |\n",
      "|                                  |                      |                                  |}                                             |\n",
      "|1cf19188b16411ed8846e289b4f89202  |\"uci-bank-marketing\"  |2023-02-20 13:18:27.178000-08:00  |{                                             |\n",
      "|                                  |                      |                                  |  \"classifier\": \"GradientBoostingRegressor\",  |\n",
      "|                                  |                      |                                  |  \"params\": {                                 |\n",
      "|                                  |                      |                                  |    \"alpha\": 0.9,                             |\n",
      "|                                  |                      |                                  |    \"ccp_alpha\": 0,                           |\n",
      "|                                  |                      |                                  |    \"criterion\": \"friedman_mse\",              |\n",
      "|                                  |                      |                                  |    \"learning_rate\": 0.1,                     |\n",
      "|                                  |                      |                                  |    \"loss\": \"squared_error\",                  |\n",
      "|                                  |                      |                                  |    \"max_depth\": 3,                           |\n",
      "|                                  |                      |                                  |    \"min_impurity_decrease\": 0,               |\n",
      "|                                  |                      |                                  |    \"min_samples_leaf\": 1,                    |\n",
      "|                                  |                      |                                  |    \"min_samples_split\": 2,                   |\n",
      "|                                  |                      |                                  |    \"min_weight_fraction_leaf\": 0,            |\n",
      "|                                  |                      |                                  |    \"n_estimators\": 100,                      |\n",
      "|                                  |                      |                                  |    \"subsample\": 1,                           |\n",
      "|                                  |                      |                                  |    \"tol\": 0.0001,                            |\n",
      "|                                  |                      |                                  |    \"validation_fraction\": 0.1,               |\n",
      "|                                  |                      |                                  |    \"verbose\": 0,                             |\n",
      "|                                  |                      |                                  |    \"warm_start\": false                       |\n",
      "|                                  |                      |                                  |  },                                          |\n",
      "|                                  |                      |                                  |  \"stage\": \"experimental\"                     |\n",
      "|                                  |                      |                                  |}                                             |\n",
      "|0c0e951eb16411ed8846e289b4f89202  |\"uci-bank-marketing\"  |2023-02-20 13:18:06.855000-08:00  |{                                             |\n",
      "|                                  |                      |                                  |  \"classifier\": \"RandomForestRegressor\",      |\n",
      "|                                  |                      |                                  |  \"params\": {                                 |\n",
      "|                                  |                      |                                  |    \"bootstrap\": true,                        |\n",
      "|                                  |                      |                                  |    \"ccp_alpha\": 0,                           |\n",
      "|                                  |                      |                                  |    \"criterion\": \"squared_error\",             |\n",
      "|                                  |                      |                                  |    \"max_features\": 1,                        |\n",
      "|                                  |                      |                                  |    \"min_impurity_decrease\": 0,               |\n",
      "|                                  |                      |                                  |    \"min_samples_leaf\": 1,                    |\n",
      "|                                  |                      |                                  |    \"min_samples_split\": 2,                   |\n",
      "|                                  |                      |                                  |    \"min_weight_fraction_leaf\": 0,            |\n",
      "|                                  |                      |                                  |    \"n_estimators\": 100,                      |\n",
      "|                                  |                      |                                  |    \"oob_score\": false,                       |\n",
      "|                                  |                      |                                  |    \"verbose\": 0,                             |\n",
      "|                                  |                      |                                  |    \"warm_start\": false                       |\n",
      "|                                  |                      |                                  |  },                                          |\n",
      "|                                  |                      |                                  |  \"stage\": \"experimental\"                     |\n",
      "|                                  |                      |                                  |}                                             |\n",
      "|ff52e938b16311ed8846e289b4f89202  |\"uci-bank-marketing\"  |2023-02-20 13:17:38.185000-08:00  |{                                             |\n",
      "|                                  |                      |                                  |  \"classifier\": \"RandomForestRegressor\",      |\n",
      "|                                  |                      |                                  |  \"params\": {                                 |\n",
      "|                                  |                      |                                  |    \"bootstrap\": true,                        |\n",
      "|                                  |                      |                                  |    \"ccp_alpha\": 0,                           |\n",
      "|                                  |                      |                                  |    \"criterion\": \"squared_error\",             |\n",
      "|                                  |                      |                                  |    \"max_features\": 1,                        |\n",
      "|                                  |                      |                                  |    \"min_impurity_decrease\": 0,               |\n",
      "|                                  |                      |                                  |    \"min_samples_leaf\": 1,                    |\n",
      "|                                  |                      |                                  |    \"min_samples_split\": 2,                   |\n",
      "|                                  |                      |                                  |    \"min_weight_fraction_leaf\": 0,            |\n",
      "|                                  |                      |                                  |    \"n_estimators\": 10,                       |\n",
      "|                                  |                      |                                  |    \"oob_score\": false,                       |\n",
      "|                                  |                      |                                  |    \"verbose\": 0,                             |\n",
      "|                                  |                      |                                  |    \"warm_start\": false                       |\n",
      "|                                  |                      |                                  |  },                                          |\n",
      "|                                  |                      |                                  |  \"stage\": \"experimental\"                     |\n",
      "|                                  |                      |                                  |}                                             |\n",
      "|f268515eb16311ed8846e289b4f89202  |\"uci-bank-marketing\"  |2023-02-20 13:17:15.883000-08:00  |{                                             |\n",
      "|                                  |                      |                                  |  \"classifier\": \"RandomForestRegressor\",      |\n",
      "|                                  |                      |                                  |  \"params\": {                                 |\n",
      "|                                  |                      |                                  |    \"bootstrap\": true,                        |\n",
      "|                                  |                      |                                  |    \"ccp_alpha\": 0,                           |\n",
      "|                                  |                      |                                  |    \"criterion\": \"squared_error\",             |\n",
      "|                                  |                      |                                  |    \"max_features\": 1,                        |\n",
      "|                                  |                      |                                  |    \"min_impurity_decrease\": 0,               |\n",
      "|                                  |                      |                                  |    \"min_samples_leaf\": 1,                    |\n",
      "|                                  |                      |                                  |    \"min_samples_split\": 2,                   |\n",
      "|                                  |                      |                                  |    \"min_weight_fraction_leaf\": 0,            |\n",
      "|                                  |                      |                                  |    \"n_estimators\": 1,                        |\n",
      "|                                  |                      |                                  |    \"oob_score\": false,                       |\n",
      "|                                  |                      |                                  |    \"verbose\": 0,                             |\n",
      "|                                  |                      |                                  |    \"warm_start\": false                       |\n",
      "|                                  |                      |                                  |  },                                          |\n",
      "|                                  |                      |                                  |  \"stage\": \"experimental\"                     |\n",
      "|                                  |                      |                                  |}                                             |\n",
      "|e15897cab16311ed8846e289b4f89202  |\"uci-bank-marketing\"  |2023-02-20 13:16:47.052000-08:00  |{                                             |\n",
      "|                                  |                      |                                  |  \"classifier\": \"LogisticRegression\",         |\n",
      "|                                  |                      |                                  |  \"params\": {                                 |\n",
      "|                                  |                      |                                  |    \"C\": 1,                                   |\n",
      "|                                  |                      |                                  |    \"dual\": false,                            |\n",
      "|                                  |                      |                                  |    \"fit_intercept\": true,                    |\n",
      "|                                  |                      |                                  |    \"intercept_scaling\": 1,                   |\n",
      "|                                  |                      |                                  |    \"max_iter\": 10000,                        |\n",
      "|                                  |                      |                                  |    \"multi_class\": \"auto\",                    |\n",
      "|                                  |                      |                                  |    \"penalty\": \"l2\",                          |\n",
      "|                                  |                      |                                  |    \"solver\": \"lbfgs\",                        |\n",
      "|                                  |                      |                                  |    \"tol\": 0.0001,                            |\n",
      "|                                  |                      |                                  |    \"verbose\": 0,                             |\n",
      "|                                  |                      |                                  |    \"warm_start\": false                       |\n",
      "|                                  |                      |                                  |  },                                          |\n",
      "|                                  |                      |                                  |  \"stage\": \"experimental\"                     |\n",
      "|                                  |                      |                                  |}                                             |\n",
      "|d1e675e6b16311ed8846e289b4f89202  |\"uci-bank-marketing\"  |2023-02-20 13:16:21.607000-08:00  |{                                             |\n",
      "|                                  |                      |                                  |  \"classifier\": \"LinearRegression\",           |\n",
      "|                                  |                      |                                  |  \"params\": {                                 |\n",
      "|                                  |                      |                                  |    \"copy_X\": true,                           |\n",
      "|                                  |                      |                                  |    \"fit_intercept\": true,                    |\n",
      "|                                  |                      |                                  |    \"normalize\": \"deprecated\",                |\n",
      "|                                  |                      |                                  |    \"positive\": false                         |\n",
      "|                                  |                      |                                  |  },                                          |\n",
      "|                                  |                      |                                  |  \"stage\": \"experimental\"                     |\n",
      "|                                  |                      |                                  |}                                             |\n",
      "---------------------------------------------------------------------------------------------------------------------------------------------\n",
      "\n"
     ]
    }
   ],
   "source": [
    "model_list.select(\"ID\",\"NAME\",\"CREATION_TIME\",\"TAGS\").order_by(\"CREATION_TIME\", ascending=False).show()"
   ]
  },
  {
   "cell_type": "markdown",
   "id": "b2a42a8f",
   "metadata": {},
   "source": [
    "## List all versions of a Model ordered by test set accuracy"
   ]
  },
  {
   "cell_type": "markdown",
   "id": "833bfd54",
   "metadata": {},
   "source": [
    "With a similar logic, we can also list all versions of a model with a given name sorted by a metric, in this case model accuracy."
   ]
  },
  {
   "cell_type": "code",
   "execution_count": 14,
   "id": "6df2eafc",
   "metadata": {
    "scrolled": false
   },
   "outputs": [
    {
     "name": "stdout",
     "output_type": "stream",
     "text": [
      "--------------------------------------------------------------------------------------------------------------------------\n",
      "|\"ID\"                              |\"NAME\"            |\"TAGS\"                           |\"METRICS\"                       |\n",
      "--------------------------------------------------------------------------------------------------------------------------\n",
      "|3df8e89099ef11edbd00e289b4f89203  |\"target_digit_6\"  |{                                |{                               |\n",
      "|                                  |                  |  \"classifier_type\": \"svm.SVC\",  |  \"confusion_matrix\": [         |\n",
      "|                                  |                  |  \"stage\": \"production\",         |    [                           |\n",
      "|                                  |                  |  \"svc_C\": 100,                  |      88,                       |\n",
      "|                                  |                  |  \"svc_gamma\": 0.0001            |      2                         |\n",
      "|                                  |                  |}                                |    ],                          |\n",
      "|                                  |                  |                                 |    [                           |\n",
      "|                                  |                  |                                 |      0,                        |\n",
      "|                                  |                  |                                 |      10                        |\n",
      "|                                  |                  |                                 |    ]                           |\n",
      "|                                  |                  |                                 |  ],                            |\n",
      "|                                  |                  |                                 |  \"dataset_test\": {             |\n",
      "|                                  |                  |                                 |    \"accuracy\": 0.98            |\n",
      "|                                  |                  |                                 |  },                            |\n",
      "|                                  |                  |                                 |  \"num_training_examples\": 10,  |\n",
      "|                                  |                  |                                 |  \"test_accuracy\": 0.98         |\n",
      "|                                  |                  |                                 |}                               |\n",
      "|e6bfa41499ef11edbd00e289b4f89203  |\"target_digit_6\"  |{                                |{                               |\n",
      "|                                  |                  |  \"classifier_type\": \"svm.SVC\",  |  \"confusion_matrix\": [         |\n",
      "|                                  |                  |  \"stage\": \"production\",         |    [                           |\n",
      "|                                  |                  |  \"svc_C\": 10,                   |      90,                       |\n",
      "|                                  |                  |  \"svc_gamma\": 0.001             |      0                         |\n",
      "|                                  |                  |}                                |    ],                          |\n",
      "|                                  |                  |                                 |    [                           |\n",
      "|                                  |                  |                                 |      3,                        |\n",
      "|                                  |                  |                                 |      7                         |\n",
      "|                                  |                  |                                 |    ]                           |\n",
      "|                                  |                  |                                 |  ],                            |\n",
      "|                                  |                  |                                 |  \"dataset_test\": {             |\n",
      "|                                  |                  |                                 |    \"accuracy\": 0.97            |\n",
      "|                                  |                  |                                 |  },                            |\n",
      "|                                  |                  |                                 |  \"num_training_examples\": 10,  |\n",
      "|                                  |                  |                                 |  \"test_accuracy\": 0.97         |\n",
      "|                                  |                  |                                 |}                               |\n",
      "|a149adb899ee11edbd00e289b4f89203  |\"target_digit_6\"  |{                                |{                               |\n",
      "|                                  |                  |  \"classifier_type\": \"svm.SVC\",  |  \"confusion_matrix\": [         |\n",
      "|                                  |                  |  \"stage\": \"production\",         |    [                           |\n",
      "|                                  |                  |  \"svc_C\": 100,                  |      90,                       |\n",
      "|                                  |                  |  \"svc_gamma\": 0.001             |      0                         |\n",
      "|                                  |                  |}                                |    ],                          |\n",
      "|                                  |                  |                                 |    [                           |\n",
      "|                                  |                  |                                 |      3,                        |\n",
      "|                                  |                  |                                 |      7                         |\n",
      "|                                  |                  |                                 |    ]                           |\n",
      "|                                  |                  |                                 |  ],                            |\n",
      "|                                  |                  |                                 |  \"dataset_test\": {             |\n",
      "|                                  |                  |                                 |    \"accuracy\": 0.97            |\n",
      "|                                  |                  |                                 |  },                            |\n",
      "|                                  |                  |                                 |  \"num_training_examples\": 10,  |\n",
      "|                                  |                  |                                 |  \"test_accuracy\": 0.97         |\n",
      "|                                  |                  |                                 |}                               |\n",
      "|6a1b8e98b2f711eda1c2e289b4f89202  |\"target_digit_6\"  |{                                |{                               |\n",
      "|                                  |                  |  \"classifier_type\": \"svm.SVC\",  |  \"confusion_matrix\": [         |\n",
      "|                                  |                  |  \"stage\": \"production\",         |    [                           |\n",
      "|                                  |                  |  \"svc_C\": 10,                   |      90,                       |\n",
      "|                                  |                  |  \"svc_gamma\": 0.001             |      0                         |\n",
      "|                                  |                  |}                                |    ],                          |\n",
      "|                                  |                  |                                 |    [                           |\n",
      "|                                  |                  |                                 |      3,                        |\n",
      "|                                  |                  |                                 |      7                         |\n",
      "|                                  |                  |                                 |    ]                           |\n",
      "|                                  |                  |                                 |  ],                            |\n",
      "|                                  |                  |                                 |  \"dataset_test\": {             |\n",
      "|                                  |                  |                                 |    \"accuracy\": 0.97            |\n",
      "|                                  |                  |                                 |  },                            |\n",
      "|                                  |                  |                                 |  \"num_training_examples\": 10,  |\n",
      "|                                  |                  |                                 |  \"test_accuracy\": 0.97         |\n",
      "|                                  |                  |                                 |}                               |\n",
      "|89f1499eb70011ed9cd3e289b4f89202  |\"target_digit_6\"  |{                                |{                               |\n",
      "|                                  |                  |  \"classifier_type\": \"svm.SVC\",  |  \"confusion_matrix\": [         |\n",
      "|                                  |                  |  \"stage\": \"production\",         |    [                           |\n",
      "|                                  |                  |  \"svc_C\": 10,                   |      90,                       |\n",
      "|                                  |                  |  \"svc_gamma\": 0.001             |      0                         |\n",
      "|                                  |                  |}                                |    ],                          |\n",
      "|                                  |                  |                                 |    [                           |\n",
      "|                                  |                  |                                 |      3,                        |\n",
      "|                                  |                  |                                 |      7                         |\n",
      "|                                  |                  |                                 |    ]                           |\n",
      "|                                  |                  |                                 |  ],                            |\n",
      "|                                  |                  |                                 |  \"dataset_test\": {             |\n",
      "|                                  |                  |                                 |    \"accuracy\": 0.97            |\n",
      "|                                  |                  |                                 |  },                            |\n",
      "|                                  |                  |                                 |  \"num_training_examples\": 10,  |\n",
      "|                                  |                  |                                 |  \"test_accuracy\": 0.97         |\n",
      "|                                  |                  |                                 |}                               |\n",
      "|98c88dc29ba011ed8b7a001c423403fe  |\"target_digit_6\"  |{                                |{                               |\n",
      "|                                  |                  |  \"classifier_type\": \"svm.SVC\",  |  \"confusion_matrix\": [         |\n",
      "|                                  |                  |  \"stage\": \"production\",         |    [                           |\n",
      "|                                  |                  |  \"svc_C\": 10,                   |      90,                       |\n",
      "|                                  |                  |  \"svc_gamma\": 0.001             |      0                         |\n",
      "|                                  |                  |}                                |    ],                          |\n",
      "|                                  |                  |                                 |    [                           |\n",
      "|                                  |                  |                                 |      3,                        |\n",
      "|                                  |                  |                                 |      7                         |\n",
      "|                                  |                  |                                 |    ]                           |\n",
      "|                                  |                  |                                 |  ],                            |\n",
      "|                                  |                  |                                 |  \"dataset_test\": {             |\n",
      "|                                  |                  |                                 |    \"accuracy\": 0.97            |\n",
      "|                                  |                  |                                 |  },                            |\n",
      "|                                  |                  |                                 |  \"num_training_examples\": 10,  |\n",
      "|                                  |                  |                                 |  \"test_accuracy\": 0.97         |\n",
      "|                                  |                  |                                 |}                               |\n",
      "|1ff312fab2f711edaccee289b4f89202  |\"target_digit_6\"  |{                                |{                               |\n",
      "|                                  |                  |  \"classifier_type\": \"svm.SVC\",  |  \"confusion_matrix\": [         |\n",
      "|                                  |                  |  \"stage\": \"production\",         |    [                           |\n",
      "|                                  |                  |  \"svc_C\": 10,                   |      90,                       |\n",
      "|                                  |                  |  \"svc_gamma\": 0.001             |      0                         |\n",
      "|                                  |                  |}                                |    ],                          |\n",
      "|                                  |                  |                                 |    [                           |\n",
      "|                                  |                  |                                 |      3,                        |\n",
      "|                                  |                  |                                 |      7                         |\n",
      "|                                  |                  |                                 |    ]                           |\n",
      "|                                  |                  |                                 |  ],                            |\n",
      "|                                  |                  |                                 |  \"dataset_test\": {             |\n",
      "|                                  |                  |                                 |    \"accuracy\": 0.97            |\n",
      "|                                  |                  |                                 |  },                            |\n",
      "|                                  |                  |                                 |  \"num_training_examples\": 10,  |\n",
      "|                                  |                  |                                 |  \"test_accuracy\": 0.97         |\n",
      "|                                  |                  |                                 |}                               |\n",
      "|4c94d3d4b6fd11eda2d4e289b4f89202  |\"target_digit_6\"  |{                                |{                               |\n",
      "|                                  |                  |  \"classifier_type\": \"svm.SVC\",  |  \"confusion_matrix\": [         |\n",
      "|                                  |                  |  \"stage\": \"production\",         |    [                           |\n",
      "|                                  |                  |  \"svc_C\": 10,                   |      90,                       |\n",
      "|                                  |                  |  \"svc_gamma\": 0.001             |      0                         |\n",
      "|                                  |                  |}                                |    ],                          |\n",
      "|                                  |                  |                                 |    [                           |\n",
      "|                                  |                  |                                 |      3,                        |\n",
      "|                                  |                  |                                 |      7                         |\n",
      "|                                  |                  |                                 |    ]                           |\n",
      "|                                  |                  |                                 |  ],                            |\n",
      "|                                  |                  |                                 |  \"dataset_test\": {             |\n",
      "|                                  |                  |                                 |    \"accuracy\": 0.97            |\n",
      "|                                  |                  |                                 |  },                            |\n",
      "|                                  |                  |                                 |  \"num_training_examples\": 10,  |\n",
      "|                                  |                  |                                 |  \"test_accuracy\": 0.97         |\n",
      "|                                  |                  |                                 |}                               |\n",
      "|0fa110349abd11ed9a9de289b4f89203  |\"target_digit_6\"  |{                                |{                               |\n",
      "|                                  |                  |  \"classifier_type\": \"svm.SVC\",  |  \"confusion_matrix\": [         |\n",
      "|                                  |                  |  \"stage\": \"production\",         |    [                           |\n",
      "|                                  |                  |  \"svc_C\": 10,                   |      90,                       |\n",
      "|                                  |                  |  \"svc_gamma\": 0.001             |      0                         |\n",
      "|                                  |                  |}                                |    ],                          |\n",
      "|                                  |                  |                                 |    [                           |\n",
      "|                                  |                  |                                 |      3,                        |\n",
      "|                                  |                  |                                 |      7                         |\n",
      "|                                  |                  |                                 |    ]                           |\n",
      "|                                  |                  |                                 |  ],                            |\n",
      "|                                  |                  |                                 |  \"dataset_test\": {             |\n",
      "|                                  |                  |                                 |    \"accuracy\": 0.97            |\n",
      "|                                  |                  |                                 |  },                            |\n",
      "|                                  |                  |                                 |  \"num_training_examples\": 10,  |\n",
      "|                                  |                  |                                 |  \"test_accuracy\": 0.97         |\n",
      "|                                  |                  |                                 |}                               |\n",
      "|11415e4a99ef11edbd00e289b4f89203  |\"target_digit_6\"  |{                                |{                               |\n",
      "|                                  |                  |  \"classifier_type\": \"svm.SVC\",  |  \"confusion_matrix\": [         |\n",
      "|                                  |                  |  \"stage\": \"production\",         |    [                           |\n",
      "|                                  |                  |  \"svc_C\": 100,                  |      90,                       |\n",
      "|                                  |                  |  \"svc_gamma\": 0.01              |      0                         |\n",
      "|                                  |                  |}                                |    ],                          |\n",
      "|                                  |                  |                                 |    [                           |\n",
      "|                                  |                  |                                 |      10,                       |\n",
      "|                                  |                  |                                 |      0                         |\n",
      "|                                  |                  |                                 |    ]                           |\n",
      "|                                  |                  |                                 |  ],                            |\n",
      "|                                  |                  |                                 |  \"dataset_test\": {             |\n",
      "|                                  |                  |                                 |    \"accuracy\": 0.9             |\n",
      "|                                  |                  |                                 |  },                            |\n",
      "|                                  |                  |                                 |  \"num_training_examples\": 10,  |\n",
      "|                                  |                  |                                 |  \"test_accuracy\": 0.9          |\n",
      "|                                  |                  |                                 |}                               |\n",
      "--------------------------------------------------------------------------------------------------------------------------\n",
      "\n"
     ]
    }
   ],
   "source": [
    "model_list.select(\"ID\",\"NAME\",\"TAGS\",\"METRICS\").filter(\n",
    "    Column(\"NAME\") == new_model_name).order_by(Column(\"METRICS\")[\"test_accuracy\"], ascending=False \n",
    ").show()                                                                                                             "
   ]
  },
  {
   "cell_type": "markdown",
   "id": "f444385f",
   "metadata": {},
   "source": [
    "## Examine Model History"
   ]
  },
  {
   "cell_type": "markdown",
   "id": "2045ef23",
   "metadata": {},
   "source": [
    "In additon to the current state of the model metadata, we also give access to the history of all changes to the model metadata. This includes the registration event itself but also changes to any metadata of the model, when they happend and who initiated them."
   ]
  },
  {
   "cell_type": "markdown",
   "id": "fb221c55",
   "metadata": {},
   "source": [
    "### Relational API"
   ]
  },
  {
   "cell_type": "code",
   "execution_count": 15,
   "id": "aed50394",
   "metadata": {
    "scrolled": false
   },
   "outputs": [
    {
     "name": "stdout",
     "output_type": "stream",
     "text": [
      "-----------------------------------------------------------------------------------------------------------------------------------\n",
      "|\"EVENT_TIMESTAMP\"                 |\"ROLE\"                |\"ATTRIBUTE_NAME\"  |\"VALUE[ATTRIBUTE_NAME]\"                             |\n",
      "-----------------------------------------------------------------------------------------------------------------------------------\n",
      "|2023-02-27 16:40:50.433000-08:00  |\"ENG_ML_MODELING_RL\"  |REGISTRATION      |{                                                   |\n",
      "|                                  |                      |                  |  \"CREATION_ENVIRONMENT_SPEC\": {                    |\n",
      "|                                  |                      |                  |    \"python\": \"3.8.16\"                              |\n",
      "|                                  |                      |                  |  },                                                |\n",
      "|                                  |                      |                  |  \"CREATION_ROLE\": \"\\\"ENG_ML_MODELING_RL\\\"\",        |\n",
      "|                                  |                      |                  |  \"CREATION_TIME\": \"2023-02-27 16:40:50.433 -08...  |\n",
      "|                                  |                      |                  |  \"ID\": \"89f1499eb70011ed9cd3e289b4f89202\",         |\n",
      "|                                  |                      |                  |  \"TYPE\": \"SVC\",                                    |\n",
      "|                                  |                      |                  |  \"URI\": \"sfc:MODEL_REGISTRY.PUBLIC.SNOWML_MODE...  |\n",
      "|                                  |                      |                  |}                                                   |\n",
      "|2023-02-27 16:40:52.919000-08:00  |\"ENG_ML_MODELING_RL\"  |NAME              |\"my_model\"                                          |\n",
      "|2023-02-27 16:40:54.661000-08:00  |\"ENG_ML_MODELING_RL\"  |TAGS              |{                                                   |\n",
      "|                                  |                      |                  |  \"classifier_type\": \"svm.SVC\",                     |\n",
      "|                                  |                      |                  |  \"stage\": \"testing\",                               |\n",
      "|                                  |                      |                  |  \"svc_C\": 10,                                      |\n",
      "|                                  |                      |                  |  \"svc_gamma\": 0.001                                |\n",
      "|                                  |                      |                  |}                                                   |\n",
      "|2023-02-27 16:40:57.991000-08:00  |\"ENG_ML_MODELING_RL\"  |METRICS           |{                                                   |\n",
      "|                                  |                      |                  |  \"test_accuracy\": 0.97                             |\n",
      "|                                  |                      |                  |}                                                   |\n",
      "|2023-02-27 16:41:00.957000-08:00  |\"ENG_ML_MODELING_RL\"  |METRICS           |{                                                   |\n",
      "|                                  |                      |                  |  \"num_training_examples\": 10,                      |\n",
      "|                                  |                      |                  |  \"test_accuracy\": 0.97                             |\n",
      "|                                  |                      |                  |}                                                   |\n",
      "|2023-02-27 16:41:03.460000-08:00  |\"ENG_ML_MODELING_RL\"  |METRICS           |{                                                   |\n",
      "|                                  |                      |                  |  \"dataset_test\": {                                 |\n",
      "|                                  |                      |                  |    \"accuracy\": 0.97                                |\n",
      "|                                  |                      |                  |  },                                                |\n",
      "|                                  |                      |                  |  \"num_training_examples\": 10,                      |\n",
      "|                                  |                      |                  |  \"test_accuracy\": 0.97                             |\n",
      "|                                  |                      |                  |}                                                   |\n",
      "|2023-02-27 16:41:06.240000-08:00  |\"ENG_ML_MODELING_RL\"  |METRICS           |{                                                   |\n",
      "|                                  |                      |                  |  \"confusion_matrix\": [                             |\n",
      "|                                  |                      |                  |    [                                               |\n",
      "|                                  |                      |                  |      90,                                           |\n",
      "|                                  |                      |                  |      0                                             |\n",
      "|                                  |                      |                  |    ],                                              |\n",
      "|                                  |                      |                  |    [                                               |\n",
      "|                                  |                      |                  |      3,                                            |\n",
      "|                                  |                      |                  |      7                                             |\n",
      "|                                  |                      |                  |    ]                                               |\n",
      "|                                  |                      |                  |  ],                                                |\n",
      "|                                  |                      |                  |  \"dataset_test\": {                                 |\n",
      "|                                  |                      |                  |    \"accuracy\": 0.97                                |\n",
      "|                                  |                      |                  |  },                                                |\n",
      "|                                  |                      |                  |  \"num_training_examples\": 10,                      |\n",
      "|                                  |                      |                  |  \"test_accuracy\": 0.97                             |\n",
      "|                                  |                      |                  |}                                                   |\n",
      "|2023-02-27 16:41:10.150000-08:00  |\"ENG_ML_MODELING_RL\"  |TAGS              |{                                                   |\n",
      "|                                  |                      |                  |  \"classifier_type\": \"svm.SVC\",                     |\n",
      "|                                  |                      |                  |  \"minor_version\": \"23\",                            |\n",
      "|                                  |                      |                  |  \"stage\": \"testing\",                               |\n",
      "|                                  |                      |                  |  \"svc_C\": 10,                                      |\n",
      "|                                  |                      |                  |  \"svc_gamma\": 0.001                                |\n",
      "|                                  |                      |                  |}                                                   |\n",
      "|2023-02-27 16:41:13.219000-08:00  |\"ENG_ML_MODELING_RL\"  |TAGS              |{                                                   |\n",
      "|                                  |                      |                  |  \"classifier_type\": \"svm.SVC\",                     |\n",
      "|                                  |                      |                  |  \"stage\": \"testing\",                               |\n",
      "|                                  |                      |                  |  \"svc_C\": 10,                                      |\n",
      "|                                  |                      |                  |  \"svc_gamma\": 0.001                                |\n",
      "|                                  |                      |                  |}                                                   |\n",
      "|2023-02-27 16:41:16.383000-08:00  |\"ENG_ML_MODELING_RL\"  |TAGS              |{                                                   |\n",
      "|                                  |                      |                  |  \"classifier_type\": \"svm.SVC\",                     |\n",
      "|                                  |                      |                  |  \"stage\": \"production\",                            |\n",
      "|                                  |                      |                  |  \"svc_C\": 10,                                      |\n",
      "|                                  |                      |                  |  \"svc_gamma\": 0.001                                |\n",
      "|                                  |                      |                  |}                                                   |\n",
      "-----------------------------------------------------------------------------------------------------------------------------------\n",
      "\n"
     ]
    }
   ],
   "source": [
    "registry.get_model_history(id=model_id).select(\"EVENT_TIMESTAMP\", \"ROLE\", \"ATTRIBUTE_NAME\",\"VALUE[ATTRIBUTE_NAME]\").show()"
   ]
  },
  {
   "cell_type": "markdown",
   "id": "9810d4f4",
   "metadata": {},
   "source": [
    "### Object API"
   ]
  },
  {
   "cell_type": "code",
   "execution_count": 16,
   "id": "21f7e0b5",
   "metadata": {
    "scrolled": false
   },
   "outputs": [
    {
     "name": "stdout",
     "output_type": "stream",
     "text": [
      "-----------------------------------------------------------------------------------------------------------------------------------\n",
      "|\"EVENT_TIMESTAMP\"                 |\"ROLE\"                |\"ATTRIBUTE_NAME\"  |\"VALUE[ATTRIBUTE_NAME]\"                             |\n",
      "-----------------------------------------------------------------------------------------------------------------------------------\n",
      "|2023-02-27 16:40:50.433000-08:00  |\"ENG_ML_MODELING_RL\"  |REGISTRATION      |{                                                   |\n",
      "|                                  |                      |                  |  \"CREATION_ENVIRONMENT_SPEC\": {                    |\n",
      "|                                  |                      |                  |    \"python\": \"3.8.16\"                              |\n",
      "|                                  |                      |                  |  },                                                |\n",
      "|                                  |                      |                  |  \"CREATION_ROLE\": \"\\\"ENG_ML_MODELING_RL\\\"\",        |\n",
      "|                                  |                      |                  |  \"CREATION_TIME\": \"2023-02-27 16:40:50.433 -08...  |\n",
      "|                                  |                      |                  |  \"ID\": \"89f1499eb70011ed9cd3e289b4f89202\",         |\n",
      "|                                  |                      |                  |  \"TYPE\": \"SVC\",                                    |\n",
      "|                                  |                      |                  |  \"URI\": \"sfc:MODEL_REGISTRY.PUBLIC.SNOWML_MODE...  |\n",
      "|                                  |                      |                  |}                                                   |\n",
      "|2023-02-27 16:40:52.919000-08:00  |\"ENG_ML_MODELING_RL\"  |NAME              |\"my_model\"                                          |\n",
      "|2023-02-27 16:40:54.661000-08:00  |\"ENG_ML_MODELING_RL\"  |TAGS              |{                                                   |\n",
      "|                                  |                      |                  |  \"classifier_type\": \"svm.SVC\",                     |\n",
      "|                                  |                      |                  |  \"stage\": \"testing\",                               |\n",
      "|                                  |                      |                  |  \"svc_C\": 10,                                      |\n",
      "|                                  |                      |                  |  \"svc_gamma\": 0.001                                |\n",
      "|                                  |                      |                  |}                                                   |\n",
      "|2023-02-27 16:40:57.991000-08:00  |\"ENG_ML_MODELING_RL\"  |METRICS           |{                                                   |\n",
      "|                                  |                      |                  |  \"test_accuracy\": 0.97                             |\n",
      "|                                  |                      |                  |}                                                   |\n",
      "|2023-02-27 16:41:00.957000-08:00  |\"ENG_ML_MODELING_RL\"  |METRICS           |{                                                   |\n",
      "|                                  |                      |                  |  \"num_training_examples\": 10,                      |\n",
      "|                                  |                      |                  |  \"test_accuracy\": 0.97                             |\n",
      "|                                  |                      |                  |}                                                   |\n",
      "|2023-02-27 16:41:03.460000-08:00  |\"ENG_ML_MODELING_RL\"  |METRICS           |{                                                   |\n",
      "|                                  |                      |                  |  \"dataset_test\": {                                 |\n",
      "|                                  |                      |                  |    \"accuracy\": 0.97                                |\n",
      "|                                  |                      |                  |  },                                                |\n",
      "|                                  |                      |                  |  \"num_training_examples\": 10,                      |\n",
      "|                                  |                      |                  |  \"test_accuracy\": 0.97                             |\n",
      "|                                  |                      |                  |}                                                   |\n",
      "|2023-02-27 16:41:06.240000-08:00  |\"ENG_ML_MODELING_RL\"  |METRICS           |{                                                   |\n",
      "|                                  |                      |                  |  \"confusion_matrix\": [                             |\n",
      "|                                  |                      |                  |    [                                               |\n",
      "|                                  |                      |                  |      90,                                           |\n",
      "|                                  |                      |                  |      0                                             |\n",
      "|                                  |                      |                  |    ],                                              |\n",
      "|                                  |                      |                  |    [                                               |\n",
      "|                                  |                      |                  |      3,                                            |\n",
      "|                                  |                      |                  |      7                                             |\n",
      "|                                  |                      |                  |    ]                                               |\n",
      "|                                  |                      |                  |  ],                                                |\n",
      "|                                  |                      |                  |  \"dataset_test\": {                                 |\n",
      "|                                  |                      |                  |    \"accuracy\": 0.97                                |\n",
      "|                                  |                      |                  |  },                                                |\n",
      "|                                  |                      |                  |  \"num_training_examples\": 10,                      |\n",
      "|                                  |                      |                  |  \"test_accuracy\": 0.97                             |\n",
      "|                                  |                      |                  |}                                                   |\n",
      "|2023-02-27 16:41:10.150000-08:00  |\"ENG_ML_MODELING_RL\"  |TAGS              |{                                                   |\n",
      "|                                  |                      |                  |  \"classifier_type\": \"svm.SVC\",                     |\n",
      "|                                  |                      |                  |  \"minor_version\": \"23\",                            |\n",
      "|                                  |                      |                  |  \"stage\": \"testing\",                               |\n",
      "|                                  |                      |                  |  \"svc_C\": 10,                                      |\n",
      "|                                  |                      |                  |  \"svc_gamma\": 0.001                                |\n",
      "|                                  |                      |                  |}                                                   |\n",
      "|2023-02-27 16:41:13.219000-08:00  |\"ENG_ML_MODELING_RL\"  |TAGS              |{                                                   |\n",
      "|                                  |                      |                  |  \"classifier_type\": \"svm.SVC\",                     |\n",
      "|                                  |                      |                  |  \"stage\": \"testing\",                               |\n",
      "|                                  |                      |                  |  \"svc_C\": 10,                                      |\n",
      "|                                  |                      |                  |  \"svc_gamma\": 0.001                                |\n",
      "|                                  |                      |                  |}                                                   |\n",
      "|2023-02-27 16:41:16.383000-08:00  |\"ENG_ML_MODELING_RL\"  |TAGS              |{                                                   |\n",
      "|                                  |                      |                  |  \"classifier_type\": \"svm.SVC\",                     |\n",
      "|                                  |                      |                  |  \"stage\": \"production\",                            |\n",
      "|                                  |                      |                  |  \"svc_C\": 10,                                      |\n",
      "|                                  |                      |                  |  \"svc_gamma\": 0.001                                |\n",
      "|                                  |                      |                  |}                                                   |\n",
      "-----------------------------------------------------------------------------------------------------------------------------------\n",
      "\n"
     ]
    }
   ],
   "source": [
    "model.get_model_history().select(\"EVENT_TIMESTAMP\", \"ROLE\", \"ATTRIBUTE_NAME\",\"VALUE[ATTRIBUTE_NAME]\").show()"
   ]
  },
  {
   "cell_type": "markdown",
   "id": "735f0ac3",
   "metadata": {},
   "source": [
    "## Load Model"
   ]
  },
  {
   "cell_type": "markdown",
   "id": "0a43d2b6",
   "metadata": {},
   "source": [
    "We can also restore the model we saved to the registry and load it back into the local context to make predictions."
   ]
  },
  {
   "cell_type": "markdown",
   "id": "5e065521",
   "metadata": {},
   "source": [
    "### Relational API"
   ]
  },
  {
   "cell_type": "code",
   "execution_count": 17,
   "id": "cc0512e1",
   "metadata": {},
   "outputs": [
    {
     "name": "stdout",
     "output_type": "stream",
     "text": [
      "Original prediction: [False False False False False False False False False False]\n",
      "Restored prediction: [False False False False False False False False False False]\n"
     ]
    }
   ],
   "source": [
    "registry = model_registry.ModelRegistry(session=session)\n",
    "\n",
    "restored_clf = registry.load_model(id=model_id)\n",
    "\n",
    "restored_prediction = restored_clf.predict(test_features)\n",
    "\n",
    "print(\"Original prediction:\", prediction[:10])\n",
    "print(\"Restored prediction:\", restored_prediction[:10])"
   ]
  },
  {
   "cell_type": "markdown",
   "id": "4fbc0793",
   "metadata": {},
   "source": [
    "### Object API"
   ]
  },
  {
   "cell_type": "code",
   "execution_count": 18,
   "id": "2796f2e0",
   "metadata": {},
   "outputs": [
    {
     "name": "stdout",
     "output_type": "stream",
     "text": [
      "Original prediction: [False False False False False False False False False False]\n",
      "Restored prediction: [False False False False False False False False False False]\n"
     ]
    }
   ],
   "source": [
    "registry = model_registry.ModelRegistry(session=session)\n",
    "model = model_registry.ModelReference(registry=registry, id=model_id)\n",
    "restored_clf = model.load_model()\n",
    "\n",
    "restored_prediction = restored_clf.predict(test_features)\n",
    "\n",
    "print(\"Original prediction:\", prediction[:10])\n",
    "print(\"Restored prediction:\", restored_prediction[:10])"
   ]
  }
 ],
 "metadata": {
  "kernelspec": {
   "display_name": "Python 3 (ipykernel)",
   "language": "python",
   "name": "python3"
  },
  "language_info": {
   "codemirror_mode": {
    "name": "ipython",
    "version": 3
   },
   "file_extension": ".py",
   "mimetype": "text/x-python",
   "name": "python",
   "nbconvert_exporter": "python",
   "pygments_lexer": "ipython3",
   "version": "3.8.16"
  },
  "vscode": {
   "interpreter": {
    "hash": "fb0a62cbfaa59af7646af5a6672c5c3e72ec75fbadf6ff0336b6769523f221a5"
   }
  }
 },
 "nbformat": 4,
 "nbformat_minor": 5
}
