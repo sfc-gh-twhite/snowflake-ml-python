{
 "cells": [
  {
   "attachments": {},
   "cell_type": "markdown",
   "id": "5de3eb26",
   "metadata": {},
   "source": [
    "# Model Registry Demo"
   ]
  },
  {
   "attachments": {},
   "cell_type": "markdown",
   "id": "99e58d8c",
   "metadata": {},
   "source": [
    "## Setup Notebook and Import Path"
   ]
  },
  {
   "cell_type": "code",
   "execution_count": 1,
   "id": "d609ff44",
   "metadata": {},
   "outputs": [
    {
     "data": {
      "text/html": [
       "<style>.container { width:100% !important; }</style>"
      ],
      "text/plain": [
       "<IPython.core.display.HTML object>"
      ]
     },
     "metadata": {},
     "output_type": "display_data"
    }
   ],
   "source": [
    "# Scale cell width with the browser window to accommodate .show() commands for wider tables.\n",
    "from IPython.display import display, HTML\n",
    "display(HTML(\"<style>.container { width:100% !important; }</style>\"))"
   ]
  },
  {
   "cell_type": "code",
   "execution_count": 2,
   "id": "95cde1f7",
   "metadata": {},
   "outputs": [
    {
     "name": "stdout",
     "output_type": "stream",
     "text": [
      "Adding /Users/zzhu/workspace/sfml/snowml to system path\n"
     ]
    }
   ],
   "source": [
    "import sys\n",
    "import os\n",
    "\n",
    "# Simplify reading from the local repository\n",
    "cwd=os.getcwd()\n",
    "REPO_PREFIX=\"snowflake/ml\"\n",
    "LOCAL_REPO_PATH=cwd[:cwd.find(REPO_PREFIX)].rstrip('/')\n",
    "\n",
    "if LOCAL_REPO_PATH not in sys.path:\n",
    "    print(f\"Adding {LOCAL_REPO_PATH} to system path\")\n",
    "    sys.path.append(LOCAL_REPO_PATH)"
   ]
  },
  {
   "attachments": {},
   "cell_type": "markdown",
   "id": "c592d46c",
   "metadata": {},
   "source": [
    "## Train A Small Model"
   ]
  },
  {
   "attachments": {},
   "cell_type": "markdown",
   "id": "bec73215",
   "metadata": {},
   "source": [
    "The cell below trains a small model for demonstration purposes. The nature of the model does not matter, it is purely used to demonstrate the usage of the Model Registry."
   ]
  },
  {
   "cell_type": "code",
   "execution_count": 3,
   "id": "8cf44218",
   "metadata": {},
   "outputs": [],
   "source": [
    "from sklearn import svm, linear_model\n",
    "from sklearn.datasets import load_digits\n",
    "\n",
    "digits = load_digits()\n",
    "target_digit = 6\n",
    "num_training_examples = 10\n",
    "svc_gamma = 0.001\n",
    "svc_C = 10.\n",
    "\n",
    "clf = svm.SVC(gamma=svc_gamma, C=svc_C, probability=True)\n",
    "\n",
    "\n",
    "def one_vs_all(dataset, digit):\n",
    "    return [x == digit for x in dataset]\n",
    "\n",
    "# Train a classifier using num_training_examples and use the last 100 examples for test.\n",
    "train_features = digits.data[:num_training_examples]\n",
    "train_labels = one_vs_all(digits.target[:num_training_examples], target_digit)\n",
    "clf.fit(train_features, train_labels)\n",
    "\n",
    "test_features = digits.data[-100:]\n",
    "test_labels = one_vs_all(digits.target[-100:], target_digit)\n",
    "prediction = clf.predict(test_features)\n"
   ]
  },
  {
   "attachments": {},
   "cell_type": "markdown",
   "id": "20eef3b6",
   "metadata": {},
   "source": [
    "## Start Snowpark Session\n",
    "\n",
    "To avoid exposing credentials in Github, we use a small utility `SnowflakeLoginOptions`. It allows you to score your default credentials in `~/.snowsql/config` in the following format:\n",
    "```\n",
    "[connections]\n",
    "accountname = <string>   # Account identifier to connect to Snowflake.\n",
    "username = <string>      # User name in the account. Optional.\n",
    "password = <string>      # User password. Optional.\n",
    "dbname = <string>        # Default database. Optional.\n",
    "schemaname = <string>    # Default schema. Optional.\n",
    "warehousename = <string> # Default warehouse. Optional.\n",
    "#rolename = <string>      # Default role. Optional.\n",
    "#authenticator = <string> # Authenticator: 'snowflake', 'externalbrowser', etc\n",
    "```\n",
    "Please follow [this](https://docs.snowflake.com/en/user-guide/snowsql-start.html#configuring-default-connection-settings) for more details."
   ]
  },
  {
   "cell_type": "code",
   "execution_count": 4,
   "id": "75282f6d",
   "metadata": {},
   "outputs": [
    {
     "name": "stderr",
     "output_type": "stream",
     "text": [
      "SnowflakeLoginOptions() is in private preview since 0.2.0. Do not use it in production. \n"
     ]
    }
   ],
   "source": [
    "from snowflake.ml.utils.connection_params import SnowflakeLoginOptions\n",
    "from snowflake.snowpark import Session, Column, functions\n",
    "\n",
    "session = Session.builder.configs(SnowflakeLoginOptions()).create()"
   ]
  },
  {
   "attachments": {},
   "cell_type": "markdown",
   "id": "dfa9ab88",
   "metadata": {},
   "source": [
    "## Open/Create Model Registry"
   ]
  },
  {
   "attachments": {},
   "cell_type": "markdown",
   "id": "676b28b3",
   "metadata": {},
   "source": [
    "A model registry needs to be created before it can be used. The creation will create a new database in the current account so the active role needs to have permissions to create a database. After the first creation, the model registry can be opened without the need to create it again."
   ]
  },
  {
   "cell_type": "code",
   "execution_count": 5,
   "id": "5d37ad34",
   "metadata": {},
   "outputs": [],
   "source": [
    "import importlib\n",
    "from snowflake.ml.registry import model_registry\n",
    "# Force re-loading model_registry in case we updated the package during the runtime of this notebook.\n",
    "importlib.reload(model_registry)\n",
    "\n",
    "registry_name = \"model_registry_zzhu\""
   ]
  },
  {
   "cell_type": "code",
   "execution_count": 6,
   "id": "98dbe771",
   "metadata": {},
   "outputs": [
    {
     "name": "stderr",
     "output_type": "stream",
     "text": [
      "WARNING:snowflake.snowpark:create_model_registry() is in private preview since 0.2.0. Do not use it in production. \n",
      "WARNING:absl:The database model_registry_zzhu already exists. Skipping creation.\n",
      "WARNING:absl:The schmea \"model_registry_zzhu\".\"_SYSTEM_MODEL_REGISTRY_SCHEMA\" already exists. Skipping creation.\n"
     ]
    }
   ],
   "source": [
    "# Create a new model registry. This will be a no-op if the registry already exists.\n",
    "create_result = model_registry.create_model_registry(session=session, database_name=registry_name)"
   ]
  },
  {
   "cell_type": "code",
   "execution_count": 7,
   "id": "7fff21bc",
   "metadata": {},
   "outputs": [],
   "source": [
    "registry = model_registry.ModelRegistry(session=session, database_name=registry_name)"
   ]
  },
  {
   "attachments": {},
   "cell_type": "markdown",
   "id": "5d6a85b3",
   "metadata": {},
   "source": [
    "There are two functionally equivalent APIs to interact with the model registry.\n",
    "\n",
    "* A _relational API_ where all operations are performed as methods of the `registry` object and \n",
    "* a _object API_ where operations on a specific model are performend as methods of a `ModelReference` object.\n",
    "\n",
    "The usage examples below will add some color to the two APIs and how they behave."
   ]
  },
  {
   "attachments": {},
   "cell_type": "markdown",
   "id": "317e7843",
   "metadata": {},
   "source": [
    "## Register a new Model"
   ]
  },
  {
   "attachments": {},
   "cell_type": "markdown",
   "id": "3bdda91a",
   "metadata": {},
   "source": [
    "Registering a new model is always performed through the relational API. \n",
    "\n",
    "The call to `log_model` executes a few steps:\n",
    "1. The given model object is serialized and uploaded to a stage.\n",
    "1. An entry in the Model Registry is created for the model, referencing the model stage location.\n",
    "1. Additional metadata is updated for the model as provided in the call.\n",
    "\n",
    "For the serialization to work, the model object needs to be serializable in python."
   ]
  },
  {
   "cell_type": "code",
   "execution_count": 9,
   "id": "9d8ad06e",
   "metadata": {},
   "outputs": [],
   "source": [
    "# A name and model tags can be added to the model at registration time.\n",
    "model_name = \"my_model\"\n",
    "model_version = \"108.1.4\""
   ]
  },
  {
   "cell_type": "code",
   "execution_count": 10,
   "id": "84e10dc9",
   "metadata": {},
   "outputs": [
    {
     "name": "stderr",
     "output_type": "stream",
     "text": [
      "WARNING:snowflake.snowpark:ModelRegistry.log_model() is in private preview since 0.2.0. Do not use it in production. \n",
      "WARNING:snowflake.snowpark:ModelRegistry.list_models() is in private preview since 0.2.0. Do not use it in production. \n"
     ]
    }
   ],
   "source": [
    "model_id = registry.log_model(model_name=model_name, model_version=model_version, model=clf, tags={\n",
    "    \"stage\": \"testing\", \"classifier_type\": \"svm.SVC\", \"svc_gamma\": svc_gamma, \"svc_C\": svc_C}, sample_input_data=train_features)"
   ]
  },
  {
   "cell_type": "code",
   "execution_count": 11,
   "id": "b463bad9",
   "metadata": {},
   "outputs": [
    {
     "name": "stdout",
     "output_type": "stream",
     "text": [
      "Registered new model id: 78faa1380b2611eeadb2acde48001122\n"
     ]
    }
   ],
   "source": [
    "# The object API can be used to reference a model after creation.\n",
    "model = model_registry.ModelReference(registry=registry, model_name=model_name, model_version=model_version)\n",
    "print(\"Registered new model id:\", model_id)"
   ]
  },
  {
   "attachments": {},
   "cell_type": "markdown",
   "id": "27d1158d",
   "metadata": {},
   "source": [
    "## Add Metrics"
   ]
  },
  {
   "attachments": {},
   "cell_type": "markdown",
   "id": "d6035ca5",
   "metadata": {},
   "source": [
    "Metrics are a type of metadata annotation that can be associated with models stored in the Model Registry. Metrics often take the form of scalars but we also support more complex objects such as arrays or dictionaries to represent metrics. In the exmamples below, we add scalars, dictionaries, and a 2-dimensional numpy array as metrics."
   ]
  },
  {
   "cell_type": "code",
   "execution_count": 12,
   "id": "c2b0cdbd",
   "metadata": {},
   "outputs": [
    {
     "name": "stderr",
     "output_type": "stream",
     "text": [
      "WARNING:snowflake.snowpark:ModelRegistry.set_metric() is in private preview since 0.2.0. Do not use it in production. \n",
      "WARNING:snowflake.snowpark:ModelRegistry.get_metrics() is in private preview since 0.2.0. Do not use it in production. \n"
     ]
    },
    {
     "name": "stdout",
     "output_type": "stream",
     "text": [
      "Model test accuracy: 0.97\n",
      "Confusion matrix: [[90  0]\n",
      " [ 3  7]]\n"
     ]
    }
   ],
   "source": [
    "from sklearn import metrics\n",
    "\n",
    "test_accuracy = metrics.accuracy_score(test_labels, prediction)\n",
    "print(\"Model test accuracy:\", test_accuracy)\n",
    "\n",
    "# Simple scalar metrics.\n",
    "\n",
    "# Relational API\n",
    "registry.set_metric(model_name=model_name, model_version=model_version, metric_name=\"test_accuracy\", metric_value=test_accuracy)\n",
    "\n",
    "# Object API\n",
    "model.set_metric(metric_name=\"num_training_examples\", metric_value=num_training_examples)\n",
    "\n",
    "# Hierarchical metric.\n",
    "registry.set_metric(model_name=model_name, model_version=model_version, metric_name=\"dataset_test\", metric_value={\"accuracy\": test_accuracy})\n",
    "\n",
    "# Multivalent metric:\n",
    "test_confusion_matrix = metrics.confusion_matrix(test_labels, prediction)\n",
    "print(\"Confusion matrix:\", test_confusion_matrix)\n",
    "\n",
    "registry.set_metric(model_name=model_name, model_version=model_version, metric_name=\"confusion_matrix\", metric_value=test_confusion_matrix)"
   ]
  },
  {
   "cell_type": "code",
   "execution_count": 13,
   "id": "45b81834",
   "metadata": {},
   "outputs": [
    {
     "data": {
      "text/plain": [
       "{'confusion_matrix': [[90, 0], [3, 7]],\n",
       " 'dataset_test': {'accuracy': 0.97},\n",
       " 'num_training_examples': 10,\n",
       " 'test_accuracy': 0.97}"
      ]
     },
     "execution_count": 13,
     "metadata": {},
     "output_type": "execute_result"
    }
   ],
   "source": [
    "# Relational API\n",
    "registry.get_metrics(model_name=model_name, model_version=model_version)"
   ]
  },
  {
   "cell_type": "code",
   "execution_count": 14,
   "id": "9a2627c5",
   "metadata": {},
   "outputs": [
    {
     "data": {
      "text/plain": [
       "{'confusion_matrix': [[90, 0], [3, 7]],\n",
       " 'dataset_test': {'accuracy': 0.97},\n",
       " 'num_training_examples': 10,\n",
       " 'test_accuracy': 0.97}"
      ]
     },
     "execution_count": 14,
     "metadata": {},
     "output_type": "execute_result"
    }
   ],
   "source": [
    "# Object API\n",
    "model.get_metrics()"
   ]
  },
  {
   "attachments": {},
   "cell_type": "markdown",
   "id": "98164cb7",
   "metadata": {},
   "source": [
    "## List Model in Registry"
   ]
  },
  {
   "attachments": {},
   "cell_type": "markdown",
   "id": "67eac368",
   "metadata": {},
   "source": [
    "Listing models in the registry returns a SnowPark DataFrame. That allows the caller to select and filter the models as needed. In the example below, we list the name, tags, and metrics for the model we just added."
   ]
  },
  {
   "cell_type": "code",
   "execution_count": 15,
   "id": "dc82b541",
   "metadata": {},
   "outputs": [
    {
     "name": "stdout",
     "output_type": "stream",
     "text": [
      "-------------------------------------------------------------------------------------------\n",
      "|\"NAME\"    |\"VERSION\"  |\"TAGS\"                           |\"METRICS\"                       |\n",
      "-------------------------------------------------------------------------------------------\n",
      "|my_model  |108.1.4    |{                                |{                               |\n",
      "|          |           |  \"classifier_type\": \"svm.SVC\",  |  \"confusion_matrix\": [         |\n",
      "|          |           |  \"stage\": \"testing\",            |    [                           |\n",
      "|          |           |  \"svc_C\": 10,                   |      90,                       |\n",
      "|          |           |  \"svc_gamma\": 0.001             |      0                         |\n",
      "|          |           |}                                |    ],                          |\n",
      "|          |           |                                 |    [                           |\n",
      "|          |           |                                 |      3,                        |\n",
      "|          |           |                                 |      7                         |\n",
      "|          |           |                                 |    ]                           |\n",
      "|          |           |                                 |  ],                            |\n",
      "|          |           |                                 |  \"dataset_test\": {             |\n",
      "|          |           |                                 |    \"accuracy\": 0.97            |\n",
      "|          |           |                                 |  },                            |\n",
      "|          |           |                                 |  \"num_training_examples\": 10,  |\n",
      "|          |           |                                 |  \"test_accuracy\": 0.97         |\n",
      "|          |           |                                 |}                               |\n",
      "-------------------------------------------------------------------------------------------\n",
      "\n"
     ]
    }
   ],
   "source": [
    "model_list = registry.list_models()\n",
    "\n",
    "model_list.filter(model_list[\"VERSION\"] == model_version).select(\"NAME\",\"VERSION\",\"TAGS\",\"METRICS\").show()"
   ]
  },
  {
   "attachments": {},
   "cell_type": "markdown",
   "id": "5706004c",
   "metadata": {},
   "source": [
    "## Metadata: Tags and Descriptions"
   ]
  },
  {
   "attachments": {},
   "cell_type": "markdown",
   "id": "05cee94f",
   "metadata": {},
   "source": [
    "Similar to how we changed metrics in the example above, we can also edit tags and descriptions of models both with the relational API and with the object API."
   ]
  },
  {
   "attachments": {},
   "cell_type": "markdown",
   "id": "88707ecd",
   "metadata": {},
   "source": [
    "### Relational API"
   ]
  },
  {
   "cell_type": "code",
   "execution_count": 16,
   "id": "f80f78da",
   "metadata": {},
   "outputs": [
    {
     "name": "stderr",
     "output_type": "stream",
     "text": [
      "WARNING:snowflake.snowpark:ModelRegistry.get_tags() is in private preview since 0.2.0. Do not use it in production. \n",
      "WARNING:snowflake.snowpark:ModelRegistry.set_tag() is in private preview since 0.2.0. Do not use it in production. \n"
     ]
    },
    {
     "name": "stdout",
     "output_type": "stream",
     "text": [
      "Old tags: {'classifier_type': 'svm.SVC', 'stage': 'testing', 'svc_C': 10, 'svc_gamma': 0.001}\n"
     ]
    },
    {
     "name": "stderr",
     "output_type": "stream",
     "text": [
      "WARNING:snowflake.snowpark:ModelRegistry.remove_tag() is in private preview since 0.2.0. Do not use it in production. \n"
     ]
    },
    {
     "name": "stdout",
     "output_type": "stream",
     "text": [
      "Added tag: {'classifier_type': 'svm.SVC', 'minor_version': '23', 'stage': 'testing', 'svc_C': 10, 'svc_gamma': 0.001}\n",
      "Removed tag {'classifier_type': 'svm.SVC', 'stage': 'testing', 'svc_C': 10, 'svc_gamma': 0.001}\n"
     ]
    },
    {
     "name": "stderr",
     "output_type": "stream",
     "text": [
      "WARNING:snowflake.snowpark:ModelRegistry.set_model_description() is in private preview since 0.2.0. Do not use it in production. \n"
     ]
    },
    {
     "name": "stdout",
     "output_type": "stream",
     "text": [
      "Updated tag: {'classifier_type': 'svm.SVC', 'stage': 'production', 'svc_C': 10, 'svc_gamma': 0.001}\n"
     ]
    },
    {
     "name": "stderr",
     "output_type": "stream",
     "text": [
      "WARNING:snowflake.snowpark:ModelRegistry.get_model_description() is in private preview since 0.2.0. Do not use it in production. \n"
     ]
    },
    {
     "name": "stdout",
     "output_type": "stream",
     "text": [
      "Added description: \"My model is better than talkgpt-5!\"\n"
     ]
    }
   ],
   "source": [
    "print(\"Old tags:\", registry.get_tags(model_name=model_name, model_version=model_version))\n",
    "\n",
    "registry.set_tag(model_name=model_name, model_version=model_version, tag_name=\"minor_version\", tag_value=\"23\")\n",
    "print(\"Added tag:\", registry.get_tags(model_name=model_name, model_version=model_version,))\n",
    "\n",
    "registry.remove_tag(model_name=model_name, model_version=model_version, tag_name=\"minor_version\")\n",
    "print(\"Removed tag\", registry.get_tags(model_name=model_name, model_version=model_version,))\n",
    "\n",
    "registry.set_tag(model_name, model_version,\"stage\",\"production\")\n",
    "print(\"Updated tag:\", registry.get_tags(model_name=model_name, model_version=model_version,))\n",
    "\n",
    "registry.set_model_description(description=\"My model is better than talkgpt-5!\", model_name=model_name, model_version=model_version,)\n",
    "print(\"Added description:\", registry.get_model_description(model_name=model_name, model_version=model_version,))"
   ]
  },
  {
   "attachments": {},
   "cell_type": "markdown",
   "id": "47e80e1e",
   "metadata": {},
   "source": [
    "### Object API"
   ]
  },
  {
   "cell_type": "code",
   "execution_count": 17,
   "id": "7905d9c9",
   "metadata": {},
   "outputs": [
    {
     "name": "stdout",
     "output_type": "stream",
     "text": [
      "Old tags: {'classifier_type': 'svm.SVC', 'stage': 'production', 'svc_C': 10, 'svc_gamma': 0.001}\n",
      "Added tag: {'classifier_type': 'svm.SVC', 'minor_version': '23', 'stage': 'production', 'svc_C': 10, 'svc_gamma': 0.001}\n",
      "Removed tag {'classifier_type': 'svm.SVC', 'stage': 'production', 'svc_C': 10, 'svc_gamma': 0.001}\n",
      "Updated tag: {'classifier_type': 'svm.SVC', 'stage': 'production', 'svc_C': 10, 'svc_gamma': 0.001}\n",
      "New description: \"My model is better than speakgpt-6!\"\n"
     ]
    }
   ],
   "source": [
    "print(\"Old tags:\", model.get_tags())\n",
    "\n",
    "model.set_tag(\"minor_version\", \"23\")\n",
    "print(\"Added tag:\", model.get_tags())\n",
    "\n",
    "model.remove_tag(\"minor_version\")\n",
    "print(\"Removed tag\", model.get_tags())\n",
    "\n",
    "model.set_tag(\"stage\", \"production\")\n",
    "print(\"Updated tag:\", model.get_tags())\n",
    "\n",
    "model.set_model_description(description=\"My model is better than speakgpt-6!\")\n",
    "print(\"New description:\", model.get_model_description())"
   ]
  },
  {
   "attachments": {},
   "cell_type": "markdown",
   "id": "72ade02b",
   "metadata": {},
   "source": [
    "## List recent Models in Registry"
   ]
  },
  {
   "attachments": {},
   "cell_type": "markdown",
   "id": "645df90e",
   "metadata": {},
   "source": [
    "Listing the models in the Model Registry returns a dataframe that allows us to conveniently manipulate the model list. In the example below, we show all models in the Model Registry sorted by recency."
   ]
  },
  {
   "cell_type": "code",
   "execution_count": 18,
   "id": "eef6965d",
   "metadata": {
    "scrolled": true
   },
   "outputs": [
    {
     "name": "stdout",
     "output_type": "stream",
     "text": [
      "--------------------------------------------------------------------------------------------------------------------------------\n",
      "|\"ID\"                              |\"NAME\"    |\"VERSION\"  |\"CREATION_TIME\"                   |\"TAGS\"                           |\n",
      "--------------------------------------------------------------------------------------------------------------------------------\n",
      "|78faa1380b2611eeadb2acde48001122  |my_model  |108.1.4    |2023-06-14 19:43:57.777000-07:00  |{                                |\n",
      "|                                  |          |           |                                  |  \"classifier_type\": \"svm.SVC\",  |\n",
      "|                                  |          |           |                                  |  \"stage\": \"production\",         |\n",
      "|                                  |          |           |                                  |  \"svc_C\": 10,                   |\n",
      "|                                  |          |           |                                  |  \"svc_gamma\": 0.001             |\n",
      "|                                  |          |           |                                  |}                                |\n",
      "|3c542f3e0b1611eeaa9bacde48001122  |my_model  |108.1.3    |2023-06-14 17:47:43.518000-07:00  |{                                |\n",
      "|                                  |          |           |                                  |  \"classifier_type\": \"svm.SVC\",  |\n",
      "|                                  |          |           |                                  |  \"stage\": \"production\",         |\n",
      "|                                  |          |           |                                  |  \"svc_C\": 10,                   |\n",
      "|                                  |          |           |                                  |  \"svc_gamma\": 0.001             |\n",
      "|                                  |          |           |                                  |}                                |\n",
      "|851a38780b1411eebe43acde48001122  |my_model  |108.1.2    |2023-06-14 17:35:26.513000-07:00  |{                                |\n",
      "|                                  |          |           |                                  |  \"classifier_type\": \"svm.SVC\",  |\n",
      "|                                  |          |           |                                  |  \"stage\": \"production\",         |\n",
      "|                                  |          |           |                                  |  \"svc_C\": 10,                   |\n",
      "|                                  |          |           |                                  |  \"svc_gamma\": 0.001             |\n",
      "|                                  |          |           |                                  |}                                |\n",
      "--------------------------------------------------------------------------------------------------------------------------------\n",
      "\n"
     ]
    }
   ],
   "source": [
    "model_list.select(\"ID\",\"NAME\",\"VERSION\",\"CREATION_TIME\",\"TAGS\").order_by(\"CREATION_TIME\", ascending=False).show(3)"
   ]
  },
  {
   "attachments": {},
   "cell_type": "markdown",
   "id": "b2a42a8f",
   "metadata": {},
   "source": [
    "## List all versions of a Model ordered by test set accuracy"
   ]
  },
  {
   "attachments": {},
   "cell_type": "markdown",
   "id": "833bfd54",
   "metadata": {},
   "source": [
    "With a similar logic, we can also list all versions of a model with a given name sorted by a metric, in this case model accuracy."
   ]
  },
  {
   "cell_type": "code",
   "execution_count": 19,
   "id": "6df2eafc",
   "metadata": {
    "scrolled": false
   },
   "outputs": [
    {
     "name": "stdout",
     "output_type": "stream",
     "text": [
      "------------------------------------------------------------------------------------------------------------------------------\n",
      "|\"ID\"                              |\"NAME\"    |\"VERSION\"  |\"TAGS\"                           |\"METRICS\"                       |\n",
      "------------------------------------------------------------------------------------------------------------------------------\n",
      "|52057cee0b0b11ee96c6acde48001122  |my_model  |108.1.1    |{                                |{                               |\n",
      "|                                  |          |           |  \"classifier_type\": \"svm.SVC\",  |  \"confusion_matrix\": [         |\n",
      "|                                  |          |           |  \"stage\": \"production\",         |    [                           |\n",
      "|                                  |          |           |  \"svc_C\": 10,                   |      90,                       |\n",
      "|                                  |          |           |  \"svc_gamma\": 0.001             |      0                         |\n",
      "|                                  |          |           |}                                |    ],                          |\n",
      "|                                  |          |           |                                 |    [                           |\n",
      "|                                  |          |           |                                 |      3,                        |\n",
      "|                                  |          |           |                                 |      7                         |\n",
      "|                                  |          |           |                                 |    ]                           |\n",
      "|                                  |          |           |                                 |  ],                            |\n",
      "|                                  |          |           |                                 |  \"dataset_test\": {             |\n",
      "|                                  |          |           |                                 |    \"accuracy\": 0.97            |\n",
      "|                                  |          |           |                                 |  },                            |\n",
      "|                                  |          |           |                                 |  \"num_training_examples\": 10,  |\n",
      "|                                  |          |           |                                 |  \"test_accuracy\": 0.97         |\n",
      "|                                  |          |           |                                 |}                               |\n",
      "|851a38780b1411eebe43acde48001122  |my_model  |108.1.2    |{                                |{                               |\n",
      "|                                  |          |           |  \"classifier_type\": \"svm.SVC\",  |  \"confusion_matrix\": [         |\n",
      "|                                  |          |           |  \"stage\": \"production\",         |    [                           |\n",
      "|                                  |          |           |  \"svc_C\": 10,                   |      90,                       |\n",
      "|                                  |          |           |  \"svc_gamma\": 0.001             |      0                         |\n",
      "|                                  |          |           |}                                |    ],                          |\n",
      "|                                  |          |           |                                 |    [                           |\n",
      "|                                  |          |           |                                 |      3,                        |\n",
      "|                                  |          |           |                                 |      7                         |\n",
      "|                                  |          |           |                                 |    ]                           |\n",
      "|                                  |          |           |                                 |  ],                            |\n",
      "|                                  |          |           |                                 |  \"dataset_test\": {             |\n",
      "|                                  |          |           |                                 |    \"accuracy\": 0.97            |\n",
      "|                                  |          |           |                                 |  },                            |\n",
      "|                                  |          |           |                                 |  \"num_training_examples\": 10,  |\n",
      "|                                  |          |           |                                 |  \"test_accuracy\": 0.97         |\n",
      "|                                  |          |           |                                 |}                               |\n",
      "|3c542f3e0b1611eeaa9bacde48001122  |my_model  |108.1.3    |{                                |{                               |\n",
      "|                                  |          |           |  \"classifier_type\": \"svm.SVC\",  |  \"confusion_matrix\": [         |\n",
      "|                                  |          |           |  \"stage\": \"production\",         |    [                           |\n",
      "|                                  |          |           |  \"svc_C\": 10,                   |      90,                       |\n",
      "|                                  |          |           |  \"svc_gamma\": 0.001             |      0                         |\n",
      "|                                  |          |           |}                                |    ],                          |\n",
      "|                                  |          |           |                                 |    [                           |\n",
      "|                                  |          |           |                                 |      3,                        |\n",
      "|                                  |          |           |                                 |      7                         |\n",
      "|                                  |          |           |                                 |    ]                           |\n",
      "|                                  |          |           |                                 |  ],                            |\n",
      "|                                  |          |           |                                 |  \"dataset_test\": {             |\n",
      "|                                  |          |           |                                 |    \"accuracy\": 0.97            |\n",
      "|                                  |          |           |                                 |  },                            |\n",
      "|                                  |          |           |                                 |  \"num_training_examples\": 10,  |\n",
      "|                                  |          |           |                                 |  \"test_accuracy\": 0.97         |\n",
      "|                                  |          |           |                                 |}                               |\n",
      "------------------------------------------------------------------------------------------------------------------------------\n",
      "\n"
     ]
    }
   ],
   "source": [
    "model_list.select(\"ID\",\"NAME\",\"VERSION\",\"TAGS\",\"METRICS\").filter(\n",
    "    Column(\"NAME\") == model_name).order_by(Column(\"METRICS\")[\"test_accuracy\"], ascending=False \n",
    ").show(3)                                                                                                             "
   ]
  },
  {
   "attachments": {},
   "cell_type": "markdown",
   "id": "735f0ac3",
   "metadata": {},
   "source": [
    "## Load Model"
   ]
  },
  {
   "attachments": {},
   "cell_type": "markdown",
   "id": "0a43d2b6",
   "metadata": {},
   "source": [
    "We can also restore the model we saved to the registry and load it back into the local context to make predictions."
   ]
  },
  {
   "attachments": {},
   "cell_type": "markdown",
   "id": "5e065521",
   "metadata": {},
   "source": [
    "### Relational API"
   ]
  },
  {
   "cell_type": "code",
   "execution_count": 20,
   "id": "cc0512e1",
   "metadata": {},
   "outputs": [
    {
     "name": "stderr",
     "output_type": "stream",
     "text": [
      "WARNING:snowflake.snowpark:ModelRegistry.load_model() is in private preview since 0.2.0. Do not use it in production. \n"
     ]
    },
    {
     "name": "stdout",
     "output_type": "stream",
     "text": [
      "Original prediction: [False False False False False False False False False False]\n",
      "Restored prediction: [False False False False False False False False False False]\n"
     ]
    }
   ],
   "source": [
    "registry = model_registry.ModelRegistry(session=session, database_name=registry_name)\n",
    "\n",
    "restored_clf = registry.load_model(model_name=model_name, model_version=model_version)\n",
    "\n",
    "restored_prediction = restored_clf.predict(test_features)\n",
    "\n",
    "print(\"Original prediction:\", prediction[:10])\n",
    "print(\"Restored prediction:\", restored_prediction[:10])"
   ]
  },
  {
   "attachments": {},
   "cell_type": "markdown",
   "id": "4fbc0793",
   "metadata": {},
   "source": [
    "### Object API"
   ]
  },
  {
   "cell_type": "code",
   "execution_count": 21,
   "id": "2796f2e0",
   "metadata": {},
   "outputs": [
    {
     "name": "stdout",
     "output_type": "stream",
     "text": [
      "Original prediction: [False False False False False False False False False False]\n",
      "Restored prediction: [False False False False False False False False False False]\n"
     ]
    }
   ],
   "source": [
    "registry = model_registry.ModelRegistry(session=session, database_name=registry_name)\n",
    "model = model_registry.ModelReference(registry=registry, model_name=model_name, model_version=model_version)\n",
    "restored_clf = model.load_model()\n",
    "\n",
    "restored_prediction = restored_clf.predict(test_features)\n",
    "\n",
    "print(\"Original prediction:\", prediction[:10])\n",
    "print(\"Restored prediction:\", restored_prediction[:10])"
   ]
  },
  {
   "attachments": {},
   "cell_type": "markdown",
   "id": "7a0a1ef4",
   "metadata": {},
   "source": [
    "## Model Deployment\n",
    "Registry can be used to create deployment, which can be used for prediction. Deployment exists in the form of UDF. It could be either permanent or temporary.\n",
    "\n",
    "\n",
    "### Permanent deployment"
   ]
  },
  {
   "cell_type": "code",
   "execution_count": 22,
   "id": "c8473d12",
   "metadata": {},
   "outputs": [
    {
     "name": "stderr",
     "output_type": "stream",
     "text": [
      "WARNING:snowflake.snowpark:ModelRegistry.deploy() is in private preview since 0.2.0. Do not use it in production. \n",
      "/Users/zzhu/workspace/sfml/snowml/snowflake/ml/model/_deploy_client/warehouse/deploy.py:199: RuntimeWarning: Cannot find conda resolver, use Snowflake information schema for best-effort dependency pre-check.\n",
      "  warnings.warn(\n"
     ]
    },
    {
     "name": "stdout",
     "output_type": "stream",
     "text": [
      "Generated UDF file is persisted at: /var/folders/s7/g8c0ydfj6qx66718kzgrs5hm0000gn/T/tmp54ujoo_b.py\n"
     ]
    },
    {
     "name": "stderr",
     "output_type": "stream",
     "text": [
      "WARNING:snowflake.snowpark.session:The version of package anyio in the local environment is 3.6.2, which does not fit the criteria for the requirement anyio. Your UDF might not work when the package version is different between the server and your local environment\n",
      "WARNING:snowflake.snowpark.session:The version of package packaging in the local environment is 23.1, which does not fit the criteria for the requirement packaging. Your UDF might not work when the package version is different between the server and your local environment\n"
     ]
    },
    {
     "name": "stdout",
     "output_type": "stream",
     "text": [
      "\"model_registry_zzhu\".\"_SYSTEM_MODEL_REGISTRY_SCHEMA\".\"PERM_DEPLOY_0\" is deployed to warehouse.\n"
     ]
    }
   ],
   "source": [
    "# Create a permanent deployment\n",
    "model.deploy(deployment_name=\"PERM_DEPLOY_0\", target_method=\"predict\", permanent=True, options={\"relax_version\": True, \"_use_local_snowml\": True})"
   ]
  },
  {
   "cell_type": "code",
   "execution_count": 23,
   "id": "09d18340",
   "metadata": {},
   "outputs": [
    {
     "name": "stdout",
     "output_type": "stream",
     "text": [
      "Generated UDF file is persisted at: /var/folders/s7/g8c0ydfj6qx66718kzgrs5hm0000gn/T/tmpsjkyzl4i.py\n"
     ]
    },
    {
     "name": "stderr",
     "output_type": "stream",
     "text": [
      "WARNING:snowflake.snowpark.session:The version of package anyio in the local environment is 3.6.2, which does not fit the criteria for the requirement anyio. Your UDF might not work when the package version is different between the server and your local environment\n",
      "WARNING:snowflake.snowpark.session:The version of package packaging in the local environment is 23.1, which does not fit the criteria for the requirement packaging. Your UDF might not work when the package version is different between the server and your local environment\n"
     ]
    },
    {
     "name": "stdout",
     "output_type": "stream",
     "text": [
      "\"model_registry_zzhu\".\"_SYSTEM_MODEL_REGISTRY_SCHEMA\".\"PERM_DEPLOY_1\" is deployed to warehouse.\n"
     ]
    }
   ],
   "source": [
    "# Create a permanent deployment with overrided UDF stage path\n",
    "stage_path = f'\"{registry_name}\".PUBLIC._SYSTEM_REGISRTRY_DEPLOYMENTS_VIEW_TEST'\n",
    "session.sql(f\"CREATE STAGE IF NOT EXISTS {stage_path}\").collect()\n",
    "model.deploy(deployment_name=\"PERM_DEPLOY_1\", target_method=\"predict\", permanent=True, options={\"permanent_udf_stage_location\":'@'+stage_path, \"relax_version\": True, \"_use_local_snowml\": True})"
   ]
  },
  {
   "cell_type": "code",
   "execution_count": 24,
   "id": "99c1b5d7",
   "metadata": {},
   "outputs": [
    {
     "name": "stderr",
     "output_type": "stream",
     "text": [
      "WARNING:snowflake.snowpark:ModelRegistry.list_deployments() is in private preview since 1.0.1. Do not use it in production. \n"
     ]
    },
    {
     "name": "stdout",
     "output_type": "stream",
     "text": [
      "------------------------------------------------------\n",
      "|\"MODEL_NAME\"  |\"MODEL_VERSION\"  |\"DEPLOYMENT_NAME\"  |\n",
      "------------------------------------------------------\n",
      "|my_model      |108.1.4          |PERM_DEPLOY_0      |\n",
      "|my_model      |108.1.4          |PERM_DEPLOY_1      |\n",
      "------------------------------------------------------\n",
      "\n"
     ]
    }
   ],
   "source": [
    "model.list_deployments().select(\"MODEL_NAME\", \"MODEL_VERSION\", \"DEPLOYMENT_NAME\").show()"
   ]
  },
  {
   "cell_type": "code",
   "execution_count": 27,
   "id": "33660055",
   "metadata": {},
   "outputs": [
    {
     "name": "stderr",
     "output_type": "stream",
     "text": [
      "/Users/zzhu/workspace/sfml/snowml/snowflake/ml/model/_deploy_client/warehouse/deploy.py:199: RuntimeWarning: Cannot find conda resolver, use Snowflake information schema for best-effort dependency pre-check.\n",
      "  warnings.warn(\n"
     ]
    },
    {
     "name": "stdout",
     "output_type": "stream",
     "text": [
      "Generated UDF file is persisted at: /var/folders/s7/g8c0ydfj6qx66718kzgrs5hm0000gn/T/tmp2scru9ka.py\n"
     ]
    },
    {
     "name": "stderr",
     "output_type": "stream",
     "text": [
      "WARNING:snowflake.snowpark.session:The version of package anyio in the local environment is 3.6.2, which does not fit the criteria for the requirement anyio. Your UDF might not work when the package version is different between the server and your local environment\n",
      "WARNING:snowflake.snowpark.session:The version of package packaging in the local environment is 23.1, which does not fit the criteria for the requirement packaging. Your UDF might not work when the package version is different between the server and your local environment\n"
     ]
    },
    {
     "name": "stdout",
     "output_type": "stream",
     "text": [
      "\"model_registry_zzhu\".\"_SYSTEM_MODEL_REGISTRY_SCHEMA\".\"PERM_DEPLOY_2\" is deployed to warehouse.\n"
     ]
    }
   ],
   "source": [
    "# Create another permanent deployment\n",
    "model.deploy(deployment_name=\"PERM_DEPLOY_2\", target_method=\"predict\", permanent=True, options={\"relax_version\": True, \"_use_local_snowml\": True})"
   ]
  },
  {
   "cell_type": "code",
   "execution_count": 28,
   "id": "6983128d",
   "metadata": {},
   "outputs": [
    {
     "data": {
      "text/html": [
       "<div>\n",
       "<style scoped>\n",
       "    .dataframe tbody tr th:only-of-type {\n",
       "        vertical-align: middle;\n",
       "    }\n",
       "\n",
       "    .dataframe tbody tr th {\n",
       "        vertical-align: top;\n",
       "    }\n",
       "\n",
       "    .dataframe thead th {\n",
       "        text-align: right;\n",
       "    }\n",
       "</style>\n",
       "<table border=\"1\" class=\"dataframe\">\n",
       "  <thead>\n",
       "    <tr style=\"text-align: right;\">\n",
       "      <th></th>\n",
       "      <th>output_feature_0</th>\n",
       "    </tr>\n",
       "  </thead>\n",
       "  <tbody>\n",
       "    <tr>\n",
       "      <th>0</th>\n",
       "      <td>False</td>\n",
       "    </tr>\n",
       "    <tr>\n",
       "      <th>1</th>\n",
       "      <td>False</td>\n",
       "    </tr>\n",
       "    <tr>\n",
       "      <th>2</th>\n",
       "      <td>False</td>\n",
       "    </tr>\n",
       "    <tr>\n",
       "      <th>3</th>\n",
       "      <td>False</td>\n",
       "    </tr>\n",
       "    <tr>\n",
       "      <th>4</th>\n",
       "      <td>False</td>\n",
       "    </tr>\n",
       "    <tr>\n",
       "      <th>...</th>\n",
       "      <td>...</td>\n",
       "    </tr>\n",
       "    <tr>\n",
       "      <th>95</th>\n",
       "      <td>False</td>\n",
       "    </tr>\n",
       "    <tr>\n",
       "      <th>96</th>\n",
       "      <td>False</td>\n",
       "    </tr>\n",
       "    <tr>\n",
       "      <th>97</th>\n",
       "      <td>False</td>\n",
       "    </tr>\n",
       "    <tr>\n",
       "      <th>98</th>\n",
       "      <td>False</td>\n",
       "    </tr>\n",
       "    <tr>\n",
       "      <th>99</th>\n",
       "      <td>False</td>\n",
       "    </tr>\n",
       "  </tbody>\n",
       "</table>\n",
       "<p>100 rows × 1 columns</p>\n",
       "</div>"
      ],
      "text/plain": [
       "    output_feature_0\n",
       "0              False\n",
       "1              False\n",
       "2              False\n",
       "3              False\n",
       "4              False\n",
       "..               ...\n",
       "95             False\n",
       "96             False\n",
       "97             False\n",
       "98             False\n",
       "99             False\n",
       "\n",
       "[100 rows x 1 columns]"
      ]
     },
     "execution_count": 28,
     "metadata": {},
     "output_type": "execute_result"
    }
   ],
   "source": [
    "model.predict(\"PERM_DEPLOY_0\", test_features)"
   ]
  },
  {
   "cell_type": "code",
   "execution_count": 34,
   "id": "3ea350f9",
   "metadata": {},
   "outputs": [
    {
     "data": {
      "text/html": [
       "<div>\n",
       "<style scoped>\n",
       "    .dataframe tbody tr th:only-of-type {\n",
       "        vertical-align: middle;\n",
       "    }\n",
       "\n",
       "    .dataframe tbody tr th {\n",
       "        vertical-align: top;\n",
       "    }\n",
       "\n",
       "    .dataframe thead th {\n",
       "        text-align: right;\n",
       "    }\n",
       "</style>\n",
       "<table border=\"1\" class=\"dataframe\">\n",
       "  <thead>\n",
       "    <tr style=\"text-align: right;\">\n",
       "      <th></th>\n",
       "      <th>output_feature_0</th>\n",
       "    </tr>\n",
       "  </thead>\n",
       "  <tbody>\n",
       "    <tr>\n",
       "      <th>0</th>\n",
       "      <td>False</td>\n",
       "    </tr>\n",
       "    <tr>\n",
       "      <th>1</th>\n",
       "      <td>False</td>\n",
       "    </tr>\n",
       "    <tr>\n",
       "      <th>2</th>\n",
       "      <td>False</td>\n",
       "    </tr>\n",
       "    <tr>\n",
       "      <th>3</th>\n",
       "      <td>False</td>\n",
       "    </tr>\n",
       "    <tr>\n",
       "      <th>4</th>\n",
       "      <td>False</td>\n",
       "    </tr>\n",
       "    <tr>\n",
       "      <th>...</th>\n",
       "      <td>...</td>\n",
       "    </tr>\n",
       "    <tr>\n",
       "      <th>95</th>\n",
       "      <td>False</td>\n",
       "    </tr>\n",
       "    <tr>\n",
       "      <th>96</th>\n",
       "      <td>False</td>\n",
       "    </tr>\n",
       "    <tr>\n",
       "      <th>97</th>\n",
       "      <td>False</td>\n",
       "    </tr>\n",
       "    <tr>\n",
       "      <th>98</th>\n",
       "      <td>False</td>\n",
       "    </tr>\n",
       "    <tr>\n",
       "      <th>99</th>\n",
       "      <td>False</td>\n",
       "    </tr>\n",
       "  </tbody>\n",
       "</table>\n",
       "<p>100 rows × 1 columns</p>\n",
       "</div>"
      ],
      "text/plain": [
       "    output_feature_0\n",
       "0              False\n",
       "1              False\n",
       "2              False\n",
       "3              False\n",
       "4              False\n",
       "..               ...\n",
       "95             False\n",
       "96             False\n",
       "97             False\n",
       "98             False\n",
       "99             False\n",
       "\n",
       "[100 rows x 1 columns]"
      ]
     },
     "execution_count": 34,
     "metadata": {},
     "output_type": "execute_result"
    }
   ],
   "source": [
    "model.predict(\"PERM_DEPLOY_1\", test_features)"
   ]
  },
  {
   "cell_type": "code",
   "execution_count": 26,
   "id": "2f67db59",
   "metadata": {},
   "outputs": [
    {
     "data": {
      "text/html": [
       "<div>\n",
       "<style scoped>\n",
       "    .dataframe tbody tr th:only-of-type {\n",
       "        vertical-align: middle;\n",
       "    }\n",
       "\n",
       "    .dataframe tbody tr th {\n",
       "        vertical-align: top;\n",
       "    }\n",
       "\n",
       "    .dataframe thead th {\n",
       "        text-align: right;\n",
       "    }\n",
       "</style>\n",
       "<table border=\"1\" class=\"dataframe\">\n",
       "  <thead>\n",
       "    <tr style=\"text-align: right;\">\n",
       "      <th></th>\n",
       "      <th>output_feature_0</th>\n",
       "    </tr>\n",
       "  </thead>\n",
       "  <tbody>\n",
       "    <tr>\n",
       "      <th>0</th>\n",
       "      <td>False</td>\n",
       "    </tr>\n",
       "    <tr>\n",
       "      <th>1</th>\n",
       "      <td>False</td>\n",
       "    </tr>\n",
       "    <tr>\n",
       "      <th>2</th>\n",
       "      <td>False</td>\n",
       "    </tr>\n",
       "    <tr>\n",
       "      <th>3</th>\n",
       "      <td>False</td>\n",
       "    </tr>\n",
       "    <tr>\n",
       "      <th>4</th>\n",
       "      <td>False</td>\n",
       "    </tr>\n",
       "    <tr>\n",
       "      <th>...</th>\n",
       "      <td>...</td>\n",
       "    </tr>\n",
       "    <tr>\n",
       "      <th>95</th>\n",
       "      <td>False</td>\n",
       "    </tr>\n",
       "    <tr>\n",
       "      <th>96</th>\n",
       "      <td>False</td>\n",
       "    </tr>\n",
       "    <tr>\n",
       "      <th>97</th>\n",
       "      <td>False</td>\n",
       "    </tr>\n",
       "    <tr>\n",
       "      <th>98</th>\n",
       "      <td>False</td>\n",
       "    </tr>\n",
       "    <tr>\n",
       "      <th>99</th>\n",
       "      <td>False</td>\n",
       "    </tr>\n",
       "  </tbody>\n",
       "</table>\n",
       "<p>100 rows × 1 columns</p>\n",
       "</div>"
      ],
      "text/plain": [
       "    output_feature_0\n",
       "0              False\n",
       "1              False\n",
       "2              False\n",
       "3              False\n",
       "4              False\n",
       "..               ...\n",
       "95             False\n",
       "96             False\n",
       "97             False\n",
       "98             False\n",
       "99             False\n",
       "\n",
       "[100 rows x 1 columns]"
      ]
     },
     "execution_count": 26,
     "metadata": {},
     "output_type": "execute_result"
    }
   ],
   "source": [
    "model.predict(\"PERM_DEPLOY_2\", test_features)"
   ]
  },
  {
   "cell_type": "code",
   "execution_count": 35,
   "id": "2732495f",
   "metadata": {},
   "outputs": [
    {
     "name": "stderr",
     "output_type": "stream",
     "text": [
      "WARNING:snowflake.snowpark:ModelRegistry.delete_deployment() is in private preview since 1.0.1. Do not use it in production. \n"
     ]
    }
   ],
   "source": [
    "model.delete_deployment(deployment_name=\"PERM_DEPLOY_2\")"
   ]
  },
  {
   "cell_type": "code",
   "execution_count": 36,
   "id": "168f7817",
   "metadata": {},
   "outputs": [
    {
     "name": "stdout",
     "output_type": "stream",
     "text": [
      "------------------------------------------------------\n",
      "|\"MODEL_NAME\"  |\"MODEL_VERSION\"  |\"DEPLOYMENT_NAME\"  |\n",
      "------------------------------------------------------\n",
      "|my_model      |108.1.4          |PERM_DEPLOY_0      |\n",
      "|my_model      |108.1.4          |PERM_DEPLOY_1      |\n",
      "------------------------------------------------------\n",
      "\n"
     ]
    }
   ],
   "source": [
    "model.list_deployments().select(\"MODEL_NAME\", \"MODEL_VERSION\", \"DEPLOYMENT_NAME\").show()"
   ]
  },
  {
   "attachments": {},
   "cell_type": "markdown",
   "id": "208c112d",
   "metadata": {},
   "source": [
    "### Temporary deployments\n"
   ]
  },
  {
   "attachments": {},
   "cell_type": "markdown",
   "id": "052a1577",
   "metadata": {},
   "source": [
    "The key distinction between permanent and temporary deployments lies in their lifespan. Temporary deployments are session-scoped and get removed when the session ends. As a result, the methods `delete_deployment()` and `list_deployments()` currently do not suppoort temporary deployments."
   ]
  },
  {
   "cell_type": "code",
   "execution_count": 30,
   "id": "c8027bf8",
   "metadata": {},
   "outputs": [
    {
     "name": "stderr",
     "output_type": "stream",
     "text": [
      "/Users/zzhu/workspace/sfml/snowml/snowflake/ml/model/_deploy_client/warehouse/deploy.py:199: RuntimeWarning: Cannot find conda resolver, use Snowflake information schema for best-effort dependency pre-check.\n",
      "  warnings.warn(\n"
     ]
    },
    {
     "name": "stdout",
     "output_type": "stream",
     "text": [
      "Generated UDF file is persisted at: /var/folders/s7/g8c0ydfj6qx66718kzgrs5hm0000gn/T/tmpzh6drlez.py\n"
     ]
    },
    {
     "name": "stderr",
     "output_type": "stream",
     "text": [
      "WARNING:snowflake.snowpark.session:The version of package anyio in the local environment is 3.6.2, which does not fit the criteria for the requirement anyio. Your UDF might not work when the package version is different between the server and your local environment\n",
      "WARNING:snowflake.snowpark.session:The version of package packaging in the local environment is 23.1, which does not fit the criteria for the requirement packaging. Your UDF might not work when the package version is different between the server and your local environment\n"
     ]
    },
    {
     "name": "stdout",
     "output_type": "stream",
     "text": [
      "\"model_registry_zzhu\".\"_SYSTEM_MODEL_REGISTRY_SCHEMA\".\"TEMP_DEPLOY_0\" is deployed to warehouse.\n"
     ]
    }
   ],
   "source": [
    "# Create a temporary deployment\n",
    "model.deploy(deployment_name=\"TEMP_DEPLOY_0\", target_method=\"predict\", permanent=False, options={\"relax_version\": True, \"_use_local_snowml\": True})"
   ]
  },
  {
   "cell_type": "code",
   "execution_count": 31,
   "id": "3a5cfd5f",
   "metadata": {},
   "outputs": [
    {
     "name": "stdout",
     "output_type": "stream",
     "text": [
      "Generated UDF file is persisted at: /var/folders/s7/g8c0ydfj6qx66718kzgrs5hm0000gn/T/tmpesq236du.py\n"
     ]
    },
    {
     "name": "stderr",
     "output_type": "stream",
     "text": [
      "WARNING:snowflake.snowpark.session:The version of package anyio in the local environment is 3.6.2, which does not fit the criteria for the requirement anyio. Your UDF might not work when the package version is different between the server and your local environment\n",
      "WARNING:snowflake.snowpark.session:The version of package packaging in the local environment is 23.1, which does not fit the criteria for the requirement packaging. Your UDF might not work when the package version is different between the server and your local environment\n"
     ]
    },
    {
     "name": "stdout",
     "output_type": "stream",
     "text": [
      "\"model_registry_zzhu\".\"_SYSTEM_MODEL_REGISTRY_SCHEMA\".\"TEMP_DEPLOY_1\" is deployed to warehouse.\n"
     ]
    }
   ],
   "source": [
    "# Create another temporary deployment\n",
    "model.deploy(deployment_name=\"TEMP_DEPLOY_1\", target_method=\"predict\", permanent=False, options={\"relax_version\": True, \"_use_local_snowml\": True})"
   ]
  },
  {
   "cell_type": "code",
   "execution_count": 32,
   "id": "cb73482a",
   "metadata": {},
   "outputs": [
    {
     "data": {
      "text/html": [
       "<div>\n",
       "<style scoped>\n",
       "    .dataframe tbody tr th:only-of-type {\n",
       "        vertical-align: middle;\n",
       "    }\n",
       "\n",
       "    .dataframe tbody tr th {\n",
       "        vertical-align: top;\n",
       "    }\n",
       "\n",
       "    .dataframe thead th {\n",
       "        text-align: right;\n",
       "    }\n",
       "</style>\n",
       "<table border=\"1\" class=\"dataframe\">\n",
       "  <thead>\n",
       "    <tr style=\"text-align: right;\">\n",
       "      <th></th>\n",
       "      <th>output_feature_0</th>\n",
       "    </tr>\n",
       "  </thead>\n",
       "  <tbody>\n",
       "    <tr>\n",
       "      <th>0</th>\n",
       "      <td>False</td>\n",
       "    </tr>\n",
       "    <tr>\n",
       "      <th>1</th>\n",
       "      <td>False</td>\n",
       "    </tr>\n",
       "    <tr>\n",
       "      <th>2</th>\n",
       "      <td>False</td>\n",
       "    </tr>\n",
       "    <tr>\n",
       "      <th>3</th>\n",
       "      <td>False</td>\n",
       "    </tr>\n",
       "    <tr>\n",
       "      <th>4</th>\n",
       "      <td>False</td>\n",
       "    </tr>\n",
       "    <tr>\n",
       "      <th>...</th>\n",
       "      <td>...</td>\n",
       "    </tr>\n",
       "    <tr>\n",
       "      <th>95</th>\n",
       "      <td>False</td>\n",
       "    </tr>\n",
       "    <tr>\n",
       "      <th>96</th>\n",
       "      <td>False</td>\n",
       "    </tr>\n",
       "    <tr>\n",
       "      <th>97</th>\n",
       "      <td>False</td>\n",
       "    </tr>\n",
       "    <tr>\n",
       "      <th>98</th>\n",
       "      <td>False</td>\n",
       "    </tr>\n",
       "    <tr>\n",
       "      <th>99</th>\n",
       "      <td>False</td>\n",
       "    </tr>\n",
       "  </tbody>\n",
       "</table>\n",
       "<p>100 rows × 1 columns</p>\n",
       "</div>"
      ],
      "text/plain": [
       "    output_feature_0\n",
       "0              False\n",
       "1              False\n",
       "2              False\n",
       "3              False\n",
       "4              False\n",
       "..               ...\n",
       "95             False\n",
       "96             False\n",
       "97             False\n",
       "98             False\n",
       "99             False\n",
       "\n",
       "[100 rows x 1 columns]"
      ]
     },
     "execution_count": 32,
     "metadata": {},
     "output_type": "execute_result"
    }
   ],
   "source": [
    "model.predict(\"TEMP_DEPLOY_0\", test_features)"
   ]
  },
  {
   "cell_type": "code",
   "execution_count": 33,
   "id": "d2ed5fcb",
   "metadata": {},
   "outputs": [
    {
     "data": {
      "text/html": [
       "<div>\n",
       "<style scoped>\n",
       "    .dataframe tbody tr th:only-of-type {\n",
       "        vertical-align: middle;\n",
       "    }\n",
       "\n",
       "    .dataframe tbody tr th {\n",
       "        vertical-align: top;\n",
       "    }\n",
       "\n",
       "    .dataframe thead th {\n",
       "        text-align: right;\n",
       "    }\n",
       "</style>\n",
       "<table border=\"1\" class=\"dataframe\">\n",
       "  <thead>\n",
       "    <tr style=\"text-align: right;\">\n",
       "      <th></th>\n",
       "      <th>output_feature_0</th>\n",
       "    </tr>\n",
       "  </thead>\n",
       "  <tbody>\n",
       "    <tr>\n",
       "      <th>0</th>\n",
       "      <td>False</td>\n",
       "    </tr>\n",
       "    <tr>\n",
       "      <th>1</th>\n",
       "      <td>False</td>\n",
       "    </tr>\n",
       "    <tr>\n",
       "      <th>2</th>\n",
       "      <td>False</td>\n",
       "    </tr>\n",
       "    <tr>\n",
       "      <th>3</th>\n",
       "      <td>False</td>\n",
       "    </tr>\n",
       "    <tr>\n",
       "      <th>4</th>\n",
       "      <td>False</td>\n",
       "    </tr>\n",
       "    <tr>\n",
       "      <th>...</th>\n",
       "      <td>...</td>\n",
       "    </tr>\n",
       "    <tr>\n",
       "      <th>95</th>\n",
       "      <td>False</td>\n",
       "    </tr>\n",
       "    <tr>\n",
       "      <th>96</th>\n",
       "      <td>False</td>\n",
       "    </tr>\n",
       "    <tr>\n",
       "      <th>97</th>\n",
       "      <td>False</td>\n",
       "    </tr>\n",
       "    <tr>\n",
       "      <th>98</th>\n",
       "      <td>False</td>\n",
       "    </tr>\n",
       "    <tr>\n",
       "      <th>99</th>\n",
       "      <td>False</td>\n",
       "    </tr>\n",
       "  </tbody>\n",
       "</table>\n",
       "<p>100 rows × 1 columns</p>\n",
       "</div>"
      ],
      "text/plain": [
       "    output_feature_0\n",
       "0              False\n",
       "1              False\n",
       "2              False\n",
       "3              False\n",
       "4              False\n",
       "..               ...\n",
       "95             False\n",
       "96             False\n",
       "97             False\n",
       "98             False\n",
       "99             False\n",
       "\n",
       "[100 rows x 1 columns]"
      ]
     },
     "execution_count": 33,
     "metadata": {},
     "output_type": "execute_result"
    }
   ],
   "source": [
    "model.predict(\"TEMP_DEPLOY_1\", test_features)"
   ]
  },
  {
   "attachments": {},
   "cell_type": "markdown",
   "id": "73080975",
   "metadata": {},
   "source": [
    "## Examine Model History"
   ]
  },
  {
   "attachments": {},
   "cell_type": "markdown",
   "id": "011d4d6f",
   "metadata": {},
   "source": [
    "In additon to the current state of the model metadata, we also give access to the history of all changes to the model metadata. This includes the registration event itself but also changes to any metadata of the model, when they happend and who initiated them."
   ]
  },
  {
   "attachments": {},
   "cell_type": "markdown",
   "id": "025a0065",
   "metadata": {},
   "source": [
    "### Relational API"
   ]
  },
  {
   "cell_type": "code",
   "execution_count": 31,
   "id": "6620ead0",
   "metadata": {},
   "outputs": [
    {
     "name": "stderr",
     "output_type": "stream",
     "text": [
      "WARNING:snowflake.snowpark:ModelRegistry.get_model_history() is in private preview since 0.2.0. Do not use it in production. \n",
      "WARNING:snowflake.snowpark:ModelRegistry.get_history() is in private preview since 0.2.0. Do not use it in production. \n"
     ]
    },
    {
     "name": "stdout",
     "output_type": "stream",
     "text": [
      "------------------------------------------------------------------------------------------------------------------------------------\n",
      "|\"EVENT_TIMESTAMP\"                 |\"ROLE\"                |\"ATTRIBUTE_NAME\"  |\"OPERATION\"  |\"VALUE[ATTRIBUTE_NAME]\"                |\n",
      "------------------------------------------------------------------------------------------------------------------------------------\n",
      "|2023-06-14 17:52:09.287000-07:00  |\"ENG_ML_MODELING_RL\"  |DEPLOYMENTS       |ADD          |{                                      |\n",
      "|                                  |                      |                  |             |  \"name\": \"TESTDEPLOY_2\",              |\n",
      "|                                  |                      |                  |             |  \"permanent\": false                   |\n",
      "|                                  |                      |                  |             |}                                      |\n",
      "|2023-06-14 17:51:36.726000-07:00  |\"ENG_ML_MODELING_RL\"  |DEPLOYMENTS       |DROP         |{                                      |\n",
      "|                                  |                      |                  |             |  \"name\": \"TESTDEPLOY\"                 |\n",
      "|                                  |                      |                  |             |}                                      |\n",
      "|2023-06-14 17:49:37.762000-07:00  |\"ENG_ML_MODELING_RL\"  |DEPLOYMENTS       |ADD          |{                                      |\n",
      "|                                  |                      |                  |             |  \"name\": \"TESTDEPLOY_1\",              |\n",
      "|                                  |                      |                  |             |  \"permanent\": true                    |\n",
      "|                                  |                      |                  |             |}                                      |\n",
      "|2023-06-14 17:48:59.949000-07:00  |\"ENG_ML_MODELING_RL\"  |DEPLOYMENTS       |ADD          |{                                      |\n",
      "|                                  |                      |                  |             |  \"name\": \"TESTDEPLOY\",                |\n",
      "|                                  |                      |                  |             |  \"permanent\": true                    |\n",
      "|                                  |                      |                  |             |}                                      |\n",
      "|2023-06-14 17:48:15.629000-07:00  |\"ENG_ML_MODELING_RL\"  |DESCRIPTION       |SET          |\"My model is better than speakgpt-6!\"  |\n",
      "|2023-06-14 17:48:13.433000-07:00  |\"ENG_ML_MODELING_RL\"  |TAGS              |SET          |{                                      |\n",
      "|                                  |                      |                  |             |  \"classifier_type\": \"svm.SVC\",        |\n",
      "|                                  |                      |                  |             |  \"stage\": \"production\",               |\n",
      "|                                  |                      |                  |             |  \"svc_C\": 10,                         |\n",
      "|                                  |                      |                  |             |  \"svc_gamma\": 0.001                   |\n",
      "|                                  |                      |                  |             |}                                      |\n",
      "|2023-06-14 17:48:10.898000-07:00  |\"ENG_ML_MODELING_RL\"  |TAGS              |SET          |{                                      |\n",
      "|                                  |                      |                  |             |  \"classifier_type\": \"svm.SVC\",        |\n",
      "|                                  |                      |                  |             |  \"stage\": \"production\",               |\n",
      "|                                  |                      |                  |             |  \"svc_C\": 10,                         |\n",
      "|                                  |                      |                  |             |  \"svc_gamma\": 0.001                   |\n",
      "|                                  |                      |                  |             |}                                      |\n",
      "|2023-06-14 17:48:08.644000-07:00  |\"ENG_ML_MODELING_RL\"  |TAGS              |SET          |{                                      |\n",
      "|                                  |                      |                  |             |  \"classifier_type\": \"svm.SVC\",        |\n",
      "|                                  |                      |                  |             |  \"minor_version\": \"23\",               |\n",
      "|                                  |                      |                  |             |  \"stage\": \"production\",               |\n",
      "|                                  |                      |                  |             |  \"svc_C\": 10,                         |\n",
      "|                                  |                      |                  |             |  \"svc_gamma\": 0.001                   |\n",
      "|                                  |                      |                  |             |}                                      |\n",
      "|2023-06-14 17:48:05.534000-07:00  |\"ENG_ML_MODELING_RL\"  |DESCRIPTION       |SET          |\"My model is better than talkgpt-5!\"   |\n",
      "|2023-06-14 17:48:03.408000-07:00  |\"ENG_ML_MODELING_RL\"  |TAGS              |SET          |{                                      |\n",
      "|                                  |                      |                  |             |  \"classifier_type\": \"svm.SVC\",        |\n",
      "|                                  |                      |                  |             |  \"stage\": \"production\",               |\n",
      "|                                  |                      |                  |             |  \"svc_C\": 10,                         |\n",
      "|                                  |                      |                  |             |  \"svc_gamma\": 0.001                   |\n",
      "|                                  |                      |                  |             |}                                      |\n",
      "------------------------------------------------------------------------------------------------------------------------------------\n",
      "\n"
     ]
    }
   ],
   "source": [
    "model.get_model_history().select(\"EVENT_TIMESTAMP\", \"ROLE\", \"ATTRIBUTE_NAME\",\"OPERATION\", \"VALUE[ATTRIBUTE_NAME]\").sort(\"EVENT_TIMESTAMP\", ascending=False).show()"
   ]
  },
  {
   "attachments": {},
   "cell_type": "markdown",
   "id": "98bb5522",
   "metadata": {},
   "source": [
    "### Object API"
   ]
  },
  {
   "cell_type": "code",
   "execution_count": 32,
   "id": "33f284f6",
   "metadata": {},
   "outputs": [
    {
     "name": "stdout",
     "output_type": "stream",
     "text": [
      "------------------------------------------------------------------------------------------------------------------------------------\n",
      "|\"EVENT_TIMESTAMP\"                 |\"ROLE\"                |\"ATTRIBUTE_NAME\"  |\"OPERATION\"  |\"VALUE[ATTRIBUTE_NAME]\"                |\n",
      "------------------------------------------------------------------------------------------------------------------------------------\n",
      "|2023-06-14 17:52:09.287000-07:00  |\"ENG_ML_MODELING_RL\"  |DEPLOYMENTS       |ADD          |{                                      |\n",
      "|                                  |                      |                  |             |  \"name\": \"TESTDEPLOY_2\",              |\n",
      "|                                  |                      |                  |             |  \"permanent\": false                   |\n",
      "|                                  |                      |                  |             |}                                      |\n",
      "|2023-06-14 17:51:36.726000-07:00  |\"ENG_ML_MODELING_RL\"  |DEPLOYMENTS       |DROP         |{                                      |\n",
      "|                                  |                      |                  |             |  \"name\": \"TESTDEPLOY\"                 |\n",
      "|                                  |                      |                  |             |}                                      |\n",
      "|2023-06-14 17:49:37.762000-07:00  |\"ENG_ML_MODELING_RL\"  |DEPLOYMENTS       |ADD          |{                                      |\n",
      "|                                  |                      |                  |             |  \"name\": \"TESTDEPLOY_1\",              |\n",
      "|                                  |                      |                  |             |  \"permanent\": true                    |\n",
      "|                                  |                      |                  |             |}                                      |\n",
      "|2023-06-14 17:48:59.949000-07:00  |\"ENG_ML_MODELING_RL\"  |DEPLOYMENTS       |ADD          |{                                      |\n",
      "|                                  |                      |                  |             |  \"name\": \"TESTDEPLOY\",                |\n",
      "|                                  |                      |                  |             |  \"permanent\": true                    |\n",
      "|                                  |                      |                  |             |}                                      |\n",
      "|2023-06-14 17:48:15.629000-07:00  |\"ENG_ML_MODELING_RL\"  |DESCRIPTION       |SET          |\"My model is better than speakgpt-6!\"  |\n",
      "|2023-06-14 17:48:13.433000-07:00  |\"ENG_ML_MODELING_RL\"  |TAGS              |SET          |{                                      |\n",
      "|                                  |                      |                  |             |  \"classifier_type\": \"svm.SVC\",        |\n",
      "|                                  |                      |                  |             |  \"stage\": \"production\",               |\n",
      "|                                  |                      |                  |             |  \"svc_C\": 10,                         |\n",
      "|                                  |                      |                  |             |  \"svc_gamma\": 0.001                   |\n",
      "|                                  |                      |                  |             |}                                      |\n",
      "|2023-06-14 17:48:10.898000-07:00  |\"ENG_ML_MODELING_RL\"  |TAGS              |SET          |{                                      |\n",
      "|                                  |                      |                  |             |  \"classifier_type\": \"svm.SVC\",        |\n",
      "|                                  |                      |                  |             |  \"stage\": \"production\",               |\n",
      "|                                  |                      |                  |             |  \"svc_C\": 10,                         |\n",
      "|                                  |                      |                  |             |  \"svc_gamma\": 0.001                   |\n",
      "|                                  |                      |                  |             |}                                      |\n",
      "|2023-06-14 17:48:08.644000-07:00  |\"ENG_ML_MODELING_RL\"  |TAGS              |SET          |{                                      |\n",
      "|                                  |                      |                  |             |  \"classifier_type\": \"svm.SVC\",        |\n",
      "|                                  |                      |                  |             |  \"minor_version\": \"23\",               |\n",
      "|                                  |                      |                  |             |  \"stage\": \"production\",               |\n",
      "|                                  |                      |                  |             |  \"svc_C\": 10,                         |\n",
      "|                                  |                      |                  |             |  \"svc_gamma\": 0.001                   |\n",
      "|                                  |                      |                  |             |}                                      |\n",
      "|2023-06-14 17:48:05.534000-07:00  |\"ENG_ML_MODELING_RL\"  |DESCRIPTION       |SET          |\"My model is better than talkgpt-5!\"   |\n",
      "|2023-06-14 17:48:03.408000-07:00  |\"ENG_ML_MODELING_RL\"  |TAGS              |SET          |{                                      |\n",
      "|                                  |                      |                  |             |  \"classifier_type\": \"svm.SVC\",        |\n",
      "|                                  |                      |                  |             |  \"stage\": \"production\",               |\n",
      "|                                  |                      |                  |             |  \"svc_C\": 10,                         |\n",
      "|                                  |                      |                  |             |  \"svc_gamma\": 0.001                   |\n",
      "|                                  |                      |                  |             |}                                      |\n",
      "------------------------------------------------------------------------------------------------------------------------------------\n",
      "\n"
     ]
    }
   ],
   "source": [
    "model.get_model_history().select(\"EVENT_TIMESTAMP\", \"ROLE\", \"ATTRIBUTE_NAME\",\"OPERATION\", \"VALUE[ATTRIBUTE_NAME]\").sort(\"EVENT_TIMESTAMP\", ascending=False).show()"
   ]
  }
 ],
 "metadata": {
  "kernelspec": {
   "display_name": "Python 3 (ipykernel)",
   "language": "python",
   "name": "python3"
  },
  "language_info": {
   "codemirror_mode": {
    "name": "ipython",
    "version": 3
   },
   "file_extension": ".py",
   "mimetype": "text/x-python",
   "name": "python",
   "nbconvert_exporter": "python",
   "pygments_lexer": "ipython3",
   "version": "3.8.16"
  },
  "vscode": {
   "interpreter": {
    "hash": "fb0a62cbfaa59af7646af5a6672c5c3e72ec75fbadf6ff0336b6769523f221a5"
   }
  }
 },
 "nbformat": 4,
 "nbformat_minor": 5
}
